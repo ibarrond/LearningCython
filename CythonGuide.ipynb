{
 "cells": [
  {
   "cell_type": "markdown",
   "metadata": {},
   "source": [
    "[//]: # (TITLE)    \n",
    "<div style=\"font-variant: small-caps;font-weight: normal; font-size: 30px;\n",
    "        text-align: center; padding: 15px; margin: 10px\">\n",
    "        \n",
    "    <b>Cython</b>\n",
    "    </div>\n",
    "    \n",
    "\n",
    "\n",
    "[//]: # (SUBTITLE)     \n",
    "<div style=\"font-variant: small-caps; font-weight: normal; font-size: 20px;\n",
    "        text-align: center; padding: 15px;\">\n",
    "        \n",
    "    A quick reference for its usage\n",
    "    </div>\n",
    "\n",
    "\n",
    "\n",
    "[//]: # (AUTHORS)  \n",
    "<div style=\"float:right; font-size: 12px; line-height: 12px;\n",
    "        padding: 10px 15px 8px;\">\n",
    "        \n",
    "    Alberto Ibarrondo\n",
    "    </div>\n",
    "   \n",
    "   \n",
    "   \n",
    "[//]: # (DATE)    \n",
    "<div style=\"display: inline-block; font-family: 'Lato' sans-serif;\n",
    "        font-size: 12px; font-weight: bold; line-height: 12px;\n",
    "        letter-spacing: 1px; padding: 10px 15px 8px\">\n",
    "\n",
    "    06/04/2018\n",
    "    </div>\n"
   ]
  },
  {
   "cell_type": "markdown",
   "metadata": {},
   "source": [
    "# Compiling & Running Cython"
   ]
  },
  {
   "cell_type": "markdown",
   "metadata": {},
   "source": [
    "## Distutils\n",
    "This is the standard way, using a setup.py file with:"
   ]
  },
  {
   "cell_type": "code",
   "execution_count": 1,
   "metadata": {
    "ExecuteTime": {
     "end_time": "2018-08-27T09:09:44.635584Z",
     "start_time": "2018-08-27T09:09:42.836561Z"
    },
    "cell_style": "center",
    "init_cell": true
   },
   "outputs": [],
   "source": [
    "from distutils.core import setup\n",
    "from Cython.Build import cythonize"
   ]
  },
  {
   "cell_type": "markdown",
   "metadata": {},
   "source": [
    "Then you compile using:\n",
    "\n",
    "```python setup.py build_ext```\n",
    "\n",
    "```python setup.py build_ext --compiler=msvc``` if Windows and Visual Studio C++\n",
    "\n",
    "In order to automatically include it with pip, do:\n",
    "\n",
    "```pip install --upgrade setup.py ```\n",
    "\n",
    "If anything went wrong, you can always delete it:\n",
    "\n",
    "```pip uninstall PACKAGENAME```"
   ]
  },
  {
   "cell_type": "code",
   "execution_count": null,
   "metadata": {
    "ExecuteTime": {
     "end_time": "2018-04-06T13:07:00.862621Z",
     "start_time": "2018-04-06T13:07:00.849585Z"
    }
   },
   "outputs": [],
   "source": [
    "import fib\n",
    "fib.fib(50)\n",
    "#Int size condiitons the result!"
   ]
  },
  {
   "cell_type": "code",
   "execution_count": null,
   "metadata": {
    "ExecuteTime": {
     "end_time": "2018-04-06T13:07:00.863660Z",
     "start_time": "2018-04-06T13:07:00.856Z"
    }
   },
   "outputs": [],
   "source": [
    "fib.fib(50)"
   ]
  },
  {
   "cell_type": "markdown",
   "metadata": {},
   "source": [
    "## IPython magic"
   ]
  },
  {
   "cell_type": "code",
   "execution_count": 2,
   "metadata": {
    "ExecuteTime": {
     "end_time": "2018-08-27T09:09:45.995109Z",
     "start_time": "2018-08-27T09:09:44.639084Z"
    },
    "init_cell": true
   },
   "outputs": [],
   "source": [
    "%load_ext Cython"
   ]
  },
  {
   "cell_type": "code",
   "execution_count": 31,
   "metadata": {},
   "outputs": [],
   "source": [
    "%%cython -n fib2 -a\n",
    "def fib_magic(long n):\n",
    "    cdef long i\n",
    "    cdef double a=0.0, b=1.0\n",
    "    for i in range(n):\n",
    "        a, b = a+b, a\n",
    "    return a"
   ]
  },
  {
   "cell_type": "code",
   "execution_count": 32,
   "metadata": {},
   "outputs": [
    {
     "data": {
      "text/plain": [
       "<function fib2.fib_magic>"
      ]
     },
     "execution_count": 32,
     "metadata": {},
     "output_type": "execute_result"
    }
   ],
   "source": [
    "fib_magic"
   ]
  },
  {
   "cell_type": "markdown",
   "metadata": {},
   "source": [
    "## Automatic import pyximport"
   ]
  },
  {
   "cell_type": "code",
   "execution_count": 14,
   "metadata": {},
   "outputs": [
    {
     "data": {
      "text/plain": [
       "(None, <pyximport.pyximport.PyxImporter at 0x2a922cabbe0>)"
      ]
     },
     "execution_count": 14,
     "metadata": {},
     "output_type": "execute_result"
    }
   ],
   "source": [
    "import pyximport\n",
    "pyximport.install()"
   ]
  },
  {
   "cell_type": "code",
   "execution_count": 16,
   "metadata": {},
   "outputs": [],
   "source": [
    "import cython_particle   # cython_particle.pyx"
   ]
  },
  {
   "cell_type": "markdown",
   "metadata": {},
   "source": [
    "# Cython in Depth"
   ]
  },
  {
   "cell_type": "markdown",
   "metadata": {},
   "source": [
    "##  Static type declaration with cdef"
   ]
  },
  {
   "cell_type": "code",
   "execution_count": 46,
   "metadata": {},
   "outputs": [],
   "source": [
    "%%cython \n",
    "def myFun(a, b):\n",
    "    cdef int i=1, k, l\n",
    "    cdef:\n",
    "        float p = 3.3\n",
    "        long int j = 2\n",
    "    return a*i+b*j+p"
   ]
  },
  {
   "cell_type": "code",
   "execution_count": 47,
   "metadata": {},
   "outputs": [
    {
     "data": {
      "text/plain": [
       "8.299999952316284"
      ]
     },
     "execution_count": 47,
     "metadata": {},
     "output_type": "execute_result"
    }
   ],
   "source": [
    "myFun(1,2)"
   ]
  },
  {
   "cell_type": "code",
   "execution_count": 49,
   "metadata": {},
   "outputs": [],
   "source": [
    "%%cython \n",
    "def cdefExamples():\n",
    "    # Pointers\n",
    "    cdef int *p     # Single dereference\n",
    "    cdef void **buf # Double dereference, e.g.: char* a[] == char** a\n",
    "                    #  Pointer to pointer, pointer to array,\n",
    "                    #  array of pointers, array of arrays\n",
    "    \n",
    "    # Stack allocated C arrays\n",
    "    cdef int arr[10]\n",
    "    cdef double points[20][30]\n",
    "    # typedef - new stuff\n",
    "    cdef size_t len\n",
    "    # Structs and Unions\n",
    "    #cdef tm time_struct\n",
    "    #cdef int_short_union_t hi_lo_bytes\n",
    "    # Function pointers\n",
    "    cdef void (*f)(int, double)\n",
    "    return None"
   ]
  },
  {
   "cell_type": "markdown",
   "metadata": {},
   "source": [
    "<img alt=\"Picture1\" width=\"291\" height=\"418\" src=\"data:image/png;base64,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\">\n"
   ]
  },
  {
   "cell_type": "markdown",
   "metadata": {},
   "source": [
    "## C Pointers in Cython\n",
    "Defining C pointers is like in C, but accessing them is done like an array"
   ]
  },
  {
   "cell_type": "code",
   "execution_count": 14,
   "metadata": {},
   "outputs": [
    {
     "name": "stdout",
     "output_type": "stream",
     "text": [
      "3\n"
     ]
    }
   ],
   "source": [
    "%%cython\n",
    "cdef int *p_int\n",
    "cdef int a=123\n",
    "p_int=&a\n",
    "p_int[0]=3\n",
    "print(a)"
   ]
  },
  {
   "cell_type": "markdown",
   "metadata": {},
   "source": [
    "Accessing structs is done using dot instead of arrow"
   ]
  },
  {
   "cell_type": "code",
   "execution_count": 25,
   "metadata": {
    "scrolled": false
   },
   "outputs": [
    {
     "name": "stdout",
     "output_type": "stream",
     "text": [
      "4\n"
     ]
    }
   ],
   "source": [
    "%%cython \n",
    "cdef struct st_t:\n",
    "    int a\n",
    "\n",
    "cdef st_t ss = st_t(a=2)\n",
    "cdef st_t *p_st = &ss\n",
    "cdef int a_doubled = p_st.a + p_st.a\n",
    "print(a_doubled)"
   ]
  },
  {
   "cell_type": "markdown",
   "metadata": {},
   "source": [
    "## Functions in Cython\n",
    "There are three ways to define functions:\n",
    "1. ```def``` statement, allowing both python objects and c objects to be called\n",
    "2. ```cdef``` using a c-only version that will not be called outside the Python code. Requires python wrappers. Can be called by both inside Python and C\n",
    "3. ```cpdef``` hybrid between the two. Can be called by outside Python, requires arguments and return types to be compatible with C and Python. All Python objects are included, but void, C pointers or C arrays are not possible. Check table."
   ]
  },
  {
   "cell_type": "code",
   "execution_count": 26,
   "metadata": {},
   "outputs": [],
   "source": [
    "# Pure python\n",
    "def py_fact(n):\n",
    "    if n<=1:\n",
    "        return 1\n",
    "    return n * py_fact(n-1)"
   ]
  },
  {
   "cell_type": "code",
   "execution_count": 31,
   "metadata": {},
   "outputs": [],
   "source": [
    "%%cython\n",
    "# Statically typed variable, but still python function and objects\n",
    "def typed_fact(long n):\n",
    "    if n<=1:\n",
    "        return 1\n",
    "    return n * typed_fact(n-1)"
   ]
  },
  {
   "cell_type": "code",
   "execution_count": 39,
   "metadata": {},
   "outputs": [],
   "source": [
    "%%cython\n",
    "# C function in Cython. It could use inline\n",
    "cdef long c_fact(long n):\n",
    "    if n<=1:\n",
    "        return 1\n",
    "    return n * c_fact(n-1)\n",
    "def wrap_c_fact(n):\n",
    "    return c_fact(n)"
   ]
  },
  {
   "cell_type": "code",
   "execution_count": 56,
   "metadata": {},
   "outputs": [],
   "source": [
    "%%cython\n",
    "# Callable C function in Python\n",
    "# INLINE suggests the compiler to replace the function calls by the code\n",
    "cpdef inline long cp_fact(long n):\n",
    "    if n<=1:\n",
    "        return 1\n",
    "    return n * cp_fact(n-1)"
   ]
  },
  {
   "cell_type": "code",
   "execution_count": 29,
   "metadata": {},
   "outputs": [
    {
     "name": "stdout",
     "output_type": "stream",
     "text": [
      "2.56 µs ± 29.2 ns per loop (mean ± std. dev. of 7 runs, 100000 loops each)\n"
     ]
    }
   ],
   "source": [
    "%timeit py_fact(20)"
   ]
  },
  {
   "cell_type": "code",
   "execution_count": 33,
   "metadata": {},
   "outputs": [
    {
     "name": "stdout",
     "output_type": "stream",
     "text": [
      "1.05 µs ± 15.4 ns per loop (mean ± std. dev. of 7 runs, 1000000 loops each)\n"
     ]
    }
   ],
   "source": [
    "%timeit typed_fact(20)"
   ]
  },
  {
   "cell_type": "code",
   "execution_count": 48,
   "metadata": {},
   "outputs": [
    {
     "name": "stdout",
     "output_type": "stream",
     "text": [
      "91.5 ns ± 0.657 ns per loop (mean ± std. dev. of 7 runs, 10000000 loops each)\n"
     ]
    }
   ],
   "source": [
    "%timeit wrap_c_fact(20)"
   ]
  },
  {
   "cell_type": "code",
   "execution_count": 47,
   "metadata": {},
   "outputs": [
    {
     "name": "stdout",
     "output_type": "stream",
     "text": [
      "89.3 ns ± 0.866 ns per loop (mean ± std. dev. of 7 runs, 10000000 loops each)\n"
     ]
    }
   ],
   "source": [
    "%timeit cp_fact(20)"
   ]
  },
  {
   "cell_type": "markdown",
   "metadata": {},
   "source": [
    "### Exceptions"
   ]
  },
  {
   "cell_type": "code",
   "execution_count": 50,
   "metadata": {},
   "outputs": [],
   "source": [
    "%%cython\n",
    "# Question mark is used if value could be generated without Exception.\n",
    "#   Value must be in range of type\n",
    "# except* would always check for exception, but has overhead.\n",
    "cpdef double divide_ints(double i, double j) except? -1:\n",
    "    return i / j"
   ]
  },
  {
   "cell_type": "code",
   "execution_count": 51,
   "metadata": {},
   "outputs": [
    {
     "ename": "ZeroDivisionError",
     "evalue": "float division",
     "output_type": "error",
     "traceback": [
      "\u001b[1;31m---------------------------------------------------------------------------\u001b[0m",
      "\u001b[1;31mZeroDivisionError\u001b[0m                         Traceback (most recent call last)",
      "\u001b[1;32m<ipython-input-51-03f2fc301bee>\u001b[0m in \u001b[0;36m<module>\u001b[1;34m()\u001b[0m\n\u001b[1;32m----> 1\u001b[1;33m \u001b[0mdivide_ints\u001b[0m\u001b[1;33m(\u001b[0m\u001b[1;36m1\u001b[0m\u001b[1;33m,\u001b[0m \u001b[1;36m0\u001b[0m\u001b[1;33m)\u001b[0m\u001b[1;33m\u001b[0m\u001b[0m\n\u001b[0m",
      "\u001b[1;32m_cython_magic_ca2de1f4c70e769d7dba2c811a789b3c.pyx\u001b[0m in \u001b[0;36m_cython_magic_ca2de1f4c70e769d7dba2c811a789b3c.divide_ints\u001b[1;34m()\u001b[0m\n",
      "\u001b[1;32m_cython_magic_ca2de1f4c70e769d7dba2c811a789b3c.pyx\u001b[0m in \u001b[0;36m_cython_magic_ca2de1f4c70e769d7dba2c811a789b3c.divide_ints\u001b[1;34m()\u001b[0m\n",
      "\u001b[1;31mZeroDivisionError\u001b[0m: float division"
     ]
    }
   ],
   "source": [
    "divide_ints(1, 0)"
   ]
  },
  {
   "cell_type": "code",
   "execution_count": 53,
   "metadata": {},
   "outputs": [],
   "source": [
    "py_fact? # Check info on that object"
   ]
  },
  {
   "cell_type": "markdown",
   "metadata": {},
   "source": [
    "## Type Casting\n",
    "Instead of the C parentehses, Cython uses <> for Explicit casting."
   ]
  },
  {
   "cell_type": "code",
   "execution_count": null,
   "metadata": {},
   "outputs": [],
   "source": [
    "%%cython\n",
    "a = 3\n",
    "cdef list cast_list = <list>a # If we are certain of the casting\n",
    "cdef list cast_list2 = <list?>a # If we are uncertain of the casting"
   ]
  },
  {
   "cell_type": "markdown",
   "metadata": {},
   "source": [
    "## Structs, Unions and Enums "
   ]
  },
  {
   "cell_type": "markdown",
   "metadata": {},
   "source": [
    "### Declaration"
   ]
  },
  {
   "cell_type": "code",
   "execution_count": null,
   "metadata": {},
   "outputs": [],
   "source": [
    "%%cython\n",
    "# Seamless creation\n",
    "cdef struct mycpx:\n",
    "    float real\n",
    "    float imag\n",
    "cdef union uu:\n",
    "    int a\n",
    "    short b, c    \n",
    "cdef enum PRIMARIES:\n",
    "    RED = 1\n",
    "    YELLOW = 3\n",
    "    BLUE = 5\n",
    "    \n",
    "# Creating also a new type alias\n",
    "ctypedef struct mycpx:\n",
    "    float real\n",
    "    float imag\n",
    "ctypedef union uu:\n",
    "    int a\n",
    "    short b, c\n",
    "ctypedef enum SECONDARIES:\n",
    "    ORANGE, GREEN, PURPLE\n",
    "    \n",
    "# Anonymous stucts and unions are not supported, but anonymous enums are:\n",
    "cdef enum:\n",
    "    GLOBAL_SEED = 37"
   ]
  },
  {
   "cell_type": "markdown",
   "metadata": {},
   "source": [
    "### Initialization"
   ]
  },
  {
   "cell_type": "code",
   "execution_count": null,
   "metadata": {},
   "outputs": [],
   "source": [
    "%%cython\n",
    "# Struct Literals\n",
    "cdef mycpx a = mycpx(3.1415, -1.0)\n",
    "cdef mycpx b = mycpx(real=2.718, imag=1.618034)\n",
    "# By inidvidual names\n",
    "cdef mycpx zz\n",
    "zz.real = 3.1415\n",
    "zz.imag = -1.0\n",
    "# Form a Python dictionary (more Python overhead)\n",
    "cdef mycpx zz = {'real': 3.1415, 'imag': -1.0}"
   ]
  },
  {
   "cell_type": "markdown",
   "metadata": {},
   "source": [
    "Nested Structs/unions are not supported. You need to unnest. (page 58 manual)"
   ]
  },
  {
   "cell_type": "markdown",
   "metadata": {},
   "source": [
    "## Type Aliasing with ctypedef\n",
    "Used to generate new types based on current types."
   ]
  },
  {
   "cell_type": "code",
   "execution_count": null,
   "metadata": {},
   "outputs": [],
   "source": [
    "%%cython\n",
    "ctypedef double real\n",
    "ctypedef long integral\n",
    "\n",
    "def displacement(real d0, real v0, real a, real t):\n",
    "    \"\"\"Calculates displacement in constant acceleration.\"\"\"\n",
    "    cdef real d = d0 + (v0 * t) + (0.5 * a * t**2)\n",
    "    return d"
   ]
  },
  {
   "cell_type": "markdown",
   "metadata": {},
   "source": [
    "### Fused Types"
   ]
  },
  {
   "cell_type": "markdown",
   "metadata": {},
   "source": [
    "They allow several types on one, generating replicas of functions for each type. `integral`, `floating` and `numeric`."
   ]
  },
  {
   "cell_type": "code",
   "execution_count": null,
   "metadata": {},
   "outputs": [],
   "source": [
    "%%cython\n",
    "from cython cimport integral\n",
    "cpdef integral integral_max(integral a, integral b):\n",
    "    return a if a >= b else b"
   ]
  },
  {
   "cell_type": "code",
   "execution_count": 59,
   "metadata": {},
   "outputs": [],
   "source": [
    "%%cython\n",
    "# we can also create our own fused type\n",
    "cimport cython\n",
    "ctypedef fused integral_or_floating:\n",
    "    cython.short\n",
    "    cython.int\n",
    "    cython.long\n",
    "    cython.float\n",
    "    cython.double"
   ]
  },
  {
   "cell_type": "markdown",
   "metadata": {},
   "source": [
    "## For & While Loops"
   ]
  },
  {
   "cell_type": "markdown",
   "metadata": {},
   "source": [
    "When looping over a range, type the range argument and the index as C types (best as integers) to obtain a speed boost."
   ]
  },
  {
   "cell_type": "code",
   "execution_count": null,
   "metadata": {},
   "outputs": [],
   "source": [
    "%%cython\n",
    "cdef unsigned int i, n = len(a) - 1\n",
    "for i in range(1, n):\n",
    "    a[i] = (a[i-1] + a[i] + a[i+1]) / 3.0"
   ]
  },
  {
   "cell_type": "markdown",
   "metadata": {},
   "source": [
    "## Preprocessor: #define"
   ]
  },
  {
   "cell_type": "code",
   "execution_count": null,
   "metadata": {},
   "outputs": [],
   "source": [
    "%%cython\n",
    "DEF E = 2.718281828459045\n",
    "DEF PI = 3.141592653589793"
   ]
  },
  {
   "cell_type": "markdown",
   "metadata": {},
   "source": [
    "The DEF declaration must evaluate on int, float or string.\n",
    "\n",
    "IF - ELIF - ELSE compile-time statements are also allowed"
   ]
  },
  {
   "cell_type": "code",
   "execution_count": null,
   "metadata": {},
   "outputs": [],
   "source": [
    "%%cython\n",
    "IF UNAME_SYSNAME == \"Windows\":\n",
    "# ...Windows-specific code...\n",
    "ELIF UNAME_SYSNAME == \"Darwin\":\n",
    "# ...Mac-specific code...\n",
    "ELIF UNAME_SYSNAME == \"Linux\":\n",
    "# ...Linux-specific code...\n",
    "ELSE:\n",
    "# ...other OS..."
   ]
  },
  {
   "cell_type": "markdown",
   "metadata": {},
   "source": [
    "### Strings"
   ]
  },
  {
   "cell_type": "markdown",
   "metadata": {},
   "source": [
    "There are 3 types fo Python strings, different depending of the Python version. `bytes` is pure ascii, `unicode` is pure utf-8, and `str` is variable. Use statically typed `bytes` if no accents, and `unicode` if accents or other stuff."
   ]
  },
  {
   "cell_type": "markdown",
   "metadata": {},
   "source": [
    "# Classes & Python to Cython"
   ]
  },
  {
   "cell_type": "markdown",
   "metadata": {},
   "source": [
    "PROFILING: allows us to determine where the code spends its time (section 7) cProfile module or %run -p\n",
    "\n"
   ]
  },
  {
   "cell_type": "code",
   "execution_count": 12,
   "metadata": {},
   "outputs": [
    {
     "name": "stdout",
     "output_type": "stream",
     "text": [
      "-0.169075164\n",
      "-0.169096567\n",
      " "
     ]
    }
   ],
   "source": [
    "%run -p nbody.py 500000"
   ]
  },
  {
   "cell_type": "markdown",
   "metadata": {},
   "source": [
    "- Inspect hotspots, convert to Cython. \n",
    "- Create converters if necessary.\n",
    "- Convert hotspots to C-level data structures and remove Python from loops. \n",
    "- Ensure static typing.\n",
    "\n",
    "Generally, only a small fraction of the code needs to be converted. The rest SHOULD NOT."
   ]
  },
  {
   "cell_type": "markdown",
   "metadata": {},
   "source": [
    "## Classes/Extension modules and Attributes"
   ]
  },
  {
   "cell_type": "markdown",
   "metadata": {},
   "source": [
    "Unlike Python, cython classes cannot accept dynamically typed attributes. The reason is because attributes use a C struct instead of a Python dict.\n",
    "\n",
    "By typing attributes, we obtain a way to access and modify them:"
   ]
  },
  {
   "cell_type": "code",
   "execution_count": 19,
   "metadata": {},
   "outputs": [],
   "source": [
    "%%cython\n",
    "cdef class Particle:\n",
    "    \"\"\"Simple Particle extension type.\"\"\"\n",
    "    cdef public double mass\n",
    "    cdef readonly double position\n",
    "    cdef double velocity\n",
    "    def __init__(self, m, p, v):\n",
    "        self.mass = m\n",
    "        self.position = p\n",
    "        self.velocity = v\n",
    "    def get_momentum(self):\n",
    "        return self.mass * self.velocity"
   ]
  },
  {
   "cell_type": "code",
   "execution_count": 20,
   "metadata": {},
   "outputs": [],
   "source": [
    "par = Particle(1.0, 2.0, 3.0)"
   ]
  },
  {
   "cell_type": "code",
   "execution_count": 21,
   "metadata": {},
   "outputs": [
    {
     "data": {
      "text/plain": [
       "1.0"
      ]
     },
     "execution_count": 21,
     "metadata": {},
     "output_type": "execute_result"
    }
   ],
   "source": [
    "par.mass"
   ]
  },
  {
   "cell_type": "code",
   "execution_count": 22,
   "metadata": {},
   "outputs": [
    {
     "data": {
      "text/plain": [
       "2.0"
      ]
     },
     "execution_count": 22,
     "metadata": {},
     "output_type": "execute_result"
    }
   ],
   "source": [
    "par.position"
   ]
  },
  {
   "cell_type": "code",
   "execution_count": 23,
   "metadata": {
    "scrolled": true
   },
   "outputs": [
    {
     "ename": "AttributeError",
     "evalue": "'_cython_magic_58cc2f0438a7d23ff238bc79c7ff766e.Par' object has no attribute 'velocity'",
     "output_type": "error",
     "traceback": [
      "\u001b[1;31m---------------------------------------------------------------------------\u001b[0m",
      "\u001b[1;31mAttributeError\u001b[0m                            Traceback (most recent call last)",
      "\u001b[1;32m<ipython-input-23-2caafad4b363>\u001b[0m in \u001b[0;36m<module>\u001b[1;34m()\u001b[0m\n\u001b[1;32m----> 1\u001b[1;33m \u001b[0mpar\u001b[0m\u001b[1;33m.\u001b[0m\u001b[0mvelocity\u001b[0m\u001b[1;33m\u001b[0m\u001b[0m\n\u001b[0m",
      "\u001b[1;31mAttributeError\u001b[0m: '_cython_magic_58cc2f0438a7d23ff238bc79c7ff766e.Par' object has no attribute 'velocity'"
     ]
    }
   ],
   "source": [
    "par.velocity"
   ]
  },
  {
   "cell_type": "code",
   "execution_count": 25,
   "metadata": {},
   "outputs": [
    {
     "ename": "AttributeError",
     "evalue": "attribute 'position' of '_cython_magic_58cc2f0438a7d23ff238bc79c7ff766e.Particle' objects is not writable",
     "output_type": "error",
     "traceback": [
      "\u001b[1;31m---------------------------------------------------------------------------\u001b[0m",
      "\u001b[1;31mAttributeError\u001b[0m                            Traceback (most recent call last)",
      "\u001b[1;32m<ipython-input-25-61f7813b597b>\u001b[0m in \u001b[0;36m<module>\u001b[1;34m()\u001b[0m\n\u001b[0;32m      1\u001b[0m \u001b[0mpar\u001b[0m\u001b[1;33m.\u001b[0m\u001b[0mmass\u001b[0m \u001b[1;33m=\u001b[0m \u001b[1;36m4\u001b[0m\u001b[1;33m\u001b[0m\u001b[0m\n\u001b[1;32m----> 2\u001b[1;33m \u001b[0mpar\u001b[0m\u001b[1;33m.\u001b[0m\u001b[0mposition\u001b[0m \u001b[1;33m=\u001b[0m \u001b[1;36m4\u001b[0m\u001b[1;33m\u001b[0m\u001b[0m\n\u001b[0m",
      "\u001b[1;31mAttributeError\u001b[0m: attribute 'position' of '_cython_magic_58cc2f0438a7d23ff238bc79c7ff766e.Particle' objects is not writable"
     ]
    }
   ],
   "source": [
    "par.mass = 4\n",
    "par.position = 4"
   ]
  },
  {
   "cell_type": "markdown",
   "metadata": {},
   "source": [
    "## `__cinit__`"
   ]
  },
  {
   "cell_type": "markdown",
   "metadata": {},
   "source": [
    "In order to initialize things like a dinamically allocated C array, we use `__cinit__`"
   ]
  },
  {
   "cell_type": "code",
   "execution_count": 30,
   "metadata": {},
   "outputs": [],
   "source": [
    "%%cython\n",
    "from libc.stdlib cimport malloc, free\n",
    "cdef class Matrix:\n",
    "    cdef:\n",
    "        unsigned int nrows, ncols\n",
    "        double *_matrix\n",
    "    def __cinit__(self, nr, nc):\n",
    "        self.nrows = nr\n",
    "        self.ncols = nc\n",
    "        self._matrix = <double*>malloc(nr * nc * sizeof(double))\n",
    "        if self._matrix == NULL:\n",
    "            raise MemoryError()\n",
    "    def __dealloc__(self):\n",
    "        if self._matrix != NULL:\n",
    "            free(self._matrix)"
   ]
  },
  {
   "cell_type": "markdown",
   "metadata": {},
   "source": [
    "## Inheritance and subclassing"
   ]
  },
  {
   "cell_type": "markdown",
   "metadata": {},
   "source": [
    "This way we can establish inherited attributes and methods. cdef VS cpdef is a bit faster (doesn't cross boundaries) but not callable in python, only Cython. "
   ]
  },
  {
   "cell_type": "code",
   "execution_count": null,
   "metadata": {},
   "outputs": [],
   "source": [
    "%%cython\n",
    "cdef class CParticle(Particle):\n",
    "    cdef double momentum\n",
    "    def __init__(self, m, p, v):\n",
    "        super(CParticle, self).__init__(m, p, v)\n",
    "        self.momentum = self.mass * self.velocity\n",
    "    cpdef double get_momentum(self):\n",
    "        return self.momentum"
   ]
  },
  {
   "cell_type": "markdown",
   "metadata": {},
   "source": [
    "Casting from a python object to a static cython class avoids the search in the dictionary and python overhead:"
   ]
  },
  {
   "cell_type": "code",
   "execution_count": null,
   "metadata": {},
   "outputs": [],
   "source": [
    "%%cython\n",
    "cdef Particle static_p = p\n",
    "print static_p.get_momentum()\n",
    "print static_p.velocity"
   ]
  },
  {
   "cell_type": "markdown",
   "metadata": {},
   "source": [
    "Same thing is achieved with the casting operator (using ? if unsafe to avoid segmentation fault):"
   ]
  },
  {
   "cell_type": "code",
   "execution_count": null,
   "metadata": {
    "code_folding": []
   },
   "outputs": [],
   "source": [
    "%%cython\n",
    "print (<Particle>p).get_momentum()\n",
    "print (<Particle?>p).velocity"
   ]
  },
  {
   "cell_type": "markdown",
   "metadata": {},
   "source": [
    "### None checking"
   ]
  },
  {
   "cell_type": "code",
   "execution_count": null,
   "metadata": {},
   "outputs": [],
   "source": [
    "def dispatch(Particle p not None):\n",
    "    print p.get_momentum()\n",
    "    print p.velocity\n",
    "    \n",
    "# is equivalent to\n",
    "\n",
    "def dispatch(Particle p):\n",
    "    if p is None:\n",
    "        raise TypeError(\"...\")\n",
    "    print p.get_momentum()\n",
    "    print p.velocity"
   ]
  },
  {
   "cell_type": "markdown",
   "metadata": {},
   "source": [
    "## Extension Type Properties"
   ]
  },
  {
   "cell_type": "markdown",
   "metadata": {},
   "source": [
    "Declaring attributes can be done using Python properties"
   ]
  },
  {
   "cell_type": "code",
   "execution_count": null,
   "metadata": {},
   "outputs": [],
   "source": [
    "%%cython\n",
    "# Python version\n",
    "class Particle(object):\n",
    "    # ...\n",
    "    def _get_momentum(self):\n",
    "        return self.mass * self.velocity\n",
    "    momentum = property(_get_momentum)\n",
    "    \n",
    "# Cython version\n",
    "cdef class Particle:\n",
    "    \"\"\"Simple Particle extension type.\"\"\"\n",
    "    cdef double mass, position, velocity\n",
    "    # ...\n",
    "    property momentum:\n",
    "        \"\"\"The momentum Particle property.\"\"\"\n",
    "        def __get__(self):\n",
    "            \"\"\"momentum's getter\"\"\"\n",
    "            return self.mass * self.velocity\n",
    "        def __set__(self, m):\n",
    "            \"\"\"momentum's setter\"\"\"\n",
    "            self.velocity = m / self.mass"
   ]
  },
  {
   "cell_type": "markdown",
   "metadata": {},
   "source": [
    "## Special Methods"
   ]
  },
  {
   "cell_type": "markdown",
   "metadata": {},
   "source": [
    "### Math operators"
   ]
  },
  {
   "cell_type": "markdown",
   "metadata": {},
   "source": [
    "To support the in-place + operator for a pure-Python class C, we define an\n",
    "`__add__(self, other)` method. The operation c + d is transformed into\n",
    "`C.__add__(c, d)` when c is an instance of the C class"
   ]
  },
  {
   "cell_type": "code",
   "execution_count": null,
   "metadata": {},
   "outputs": [],
   "source": [
    "cdef class E:\n",
    "    \"\"\"Extension type that supports addition.\"\"\"\n",
    "    cdef int data\n",
    "    def __init__(self, d):\n",
    "        self.data = d\n",
    "    def __add__(x, y):\n",
    "        # Regular __add__ behavior\n",
    "        if isinstance(x, E):\n",
    "            if isinstance(y, int):\n",
    "                return (<E>x).data + y   # CASTING IS MANDATORY\n",
    "        # __radd__ behavior\n",
    "        elif isinstance(y, E):\n",
    "            if isinstance(x, int):\n",
    "                return (<E>y).data + x\n",
    "        else:\n",
    "            return NotImplemented"
   ]
  },
  {
   "cell_type": "markdown",
   "metadata": {},
   "source": [
    "It is necessary to check both types, because either of them could hold the type"
   ]
  },
  {
   "cell_type": "markdown",
   "metadata": {},
   "source": [
    "### Rich Comparisons"
   ]
  },
  {
   "cell_type": "markdown",
   "metadata": {},
   "source": [
    "`__richcmp__(x, y, op)` performs all kinds of comparisons. Op is an `int`, which can be:\n",
    "\n",
    "| Integer argument |  Comparison |\n",
    "| ------------- |:-------------:|\n",
    "|Py_LT| <|\n",
    "|Py_LE| <=|\n",
    "|Py_EQ| ==|\n",
    "|Py_NE| !=|\n",
    "|Py_GT |>|\n",
    "|Py_GE |>=|\n",
    "\n"
   ]
  },
  {
   "cell_type": "code",
   "execution_count": null,
   "metadata": {},
   "outputs": [],
   "source": [
    "%%cython\n",
    "from cpython.object cimport Py_LT, Py_LE, Py_EQ, Py_GE, Py_GT, Py_NE\n",
    "cdef class R:\n",
    "    \"\"\"Extension type that supports rich comparisons.\"\"\"\n",
    "    cdef double data\n",
    "    def __init__(self, d):\n",
    "        self.data = d\n",
    "    def __richcmp__(x, y, int op):\n",
    "        cdef:\n",
    "            R r\n",
    "            double data\n",
    "    # Make r always refer to the R instance.\n",
    "    r, y = (x, y) if isinstance(x, R) else (y, x)\n",
    "    data = r.data\n",
    "    if op == Py_LT:\n",
    "        return data < y\n",
    "    elif op == Py_LE:\n",
    "        return data <= y\n",
    "    elif op == Py_EQ:\n",
    "        return data == y\n",
    "    elif op == Py_NE:\n",
    "        return data != y\n",
    "    elif op == Py_GT:\n",
    "        return data > y\n",
    "    elif op == Py_GE:\n",
    "        return data >= y\n",
    "    else:\n",
    "        assert False"
   ]
  },
  {
   "cell_type": "markdown",
   "metadata": {},
   "source": [
    "### Iterator"
   ]
  },
  {
   "cell_type": "code",
   "execution_count": 25,
   "metadata": {},
   "outputs": [],
   "source": [
    "%%cython\n",
    "cdef class I:\n",
    "    cdef:\n",
    "        list data\n",
    "        int i\n",
    "    def __init__(self):\n",
    "        self.data = list(range(100))\n",
    "        self.i = 0\n",
    "    def __iter__(self):\n",
    "        return self\n",
    "    def __next__(self):\n",
    "        if self.i >= len(self.data):\n",
    "            self.i = 0\n",
    "            raise StopIteration()\n",
    "        ret = self.data[self.i]\n",
    "        self.i += 1\n",
    "        return ret\n",
    "i = I()\n",
    "it = iter(I())"
   ]
  },
  {
   "cell_type": "code",
   "execution_count": 24,
   "metadata": {},
   "outputs": [
    {
     "name": "stdout",
     "output_type": "stream",
     "text": [
      "4950\n"
     ]
    }
   ],
   "source": [
    "s=0\n",
    "for x in i:\n",
    "    s+=x\n",
    "print(s)"
   ]
  },
  {
   "cell_type": "code",
   "execution_count": 45,
   "metadata": {},
   "outputs": [
    {
     "data": {
      "text/plain": [
       "17"
      ]
     },
     "execution_count": 45,
     "metadata": {},
     "output_type": "execute_result"
    }
   ],
   "source": [
    "next(it)"
   ]
  },
  {
   "cell_type": "code",
   "execution_count": 9,
   "metadata": {
    "ExecuteTime": {
     "end_time": "2018-04-06T13:21:49.377784Z",
     "start_time": "2018-04-06T13:21:49.366253Z"
    }
   },
   "outputs": [
    {
     "ename": "Exception",
     "evalue": "",
     "output_type": "error",
     "traceback": [
      "\u001b[1;31m---------------------------------------------------------------------------\u001b[0m",
      "\u001b[1;31mException\u001b[0m                                 Traceback (most recent call last)",
      "\u001b[1;32m<ipython-input-9-b8fcc5ae680b>\u001b[0m in \u001b[0;36m<module>\u001b[1;34m()\u001b[0m\n\u001b[0;32m      1\u001b[0m \u001b[0ma\u001b[0m \u001b[1;33m=\u001b[0m \u001b[1;36m4\u001b[0m\u001b[1;33m\u001b[0m\u001b[0m\n\u001b[1;32m----> 2\u001b[1;33m \u001b[1;32mraise\u001b[0m \u001b[0mException\u001b[0m\u001b[1;33m(\u001b[0m\u001b[1;33m)\u001b[0m\u001b[1;33m\u001b[0m\u001b[0m\n\u001b[0m\u001b[0;32m      3\u001b[0m \u001b[0mb\u001b[0m \u001b[1;33m=\u001b[0m \u001b[1;36m3\u001b[0m\u001b[1;33m\u001b[0m\u001b[0m\n",
      "\u001b[1;31mException\u001b[0m: "
     ]
    }
   ],
   "source": [
    "a = 4\n",
    "raise Exception()\n",
    "b = 3"
   ]
  },
  {
   "cell_type": "code",
   "execution_count": 10,
   "metadata": {
    "ExecuteTime": {
     "end_time": "2018-04-06T13:40:42.284298Z",
     "start_time": "2018-04-06T13:21:58.457028Z"
    }
   },
   "outputs": [
    {
     "name": "stdout",
     "output_type": "stream",
     "text": [
      "> \u001b[1;32m<ipython-input-9-b8fcc5ae680b>\u001b[0m(2)\u001b[0;36m<module>\u001b[1;34m()\u001b[0m\n",
      "\u001b[1;32m      1 \u001b[1;33m\u001b[0ma\u001b[0m \u001b[1;33m=\u001b[0m \u001b[1;36m4\u001b[0m\u001b[1;33m\u001b[0m\u001b[0m\n",
      "\u001b[0m\u001b[1;32m----> 2 \u001b[1;33m\u001b[1;32mraise\u001b[0m \u001b[0mException\u001b[0m\u001b[1;33m(\u001b[0m\u001b[1;33m)\u001b[0m\u001b[1;33m\u001b[0m\u001b[0m\n",
      "\u001b[0m\u001b[1;32m      3 \u001b[1;33m\u001b[0mb\u001b[0m \u001b[1;33m=\u001b[0m \u001b[1;36m3\u001b[0m\u001b[1;33m\u001b[0m\u001b[0m\n",
      "\u001b[0m\n",
      "ipdb> a\n",
      "ipdb> print(a)\n",
      "4\n",
      "ipdb> print(b)\n",
      "*** NameError: name 'b' is not defined\n",
      "ipdb> exit\n"
     ]
    }
   ],
   "source": [
    "%debug"
   ]
  },
  {
   "cell_type": "markdown",
   "metadata": {},
   "source": [
    "# Organizing Cython Code"
   ]
  },
  {
   "cell_type": "markdown",
   "metadata": {},
   "source": [
    "- `.pyx` are _implementation_ files.\n",
    "- `.pxd` are _definition_ files.\n",
    "- `.pxi` are _include_ files.\n",
    "- `cimport` accesses at compilaiton time the C-level stuff, declarations in .pxd. "
   ]
  },
  {
   "cell_type": "markdown",
   "metadata": {},
   "source": [
    "## `.pxd` Files for definition"
   ]
  },
  {
   "cell_type": "markdown",
   "metadata": {},
   "source": [
    "They contain:\n",
    "\n",
    "- C type declarations—ctypedef, struct, union, or enum (Chapter 7)\n",
    "- Declarations for external C or C++ libraries (i.e., cdef extern blocks—Chapters 7\n",
    "and 8)\n",
    "- Declarations for cdef and cpdef module-level functions\n",
    "- Declarations for cdef class extension types\n",
    "- The cdef attributes of extension types\n",
    "- Declarations for cdef and cpdef methods\n",
    "- The implementation of C-level inline functions and methods\n",
    "\n",
    "A definition file cannot contain:\n",
    "\n",
    "- Implementations of Python or non-inline C functions or methods\n",
    "- Python class definitions (i.e., regular classes)\n",
    "- Executable Python code outside of IF or DEF macros"
   ]
  },
  {
   "cell_type": "markdown",
   "metadata": {},
   "source": [
    "Example of a `.pxd` file, only with the C-Level **declarations** in it (no colon ':')"
   ]
  },
  {
   "cell_type": "code",
   "execution_count": 13,
   "metadata": {
    "ExecuteTime": {
     "end_time": "2018-04-06T13:45:20.358669Z",
     "start_time": "2018-04-06T13:45:20.355158Z"
    },
    "cell_style": "center"
   },
   "outputs": [],
   "source": [
    "%%cython\n",
    "ctypedef double real_t\n",
    "cdef class State:\n",
    "    cdef:\n",
    "        unsigned int n_particles\n",
    "        real_t *x\n",
    "        real_t *vx\n",
    "    cpdef real_t momentum(self)\n",
    "cpdef run(State st)\n",
    "cpdef int step(State st, real_t timestep)"
   ]
  },
  {
   "cell_type": "markdown",
   "metadata": {},
   "source": [
    "Example of a `.pyx` file, with the Python & Cython **definitions** in it (with colon ':'):"
   ]
  },
  {
   "cell_type": "code",
   "execution_count": 13,
   "metadata": {
    "ExecuteTime": {
     "end_time": "2018-04-06T13:45:20.358669Z",
     "start_time": "2018-04-06T13:45:20.355158Z"
    },
    "cell_style": "center"
   },
   "outputs": [],
   "source": [
    "%%cython\n",
    "cdef class State:\n",
    "    def __cinit__(...):\n",
    "        # ...\n",
    "    def __dealloc__(...):\n",
    "        # ...\n",
    "    cpdef real_t momentum(self):\n",
    "        # ...\n",
    "def setup(input_fname):\n",
    "    # ...\n",
    "cpdef run(State st):\n",
    "    # ...calls step function repeatedly...\n",
    "cpdef int step(State st, real_t timestep):\n",
    "    # ...advance st one time step...\n",
    "def output(State st):\n",
    "    # ..."
   ]
  },
  {
   "cell_type": "markdown",
   "metadata": {},
   "source": [
    "## `cimport` Statement"
   ]
  },
  {
   "cell_type": "markdown",
   "metadata": {},
   "source": [
    "For those C-level elements defined in `.pxd` files, `cimport` allows them to be imported."
   ]
  },
  {
   "cell_type": "code",
   "execution_count": null,
   "metadata": {
    "cell_style": "center"
   },
   "outputs": [],
   "source": [
    "%%cython\n",
    "from simulator cimport State as sim_state, step\n",
    "from simulator import setup as sim_setup\n",
    "cdef class NewState(sim_state):\n",
    "    cdef:\n",
    "        # ...extra attributes...\n",
    "    def __cinit__(self, ...):\n",
    "        # ...\n",
    "    def __dealloc__(self):\n",
    "        # ...\n",
    "def setup(fname):\n",
    "    # ...call sim_setup and tweak things...\n",
    "cpdef run(sim_state st):\n",
    "    # ...improved run with simulator.step..."
   ]
  },
  {
   "cell_type": "markdown",
   "metadata": {},
   "source": [
    "It is a compileError to either import Python with `cimport` or to import C with `import`. Using definition files allows architecture to be modular."
   ]
  },
  {
   "cell_type": "markdown",
   "metadata": {},
   "source": [
    "### Predefined Definiton files"
   ]
  },
  {
   "cell_type": "markdown",
   "metadata": {},
   "source": [
    "- `libc`: all basic C, including `stdlib`, `stdio`, `math` and `string`.\n",
    "- `libcpp`: for C++, `string`, `vector`, `list`, `map`, `pair`, and `set`.\n",
    "- `cpython`: all Python/C API functions.\n",
    "- `numpy`."
   ]
  },
  {
   "cell_type": "markdown",
   "metadata": {},
   "source": [
    "### Cimporting examples"
   ]
  },
  {
   "cell_type": "code",
   "execution_count": 8,
   "metadata": {
    "ExecuteTime": {
     "end_time": "2018-04-10T13:03:43.846153Z",
     "start_time": "2018-04-10T13:03:41.080858Z"
    }
   },
   "outputs": [],
   "source": [
    "%%cython\n",
    "# Cimport normally\n",
    "from libc cimport math\n",
    "\n",
    "# Import object with dotted module name\n",
    "from libc.math cimport sin\n",
    "\n",
    "# Multiple Named imports\n",
    "from libc.stdlib cimport rand, srand, qsort, malloc, free\n",
    "cdef int *a = <int*>malloc(10 * sizeof(int))\n",
    "\n",
    "# Import with alias\n",
    "from libc.string cimport memcpy as c_memcpy\n",
    "\n",
    "# C++ STL template classes\n",
    "from libcpp.vector cimport vector\n",
    "cdef vector[int] *vi = new vector[int](10)\n",
    "\n"
   ]
  },
  {
   "cell_type": "markdown",
   "metadata": {
    "ExecuteTime": {
     "end_time": "2018-04-10T13:25:59.144709Z",
     "start_time": "2018-04-10T13:25:59.141701Z"
    },
    "cell_style": "center"
   },
   "source": [
    "## `.pxi` include Files"
   ]
  },
  {
   "cell_type": "markdown",
   "metadata": {},
   "source": [
    "These filles allow some degree of customization depending on the OS and platform. Multiple includes cannot lead to duplicated definitions or implementations. We obtain source-level inclusion. There is no need to use them in most cases."
   ]
  },
  {
   "cell_type": "code",
   "execution_count": null,
   "metadata": {},
   "outputs": [],
   "source": [
    "%%cython\n",
    "# Contents of .pxi file\n",
    "IF UNAME_SYSNAME == \"Linux\":.\n",
    "    include \"linux.pxi\"\n",
    "ELIF UNAME_SYSNAME == \"Darwin\":\n",
    "    include \"darwin.pxi\"\n",
    "ELIF UNAME_SYSNAME == \"Windows\":\n",
    "    include \"windows.pxi\""
   ]
  },
  {
   "cell_type": "markdown",
   "metadata": {},
   "source": [
    "## Example: organizing simulator"
   ]
  },
  {
   "cell_type": "code",
   "execution_count": null,
   "metadata": {
    "ExecuteTime": {
     "end_time": "2018-04-10T13:59:17.802506Z",
     "start_time": "2018-04-10T13:59:17.793983Z"
    },
    "raw_mimetype": "text/markdown"
   },
   "outputs": [],
   "source": [
    "pysimulator\n",
    "├── __init__.py\n",
    "├── main.py\n",
    "├── core\n",
    "│ ├── __init__.py\n",
    "│ ├── core.py\n",
    "│ └── sim_state.py\n",
    "├── plugins\n",
    "│ ├── __init__.py\n",
    "│ ├── plugin0.py\n",
    "│ └── plugin1.py\n",
    "├── utils\n",
    "├── __init__.py\n",
    "├── config.py\n",
    "└── output.py"
   ]
  },
  {
   "cell_type": "markdown",
   "metadata": {},
   "source": [
    "Suppose we want *core.py*, *sim_state.py* and *plugin0.py* to be converted into Cython. *sim_state* contains *State* class, to be converted into extension type. *core.py* contains *run* and *step* to be converted into cpdef functions."
   ]
  },
  {
   "cell_type": "markdown",
   "metadata": {},
   "source": [
    "1) Convert .py modules into implementation files and extract public declarations into declaration files `.pxd`."
   ]
  },
  {
   "cell_type": "code",
   "execution_count": null,
   "metadata": {},
   "outputs": [],
   "source": [
    "%%cython\n",
    "#sim_state.pxd\n",
    "ctypedef double real_t\n",
    "cdef class State:\n",
    "    cdef:\n",
    "        unsigned int n_particles\n",
    "        real_t *x\n",
    "        real_t *vx\n",
    "    cpdef real_t momentum(self)"
   ]
  },
  {
   "cell_type": "markdown",
   "metadata": {},
   "source": [
    "2) The `cpdef` functions are using *State* instances, they need C-level access, and thus importing it will be carried out using `cimport` using ABSOLUTE PATHS."
   ]
  },
  {
   "cell_type": "code",
   "execution_count": null,
   "metadata": {},
   "outputs": [],
   "source": [
    "%%cython\n",
    "#core.pxd\n",
    "from simulator.core.sim_state cimport State, real_t\n",
    "cpdef int run(State, list plugins=None)\n",
    "cpdef step(State st, real_t dt)"
   ]
  },
  {
   "cell_type": "markdown",
   "metadata": {},
   "source": [
    "3) *main.py* (still pure Python) pulls everything together, and remains unchanged with Cython."
   ]
  },
  {
   "cell_type": "code",
   "execution_count": null,
   "metadata": {},
   "outputs": [],
   "source": [
    "#main.py\n",
    "from simulator.utils.config import setup_params\n",
    "from simulator.utils.output import output_state\n",
    "from simulator.core.sim_state import State\n",
    "from simulator.core.core import run\n",
    "from simulator.plugins import plugin0\n",
    "def main(fname):\n",
    "    params = setup_params(fname)\n",
    "    state = State(params)\n",
    "    output_state(state)\n",
    "    run(state, plugins=[plugin0.run])\n",
    "    output_state(state)"
   ]
  },
  {
   "cell_type": "markdown",
   "metadata": {},
   "source": [
    "4) In development, to compile on the fly, it is common to use pyximport. Distributing the SW involves creating a `distutils` script."
   ]
  },
  {
   "cell_type": "code",
   "execution_count": null,
   "metadata": {},
   "outputs": [],
   "source": [
    "# Using pyximport to run code\n",
    "import pyximport; pyximport.install()\n",
    "from simulator.main import main\n",
    "mainin(\"params.txt\")"
   ]
  },
  {
   "cell_type": "code",
   "execution_count": null,
   "metadata": {},
   "outputs": [],
   "source": [
    "#Using cythonize & distutils with glob pattern for all pyx.\n",
    "from distutils.core import setup\n",
    "from Cython.Build import cythonize\n",
    "setup(name=\"simulator\",\n",
    "    packages=[\"simulator\", \"simulator.core\",\n",
    "        \"simulator.utils\", \"simulator.plugins\"],\n",
    "    ext_modules=cythonize(\"**/*.pyx\"),\n",
    "    )"
   ]
  },
  {
   "cell_type": "markdown",
   "metadata": {
    "heading_collapsed": true
   },
   "source": [
    "# Wrapping C libraries"
   ]
  },
  {
   "cell_type": "markdown",
   "metadata": {
    "hidden": true
   },
   "source": [
    "## Declaring external C code in Cython"
   ]
  },
  {
   "cell_type": "markdown",
   "metadata": {
    "hidden": true
   },
   "source": [
    "The declarations inside the extern block have a straightforward C-like syntax for variables\n",
    "and functions. They use the Cython-specific syntax for declaring structs and\n",
    "unions covered briefly in section 2.5. **Extern blocks are only used for type correctness**."
   ]
  },
  {
   "cell_type": "code",
   "execution_count": null,
   "metadata": {
    "hidden": true
   },
   "outputs": [],
   "source": [
    "%%cython\n",
    "cdef extern from \"header_name\":\n",
    "    # indented declarations from header file\n",
    "    pass"
   ]
  },
  {
   "cell_type": "markdown",
   "metadata": {
    "hidden": true
   },
   "source": [
    "Modifications for functions and typedefs tipically include:\n",
    "\n",
    "- change typedef to ctypedef;\n",
    "- remove unnecessary and unsupported keywords such as restrict and volatile;\n",
    "- ensure the function’s return type and name are declared on a single line;\n",
    "- remove line-terminating semicolons."
   ]
  },
  {
   "cell_type": "code",
   "execution_count": null,
   "metadata": {
    "hidden": true
   },
   "outputs": [],
   "source": [
    "# EXAMPLE OF header.h\n",
    "\n",
    "#define M_PI 3.1415926\n",
    "#define MAX(a, b) ((a) >= (b) ? (a) : (b))\n",
    "double hypot(double, double);\n",
    "typedef int integral;\n",
    "typedef double real;\n",
    "void func(integral, integral, real);\n",
    "real *func_arrays(integral[], integral[][10], real **);"
   ]
  },
  {
   "cell_type": "code",
   "execution_count": null,
   "metadata": {
    "hidden": true
   },
   "outputs": [],
   "source": [
    "%%cython\n",
    "# EXAMPLE of extern block:\n",
    "cdef extern from \"header.h\":\n",
    "    double M_PI\n",
    "    float MAX(float a, float b)\n",
    "    double hypot(double x, double y)\n",
    "    ctypedef int integral\n",
    "    ctypedef double real\n",
    "    void func(integral a, integral b, real c)\n",
    "    real *func_arrays(integral[] i, integral[][10] j, real **k)"
   ]
  },
  {
   "cell_type": "markdown",
   "metadata": {
    "hidden": true
   },
   "source": [
    "As an example of a more complicated declaration that Cython handles without difficulty,\n",
    "consider a header file, header.h, containing a function named signal that takes a function\n",
    "pointer and returns a function pointer. The extern block would look like:"
   ]
  },
  {
   "cell_type": "code",
   "execution_count": null,
   "metadata": {
    "hidden": true
   },
   "outputs": [],
   "source": [
    "%%cython\n",
    "cdef extern from \"header.h\":\n",
    "    void (*signal(void(*)(int)))(int)"
   ]
  },
  {
   "cell_type": "markdown",
   "metadata": {
    "hidden": true
   },
   "source": [
    "We can use ctypedef to make it easier to understand."
   ]
  },
  {
   "cell_type": "code",
   "execution_count": null,
   "metadata": {
    "hidden": true
   },
   "outputs": [],
   "source": [
    "%%cython\n",
    "cdef extern from \"header.h\":\n",
    "    ctypedef void (*void_int_fptr)(int)\n",
    "    void_int_fptr signal(void_int_fptr)"
   ]
  },
  {
   "cell_type": "markdown",
   "metadata": {
    "ExecuteTime": {
     "end_time": "2018-04-10T15:15:54.483030Z",
     "start_time": "2018-04-10T15:15:54.479520Z"
    },
    "hidden": true
   },
   "source": [
    "## Declare & Wrap struct, union, enum"
   ]
  },
  {
   "cell_type": "markdown",
   "metadata": {
    "hidden": true
   },
   "source": [
    "Check section 2.5, but without `cdef`."
   ]
  },
  {
   "cell_type": "code",
   "execution_count": null,
   "metadata": {
    "hidden": true
   },
   "outputs": [],
   "source": [
    "%%cython\n",
    "cdef extern from \"header_name\":\n",
    "    struct struct_name:\n",
    "        struct_members\n",
    "    union union_name:\n",
    "        union_members\n",
    "    enum enum_name:\n",
    "        enum_members\n",
    "    ctypedef struct struct_alias:\n",
    "        struct_members\n",
    "    #..."
   ]
  },
  {
   "cell_type": "markdown",
   "metadata": {
    "hidden": true
   },
   "source": [
    "ONLY USED FIELDS SHOULD BE INCLUDED IN CYTHON. For opaque uses, just declare empty cells (`pass` statement)."
   ]
  },
  {
   "cell_type": "markdown",
   "metadata": {
    "hidden": true
   },
   "source": [
    "## Wrapping C functions"
   ]
  },
  {
   "cell_type": "markdown",
   "metadata": {
    "hidden": true
   },
   "source": [
    "Acter declaring the functions we need to wrap them with `def`/`cpdef` function or `cdef` class"
   ]
  },
  {
   "cell_type": "markdown",
   "metadata": {
    "hidden": true
   },
   "source": [
    "The improved API first forward-declares a struct typedef in the header file:"
   ]
  },
  {
   "cell_type": "code",
   "execution_count": null,
   "metadata": {
    "hidden": true
   },
   "outputs": [],
   "source": [
    "# header.h form API\n",
    "typedef struct _mt_state mt_state;\n",
    "mt_state *make_mt(unsigned long s);\n",
    "void free_mt(mt_state *state);\n",
    "double genrand_real1(mt_state *state);"
   ]
  },
  {
   "cell_type": "code",
   "execution_count": null,
   "metadata": {
    "hidden": true
   },
   "outputs": [],
   "source": [
    "%%cython\n",
    "cdef extern from \"mt19937ar-struct.h\":\n",
    "    ctypedef struct mt_state\n",
    "    mt_state *make_mt(unsigned long s)\n",
    "    void free_mt(mt_state *state)\n",
    "    double genrand_real1(mt_state *state)"
   ]
  },
  {
   "cell_type": "markdown",
   "metadata": {
    "hidden": true
   },
   "source": [
    "Because the mt_state struct is opaque and Cython does not need to access any of its\n",
    "internal fields, the preceding ctypedef declaration is sufficient. Essentially, mt_state is\n",
    "a named placeholder. The whole class would look like this:"
   ]
  },
  {
   "cell_type": "code",
   "execution_count": null,
   "metadata": {
    "code_folding": [],
    "hidden": true
   },
   "outputs": [],
   "source": [
    "%%cython\n",
    "cdef class MT:\n",
    "    cdef mt_state *_thisptr\n",
    "    def __cdinit__(self, unsigned long s):\n",
    "        self._thisptr = make_mt(s)\n",
    "            if self._thisptr == NULL:\n",
    "                msg = \"Insufficient memory.\"\n",
    "                raise MemoryError(msg)\n",
    "    def __dealloc__(self):\n",
    "        if self._thisptr != NULL:\n",
    "            free_mt(self._thisptr)\n",
    "\n",
    "    cpdef double rand(self):\n",
    "        return genrand_real1(self._thisptr)"
   ]
  },
  {
   "cell_type": "markdown",
   "metadata": {
    "hidden": true
   },
   "source": [
    "For wrapping C structs in Cython, the pattern used in this example is common and\n",
    "recommended. The internal struct pointer is kept private and used only internally. The\n",
    "struct is allocated and initialized in __cinit__ and automatically deallocated in\n",
    "__dealloc__. Declaring methods cpdef when possible allows them to be called by external\n",
    "Python code, and efficiently from other Cython code. It also allows these methods\n",
    "to be overridden in Python subclasses."
   ]
  },
  {
   "cell_type": "markdown",
   "metadata": {
    "hidden": true
   },
   "source": [
    "In order to avoid collisions in names, one can use aliases:"
   ]
  },
  {
   "cell_type": "code",
   "execution_count": null,
   "metadata": {
    "hidden": true
   },
   "outputs": [],
   "source": [
    "%%cython\n",
    "cdef extern from \"printer.h\":\n",
    "    void _print \"print\"(fmt_str, arg)\n",
    "    \n",
    "# typedef void * class\n",
    "ctypedef void * klass \"class\"\n",
    "\n",
    "# int finally(void) function\n",
    "int _finally \"finally\"()\n",
    "\n",
    "# struct del { int a, b; };\n",
    "struct _del \"del\":\n",
    "    int a, b\n",
    "    \n",
    "# enum yield { ALOT; SOME; ALITTLE; };\n",
    "enum _yield \"yield\":\n",
    "    ALOT\n",
    "    SOME\n",
    "    ALITTLE"
   ]
  },
  {
   "cell_type": "markdown",
   "metadata": {
    "hidden": true
   },
   "source": [
    "It is also possible to Expose Cython to C, namely using `public` in variables or functions, or using `api` in functions and extension types."
   ]
  },
  {
   "cell_type": "markdown",
   "metadata": {
    "hidden": true
   },
   "source": [
    "## Callbacks"
   ]
  },
  {
   "cell_type": "markdown",
   "metadata": {
    "hidden": true
   },
   "source": [
    "Callbacks give the programmer the capability to mix C functions with runtime Python functions. Let's put an example:"
   ]
  },
  {
   "cell_type": "code",
   "execution_count": 7,
   "metadata": {
    "ExecuteTime": {
     "end_time": "2018-04-11T08:13:51.122755Z",
     "start_time": "2018-04-11T08:13:51.117779Z"
    },
    "hidden": true
   },
   "outputs": [],
   "source": [
    "%%cython\n",
    "cdef extern from \"stdlib.h\":\n",
    "    void qsort(void *array, size_t count, size_t size,\n",
    "        int (*compare)(const void *, const void *))"
   ]
  },
  {
   "cell_type": "markdown",
   "metadata": {
    "ExecuteTime": {
     "end_time": "2018-04-11T08:13:20.703448Z",
     "start_time": "2018-04-11T08:13:20.684397Z"
    },
    "hidden": true
   },
   "source": [
    "The last argument of the function is a function pointer, and using it is what *Callback* means.\n",
    "\n",
    "So as to use it in Python, you need to:\n",
    "1. Allocate a C array of integers of the proper size.\n",
    "2. Convert the list of Python integers into the C int array.\n",
    "3. Call qsort with the proper compare function.\n",
    "4. Convert the sorted values back to Python and return."
   ]
  },
  {
   "cell_type": "markdown",
   "metadata": {
    "hidden": true
   },
   "source": [
    "Compare functions can be cdef functions with pure Cython, or even with Python functions inside. For these Python functions we can declare a `cdef object`/`global`that will contain the function at runtime. Example in page 133."
   ]
  },
  {
   "cell_type": "markdown",
   "metadata": {
    "hidden": true
   },
   "source": [
    "To make it exception friendly we must use `except`:"
   ]
  },
  {
   "cell_type": "code",
   "execution_count": null,
   "metadata": {
    "hidden": true
   },
   "outputs": [],
   "source": [
    "%%cython\n",
    "cdef extern from \"stdlib.h\":\n",
    "    void qsort(void *array, size_t count, size_t size,\n",
    "        int (*compare)(const void *, const void *) except *)"
   ]
  },
  {
   "cell_type": "markdown",
   "metadata": {
    "hidden": true
   },
   "source": [
    "And in the definition of the callback functions, we will also include it. There is some overhead:"
   ]
  },
  {
   "cell_type": "code",
   "execution_count": null,
   "metadata": {
    "hidden": true
   },
   "outputs": [],
   "source": [
    "%%cython\n",
    "cdef int int_cmp(const void *a, const void *b) except *:\n",
    "# ...\n",
    "cdef int rev_int_cmp(const void *a, const void *b) except *:\n",
    "# ...\n",
    "cdef int py_cmp_wra(const void *a, const void *b) except *:\n",
    "# ...\n",
    "cdef int rev_py_cmp_wr(const void *a, const void *b) except *:\n",
    "# ..."
   ]
  },
  {
   "cell_type": "markdown",
   "metadata": {},
   "source": [
    "# Wrapping C++"
   ]
  },
  {
   "cell_type": "markdown",
   "metadata": {
    "ExecuteTime": {
     "end_time": "2018-04-11T11:58:59.061868Z",
     "start_time": "2018-04-11T11:58:59.055851Z"
    }
   },
   "source": [
    "## Generic Example"
   ]
  },
  {
   "cell_type": "markdown",
   "metadata": {},
   "source": [
    "### `cdef extern` block"
   ]
  },
  {
   "cell_type": "markdown",
   "metadata": {},
   "source": [
    "To declare a wrap similar to the case with C RNG class, we use an `extend` block as before, and additionally:\n",
    "- Declaring the C++ namespace with the Cython namespace clause\n",
    "- Using the cppclass keyword to declare a C++ class interface block\n",
    "- Declaring the class’s interface in this block"
   ]
  },
  {
   "cell_type": "code",
   "execution_count": null,
   "metadata": {},
   "outputs": [],
   "source": [
    "%%cython\n",
    "cdef extern from \"mt19937.h\" namespace \"nspace1::nspace2\":\n",
    "    unsigned int N\n",
    "    cdef cppclass MT_RNG:\n",
    "        MT_RNG(unsigned long s)\n",
    "        MT_RNG(unsigned long init_key[], int key_length)\n",
    "        void init_genrand(unsigned long s)\n",
    "        unsigned long genrand_int32()\n",
    "        double genrand_real1()"
   ]
  },
  {
   "cell_type": "markdown",
   "metadata": {},
   "source": [
    "There can be only one namespace per cdef extern block."
   ]
  },
  {
   "cell_type": "markdown",
   "metadata": {},
   "source": [
    "### Wrapper Extension type"
   ]
  },
  {
   "cell_type": "markdown",
   "metadata": {},
   "source": [
    "Tipically this is the traditional way to wrap a C++ class in Cython, including a pointer to a heap-allocated instance of the C++ class. The pointer can alternatively lead to a stack-allocated object if the C++ class provides a no-argument constructor.\n",
    "\n",
    "As usual, we need to create and initialize the valid C++ object in `__cinit__`.\n",
    "\n",
    "Because every call to **new** must be matched by a call to delete **del**, we need a `__dealloc__`\n",
    "method."
   ]
  },
  {
   "cell_type": "code",
   "execution_count": null,
   "metadata": {},
   "outputs": [],
   "source": [
    "%%cython\n",
    "# RNG.pyx\n",
    "cdef class RNG:\n",
    "    cdef MT_RNG *_thisptr\n",
    "    def __cinit__(self, unsigned long s):\n",
    "        self._thisptr = new MT_RNG(s)\n",
    "    def __dealloc__(self):\n",
    "        if self._thisptr != NULL:\n",
    "            del self._thisptr\n",
    "    cpdef unsigned long randint(self):\n",
    "        return self._thisptr.genrand_int32()\n",
    "    cpdef double rand(self):\n",
    "        return self._thisptr.genrand_real1()"
   ]
  },
  {
   "cell_type": "markdown",
   "metadata": {},
   "source": [
    "### `distutils` script for compilation"
   ]
  },
  {
   "cell_type": "code",
   "execution_count": null,
   "metadata": {},
   "outputs": [],
   "source": [
    "#setup.py\n",
    "from distutils.core import setup, Extension\n",
    "from Cython.Build import cythonize\n",
    "ext = Extension(\"RNG\",\n",
    "        sources=[\"RNG.pyx\", \"mt19937.cpp\"],\n",
    "        language=\"c++\")\n",
    "setup(name=\"RNG\",\n",
    "      ext_modules=cythonize(ext))"
   ]
  },
  {
   "cell_type": "markdown",
   "metadata": {},
   "source": [
    "Using compiler directive son top of RNG.pyx we can simplify the script:"
   ]
  },
  {
   "cell_type": "code",
   "execution_count": null,
   "metadata": {},
   "outputs": [],
   "source": [
    "#RNG.pyx\n",
    "# distutils: language = c++\n",
    "# distutils: sources = mt19937.cpp"
   ]
  },
  {
   "cell_type": "code",
   "execution_count": null,
   "metadata": {},
   "outputs": [],
   "source": [
    "#setup.py\n",
    "from distutils.core import setup\n",
    "from Cython.Build import cythonize\n",
    "\n",
    "setup(name=\"RNG\", ext_modules=cythonize(\"RNG.pyx\"))"
   ]
  },
  {
   "cell_type": "markdown",
   "metadata": {},
   "source": [
    "## Overloaded Methods & Functions"
   ]
  },
  {
   "cell_type": "markdown",
   "metadata": {},
   "source": [
    "Given an alternate creator using a C array, we can use the CPython C array and modify the `__cinit__`"
   ]
  },
  {
   "cell_type": "code",
   "execution_count": null,
   "metadata": {},
   "outputs": [],
   "source": [
    "%%cython\n",
    "from cpython.array cimport array\n",
    "\n",
    "# ...\n",
    "    def __cinit__(self, seed_or_state):\n",
    "        cdef array state_arr\n",
    "        if isinstance(seed_or_state, int):\n",
    "            self._thisptr = new MT_RNG(seed_or_state)\n",
    "        else:\n",
    "            # Convert into Python array of unsigned long\n",
    "            state_arr = array(\"L\", seed_or_state)\n",
    "            self._thisptr = new MT_RNG(state_arr.data.as_ulongs,\n",
    "                                       len(state_arr))"
   ]
  },
  {
   "cell_type": "markdown",
   "metadata": {},
   "source": [
    "Generically speaking, to wrap overloaded C++ functions we will use a similar pattern, where we can provide\n",
    "several differently named functions in Python, each calling a different version of the\n",
    "overloaded C++ function, or we can provide a single Python function that does the\n",
    "dispatching, as we did with __cinit__."
   ]
  },
  {
   "cell_type": "markdown",
   "metadata": {},
   "source": [
    "### Operator Overloading"
   ]
  },
  {
   "attachments": {
    "picture2.PNG": {
     "image/png": "[encoded data removed]"
    }
   },
   "cell_type": "markdown",
   "metadata": {},
   "source": [
    "![picture2.PNG](attachment:picture2.PNG)"
   ]
  },
  {
   "cell_type": "markdown",
   "metadata": {},
   "source": [
    "We only have to add a single declaration to our cppclass block for MT_RNG"
   ]
  },
  {
   "cell_type": "code",
   "execution_count": null,
   "metadata": {},
   "outputs": [],
   "source": [
    "%%cython\n",
    "# ...\n",
    "cdef cppclass MT_RNG:\n",
    "    # ...\n",
    "    double operator()()\n",
    "    # ...\n",
    "    double operator<<()"
   ]
  },
  {
   "cell_type": "markdown",
   "metadata": {},
   "source": [
    "In Python we need to use pythonic overriding. E.g.: operator() becomes `__call__`"
   ]
  },
  {
   "cell_type": "code",
   "execution_count": null,
   "metadata": {},
   "outputs": [],
   "source": [
    "%%cython\n",
    "cdef class RNG:\n",
    "    # ...\n",
    "    def __call__(self):\n",
    "        return self._thisptr[0]()"
   ]
  },
  {
   "cell_type": "markdown",
   "metadata": {
    "cell_style": "center"
   },
   "source": [
    "|Operator |Function |  Method Description|\n",
    "|:-------|:--------|:--------|\n",
    "|+  |  __add__(self, other)  | Addition|\n",
    "|*  |  __mul__(self, other)  | Multiplication|\n",
    "|-  |  __sub__(self, other)  | Subtraction|\n",
    "|%  |  __mod__(self, other)  | Remainder|\n",
    "|/  |  __truediv__(self, other)  | Division|\n",
    "|<  |  __lt__(self, other)  | Less than|\n",
    "|<=  |  __le__(self, other)  | Less than or equal to|\n",
    "|==  |  __eq__(self, other)  | Equal to|\n",
    "|!=  |  __ne__(self, other)  | Not equal to|\n",
    "|>  |  __gt__(self, other)  |Greater than|\n",
    "|>=  |  __ge__(self, other)  | Greater than or equal to|\n",
    "|[index]  |  __getitem__(self, index)  | Index operator|\n",
    "|in  |  __contains__(self, value)  |Check membership|\n",
    "|len  |__len__(self)  | The number of elements|\n",
    "|str  |__str__(self)  | The string representation|"
   ]
  },
  {
   "cell_type": "markdown",
   "metadata": {},
   "source": [
    "In case of nonmember functions, you can redefine it as a member method."
   ]
  },
  {
   "cell_type": "markdown",
   "metadata": {},
   "source": [
    "## C++ Exceptions"
   ]
  },
  {
   "cell_type": "markdown",
   "metadata": {},
   "source": [
    "To detect automatic C++ exceptions you just use `except +` at the end of the functions."
   ]
  },
  {
   "attachments": {
    "picture3.png": {
     "image/png": "[encoded data removed]"
    }
   },
   "cell_type": "markdown",
   "metadata": {},
   "source": [
    "![picture3.png](attachment:picture3.png)"
   ]
  },
  {
   "cell_type": "markdown",
   "metadata": {},
   "source": [
    "To raise a particular exception you can:"
   ]
  },
  {
   "cell_type": "code",
   "execution_count": null,
   "metadata": {},
   "outputs": [],
   "source": [
    "%%cython\n",
    "# ...\n",
    "    cdef cppclass MT_RNG:\n",
    "        MT_RNG(unsigned long s) except +MemoryError\n",
    "        MT_RNG(unsigned long init_key[], int key_length) except +MemoryError\n",
    "        # ..."
   ]
  },
  {
   "cell_type": "markdown",
   "metadata": {
    "ExecuteTime": {
     "end_time": "2018-04-11T11:56:57.882947Z",
     "start_time": "2018-04-11T11:56:57.877432Z"
    }
   },
   "source": [
    "For a custom handler of exceptions, that must raise a Python exception, you can:"
   ]
  },
  {
   "cell_type": "code",
   "execution_count": null,
   "metadata": {},
   "outputs": [],
   "source": [
    "%%cython\n",
    "cdef int handler():\n",
    "    # ...\n",
    "    \n",
    "cdef extern from \"mt19937.h\" namespace \"mtrandom\":\n",
    "    cdef cppclass MT_RNG:\n",
    "        MT_RNG(unsigned long init_key[], int key_length) except +handler\n",
    "        # ..."
   ]
  },
  {
   "cell_type": "markdown",
   "metadata": {},
   "source": [
    "## Stack & Heap Allocation of C++ instances"
   ]
  },
  {
   "cell_type": "markdown",
   "metadata": {},
   "source": [
    "To declare and use stack allocated C++ objects (using C++ to clean up the instance even in event of exception), we must deckare a default constructor in `cdef cppclass` block:"
   ]
  },
  {
   "cell_type": "code",
   "execution_count": null,
   "metadata": {},
   "outputs": [],
   "source": [
    "%%cython\n",
    "cdef extern from \"mt19937.h\" namespace \"mtrandom\":\n",
    "    cdef cppclass MT_RNG:\n",
    "        MT_RNG()\n",
    "        void init_genrand(unsigned long s)\n",
    "        # ..."
   ]
  },
  {
   "cell_type": "markdown",
   "metadata": {},
   "source": [
    "We can now use an MT_RNG object inside a function:"
   ]
  },
  {
   "cell_type": "code",
   "execution_count": null,
   "metadata": {},
   "outputs": [],
   "source": [
    "def m_r_l(unsigned long seed, unsigned int len):\n",
    "    cdef:\n",
    "        list randlist = [0] * len\n",
    "        MT_RNG rng # calls default constructor\n",
    "        unsigned int i\n",
    "    rng.init_genrand(seed)\n",
    "    for i in range(len):\n",
    "        randlist[i] = rng.genrand_int32()\n",
    "    return randlist"
   ]
  },
  {
   "cell_type": "markdown",
   "metadata": {},
   "source": [
    "Without the nullary constructor you cannot use stack allocated C++ objects. Instead you can use heap allocated ones. We need to ensure CALLING `del` on the object with a `try/finally` block:"
   ]
  },
  {
   "cell_type": "code",
   "execution_count": null,
   "metadata": {},
   "outputs": [],
   "source": [
    "def make_random_list(unsigned long seed, unsigned int len):\n",
    "    cdef:\n",
    "        # ...\n",
    "        MT_RNG *rng\n",
    "    rng = new MT_RNG(seed)\n",
    "    try:\n",
    "        # ...\n",
    "    finally:\n",
    "        del rng"
   ]
  },
  {
   "cell_type": "markdown",
   "metadata": {
    "heading_collapsed": true
   },
   "source": [
    "## Class Hierarchies in C++"
   ]
  },
  {
   "cell_type": "markdown",
   "metadata": {
    "hidden": true
   },
   "source": [
    "Subclassing is not allowed in Cython. To handle nonoverriden inherited methods we can:\n",
    "\n",
    "- redeclare the nonvirtual base class methods in the subclass"
   ]
  },
  {
   "cell_type": "code",
   "execution_count": null,
   "metadata": {
    "hidden": true
   },
   "outputs": [],
   "source": [
    "%%cython\n",
    "cdef extern from \"mt19937.h\" namespace \"mtrandom\":\n",
    "    cdef cppclass MT_RNG:\n",
    "        # ...\n",
    "    cdef cppclass MT_RNGImproved:\n",
    "        MT_RNGImproved()\n",
    "        unsigned long genrand_int32()\n",
    "        double genrand_real1()"
   ]
  },
  {
   "cell_type": "markdown",
   "metadata": {
    "hidden": true
   },
   "source": [
    "- Or we can explicitly cast a subclass pointer to the base class, thereby accessing the base class’s nonvirtual methods"
   ]
  },
  {
   "cell_type": "code",
   "execution_count": null,
   "metadata": {
    "hidden": true
   },
   "outputs": [],
   "source": [
    "%%cython\n",
    "cdef MT_RNGImproved *rng = new MT_RNGImproved()\n",
    "return (<MT_RNG*>rng).genrand_int32()"
   ]
  },
  {
   "cell_type": "markdown",
   "metadata": {},
   "source": [
    "## C++ Templates"
   ]
  },
  {
   "cell_type": "markdown",
   "metadata": {},
   "source": [
    "### Templated Functions and Fused types"
   ]
  },
  {
   "cell_type": "code",
   "execution_count": null,
   "metadata": {},
   "outputs": [],
   "source": [
    "#C++ template in <algorithm> header\n",
    "template <class T>\n",
    "const T& min(const T& a, const T& b);\n",
    "template <class T>\n",
    "const T& max(const T& a, const T& b);"
   ]
  },
  {
   "cell_type": "code",
   "execution_count": null,
   "metadata": {},
   "outputs": [],
   "source": [
    "%%cython\n",
    "#\n",
    "cdef extern from \"<algorithm>\" namespace \"std\":\n",
    "    const T max[T](T a, T b) except +\n",
    "    const T min[T](T a, T b) except +"
   ]
  },
  {
   "cell_type": "markdown",
   "metadata": {},
   "source": [
    "The cleanest way to wrap these functions is to declare the interface in a definition file. Also, fused types are ideal for wrapping templated functions."
   ]
  },
  {
   "cell_type": "markdown",
   "metadata": {
    "ExecuteTime": {
     "end_time": "2018-04-11T12:55:03.905917Z",
     "start_time": "2018-04-11T12:55:03.899902Z"
    }
   },
   "source": [
    "### Templated Classes"
   ]
  },
  {
   "cell_type": "markdown",
   "metadata": {},
   "source": [
    "To declare a templated class like `vector` we use `cdef extern` block with a `cppclass`, using the template in [] brackets after the class name."
   ]
  },
  {
   "cell_type": "code",
   "execution_count": null,
   "metadata": {},
   "outputs": [],
   "source": [
    "%%cython\n",
    "cdef extern from \"<vector>\" namespace \"std\":\n",
    "    cdef cppclass vector[T]:\n",
    "        vector() except +\n",
    "        vector(vector&) except +\n",
    "        vector(size_t) except +\n",
    "        vector(size_t, T&) except +\n",
    "        T& operator[](size_t)\n",
    "        void clear()\n",
    "        void push_back(T&)"
   ]
  },
  {
   "cell_type": "markdown",
   "metadata": {},
   "source": [
    "Stack vs Heap:"
   ]
  },
  {
   "cell_type": "code",
   "execution_count": null,
   "metadata": {},
   "outputs": [],
   "source": [
    "%%cython\n",
    "def wrapper_func(elts):\n",
    "    cdef vector[int] v\n",
    "    for elt in elts:\n",
    "        v.push_back(elt)\n",
    "    # ...\n",
    "    \n",
    "def wrapper_func(elts):\n",
    "    cdef vector[int] *v = new vector[int]()\n",
    "    # ... we need to call del on th evector!   "
   ]
  },
  {
   "cell_type": "markdown",
   "metadata": {},
   "source": [
    "### Iterators and nested classes"
   ]
  },
  {
   "cell_type": "markdown",
   "metadata": {},
   "source": [
    "The C++ STL uses the iterator pattern everywhere, and vectors are no exception. To\n",
    "use the vector’s iterator from Cython, we declare the vector’s internal iterator as an\n",
    "internal cppclass"
   ]
  },
  {
   "cell_type": "code",
   "execution_count": null,
   "metadata": {},
   "outputs": [],
   "source": [
    "%%cython\n",
    "cdef extern from \"<vector>\" namespace \"std\":\n",
    "    cdef cppclass vector[T]:\n",
    "        # ...\n",
    "        cppclass iterator:\n",
    "            T& operator*()\n",
    "            iterator operator++()\n",
    "            iterator operator--()\n",
    "            iterator operator+(size_t)\n",
    "            iterator operator-(size_t)\n",
    "            bint operator==(iterator)\n",
    "            bint operator!=(iterator)\n",
    "            bint operator<(iterator)\n",
    "            bint operator>(iterator)\n",
    "            bint operator<=(iterator)\n",
    "            bint operator>=(iterator)"
   ]
  },
  {
   "cell_type": "markdown",
   "metadata": {},
   "source": [
    "Further details on an example of this can be found in page 150."
   ]
  },
  {
   "cell_type": "markdown",
   "metadata": {},
   "source": [
    "### Included STL Container Class Declarations"
   ]
  },
  {
   "cell_type": "markdown",
   "metadata": {},
   "source": [
    "`string, vector, map, set, pair, list, queue, priority_queue, dequeue, stack, unordered_map, unordered_set`"
   ]
  },
  {
   "cell_type": "code",
   "execution_count": null,
   "metadata": {},
   "outputs": [],
   "source": [
    "%%cython\n",
    "from libcpp.vector cimport vector\n",
    "cdef vector[int] *vec_int = new vector[int](10)"
   ]
  },
  {
   "attachments": {
    "picture4.png": {
     "image/png": "[encoded data removed]"
    }
   },
   "cell_type": "markdown",
   "metadata": {},
   "source": [
    "![picture4.png](attachment:picture4.png)"
   ]
  },
  {
   "cell_type": "markdown",
   "metadata": {},
   "source": [
    "Conversions are automatic! and for most containers, iterations in a loop can also happen automatically, provided that there is a **begin** and **end** methods in C++ returning an iterator.\n",
    "\n",
    "For example, calling std::sort with the contents of a Python list is simple. First we\n",
    "cimport from libcpp.vector and declare the std::sort templated function:"
   ]
  },
  {
   "cell_type": "code",
   "execution_count": null,
   "metadata": {},
   "outputs": [],
   "source": [
    "%%cython\n",
    "from libcpp.vector cimport vector\n",
    "cdef extern from \"<algorithm>\" namespace \"std\":\n",
    "    void std_sort \"std::sort\" [iter](iter first, iter last)\n",
    "    \n",
    "def sort_list(list ll):\n",
    "    cdef vector[int] vv = ll\n",
    "    std_sort[vector[int].iterator](vv.begin(), vv.end())\n",
    "    return vv"
   ]
  },
  {
   "cell_type": "markdown",
   "metadata": {
    "cell_style": "split"
   },
   "source": [
    "## Smart Pointers"
   ]
  },
  {
   "cell_type": "markdown",
   "metadata": {},
   "source": [
    "One well known case is the shared pointer `shared_ptr`. Smart pointers dont need to be allocated and deleted. It is done automaticlaly."
   ]
  },
  {
   "cell_type": "code",
   "execution_count": null,
   "metadata": {},
   "outputs": [],
   "source": [
    "%%cython\n",
    "cdef extern from \"boost/smart_ptr/shared_ptr.hpp\" namespace \"boost\":\n",
    "    cdef cppclass shared_ptr[T]:\n",
    "        shared_ptr()\n",
    "        shared_ptr(T *p)\n",
    "        shared_ptr(const shared_ptr&)\n",
    "        long use_count()\n",
    "        T operator*()"
   ]
  },
  {
   "cell_type": "markdown",
   "metadata": {
    "heading_collapsed": true
   },
   "source": [
    "# Cython Profiling Tools"
   ]
  },
  {
   "cell_type": "markdown",
   "metadata": {
    "hidden": true
   },
   "source": [
    "## Runtime Profiling"
   ]
  },
  {
   "cell_type": "code",
   "execution_count": 21,
   "metadata": {
    "ExecuteTime": {
     "end_time": "2018-04-11T14:22:36.164621Z",
     "start_time": "2018-04-11T14:22:36.151085Z"
    },
    "hidden": true
   },
   "outputs": [],
   "source": [
    "def integrate(a, b, f, N=2000):\n",
    "    dx = (b - a) / N\n",
    "    s = 0.0\n",
    "    for i in range(N):\n",
    "        s += f(a + i * dx)\n",
    "    return s * dx\n",
    "\n",
    "\n",
    "def sin2(x):\n",
    "    return sin(x)**2\n",
    "\n",
    "\n",
    "def main():\n",
    "    a, b = 0.0, 2.0 * pi\n",
    "    return integrate(a, b, sin2, N=400000)"
   ]
  },
  {
   "cell_type": "code",
   "execution_count": 23,
   "metadata": {
    "ExecuteTime": {
     "end_time": "2018-04-11T14:23:01.602440Z",
     "start_time": "2018-04-11T14:23:01.598932Z"
    },
    "hidden": true
   },
   "outputs": [],
   "source": [
    "from math import pi, sin\n",
    "import cProfile"
   ]
  },
  {
   "cell_type": "code",
   "execution_count": 24,
   "metadata": {
    "ExecuteTime": {
     "end_time": "2018-04-11T14:23:03.906070Z",
     "start_time": "2018-04-11T14:23:03.667946Z"
    },
    "hidden": true
   },
   "outputs": [
    {
     "name": "stdout",
     "output_type": "stream",
     "text": [
      "         800005 function calls in 0.234 seconds\n",
      "\n",
      "   Ordered by: internal time\n",
      "\n",
      "   ncalls  tottime  percall  cumtime  percall filename:lineno(function)\n",
      "   400000    0.105    0.000    0.147    0.000 <ipython-input-21-7fc2b3983865>:9(sin2)\n",
      "        1    0.087    0.087    0.234    0.234 <ipython-input-21-7fc2b3983865>:1(integrate)\n",
      "   400000    0.041    0.000    0.041    0.000 {built-in method math.sin}\n",
      "        1    0.000    0.000    0.234    0.234 {built-in method builtins.exec}\n",
      "        1    0.000    0.000    0.234    0.234 <ipython-input-21-7fc2b3983865>:13(main)\n",
      "        1    0.000    0.000    0.234    0.234 <string>:1(<module>)\n",
      "        1    0.000    0.000    0.000    0.000 {method 'disable' of '_lsprof.Profiler' objects}\n",
      "\n",
      "\n"
     ]
    }
   ],
   "source": [
    "cProfile.run('main()', sort='time')"
   ]
  },
  {
   "cell_type": "code",
   "execution_count": null,
   "metadata": {
    "hidden": true
   },
   "outputs": [],
   "source": [
    "%%cython\n",
    "cpdef integrate(a, b, f, N=2000):\n",
    "    dx = (b - a) / N\n",
    "    s = 0.0\n",
    "    for i in range(N):\n",
    "        s += f(a + i * dx)\n",
    "    return s * dx"
   ]
  },
  {
   "cell_type": "code",
   "execution_count": 26,
   "metadata": {
    "ExecuteTime": {
     "end_time": "2018-04-11T14:28:32.683565Z",
     "start_time": "2018-04-11T14:28:32.453452Z"
    },
    "hidden": true
   },
   "outputs": [
    {
     "name": "stdout",
     "output_type": "stream",
     "text": [
      "         800005 function calls in 0.226 seconds\n",
      "\n",
      "   Ordered by: internal time\n",
      "\n",
      "   ncalls  tottime  percall  cumtime  percall filename:lineno(function)\n",
      "   400000    0.107    0.000    0.151    0.000 <ipython-input-21-7fc2b3983865>:9(sin2)\n",
      "        1    0.075    0.075    0.226    0.226 {built-in method _cython_magic_845e6616c44c80920a476f0477483184.integrate}\n",
      "   400000    0.043    0.000    0.043    0.000 {built-in method math.sin}\n",
      "        1    0.000    0.000    0.226    0.226 {built-in method builtins.exec}\n",
      "        1    0.000    0.000    0.226    0.226 <ipython-input-21-7fc2b3983865>:13(main)\n",
      "        1    0.000    0.000    0.226    0.226 <string>:1(<module>)\n",
      "        1    0.000    0.000    0.000    0.000 {method 'disable' of '_lsprof.Profiler' objects}\n",
      "\n",
      "\n"
     ]
    }
   ],
   "source": [
    "cProfile.run('main()', sort='time')"
   ]
  },
  {
   "cell_type": "code",
   "execution_count": 27,
   "metadata": {
    "ExecuteTime": {
     "end_time": "2018-04-11T14:32:54.743778Z",
     "start_time": "2018-04-11T14:32:51.877479Z"
    },
    "hidden": true
   },
   "outputs": [],
   "source": [
    "%%cython\n",
    "cpdef integrate(double a, double b, f, int N=2000):\n",
    "    cdef:\n",
    "        int i\n",
    "        double dx = (b - a) / N\n",
    "        double s = 0.0\n",
    "    for i in range(N):\n",
    "        s += f(a + i * dx)\n",
    "    return s * dx"
   ]
  },
  {
   "cell_type": "code",
   "execution_count": 28,
   "metadata": {
    "ExecuteTime": {
     "end_time": "2018-04-11T14:32:59.250197Z",
     "start_time": "2018-04-11T14:32:59.043504Z"
    },
    "hidden": true
   },
   "outputs": [
    {
     "name": "stdout",
     "output_type": "stream",
     "text": [
      "         800005 function calls in 0.203 seconds\n",
      "\n",
      "   Ordered by: internal time\n",
      "\n",
      "   ncalls  tottime  percall  cumtime  percall filename:lineno(function)\n",
      "   400000    0.109    0.000    0.152    0.000 <ipython-input-21-7fc2b3983865>:9(sin2)\n",
      "        1    0.051    0.051    0.203    0.203 {built-in method _cython_magic_692b3fee438c8f0040b73d787ab4f6e9.integrate}\n",
      "   400000    0.042    0.000    0.042    0.000 {built-in method math.sin}\n",
      "        1    0.000    0.000    0.203    0.203 {built-in method builtins.exec}\n",
      "        1    0.000    0.000    0.203    0.203 <ipython-input-21-7fc2b3983865>:13(main)\n",
      "        1    0.000    0.000    0.203    0.203 <string>:1(<module>)\n",
      "        1    0.000    0.000    0.000    0.000 {method 'disable' of '_lsprof.Profiler' objects}\n",
      "\n",
      "\n"
     ]
    }
   ],
   "source": [
    "cProfile.run('main()', sort='time')"
   ]
  },
  {
   "cell_type": "code",
   "execution_count": 32,
   "metadata": {
    "ExecuteTime": {
     "end_time": "2018-04-11T14:36:36.124744Z",
     "start_time": "2018-04-11T14:36:33.420390Z"
    },
    "hidden": true
   },
   "outputs": [],
   "source": [
    "%%cython\n",
    "# cython: profile=True\n",
    "from math import sin\n",
    "cpdef integrate(double a, double b, f, int N=2000):\n",
    "    cdef:\n",
    "        int i\n",
    "        double dx = (b - a) / N\n",
    "        double s = 0.0\n",
    "    for i in range(N):\n",
    "        s += f(a + i * dx)\n",
    "    return s * dx\n",
    "\n",
    "def sin2(x):\n",
    "    return sin(x)**2"
   ]
  },
  {
   "cell_type": "code",
   "execution_count": 33,
   "metadata": {
    "ExecuteTime": {
     "end_time": "2018-04-11T14:36:37.251369Z",
     "start_time": "2018-04-11T14:36:37.061865Z"
    },
    "hidden": true
   },
   "outputs": [
    {
     "name": "stdout",
     "output_type": "stream",
     "text": [
      "         400007 function calls in 0.183 seconds\n",
      "\n",
      "   Ordered by: internal time\n",
      "\n",
      "   ncalls  tottime  percall  cumtime  percall filename:lineno(function)\n",
      "   400000    0.122    0.000    0.122    0.000 _cython_magic_c45f858da499413d49be08e81048ecd4.pyx:12(sin2)\n",
      "        1    0.061    0.061    0.183    0.183 _cython_magic_c45f858da499413d49be08e81048ecd4.pyx:3(integrate)\n",
      "        1    0.000    0.000    0.183    0.183 <ipython-input-21-7fc2b3983865>:13(main)\n",
      "        1    0.000    0.000    0.183    0.183 {built-in method builtins.exec}\n",
      "        1    0.000    0.000    0.183    0.183 {built-in method _cython_magic_c45f858da499413d49be08e81048ecd4.integrate}\n",
      "        1    0.000    0.000    0.183    0.183 <string>:1(<module>)\n",
      "        1    0.000    0.000    0.183    0.183 _cython_magic_c45f858da499413d49be08e81048ecd4.pyx:3(integrate (wrapper))\n",
      "        1    0.000    0.000    0.000    0.000 {method 'disable' of '_lsprof.Profiler' objects}\n",
      "\n",
      "\n"
     ]
    }
   ],
   "source": [
    "cProfile.run('main()', sort='time')"
   ]
  },
  {
   "cell_type": "code",
   "execution_count": 57,
   "metadata": {
    "ExecuteTime": {
     "end_time": "2018-04-11T14:54:49.869349Z",
     "start_time": "2018-04-11T14:54:49.863334Z"
    },
    "hidden": true
   },
   "outputs": [],
   "source": [
    "%%cython\n",
    "from libc.math cimport sin\n",
    "cpdef integrate(double a, double b, f, int N=2000):\n",
    "    cdef:\n",
    "        int i\n",
    "        double dx = (b - a) / N\n",
    "        double s = 0.0\n",
    "    for i in range(N):\n",
    "        s += f(a + i * dx)\n",
    "    return s * dx\n",
    "\n",
    "cpdef sin2(x):\n",
    "    return sin(x)**2"
   ]
  },
  {
   "cell_type": "code",
   "execution_count": 55,
   "metadata": {
    "ExecuteTime": {
     "end_time": "2018-04-11T14:43:29.266605Z",
     "start_time": "2018-04-11T14:43:29.205943Z"
    },
    "hidden": true
   },
   "outputs": [
    {
     "name": "stdout",
     "output_type": "stream",
     "text": [
      "         5 function calls in 0.049 seconds\n",
      "\n",
      "   Ordered by: internal time\n",
      "\n",
      "   ncalls  tottime  percall  cumtime  percall filename:lineno(function)\n",
      "        1    0.048    0.048    0.048    0.048 {built-in method _cython_magic_97566448d1e5ef7e6577707a23b6415c.integrate}\n",
      "        1    0.000    0.000    0.049    0.049 <ipython-input-21-7fc2b3983865>:13(main)\n",
      "        1    0.000    0.000    0.049    0.049 {built-in method builtins.exec}\n",
      "        1    0.000    0.000    0.049    0.049 <string>:1(<module>)\n",
      "        1    0.000    0.000    0.000    0.000 {method 'disable' of '_lsprof.Profiler' objects}\n",
      "\n",
      "\n"
     ]
    }
   ],
   "source": [
    "cProfile.run('main()', sort='time')"
   ]
  },
  {
   "cell_type": "markdown",
   "metadata": {
    "hidden": true
   },
   "source": [
    "## Annotations"
   ]
  },
  {
   "cell_type": "markdown",
   "metadata": {
    "hidden": true
   },
   "source": [
    "To answer the question of why a given function is slow, Cython provides compile-time\n",
    "annotations, the topic of this section. Runtime profiling and compile-time annotations\n",
    "together provide complementary views of the performance of our Cython code."
   ]
  },
  {
   "cell_type": "markdown",
   "metadata": {
    "hidden": true
   },
   "source": [
    "### Pure Python"
   ]
  },
  {
   "cell_type": "code",
   "execution_count": 69,
   "metadata": {
    "ExecuteTime": {
     "end_time": "2018-04-11T15:14:26.391457Z",
     "start_time": "2018-04-11T15:14:23.683001Z"
    },
    "hidden": true
   },
   "outputs": [
    {
     "data": {
      "text/html": [
       "<!DOCTYPE html>\n",
       "<!-- Generated by Cython 0.28.1 -->\n",
       "<html>\n",
       "<head>\n",
       "    <meta http-equiv=\"Content-Type\" content=\"text/html; charset=utf-8\" />\n",
       "    <title>Cython: _cython_magic_99686454adf9d0b4fdbc4233c8afcb56.pyx</title>\n",
       "    <style type=\"text/css\">\n",
       "    \n",
       "body.cython { font-family: courier; font-size: 12; }\n",
       "\n",
       ".cython.tag  {  }\n",
       ".cython.line { margin: 0em }\n",
       ".cython.code { font-size: 9; color: #444444; display: none; margin: 0px 0px 0px 8px; border-left: 8px none; }\n",
       "\n",
       ".cython.line .run { background-color: #B0FFB0; }\n",
       ".cython.line .mis { background-color: #FFB0B0; }\n",
       ".cython.code.run  { border-left: 8px solid #B0FFB0; }\n",
       ".cython.code.mis  { border-left: 8px solid #FFB0B0; }\n",
       "\n",
       ".cython.code .py_c_api  { color: red; }\n",
       ".cython.code .py_macro_api  { color: #FF7000; }\n",
       ".cython.code .pyx_c_api  { color: #FF3000; }\n",
       ".cython.code .pyx_macro_api  { color: #FF7000; }\n",
       ".cython.code .refnanny  { color: #FFA000; }\n",
       ".cython.code .trace  { color: #FFA000; }\n",
       ".cython.code .error_goto  { color: #FFA000; }\n",
       "\n",
       ".cython.code .coerce  { color: #008000; border: 1px dotted #008000 }\n",
       ".cython.code .py_attr { color: #FF0000; font-weight: bold; }\n",
       ".cython.code .c_attr  { color: #0000FF; }\n",
       ".cython.code .py_call { color: #FF0000; font-weight: bold; }\n",
       ".cython.code .c_call  { color: #0000FF; }\n",
       "\n",
       ".cython.score-0 {background-color: #FFFFff;}\n",
       ".cython.score-1 {background-color: #FFFFe7;}\n",
       ".cython.score-2 {background-color: #FFFFd4;}\n",
       ".cython.score-3 {background-color: #FFFFc4;}\n",
       ".cython.score-4 {background-color: #FFFFb6;}\n",
       ".cython.score-5 {background-color: #FFFFaa;}\n",
       ".cython.score-6 {background-color: #FFFF9f;}\n",
       ".cython.score-7 {background-color: #FFFF96;}\n",
       ".cython.score-8 {background-color: #FFFF8d;}\n",
       ".cython.score-9 {background-color: #FFFF86;}\n",
       ".cython.score-10 {background-color: #FFFF7f;}\n",
       ".cython.score-11 {background-color: #FFFF79;}\n",
       ".cython.score-12 {background-color: #FFFF73;}\n",
       ".cython.score-13 {background-color: #FFFF6e;}\n",
       ".cython.score-14 {background-color: #FFFF6a;}\n",
       ".cython.score-15 {background-color: #FFFF66;}\n",
       ".cython.score-16 {background-color: #FFFF62;}\n",
       ".cython.score-17 {background-color: #FFFF5e;}\n",
       ".cython.score-18 {background-color: #FFFF5b;}\n",
       ".cython.score-19 {background-color: #FFFF57;}\n",
       ".cython.score-20 {background-color: #FFFF55;}\n",
       ".cython.score-21 {background-color: #FFFF52;}\n",
       ".cython.score-22 {background-color: #FFFF4f;}\n",
       ".cython.score-23 {background-color: #FFFF4d;}\n",
       ".cython.score-24 {background-color: #FFFF4b;}\n",
       ".cython.score-25 {background-color: #FFFF48;}\n",
       ".cython.score-26 {background-color: #FFFF46;}\n",
       ".cython.score-27 {background-color: #FFFF44;}\n",
       ".cython.score-28 {background-color: #FFFF43;}\n",
       ".cython.score-29 {background-color: #FFFF41;}\n",
       ".cython.score-30 {background-color: #FFFF3f;}\n",
       ".cython.score-31 {background-color: #FFFF3e;}\n",
       ".cython.score-32 {background-color: #FFFF3c;}\n",
       ".cython.score-33 {background-color: #FFFF3b;}\n",
       ".cython.score-34 {background-color: #FFFF39;}\n",
       ".cython.score-35 {background-color: #FFFF38;}\n",
       ".cython.score-36 {background-color: #FFFF37;}\n",
       ".cython.score-37 {background-color: #FFFF36;}\n",
       ".cython.score-38 {background-color: #FFFF35;}\n",
       ".cython.score-39 {background-color: #FFFF34;}\n",
       ".cython.score-40 {background-color: #FFFF33;}\n",
       ".cython.score-41 {background-color: #FFFF32;}\n",
       ".cython.score-42 {background-color: #FFFF31;}\n",
       ".cython.score-43 {background-color: #FFFF30;}\n",
       ".cython.score-44 {background-color: #FFFF2f;}\n",
       ".cython.score-45 {background-color: #FFFF2e;}\n",
       ".cython.score-46 {background-color: #FFFF2d;}\n",
       ".cython.score-47 {background-color: #FFFF2c;}\n",
       ".cython.score-48 {background-color: #FFFF2b;}\n",
       ".cython.score-49 {background-color: #FFFF2b;}\n",
       ".cython.score-50 {background-color: #FFFF2a;}\n",
       ".cython.score-51 {background-color: #FFFF29;}\n",
       ".cython.score-52 {background-color: #FFFF29;}\n",
       ".cython.score-53 {background-color: #FFFF28;}\n",
       ".cython.score-54 {background-color: #FFFF27;}\n",
       ".cython.score-55 {background-color: #FFFF27;}\n",
       ".cython.score-56 {background-color: #FFFF26;}\n",
       ".cython.score-57 {background-color: #FFFF26;}\n",
       ".cython.score-58 {background-color: #FFFF25;}\n",
       ".cython.score-59 {background-color: #FFFF24;}\n",
       ".cython.score-60 {background-color: #FFFF24;}\n",
       ".cython.score-61 {background-color: #FFFF23;}\n",
       ".cython.score-62 {background-color: #FFFF23;}\n",
       ".cython.score-63 {background-color: #FFFF22;}\n",
       ".cython.score-64 {background-color: #FFFF22;}\n",
       ".cython.score-65 {background-color: #FFFF22;}\n",
       ".cython.score-66 {background-color: #FFFF21;}\n",
       ".cython.score-67 {background-color: #FFFF21;}\n",
       ".cython.score-68 {background-color: #FFFF20;}\n",
       ".cython.score-69 {background-color: #FFFF20;}\n",
       ".cython.score-70 {background-color: #FFFF1f;}\n",
       ".cython.score-71 {background-color: #FFFF1f;}\n",
       ".cython.score-72 {background-color: #FFFF1f;}\n",
       ".cython.score-73 {background-color: #FFFF1e;}\n",
       ".cython.score-74 {background-color: #FFFF1e;}\n",
       ".cython.score-75 {background-color: #FFFF1e;}\n",
       ".cython.score-76 {background-color: #FFFF1d;}\n",
       ".cython.score-77 {background-color: #FFFF1d;}\n",
       ".cython.score-78 {background-color: #FFFF1c;}\n",
       ".cython.score-79 {background-color: #FFFF1c;}\n",
       ".cython.score-80 {background-color: #FFFF1c;}\n",
       ".cython.score-81 {background-color: #FFFF1c;}\n",
       ".cython.score-82 {background-color: #FFFF1b;}\n",
       ".cython.score-83 {background-color: #FFFF1b;}\n",
       ".cython.score-84 {background-color: #FFFF1b;}\n",
       ".cython.score-85 {background-color: #FFFF1a;}\n",
       ".cython.score-86 {background-color: #FFFF1a;}\n",
       ".cython.score-87 {background-color: #FFFF1a;}\n",
       ".cython.score-88 {background-color: #FFFF1a;}\n",
       ".cython.score-89 {background-color: #FFFF19;}\n",
       ".cython.score-90 {background-color: #FFFF19;}\n",
       ".cython.score-91 {background-color: #FFFF19;}\n",
       ".cython.score-92 {background-color: #FFFF19;}\n",
       ".cython.score-93 {background-color: #FFFF18;}\n",
       ".cython.score-94 {background-color: #FFFF18;}\n",
       ".cython.score-95 {background-color: #FFFF18;}\n",
       ".cython.score-96 {background-color: #FFFF18;}\n",
       ".cython.score-97 {background-color: #FFFF17;}\n",
       ".cython.score-98 {background-color: #FFFF17;}\n",
       ".cython.score-99 {background-color: #FFFF17;}\n",
       ".cython.score-100 {background-color: #FFFF17;}\n",
       ".cython.score-101 {background-color: #FFFF16;}\n",
       ".cython.score-102 {background-color: #FFFF16;}\n",
       ".cython.score-103 {background-color: #FFFF16;}\n",
       ".cython.score-104 {background-color: #FFFF16;}\n",
       ".cython.score-105 {background-color: #FFFF16;}\n",
       ".cython.score-106 {background-color: #FFFF15;}\n",
       ".cython.score-107 {background-color: #FFFF15;}\n",
       ".cython.score-108 {background-color: #FFFF15;}\n",
       ".cython.score-109 {background-color: #FFFF15;}\n",
       ".cython.score-110 {background-color: #FFFF15;}\n",
       ".cython.score-111 {background-color: #FFFF15;}\n",
       ".cython.score-112 {background-color: #FFFF14;}\n",
       ".cython.score-113 {background-color: #FFFF14;}\n",
       ".cython.score-114 {background-color: #FFFF14;}\n",
       ".cython.score-115 {background-color: #FFFF14;}\n",
       ".cython.score-116 {background-color: #FFFF14;}\n",
       ".cython.score-117 {background-color: #FFFF14;}\n",
       ".cython.score-118 {background-color: #FFFF13;}\n",
       ".cython.score-119 {background-color: #FFFF13;}\n",
       ".cython.score-120 {background-color: #FFFF13;}\n",
       ".cython.score-121 {background-color: #FFFF13;}\n",
       ".cython.score-122 {background-color: #FFFF13;}\n",
       ".cython.score-123 {background-color: #FFFF13;}\n",
       ".cython.score-124 {background-color: #FFFF13;}\n",
       ".cython.score-125 {background-color: #FFFF12;}\n",
       ".cython.score-126 {background-color: #FFFF12;}\n",
       ".cython.score-127 {background-color: #FFFF12;}\n",
       ".cython.score-128 {background-color: #FFFF12;}\n",
       ".cython.score-129 {background-color: #FFFF12;}\n",
       ".cython.score-130 {background-color: #FFFF12;}\n",
       ".cython.score-131 {background-color: #FFFF12;}\n",
       ".cython.score-132 {background-color: #FFFF11;}\n",
       ".cython.score-133 {background-color: #FFFF11;}\n",
       ".cython.score-134 {background-color: #FFFF11;}\n",
       ".cython.score-135 {background-color: #FFFF11;}\n",
       ".cython.score-136 {background-color: #FFFF11;}\n",
       ".cython.score-137 {background-color: #FFFF11;}\n",
       ".cython.score-138 {background-color: #FFFF11;}\n",
       ".cython.score-139 {background-color: #FFFF11;}\n",
       ".cython.score-140 {background-color: #FFFF11;}\n",
       ".cython.score-141 {background-color: #FFFF10;}\n",
       ".cython.score-142 {background-color: #FFFF10;}\n",
       ".cython.score-143 {background-color: #FFFF10;}\n",
       ".cython.score-144 {background-color: #FFFF10;}\n",
       ".cython.score-145 {background-color: #FFFF10;}\n",
       ".cython.score-146 {background-color: #FFFF10;}\n",
       ".cython.score-147 {background-color: #FFFF10;}\n",
       ".cython.score-148 {background-color: #FFFF10;}\n",
       ".cython.score-149 {background-color: #FFFF10;}\n",
       ".cython.score-150 {background-color: #FFFF0f;}\n",
       ".cython.score-151 {background-color: #FFFF0f;}\n",
       ".cython.score-152 {background-color: #FFFF0f;}\n",
       ".cython.score-153 {background-color: #FFFF0f;}\n",
       ".cython.score-154 {background-color: #FFFF0f;}\n",
       ".cython.score-155 {background-color: #FFFF0f;}\n",
       ".cython.score-156 {background-color: #FFFF0f;}\n",
       ".cython.score-157 {background-color: #FFFF0f;}\n",
       ".cython.score-158 {background-color: #FFFF0f;}\n",
       ".cython.score-159 {background-color: #FFFF0f;}\n",
       ".cython.score-160 {background-color: #FFFF0f;}\n",
       ".cython.score-161 {background-color: #FFFF0e;}\n",
       ".cython.score-162 {background-color: #FFFF0e;}\n",
       ".cython.score-163 {background-color: #FFFF0e;}\n",
       ".cython.score-164 {background-color: #FFFF0e;}\n",
       ".cython.score-165 {background-color: #FFFF0e;}\n",
       ".cython.score-166 {background-color: #FFFF0e;}\n",
       ".cython.score-167 {background-color: #FFFF0e;}\n",
       ".cython.score-168 {background-color: #FFFF0e;}\n",
       ".cython.score-169 {background-color: #FFFF0e;}\n",
       ".cython.score-170 {background-color: #FFFF0e;}\n",
       ".cython.score-171 {background-color: #FFFF0e;}\n",
       ".cython.score-172 {background-color: #FFFF0e;}\n",
       ".cython.score-173 {background-color: #FFFF0d;}\n",
       ".cython.score-174 {background-color: #FFFF0d;}\n",
       ".cython.score-175 {background-color: #FFFF0d;}\n",
       ".cython.score-176 {background-color: #FFFF0d;}\n",
       ".cython.score-177 {background-color: #FFFF0d;}\n",
       ".cython.score-178 {background-color: #FFFF0d;}\n",
       ".cython.score-179 {background-color: #FFFF0d;}\n",
       ".cython.score-180 {background-color: #FFFF0d;}\n",
       ".cython.score-181 {background-color: #FFFF0d;}\n",
       ".cython.score-182 {background-color: #FFFF0d;}\n",
       ".cython.score-183 {background-color: #FFFF0d;}\n",
       ".cython.score-184 {background-color: #FFFF0d;}\n",
       ".cython.score-185 {background-color: #FFFF0d;}\n",
       ".cython.score-186 {background-color: #FFFF0d;}\n",
       ".cython.score-187 {background-color: #FFFF0c;}\n",
       ".cython.score-188 {background-color: #FFFF0c;}\n",
       ".cython.score-189 {background-color: #FFFF0c;}\n",
       ".cython.score-190 {background-color: #FFFF0c;}\n",
       ".cython.score-191 {background-color: #FFFF0c;}\n",
       ".cython.score-192 {background-color: #FFFF0c;}\n",
       ".cython.score-193 {background-color: #FFFF0c;}\n",
       ".cython.score-194 {background-color: #FFFF0c;}\n",
       ".cython.score-195 {background-color: #FFFF0c;}\n",
       ".cython.score-196 {background-color: #FFFF0c;}\n",
       ".cython.score-197 {background-color: #FFFF0c;}\n",
       ".cython.score-198 {background-color: #FFFF0c;}\n",
       ".cython.score-199 {background-color: #FFFF0c;}\n",
       ".cython.score-200 {background-color: #FFFF0c;}\n",
       ".cython.score-201 {background-color: #FFFF0c;}\n",
       ".cython.score-202 {background-color: #FFFF0c;}\n",
       ".cython.score-203 {background-color: #FFFF0b;}\n",
       ".cython.score-204 {background-color: #FFFF0b;}\n",
       ".cython.score-205 {background-color: #FFFF0b;}\n",
       ".cython.score-206 {background-color: #FFFF0b;}\n",
       ".cython.score-207 {background-color: #FFFF0b;}\n",
       ".cython.score-208 {background-color: #FFFF0b;}\n",
       ".cython.score-209 {background-color: #FFFF0b;}\n",
       ".cython.score-210 {background-color: #FFFF0b;}\n",
       ".cython.score-211 {background-color: #FFFF0b;}\n",
       ".cython.score-212 {background-color: #FFFF0b;}\n",
       ".cython.score-213 {background-color: #FFFF0b;}\n",
       ".cython.score-214 {background-color: #FFFF0b;}\n",
       ".cython.score-215 {background-color: #FFFF0b;}\n",
       ".cython.score-216 {background-color: #FFFF0b;}\n",
       ".cython.score-217 {background-color: #FFFF0b;}\n",
       ".cython.score-218 {background-color: #FFFF0b;}\n",
       ".cython.score-219 {background-color: #FFFF0b;}\n",
       ".cython.score-220 {background-color: #FFFF0b;}\n",
       ".cython.score-221 {background-color: #FFFF0b;}\n",
       ".cython.score-222 {background-color: #FFFF0a;}\n",
       ".cython.score-223 {background-color: #FFFF0a;}\n",
       ".cython.score-224 {background-color: #FFFF0a;}\n",
       ".cython.score-225 {background-color: #FFFF0a;}\n",
       ".cython.score-226 {background-color: #FFFF0a;}\n",
       ".cython.score-227 {background-color: #FFFF0a;}\n",
       ".cython.score-228 {background-color: #FFFF0a;}\n",
       ".cython.score-229 {background-color: #FFFF0a;}\n",
       ".cython.score-230 {background-color: #FFFF0a;}\n",
       ".cython.score-231 {background-color: #FFFF0a;}\n",
       ".cython.score-232 {background-color: #FFFF0a;}\n",
       ".cython.score-233 {background-color: #FFFF0a;}\n",
       ".cython.score-234 {background-color: #FFFF0a;}\n",
       ".cython.score-235 {background-color: #FFFF0a;}\n",
       ".cython.score-236 {background-color: #FFFF0a;}\n",
       ".cython.score-237 {background-color: #FFFF0a;}\n",
       ".cython.score-238 {background-color: #FFFF0a;}\n",
       ".cython.score-239 {background-color: #FFFF0a;}\n",
       ".cython.score-240 {background-color: #FFFF0a;}\n",
       ".cython.score-241 {background-color: #FFFF0a;}\n",
       ".cython.score-242 {background-color: #FFFF0a;}\n",
       ".cython.score-243 {background-color: #FFFF0a;}\n",
       ".cython.score-244 {background-color: #FFFF0a;}\n",
       ".cython.score-245 {background-color: #FFFF0a;}\n",
       ".cython.score-246 {background-color: #FFFF09;}\n",
       ".cython.score-247 {background-color: #FFFF09;}\n",
       ".cython.score-248 {background-color: #FFFF09;}\n",
       ".cython.score-249 {background-color: #FFFF09;}\n",
       ".cython.score-250 {background-color: #FFFF09;}\n",
       ".cython.score-251 {background-color: #FFFF09;}\n",
       ".cython.score-252 {background-color: #FFFF09;}\n",
       ".cython.score-253 {background-color: #FFFF09;}\n",
       ".cython.score-254 {background-color: #FFFF09;}\n",
       ".cython .hll { background-color: #ffffcc }\n",
       ".cython  { background: #f8f8f8; }\n",
       ".cython .c { color: #408080; font-style: italic } /* Comment */\n",
       ".cython .err { border: 1px solid #FF0000 } /* Error */\n",
       ".cython .k { color: #008000; font-weight: bold } /* Keyword */\n",
       ".cython .o { color: #666666 } /* Operator */\n",
       ".cython .ch { color: #408080; font-style: italic } /* Comment.Hashbang */\n",
       ".cython .cm { color: #408080; font-style: italic } /* Comment.Multiline */\n",
       ".cython .cp { color: #BC7A00 } /* Comment.Preproc */\n",
       ".cython .cpf { color: #408080; font-style: italic } /* Comment.PreprocFile */\n",
       ".cython .c1 { color: #408080; font-style: italic } /* Comment.Single */\n",
       ".cython .cs { color: #408080; font-style: italic } /* Comment.Special */\n",
       ".cython .gd { color: #A00000 } /* Generic.Deleted */\n",
       ".cython .ge { font-style: italic } /* Generic.Emph */\n",
       ".cython .gr { color: #FF0000 } /* Generic.Error */\n",
       ".cython .gh { color: #000080; font-weight: bold } /* Generic.Heading */\n",
       ".cython .gi { color: #00A000 } /* Generic.Inserted */\n",
       ".cython .go { color: #888888 } /* Generic.Output */\n",
       ".cython .gp { color: #000080; font-weight: bold } /* Generic.Prompt */\n",
       ".cython .gs { font-weight: bold } /* Generic.Strong */\n",
       ".cython .gu { color: #800080; font-weight: bold } /* Generic.Subheading */\n",
       ".cython .gt { color: #0044DD } /* Generic.Traceback */\n",
       ".cython .kc { color: #008000; font-weight: bold } /* Keyword.Constant */\n",
       ".cython .kd { color: #008000; font-weight: bold } /* Keyword.Declaration */\n",
       ".cython .kn { color: #008000; font-weight: bold } /* Keyword.Namespace */\n",
       ".cython .kp { color: #008000 } /* Keyword.Pseudo */\n",
       ".cython .kr { color: #008000; font-weight: bold } /* Keyword.Reserved */\n",
       ".cython .kt { color: #B00040 } /* Keyword.Type */\n",
       ".cython .m { color: #666666 } /* Literal.Number */\n",
       ".cython .s { color: #BA2121 } /* Literal.String */\n",
       ".cython .na { color: #7D9029 } /* Name.Attribute */\n",
       ".cython .nb { color: #008000 } /* Name.Builtin */\n",
       ".cython .nc { color: #0000FF; font-weight: bold } /* Name.Class */\n",
       ".cython .no { color: #880000 } /* Name.Constant */\n",
       ".cython .nd { color: #AA22FF } /* Name.Decorator */\n",
       ".cython .ni { color: #999999; font-weight: bold } /* Name.Entity */\n",
       ".cython .ne { color: #D2413A; font-weight: bold } /* Name.Exception */\n",
       ".cython .nf { color: #0000FF } /* Name.Function */\n",
       ".cython .nl { color: #A0A000 } /* Name.Label */\n",
       ".cython .nn { color: #0000FF; font-weight: bold } /* Name.Namespace */\n",
       ".cython .nt { color: #008000; font-weight: bold } /* Name.Tag */\n",
       ".cython .nv { color: #19177C } /* Name.Variable */\n",
       ".cython .ow { color: #AA22FF; font-weight: bold } /* Operator.Word */\n",
       ".cython .w { color: #bbbbbb } /* Text.Whitespace */\n",
       ".cython .mb { color: #666666 } /* Literal.Number.Bin */\n",
       ".cython .mf { color: #666666 } /* Literal.Number.Float */\n",
       ".cython .mh { color: #666666 } /* Literal.Number.Hex */\n",
       ".cython .mi { color: #666666 } /* Literal.Number.Integer */\n",
       ".cython .mo { color: #666666 } /* Literal.Number.Oct */\n",
       ".cython .sa { color: #BA2121 } /* Literal.String.Affix */\n",
       ".cython .sb { color: #BA2121 } /* Literal.String.Backtick */\n",
       ".cython .sc { color: #BA2121 } /* Literal.String.Char */\n",
       ".cython .dl { color: #BA2121 } /* Literal.String.Delimiter */\n",
       ".cython .sd { color: #BA2121; font-style: italic } /* Literal.String.Doc */\n",
       ".cython .s2 { color: #BA2121 } /* Literal.String.Double */\n",
       ".cython .se { color: #BB6622; font-weight: bold } /* Literal.String.Escape */\n",
       ".cython .sh { color: #BA2121 } /* Literal.String.Heredoc */\n",
       ".cython .si { color: #BB6688; font-weight: bold } /* Literal.String.Interpol */\n",
       ".cython .sx { color: #008000 } /* Literal.String.Other */\n",
       ".cython .sr { color: #BB6688 } /* Literal.String.Regex */\n",
       ".cython .s1 { color: #BA2121 } /* Literal.String.Single */\n",
       ".cython .ss { color: #19177C } /* Literal.String.Symbol */\n",
       ".cython .bp { color: #008000 } /* Name.Builtin.Pseudo */\n",
       ".cython .fm { color: #0000FF } /* Name.Function.Magic */\n",
       ".cython .vc { color: #19177C } /* Name.Variable.Class */\n",
       ".cython .vg { color: #19177C } /* Name.Variable.Global */\n",
       ".cython .vi { color: #19177C } /* Name.Variable.Instance */\n",
       ".cython .vm { color: #19177C } /* Name.Variable.Magic */\n",
       ".cython .il { color: #666666 } /* Literal.Number.Integer.Long */\n",
       "    </style>\n",
       "</head>\n",
       "<body class=\"cython\">\n",
       "<p><span style=\"border-bottom: solid 1px grey;\">Generated by Cython 0.28.1</span></p>\n",
       "<p>\n",
       "    <span style=\"background-color: #FFFF00\">Yellow lines</span> hint at Python interaction.<br />\n",
       "    Click on a line that starts with a \"<code>+</code>\" to see the C code that Cython generated for it.\n",
       "</p>\n",
       "<div class=\"cython\"><pre class=\"cython line score-0\">&#xA0;<span class=\"\">1</span>: </pre>\n",
       "<pre class=\"cython line score-82\" onclick=\"(function(s){s.display=s.display==='block'?'none':'block'})(this.nextElementSibling.style)\">+<span class=\"\">2</span>: <span class=\"k\">def</span> <span class=\"nf\">integrate</span><span class=\"p\">(</span><span class=\"n\">double</span> <span class=\"n\">a</span><span class=\"p\">,</span> <span class=\"n\">double</span> <span class=\"n\">b</span><span class=\"p\">,</span> <span class=\"n\">f</span><span class=\"p\">,</span> <span class=\"nb\">int</span> <span class=\"n\">N</span><span class=\"o\">=</span><span class=\"mf\">2000</span><span class=\"p\">):</span></pre>\n",
       "<pre class='cython code score-82 '>/* Python wrapper */\n",
       "static PyObject *__pyx_pw_46_cython_magic_99686454adf9d0b4fdbc4233c8afcb56_1integrate(PyObject *__pyx_self, PyObject *__pyx_args, PyObject *__pyx_kwds); /*proto*/\n",
       "static PyMethodDef __pyx_mdef_46_cython_magic_99686454adf9d0b4fdbc4233c8afcb56_1integrate = {\"integrate\", (PyCFunction)__pyx_pw_46_cython_magic_99686454adf9d0b4fdbc4233c8afcb56_1integrate, METH_VARARGS|METH_KEYWORDS, 0};\n",
       "static PyObject *__pyx_pw_46_cython_magic_99686454adf9d0b4fdbc4233c8afcb56_1integrate(PyObject *__pyx_self, PyObject *__pyx_args, PyObject *__pyx_kwds) {\n",
       "  double __pyx_v_a;\n",
       "  double __pyx_v_b;\n",
       "  PyObject *__pyx_v_f = 0;\n",
       "  int __pyx_v_N;\n",
       "  PyObject *__pyx_r = 0;\n",
       "  <span class='refnanny'>__Pyx_RefNannyDeclarations</span>\n",
       "  <span class='refnanny'>__Pyx_RefNannySetupContext</span>(\"integrate (wrapper)\", 0);\n",
       "  {\n",
       "    static PyObject **__pyx_pyargnames[] = {&amp;__pyx_n_s_a,&amp;__pyx_n_s_b,&amp;__pyx_n_s_f,&amp;__pyx_n_s_N,0};\n",
       "    PyObject* values[4] = {0,0,0,0};\n",
       "    if (unlikely(__pyx_kwds)) {\n",
       "      Py_ssize_t kw_args;\n",
       "      const Py_ssize_t pos_args = <span class='py_macro_api'>PyTuple_GET_SIZE</span>(__pyx_args);\n",
       "      switch (pos_args) {\n",
       "        case  4: values[3] = <span class='py_macro_api'>PyTuple_GET_ITEM</span>(__pyx_args, 3);\n",
       "        CYTHON_FALLTHROUGH;\n",
       "        case  3: values[2] = <span class='py_macro_api'>PyTuple_GET_ITEM</span>(__pyx_args, 2);\n",
       "        CYTHON_FALLTHROUGH;\n",
       "        case  2: values[1] = <span class='py_macro_api'>PyTuple_GET_ITEM</span>(__pyx_args, 1);\n",
       "        CYTHON_FALLTHROUGH;\n",
       "        case  1: values[0] = <span class='py_macro_api'>PyTuple_GET_ITEM</span>(__pyx_args, 0);\n",
       "        CYTHON_FALLTHROUGH;\n",
       "        case  0: break;\n",
       "        default: goto __pyx_L5_argtuple_error;\n",
       "      }\n",
       "      kw_args = <span class='py_c_api'>PyDict_Size</span>(__pyx_kwds);\n",
       "      switch (pos_args) {\n",
       "        case  0:\n",
       "        if (likely((values[0] = <span class='pyx_c_api'>__Pyx_PyDict_GetItemStr</span>(__pyx_kwds, __pyx_n_s_a)) != 0)) kw_args--;\n",
       "        else goto __pyx_L5_argtuple_error;\n",
       "        CYTHON_FALLTHROUGH;\n",
       "        case  1:\n",
       "        if (likely((values[1] = <span class='pyx_c_api'>__Pyx_PyDict_GetItemStr</span>(__pyx_kwds, __pyx_n_s_b)) != 0)) kw_args--;\n",
       "        else {\n",
       "          <span class='pyx_c_api'>__Pyx_RaiseArgtupleInvalid</span>(\"integrate\", 0, 3, 4, 1); <span class='error_goto'>__PYX_ERR(0, 2, __pyx_L3_error)</span>\n",
       "        }\n",
       "        CYTHON_FALLTHROUGH;\n",
       "        case  2:\n",
       "        if (likely((values[2] = <span class='pyx_c_api'>__Pyx_PyDict_GetItemStr</span>(__pyx_kwds, __pyx_n_s_f)) != 0)) kw_args--;\n",
       "        else {\n",
       "          <span class='pyx_c_api'>__Pyx_RaiseArgtupleInvalid</span>(\"integrate\", 0, 3, 4, 2); <span class='error_goto'>__PYX_ERR(0, 2, __pyx_L3_error)</span>\n",
       "        }\n",
       "        CYTHON_FALLTHROUGH;\n",
       "        case  3:\n",
       "        if (kw_args &gt; 0) {\n",
       "          PyObject* value = <span class='pyx_c_api'>__Pyx_PyDict_GetItemStr</span>(__pyx_kwds, __pyx_n_s_N);\n",
       "          if (value) { values[3] = value; kw_args--; }\n",
       "        }\n",
       "      }\n",
       "      if (unlikely(kw_args &gt; 0)) {\n",
       "        if (unlikely(<span class='pyx_c_api'>__Pyx_ParseOptionalKeywords</span>(__pyx_kwds, __pyx_pyargnames, 0, values, pos_args, \"integrate\") &lt; 0)) <span class='error_goto'>__PYX_ERR(0, 2, __pyx_L3_error)</span>\n",
       "      }\n",
       "    } else {\n",
       "      switch (<span class='py_macro_api'>PyTuple_GET_SIZE</span>(__pyx_args)) {\n",
       "        case  4: values[3] = <span class='py_macro_api'>PyTuple_GET_ITEM</span>(__pyx_args, 3);\n",
       "        CYTHON_FALLTHROUGH;\n",
       "        case  3: values[2] = <span class='py_macro_api'>PyTuple_GET_ITEM</span>(__pyx_args, 2);\n",
       "        values[1] = <span class='py_macro_api'>PyTuple_GET_ITEM</span>(__pyx_args, 1);\n",
       "        values[0] = <span class='py_macro_api'>PyTuple_GET_ITEM</span>(__pyx_args, 0);\n",
       "        break;\n",
       "        default: goto __pyx_L5_argtuple_error;\n",
       "      }\n",
       "    }\n",
       "    __pyx_v_a = __pyx_<span class='py_c_api'>PyFloat_AsDouble</span>(values[0]); if (unlikely((__pyx_v_a == (double)-1) &amp;&amp; <span class='py_c_api'>PyErr_Occurred</span>())) <span class='error_goto'>__PYX_ERR(0, 2, __pyx_L3_error)</span>\n",
       "    __pyx_v_b = __pyx_<span class='py_c_api'>PyFloat_AsDouble</span>(values[1]); if (unlikely((__pyx_v_b == (double)-1) &amp;&amp; <span class='py_c_api'>PyErr_Occurred</span>())) <span class='error_goto'>__PYX_ERR(0, 2, __pyx_L3_error)</span>\n",
       "    __pyx_v_f = values[2];\n",
       "    if (values[3]) {\n",
       "      __pyx_v_N = <span class='pyx_c_api'>__Pyx_PyInt_As_int</span>(values[3]); if (unlikely((__pyx_v_N == (int)-1) &amp;&amp; <span class='py_c_api'>PyErr_Occurred</span>())) <span class='error_goto'>__PYX_ERR(0, 2, __pyx_L3_error)</span>\n",
       "    } else {\n",
       "      __pyx_v_N = ((int)0x7D0);\n",
       "    }\n",
       "  }\n",
       "  goto __pyx_L4_argument_unpacking_done;\n",
       "  __pyx_L5_argtuple_error:;\n",
       "  <span class='pyx_c_api'>__Pyx_RaiseArgtupleInvalid</span>(\"integrate\", 0, 3, 4, <span class='py_macro_api'>PyTuple_GET_SIZE</span>(__pyx_args)); <span class='error_goto'>__PYX_ERR(0, 2, __pyx_L3_error)</span>\n",
       "  __pyx_L3_error:;\n",
       "  <span class='pyx_c_api'>__Pyx_AddTraceback</span>(\"_cython_magic_99686454adf9d0b4fdbc4233c8afcb56.integrate\", __pyx_clineno, __pyx_lineno, __pyx_filename);\n",
       "  <span class='refnanny'>__Pyx_RefNannyFinishContext</span>();\n",
       "  return NULL;\n",
       "  __pyx_L4_argument_unpacking_done:;\n",
       "  __pyx_r = __pyx_pf_46_cython_magic_99686454adf9d0b4fdbc4233c8afcb56_integrate(__pyx_self, __pyx_v_a, __pyx_v_b, __pyx_v_f, __pyx_v_N);\n",
       "\n",
       "  /* function exit code */\n",
       "  <span class='refnanny'>__Pyx_RefNannyFinishContext</span>();\n",
       "  return __pyx_r;\n",
       "}\n",
       "\n",
       "static PyObject *__pyx_pf_46_cython_magic_99686454adf9d0b4fdbc4233c8afcb56_integrate(CYTHON_UNUSED PyObject *__pyx_self, double __pyx_v_a, double __pyx_v_b, PyObject *__pyx_v_f, int __pyx_v_N) {\n",
       "  double __pyx_v_dx;\n",
       "  PyObject *__pyx_v_s = NULL;\n",
       "  PyObject *__pyx_v_i = NULL;\n",
       "  PyObject *__pyx_r = NULL;\n",
       "  <span class='refnanny'>__Pyx_RefNannyDeclarations</span>\n",
       "  <span class='refnanny'>__Pyx_RefNannySetupContext</span>(\"integrate\", 0);\n",
       "/* … */\n",
       "  /* function exit code */\n",
       "  __pyx_L1_error:;\n",
       "  <span class='pyx_macro_api'>__Pyx_XDECREF</span>(__pyx_t_2);\n",
       "  <span class='pyx_macro_api'>__Pyx_XDECREF</span>(__pyx_t_3);\n",
       "  <span class='pyx_macro_api'>__Pyx_XDECREF</span>(__pyx_t_6);\n",
       "  <span class='pyx_macro_api'>__Pyx_XDECREF</span>(__pyx_t_7);\n",
       "  <span class='pyx_macro_api'>__Pyx_XDECREF</span>(__pyx_t_8);\n",
       "  <span class='pyx_macro_api'>__Pyx_XDECREF</span>(__pyx_t_9);\n",
       "  <span class='pyx_c_api'>__Pyx_AddTraceback</span>(\"_cython_magic_99686454adf9d0b4fdbc4233c8afcb56.integrate\", __pyx_clineno, __pyx_lineno, __pyx_filename);\n",
       "  __pyx_r = NULL;\n",
       "  __pyx_L0:;\n",
       "  <span class='pyx_macro_api'>__Pyx_XDECREF</span>(__pyx_v_s);\n",
       "  <span class='pyx_macro_api'>__Pyx_XDECREF</span>(__pyx_v_i);\n",
       "  <span class='refnanny'>__Pyx_XGIVEREF</span>(__pyx_r);\n",
       "  <span class='refnanny'>__Pyx_RefNannyFinishContext</span>();\n",
       "  return __pyx_r;\n",
       "}\n",
       "/* … */\n",
       "  __pyx_tuple_ = <span class='py_c_api'>PyTuple_Pack</span>(7, __pyx_n_s_a, __pyx_n_s_b, __pyx_n_s_f, __pyx_n_s_N, __pyx_n_s_dx, __pyx_n_s_s, __pyx_n_s_i);<span class='error_goto'> if (unlikely(!__pyx_tuple_)) __PYX_ERR(0, 2, __pyx_L1_error)</span>\n",
       "  <span class='refnanny'>__Pyx_GOTREF</span>(__pyx_tuple_);\n",
       "  <span class='refnanny'>__Pyx_GIVEREF</span>(__pyx_tuple_);\n",
       "/* … */\n",
       "  __pyx_t_1 = PyCFunction_NewEx(&amp;__pyx_mdef_46_cython_magic_99686454adf9d0b4fdbc4233c8afcb56_1integrate, NULL, __pyx_n_s_cython_magic_99686454adf9d0b4fd);<span class='error_goto'> if (unlikely(!__pyx_t_1)) __PYX_ERR(0, 2, __pyx_L1_error)</span>\n",
       "  <span class='refnanny'>__Pyx_GOTREF</span>(__pyx_t_1);\n",
       "  if (<span class='py_c_api'>PyDict_SetItem</span>(__pyx_d, __pyx_n_s_integrate, __pyx_t_1) &lt; 0) <span class='error_goto'>__PYX_ERR(0, 2, __pyx_L1_error)</span>\n",
       "  <span class='pyx_macro_api'>__Pyx_DECREF</span>(__pyx_t_1); __pyx_t_1 = 0;\n",
       "</pre><pre class=\"cython line score-5\" onclick=\"(function(s){s.display=s.display==='block'?'none':'block'})(this.nextElementSibling.style)\">+<span class=\"\">3</span>:     <span class=\"n\">dx</span> <span class=\"o\">=</span> <span class=\"p\">(</span><span class=\"n\">b</span> <span class=\"o\">-</span> <span class=\"n\">a</span><span class=\"p\">)</span> <span class=\"o\">/</span> <span class=\"n\">N</span></pre>\n",
       "<pre class='cython code score-5 '>  __pyx_t_1 = (__pyx_v_b - __pyx_v_a);\n",
       "  if (unlikely(__pyx_v_N == 0)) {\n",
       "    <span class='py_c_api'>PyErr_SetString</span>(PyExc_ZeroDivisionError, \"float division\");\n",
       "    <span class='error_goto'>__PYX_ERR(0, 3, __pyx_L1_error)</span>\n",
       "  }\n",
       "  __pyx_v_dx = (__pyx_t_1 / ((double)__pyx_v_N));\n",
       "</pre><pre class=\"cython line score-1\" onclick=\"(function(s){s.display=s.display==='block'?'none':'block'})(this.nextElementSibling.style)\">+<span class=\"\">4</span>:     <span class=\"n\">s</span> <span class=\"o\">=</span> <span class=\"mf\">0.0</span></pre>\n",
       "<pre class='cython code score-1 '>  <span class='pyx_macro_api'>__Pyx_INCREF</span>(__pyx_float_0_0);\n",
       "  __pyx_v_s = __pyx_float_0_0;\n",
       "</pre><pre class=\"cython line score-49\" onclick=\"(function(s){s.display=s.display==='block'?'none':'block'})(this.nextElementSibling.style)\">+<span class=\"\">5</span>:     <span class=\"k\">for</span> <span class=\"n\">i</span> <span class=\"ow\">in</span> <span class=\"nb\">range</span><span class=\"p\">(</span><span class=\"n\">N</span><span class=\"p\">):</span></pre>\n",
       "<pre class='cython code score-49 '>  __pyx_t_2 = <span class='pyx_c_api'>__Pyx_PyInt_From_int</span>(__pyx_v_N);<span class='error_goto'> if (unlikely(!__pyx_t_2)) __PYX_ERR(0, 5, __pyx_L1_error)</span>\n",
       "  <span class='refnanny'>__Pyx_GOTREF</span>(__pyx_t_2);\n",
       "  __pyx_t_3 = <span class='pyx_c_api'>__Pyx_PyObject_CallOneArg</span>(__pyx_builtin_range, __pyx_t_2);<span class='error_goto'> if (unlikely(!__pyx_t_3)) __PYX_ERR(0, 5, __pyx_L1_error)</span>\n",
       "  <span class='refnanny'>__Pyx_GOTREF</span>(__pyx_t_3);\n",
       "  <span class='pyx_macro_api'>__Pyx_DECREF</span>(__pyx_t_2); __pyx_t_2 = 0;\n",
       "  if (likely(<span class='py_c_api'>PyList_CheckExact</span>(__pyx_t_3)) || <span class='py_c_api'>PyTuple_CheckExact</span>(__pyx_t_3)) {\n",
       "    __pyx_t_2 = __pyx_t_3; <span class='pyx_macro_api'>__Pyx_INCREF</span>(__pyx_t_2); __pyx_t_4 = 0;\n",
       "    __pyx_t_5 = NULL;\n",
       "  } else {\n",
       "    __pyx_t_4 = -1; __pyx_t_2 = <span class='py_c_api'>PyObject_GetIter</span>(__pyx_t_3);<span class='error_goto'> if (unlikely(!__pyx_t_2)) __PYX_ERR(0, 5, __pyx_L1_error)</span>\n",
       "    <span class='refnanny'>__Pyx_GOTREF</span>(__pyx_t_2);\n",
       "    __pyx_t_5 = Py_TYPE(__pyx_t_2)-&gt;tp_iternext;<span class='error_goto'> if (unlikely(!__pyx_t_5)) __PYX_ERR(0, 5, __pyx_L1_error)</span>\n",
       "  }\n",
       "  <span class='pyx_macro_api'>__Pyx_DECREF</span>(__pyx_t_3); __pyx_t_3 = 0;\n",
       "  for (;;) {\n",
       "    if (likely(!__pyx_t_5)) {\n",
       "      if (likely(<span class='py_c_api'>PyList_CheckExact</span>(__pyx_t_2))) {\n",
       "        if (__pyx_t_4 &gt;= <span class='py_macro_api'>PyList_GET_SIZE</span>(__pyx_t_2)) break;\n",
       "        #if CYTHON_ASSUME_SAFE_MACROS &amp;&amp; !CYTHON_AVOID_BORROWED_REFS\n",
       "        __pyx_t_3 = <span class='py_macro_api'>PyList_GET_ITEM</span>(__pyx_t_2, __pyx_t_4); <span class='pyx_macro_api'>__Pyx_INCREF</span>(__pyx_t_3); __pyx_t_4++; if (unlikely(0 &lt; 0)) <span class='error_goto'>__PYX_ERR(0, 5, __pyx_L1_error)</span>\n",
       "        #else\n",
       "        __pyx_t_3 = <span class='py_macro_api'>PySequence_ITEM</span>(__pyx_t_2, __pyx_t_4); __pyx_t_4++;<span class='error_goto'> if (unlikely(!__pyx_t_3)) __PYX_ERR(0, 5, __pyx_L1_error)</span>\n",
       "        <span class='refnanny'>__Pyx_GOTREF</span>(__pyx_t_3);\n",
       "        #endif\n",
       "      } else {\n",
       "        if (__pyx_t_4 &gt;= <span class='py_macro_api'>PyTuple_GET_SIZE</span>(__pyx_t_2)) break;\n",
       "        #if CYTHON_ASSUME_SAFE_MACROS &amp;&amp; !CYTHON_AVOID_BORROWED_REFS\n",
       "        __pyx_t_3 = <span class='py_macro_api'>PyTuple_GET_ITEM</span>(__pyx_t_2, __pyx_t_4); <span class='pyx_macro_api'>__Pyx_INCREF</span>(__pyx_t_3); __pyx_t_4++; if (unlikely(0 &lt; 0)) <span class='error_goto'>__PYX_ERR(0, 5, __pyx_L1_error)</span>\n",
       "        #else\n",
       "        __pyx_t_3 = <span class='py_macro_api'>PySequence_ITEM</span>(__pyx_t_2, __pyx_t_4); __pyx_t_4++;<span class='error_goto'> if (unlikely(!__pyx_t_3)) __PYX_ERR(0, 5, __pyx_L1_error)</span>\n",
       "        <span class='refnanny'>__Pyx_GOTREF</span>(__pyx_t_3);\n",
       "        #endif\n",
       "      }\n",
       "    } else {\n",
       "      __pyx_t_3 = __pyx_t_5(__pyx_t_2);\n",
       "      if (unlikely(!__pyx_t_3)) {\n",
       "        PyObject* exc_type = <span class='py_c_api'>PyErr_Occurred</span>();\n",
       "        if (exc_type) {\n",
       "          if (likely(<span class='pyx_c_api'>__Pyx_PyErr_GivenExceptionMatches</span>(exc_type, PyExc_StopIteration))) <span class='py_c_api'>PyErr_Clear</span>();\n",
       "          else <span class='error_goto'>__PYX_ERR(0, 5, __pyx_L1_error)</span>\n",
       "        }\n",
       "        break;\n",
       "      }\n",
       "      <span class='refnanny'>__Pyx_GOTREF</span>(__pyx_t_3);\n",
       "    }\n",
       "    <span class='pyx_macro_api'>__Pyx_XDECREF_SET</span>(__pyx_v_i, __pyx_t_3);\n",
       "    __pyx_t_3 = 0;\n",
       "/* … */\n",
       "  }\n",
       "  <span class='pyx_macro_api'>__Pyx_DECREF</span>(__pyx_t_2); __pyx_t_2 = 0;\n",
       "</pre><pre class=\"cython line score-70\" onclick=\"(function(s){s.display=s.display==='block'?'none':'block'})(this.nextElementSibling.style)\">+<span class=\"\">6</span>:         <span class=\"n\">s</span> <span class=\"o\">+=</span> <span class=\"n\">f</span><span class=\"p\">(</span><span class=\"n\">a</span> <span class=\"o\">+</span> <span class=\"n\">i</span> <span class=\"o\">*</span> <span class=\"n\">dx</span><span class=\"p\">)</span></pre>\n",
       "<pre class='cython code score-70 '>    __pyx_t_6 = <span class='py_c_api'>PyFloat_FromDouble</span>(__pyx_v_a);<span class='error_goto'> if (unlikely(!__pyx_t_6)) __PYX_ERR(0, 6, __pyx_L1_error)</span>\n",
       "    <span class='refnanny'>__Pyx_GOTREF</span>(__pyx_t_6);\n",
       "    __pyx_t_7 = <span class='py_c_api'>PyFloat_FromDouble</span>(__pyx_v_dx);<span class='error_goto'> if (unlikely(!__pyx_t_7)) __PYX_ERR(0, 6, __pyx_L1_error)</span>\n",
       "    <span class='refnanny'>__Pyx_GOTREF</span>(__pyx_t_7);\n",
       "    __pyx_t_8 = <span class='py_c_api'>PyNumber_Multiply</span>(__pyx_v_i, __pyx_t_7);<span class='error_goto'> if (unlikely(!__pyx_t_8)) __PYX_ERR(0, 6, __pyx_L1_error)</span>\n",
       "    <span class='refnanny'>__Pyx_GOTREF</span>(__pyx_t_8);\n",
       "    <span class='pyx_macro_api'>__Pyx_DECREF</span>(__pyx_t_7); __pyx_t_7 = 0;\n",
       "    __pyx_t_7 = <span class='py_c_api'>PyNumber_Add</span>(__pyx_t_6, __pyx_t_8);<span class='error_goto'> if (unlikely(!__pyx_t_7)) __PYX_ERR(0, 6, __pyx_L1_error)</span>\n",
       "    <span class='refnanny'>__Pyx_GOTREF</span>(__pyx_t_7);\n",
       "    <span class='pyx_macro_api'>__Pyx_DECREF</span>(__pyx_t_6); __pyx_t_6 = 0;\n",
       "    <span class='pyx_macro_api'>__Pyx_DECREF</span>(__pyx_t_8); __pyx_t_8 = 0;\n",
       "    <span class='pyx_macro_api'>__Pyx_INCREF</span>(__pyx_v_f);\n",
       "    __pyx_t_8 = __pyx_v_f; __pyx_t_6 = NULL;\n",
       "    if (CYTHON_UNPACK_METHODS &amp;&amp; unlikely(<span class='py_c_api'>PyMethod_Check</span>(__pyx_t_8))) {\n",
       "      __pyx_t_6 = <span class='py_macro_api'>PyMethod_GET_SELF</span>(__pyx_t_8);\n",
       "      if (likely(__pyx_t_6)) {\n",
       "        PyObject* function = <span class='py_macro_api'>PyMethod_GET_FUNCTION</span>(__pyx_t_8);\n",
       "        <span class='pyx_macro_api'>__Pyx_INCREF</span>(__pyx_t_6);\n",
       "        <span class='pyx_macro_api'>__Pyx_INCREF</span>(function);\n",
       "        <span class='pyx_macro_api'>__Pyx_DECREF_SET</span>(__pyx_t_8, function);\n",
       "      }\n",
       "    }\n",
       "    if (!__pyx_t_6) {\n",
       "      __pyx_t_3 = <span class='pyx_c_api'>__Pyx_PyObject_CallOneArg</span>(__pyx_t_8, __pyx_t_7);<span class='error_goto'> if (unlikely(!__pyx_t_3)) __PYX_ERR(0, 6, __pyx_L1_error)</span>\n",
       "      <span class='pyx_macro_api'>__Pyx_DECREF</span>(__pyx_t_7); __pyx_t_7 = 0;\n",
       "      <span class='refnanny'>__Pyx_GOTREF</span>(__pyx_t_3);\n",
       "    } else {\n",
       "      #if CYTHON_FAST_PYCALL\n",
       "      if (<span class='py_c_api'>PyFunction_Check</span>(__pyx_t_8)) {\n",
       "        PyObject *__pyx_temp[2] = {__pyx_t_6, __pyx_t_7};\n",
       "        __pyx_t_3 = <span class='pyx_c_api'>__Pyx_PyFunction_FastCall</span>(__pyx_t_8, __pyx_temp+1-1, 1+1);<span class='error_goto'> if (unlikely(!__pyx_t_3)) __PYX_ERR(0, 6, __pyx_L1_error)</span>\n",
       "        <span class='pyx_macro_api'>__Pyx_XDECREF</span>(__pyx_t_6); __pyx_t_6 = 0;\n",
       "        <span class='refnanny'>__Pyx_GOTREF</span>(__pyx_t_3);\n",
       "        <span class='pyx_macro_api'>__Pyx_DECREF</span>(__pyx_t_7); __pyx_t_7 = 0;\n",
       "      } else\n",
       "      #endif\n",
       "      #if CYTHON_FAST_PYCCALL\n",
       "      if (<span class='pyx_c_api'>__Pyx_PyFastCFunction_Check</span>(__pyx_t_8)) {\n",
       "        PyObject *__pyx_temp[2] = {__pyx_t_6, __pyx_t_7};\n",
       "        __pyx_t_3 = <span class='pyx_c_api'>__Pyx_PyCFunction_FastCall</span>(__pyx_t_8, __pyx_temp+1-1, 1+1);<span class='error_goto'> if (unlikely(!__pyx_t_3)) __PYX_ERR(0, 6, __pyx_L1_error)</span>\n",
       "        <span class='pyx_macro_api'>__Pyx_XDECREF</span>(__pyx_t_6); __pyx_t_6 = 0;\n",
       "        <span class='refnanny'>__Pyx_GOTREF</span>(__pyx_t_3);\n",
       "        <span class='pyx_macro_api'>__Pyx_DECREF</span>(__pyx_t_7); __pyx_t_7 = 0;\n",
       "      } else\n",
       "      #endif\n",
       "      {\n",
       "        __pyx_t_9 = <span class='py_c_api'>PyTuple_New</span>(1+1);<span class='error_goto'> if (unlikely(!__pyx_t_9)) __PYX_ERR(0, 6, __pyx_L1_error)</span>\n",
       "        <span class='refnanny'>__Pyx_GOTREF</span>(__pyx_t_9);\n",
       "        <span class='refnanny'>__Pyx_GIVEREF</span>(__pyx_t_6); <span class='py_macro_api'>PyTuple_SET_ITEM</span>(__pyx_t_9, 0, __pyx_t_6); __pyx_t_6 = NULL;\n",
       "        <span class='refnanny'>__Pyx_GIVEREF</span>(__pyx_t_7);\n",
       "        <span class='py_macro_api'>PyTuple_SET_ITEM</span>(__pyx_t_9, 0+1, __pyx_t_7);\n",
       "        __pyx_t_7 = 0;\n",
       "        __pyx_t_3 = <span class='pyx_c_api'>__Pyx_PyObject_Call</span>(__pyx_t_8, __pyx_t_9, NULL);<span class='error_goto'> if (unlikely(!__pyx_t_3)) __PYX_ERR(0, 6, __pyx_L1_error)</span>\n",
       "        <span class='refnanny'>__Pyx_GOTREF</span>(__pyx_t_3);\n",
       "        <span class='pyx_macro_api'>__Pyx_DECREF</span>(__pyx_t_9); __pyx_t_9 = 0;\n",
       "      }\n",
       "    }\n",
       "    <span class='pyx_macro_api'>__Pyx_DECREF</span>(__pyx_t_8); __pyx_t_8 = 0;\n",
       "    __pyx_t_8 = <span class='py_c_api'>PyNumber_InPlaceAdd</span>(__pyx_v_s, __pyx_t_3);<span class='error_goto'> if (unlikely(!__pyx_t_8)) __PYX_ERR(0, 6, __pyx_L1_error)</span>\n",
       "    <span class='refnanny'>__Pyx_GOTREF</span>(__pyx_t_8);\n",
       "    <span class='pyx_macro_api'>__Pyx_DECREF</span>(__pyx_t_3); __pyx_t_3 = 0;\n",
       "    <span class='pyx_macro_api'>__Pyx_DECREF_SET</span>(__pyx_v_s, __pyx_t_8);\n",
       "    __pyx_t_8 = 0;\n",
       "</pre><pre class=\"cython line score-12\" onclick=\"(function(s){s.display=s.display==='block'?'none':'block'})(this.nextElementSibling.style)\">+<span class=\"\">7</span>:     <span class=\"k\">return</span> <span class=\"n\">s</span> <span class=\"o\">*</span> <span class=\"n\">dx</span></pre>\n",
       "<pre class='cython code score-12 '>  <span class='pyx_macro_api'>__Pyx_XDECREF</span>(__pyx_r);\n",
       "  __pyx_t_2 = <span class='py_c_api'>PyFloat_FromDouble</span>(__pyx_v_dx);<span class='error_goto'> if (unlikely(!__pyx_t_2)) __PYX_ERR(0, 7, __pyx_L1_error)</span>\n",
       "  <span class='refnanny'>__Pyx_GOTREF</span>(__pyx_t_2);\n",
       "  __pyx_t_8 = <span class='py_c_api'>PyNumber_Multiply</span>(__pyx_v_s, __pyx_t_2);<span class='error_goto'> if (unlikely(!__pyx_t_8)) __PYX_ERR(0, 7, __pyx_L1_error)</span>\n",
       "  <span class='refnanny'>__Pyx_GOTREF</span>(__pyx_t_8);\n",
       "  <span class='pyx_macro_api'>__Pyx_DECREF</span>(__pyx_t_2); __pyx_t_2 = 0;\n",
       "  __pyx_r = __pyx_t_8;\n",
       "  __pyx_t_8 = 0;\n",
       "  goto __pyx_L0;\n",
       "</pre></div></body></html>"
      ],
      "text/plain": [
       "<IPython.core.display.HTML object>"
      ]
     },
     "execution_count": 69,
     "metadata": {},
     "output_type": "execute_result"
    }
   ],
   "source": [
    "%%cython --annotate\n",
    "\n",
    "def integrate(double a, double b, f, int N=2000):\n",
    "    dx = (b - a) / N\n",
    "    s = 0.0\n",
    "    for i in range(N):\n",
    "        s += f(a + i * dx)\n",
    "    return s * dx"
   ]
  },
  {
   "cell_type": "markdown",
   "metadata": {
    "hidden": true
   },
   "source": [
    "### Static typing of variables"
   ]
  },
  {
   "cell_type": "code",
   "execution_count": 72,
   "metadata": {
    "ExecuteTime": {
     "end_time": "2018-04-11T15:15:30.420904Z",
     "start_time": "2018-04-11T15:15:27.799588Z"
    },
    "hidden": true
   },
   "outputs": [
    {
     "data": {
      "text/html": [
       "<!DOCTYPE html>\n",
       "<!-- Generated by Cython 0.28.1 -->\n",
       "<html>\n",
       "<head>\n",
       "    <meta http-equiv=\"Content-Type\" content=\"text/html; charset=utf-8\" />\n",
       "    <title>Cython: _cython_magic_bb7c028c4c67be7052a5db68ab6deb85.pyx</title>\n",
       "    <style type=\"text/css\">\n",
       "    \n",
       "body.cython { font-family: courier; font-size: 12; }\n",
       "\n",
       ".cython.tag  {  }\n",
       ".cython.line { margin: 0em }\n",
       ".cython.code { font-size: 9; color: #444444; display: none; margin: 0px 0px 0px 8px; border-left: 8px none; }\n",
       "\n",
       ".cython.line .run { background-color: #B0FFB0; }\n",
       ".cython.line .mis { background-color: #FFB0B0; }\n",
       ".cython.code.run  { border-left: 8px solid #B0FFB0; }\n",
       ".cython.code.mis  { border-left: 8px solid #FFB0B0; }\n",
       "\n",
       ".cython.code .py_c_api  { color: red; }\n",
       ".cython.code .py_macro_api  { color: #FF7000; }\n",
       ".cython.code .pyx_c_api  { color: #FF3000; }\n",
       ".cython.code .pyx_macro_api  { color: #FF7000; }\n",
       ".cython.code .refnanny  { color: #FFA000; }\n",
       ".cython.code .trace  { color: #FFA000; }\n",
       ".cython.code .error_goto  { color: #FFA000; }\n",
       "\n",
       ".cython.code .coerce  { color: #008000; border: 1px dotted #008000 }\n",
       ".cython.code .py_attr { color: #FF0000; font-weight: bold; }\n",
       ".cython.code .c_attr  { color: #0000FF; }\n",
       ".cython.code .py_call { color: #FF0000; font-weight: bold; }\n",
       ".cython.code .c_call  { color: #0000FF; }\n",
       "\n",
       ".cython.score-0 {background-color: #FFFFff;}\n",
       ".cython.score-1 {background-color: #FFFFe7;}\n",
       ".cython.score-2 {background-color: #FFFFd4;}\n",
       ".cython.score-3 {background-color: #FFFFc4;}\n",
       ".cython.score-4 {background-color: #FFFFb6;}\n",
       ".cython.score-5 {background-color: #FFFFaa;}\n",
       ".cython.score-6 {background-color: #FFFF9f;}\n",
       ".cython.score-7 {background-color: #FFFF96;}\n",
       ".cython.score-8 {background-color: #FFFF8d;}\n",
       ".cython.score-9 {background-color: #FFFF86;}\n",
       ".cython.score-10 {background-color: #FFFF7f;}\n",
       ".cython.score-11 {background-color: #FFFF79;}\n",
       ".cython.score-12 {background-color: #FFFF73;}\n",
       ".cython.score-13 {background-color: #FFFF6e;}\n",
       ".cython.score-14 {background-color: #FFFF6a;}\n",
       ".cython.score-15 {background-color: #FFFF66;}\n",
       ".cython.score-16 {background-color: #FFFF62;}\n",
       ".cython.score-17 {background-color: #FFFF5e;}\n",
       ".cython.score-18 {background-color: #FFFF5b;}\n",
       ".cython.score-19 {background-color: #FFFF57;}\n",
       ".cython.score-20 {background-color: #FFFF55;}\n",
       ".cython.score-21 {background-color: #FFFF52;}\n",
       ".cython.score-22 {background-color: #FFFF4f;}\n",
       ".cython.score-23 {background-color: #FFFF4d;}\n",
       ".cython.score-24 {background-color: #FFFF4b;}\n",
       ".cython.score-25 {background-color: #FFFF48;}\n",
       ".cython.score-26 {background-color: #FFFF46;}\n",
       ".cython.score-27 {background-color: #FFFF44;}\n",
       ".cython.score-28 {background-color: #FFFF43;}\n",
       ".cython.score-29 {background-color: #FFFF41;}\n",
       ".cython.score-30 {background-color: #FFFF3f;}\n",
       ".cython.score-31 {background-color: #FFFF3e;}\n",
       ".cython.score-32 {background-color: #FFFF3c;}\n",
       ".cython.score-33 {background-color: #FFFF3b;}\n",
       ".cython.score-34 {background-color: #FFFF39;}\n",
       ".cython.score-35 {background-color: #FFFF38;}\n",
       ".cython.score-36 {background-color: #FFFF37;}\n",
       ".cython.score-37 {background-color: #FFFF36;}\n",
       ".cython.score-38 {background-color: #FFFF35;}\n",
       ".cython.score-39 {background-color: #FFFF34;}\n",
       ".cython.score-40 {background-color: #FFFF33;}\n",
       ".cython.score-41 {background-color: #FFFF32;}\n",
       ".cython.score-42 {background-color: #FFFF31;}\n",
       ".cython.score-43 {background-color: #FFFF30;}\n",
       ".cython.score-44 {background-color: #FFFF2f;}\n",
       ".cython.score-45 {background-color: #FFFF2e;}\n",
       ".cython.score-46 {background-color: #FFFF2d;}\n",
       ".cython.score-47 {background-color: #FFFF2c;}\n",
       ".cython.score-48 {background-color: #FFFF2b;}\n",
       ".cython.score-49 {background-color: #FFFF2b;}\n",
       ".cython.score-50 {background-color: #FFFF2a;}\n",
       ".cython.score-51 {background-color: #FFFF29;}\n",
       ".cython.score-52 {background-color: #FFFF29;}\n",
       ".cython.score-53 {background-color: #FFFF28;}\n",
       ".cython.score-54 {background-color: #FFFF27;}\n",
       ".cython.score-55 {background-color: #FFFF27;}\n",
       ".cython.score-56 {background-color: #FFFF26;}\n",
       ".cython.score-57 {background-color: #FFFF26;}\n",
       ".cython.score-58 {background-color: #FFFF25;}\n",
       ".cython.score-59 {background-color: #FFFF24;}\n",
       ".cython.score-60 {background-color: #FFFF24;}\n",
       ".cython.score-61 {background-color: #FFFF23;}\n",
       ".cython.score-62 {background-color: #FFFF23;}\n",
       ".cython.score-63 {background-color: #FFFF22;}\n",
       ".cython.score-64 {background-color: #FFFF22;}\n",
       ".cython.score-65 {background-color: #FFFF22;}\n",
       ".cython.score-66 {background-color: #FFFF21;}\n",
       ".cython.score-67 {background-color: #FFFF21;}\n",
       ".cython.score-68 {background-color: #FFFF20;}\n",
       ".cython.score-69 {background-color: #FFFF20;}\n",
       ".cython.score-70 {background-color: #FFFF1f;}\n",
       ".cython.score-71 {background-color: #FFFF1f;}\n",
       ".cython.score-72 {background-color: #FFFF1f;}\n",
       ".cython.score-73 {background-color: #FFFF1e;}\n",
       ".cython.score-74 {background-color: #FFFF1e;}\n",
       ".cython.score-75 {background-color: #FFFF1e;}\n",
       ".cython.score-76 {background-color: #FFFF1d;}\n",
       ".cython.score-77 {background-color: #FFFF1d;}\n",
       ".cython.score-78 {background-color: #FFFF1c;}\n",
       ".cython.score-79 {background-color: #FFFF1c;}\n",
       ".cython.score-80 {background-color: #FFFF1c;}\n",
       ".cython.score-81 {background-color: #FFFF1c;}\n",
       ".cython.score-82 {background-color: #FFFF1b;}\n",
       ".cython.score-83 {background-color: #FFFF1b;}\n",
       ".cython.score-84 {background-color: #FFFF1b;}\n",
       ".cython.score-85 {background-color: #FFFF1a;}\n",
       ".cython.score-86 {background-color: #FFFF1a;}\n",
       ".cython.score-87 {background-color: #FFFF1a;}\n",
       ".cython.score-88 {background-color: #FFFF1a;}\n",
       ".cython.score-89 {background-color: #FFFF19;}\n",
       ".cython.score-90 {background-color: #FFFF19;}\n",
       ".cython.score-91 {background-color: #FFFF19;}\n",
       ".cython.score-92 {background-color: #FFFF19;}\n",
       ".cython.score-93 {background-color: #FFFF18;}\n",
       ".cython.score-94 {background-color: #FFFF18;}\n",
       ".cython.score-95 {background-color: #FFFF18;}\n",
       ".cython.score-96 {background-color: #FFFF18;}\n",
       ".cython.score-97 {background-color: #FFFF17;}\n",
       ".cython.score-98 {background-color: #FFFF17;}\n",
       ".cython.score-99 {background-color: #FFFF17;}\n",
       ".cython.score-100 {background-color: #FFFF17;}\n",
       ".cython.score-101 {background-color: #FFFF16;}\n",
       ".cython.score-102 {background-color: #FFFF16;}\n",
       ".cython.score-103 {background-color: #FFFF16;}\n",
       ".cython.score-104 {background-color: #FFFF16;}\n",
       ".cython.score-105 {background-color: #FFFF16;}\n",
       ".cython.score-106 {background-color: #FFFF15;}\n",
       ".cython.score-107 {background-color: #FFFF15;}\n",
       ".cython.score-108 {background-color: #FFFF15;}\n",
       ".cython.score-109 {background-color: #FFFF15;}\n",
       ".cython.score-110 {background-color: #FFFF15;}\n",
       ".cython.score-111 {background-color: #FFFF15;}\n",
       ".cython.score-112 {background-color: #FFFF14;}\n",
       ".cython.score-113 {background-color: #FFFF14;}\n",
       ".cython.score-114 {background-color: #FFFF14;}\n",
       ".cython.score-115 {background-color: #FFFF14;}\n",
       ".cython.score-116 {background-color: #FFFF14;}\n",
       ".cython.score-117 {background-color: #FFFF14;}\n",
       ".cython.score-118 {background-color: #FFFF13;}\n",
       ".cython.score-119 {background-color: #FFFF13;}\n",
       ".cython.score-120 {background-color: #FFFF13;}\n",
       ".cython.score-121 {background-color: #FFFF13;}\n",
       ".cython.score-122 {background-color: #FFFF13;}\n",
       ".cython.score-123 {background-color: #FFFF13;}\n",
       ".cython.score-124 {background-color: #FFFF13;}\n",
       ".cython.score-125 {background-color: #FFFF12;}\n",
       ".cython.score-126 {background-color: #FFFF12;}\n",
       ".cython.score-127 {background-color: #FFFF12;}\n",
       ".cython.score-128 {background-color: #FFFF12;}\n",
       ".cython.score-129 {background-color: #FFFF12;}\n",
       ".cython.score-130 {background-color: #FFFF12;}\n",
       ".cython.score-131 {background-color: #FFFF12;}\n",
       ".cython.score-132 {background-color: #FFFF11;}\n",
       ".cython.score-133 {background-color: #FFFF11;}\n",
       ".cython.score-134 {background-color: #FFFF11;}\n",
       ".cython.score-135 {background-color: #FFFF11;}\n",
       ".cython.score-136 {background-color: #FFFF11;}\n",
       ".cython.score-137 {background-color: #FFFF11;}\n",
       ".cython.score-138 {background-color: #FFFF11;}\n",
       ".cython.score-139 {background-color: #FFFF11;}\n",
       ".cython.score-140 {background-color: #FFFF11;}\n",
       ".cython.score-141 {background-color: #FFFF10;}\n",
       ".cython.score-142 {background-color: #FFFF10;}\n",
       ".cython.score-143 {background-color: #FFFF10;}\n",
       ".cython.score-144 {background-color: #FFFF10;}\n",
       ".cython.score-145 {background-color: #FFFF10;}\n",
       ".cython.score-146 {background-color: #FFFF10;}\n",
       ".cython.score-147 {background-color: #FFFF10;}\n",
       ".cython.score-148 {background-color: #FFFF10;}\n",
       ".cython.score-149 {background-color: #FFFF10;}\n",
       ".cython.score-150 {background-color: #FFFF0f;}\n",
       ".cython.score-151 {background-color: #FFFF0f;}\n",
       ".cython.score-152 {background-color: #FFFF0f;}\n",
       ".cython.score-153 {background-color: #FFFF0f;}\n",
       ".cython.score-154 {background-color: #FFFF0f;}\n",
       ".cython.score-155 {background-color: #FFFF0f;}\n",
       ".cython.score-156 {background-color: #FFFF0f;}\n",
       ".cython.score-157 {background-color: #FFFF0f;}\n",
       ".cython.score-158 {background-color: #FFFF0f;}\n",
       ".cython.score-159 {background-color: #FFFF0f;}\n",
       ".cython.score-160 {background-color: #FFFF0f;}\n",
       ".cython.score-161 {background-color: #FFFF0e;}\n",
       ".cython.score-162 {background-color: #FFFF0e;}\n",
       ".cython.score-163 {background-color: #FFFF0e;}\n",
       ".cython.score-164 {background-color: #FFFF0e;}\n",
       ".cython.score-165 {background-color: #FFFF0e;}\n",
       ".cython.score-166 {background-color: #FFFF0e;}\n",
       ".cython.score-167 {background-color: #FFFF0e;}\n",
       ".cython.score-168 {background-color: #FFFF0e;}\n",
       ".cython.score-169 {background-color: #FFFF0e;}\n",
       ".cython.score-170 {background-color: #FFFF0e;}\n",
       ".cython.score-171 {background-color: #FFFF0e;}\n",
       ".cython.score-172 {background-color: #FFFF0e;}\n",
       ".cython.score-173 {background-color: #FFFF0d;}\n",
       ".cython.score-174 {background-color: #FFFF0d;}\n",
       ".cython.score-175 {background-color: #FFFF0d;}\n",
       ".cython.score-176 {background-color: #FFFF0d;}\n",
       ".cython.score-177 {background-color: #FFFF0d;}\n",
       ".cython.score-178 {background-color: #FFFF0d;}\n",
       ".cython.score-179 {background-color: #FFFF0d;}\n",
       ".cython.score-180 {background-color: #FFFF0d;}\n",
       ".cython.score-181 {background-color: #FFFF0d;}\n",
       ".cython.score-182 {background-color: #FFFF0d;}\n",
       ".cython.score-183 {background-color: #FFFF0d;}\n",
       ".cython.score-184 {background-color: #FFFF0d;}\n",
       ".cython.score-185 {background-color: #FFFF0d;}\n",
       ".cython.score-186 {background-color: #FFFF0d;}\n",
       ".cython.score-187 {background-color: #FFFF0c;}\n",
       ".cython.score-188 {background-color: #FFFF0c;}\n",
       ".cython.score-189 {background-color: #FFFF0c;}\n",
       ".cython.score-190 {background-color: #FFFF0c;}\n",
       ".cython.score-191 {background-color: #FFFF0c;}\n",
       ".cython.score-192 {background-color: #FFFF0c;}\n",
       ".cython.score-193 {background-color: #FFFF0c;}\n",
       ".cython.score-194 {background-color: #FFFF0c;}\n",
       ".cython.score-195 {background-color: #FFFF0c;}\n",
       ".cython.score-196 {background-color: #FFFF0c;}\n",
       ".cython.score-197 {background-color: #FFFF0c;}\n",
       ".cython.score-198 {background-color: #FFFF0c;}\n",
       ".cython.score-199 {background-color: #FFFF0c;}\n",
       ".cython.score-200 {background-color: #FFFF0c;}\n",
       ".cython.score-201 {background-color: #FFFF0c;}\n",
       ".cython.score-202 {background-color: #FFFF0c;}\n",
       ".cython.score-203 {background-color: #FFFF0b;}\n",
       ".cython.score-204 {background-color: #FFFF0b;}\n",
       ".cython.score-205 {background-color: #FFFF0b;}\n",
       ".cython.score-206 {background-color: #FFFF0b;}\n",
       ".cython.score-207 {background-color: #FFFF0b;}\n",
       ".cython.score-208 {background-color: #FFFF0b;}\n",
       ".cython.score-209 {background-color: #FFFF0b;}\n",
       ".cython.score-210 {background-color: #FFFF0b;}\n",
       ".cython.score-211 {background-color: #FFFF0b;}\n",
       ".cython.score-212 {background-color: #FFFF0b;}\n",
       ".cython.score-213 {background-color: #FFFF0b;}\n",
       ".cython.score-214 {background-color: #FFFF0b;}\n",
       ".cython.score-215 {background-color: #FFFF0b;}\n",
       ".cython.score-216 {background-color: #FFFF0b;}\n",
       ".cython.score-217 {background-color: #FFFF0b;}\n",
       ".cython.score-218 {background-color: #FFFF0b;}\n",
       ".cython.score-219 {background-color: #FFFF0b;}\n",
       ".cython.score-220 {background-color: #FFFF0b;}\n",
       ".cython.score-221 {background-color: #FFFF0b;}\n",
       ".cython.score-222 {background-color: #FFFF0a;}\n",
       ".cython.score-223 {background-color: #FFFF0a;}\n",
       ".cython.score-224 {background-color: #FFFF0a;}\n",
       ".cython.score-225 {background-color: #FFFF0a;}\n",
       ".cython.score-226 {background-color: #FFFF0a;}\n",
       ".cython.score-227 {background-color: #FFFF0a;}\n",
       ".cython.score-228 {background-color: #FFFF0a;}\n",
       ".cython.score-229 {background-color: #FFFF0a;}\n",
       ".cython.score-230 {background-color: #FFFF0a;}\n",
       ".cython.score-231 {background-color: #FFFF0a;}\n",
       ".cython.score-232 {background-color: #FFFF0a;}\n",
       ".cython.score-233 {background-color: #FFFF0a;}\n",
       ".cython.score-234 {background-color: #FFFF0a;}\n",
       ".cython.score-235 {background-color: #FFFF0a;}\n",
       ".cython.score-236 {background-color: #FFFF0a;}\n",
       ".cython.score-237 {background-color: #FFFF0a;}\n",
       ".cython.score-238 {background-color: #FFFF0a;}\n",
       ".cython.score-239 {background-color: #FFFF0a;}\n",
       ".cython.score-240 {background-color: #FFFF0a;}\n",
       ".cython.score-241 {background-color: #FFFF0a;}\n",
       ".cython.score-242 {background-color: #FFFF0a;}\n",
       ".cython.score-243 {background-color: #FFFF0a;}\n",
       ".cython.score-244 {background-color: #FFFF0a;}\n",
       ".cython.score-245 {background-color: #FFFF0a;}\n",
       ".cython.score-246 {background-color: #FFFF09;}\n",
       ".cython.score-247 {background-color: #FFFF09;}\n",
       ".cython.score-248 {background-color: #FFFF09;}\n",
       ".cython.score-249 {background-color: #FFFF09;}\n",
       ".cython.score-250 {background-color: #FFFF09;}\n",
       ".cython.score-251 {background-color: #FFFF09;}\n",
       ".cython.score-252 {background-color: #FFFF09;}\n",
       ".cython.score-253 {background-color: #FFFF09;}\n",
       ".cython.score-254 {background-color: #FFFF09;}\n",
       ".cython .hll { background-color: #ffffcc }\n",
       ".cython  { background: #f8f8f8; }\n",
       ".cython .c { color: #408080; font-style: italic } /* Comment */\n",
       ".cython .err { border: 1px solid #FF0000 } /* Error */\n",
       ".cython .k { color: #008000; font-weight: bold } /* Keyword */\n",
       ".cython .o { color: #666666 } /* Operator */\n",
       ".cython .ch { color: #408080; font-style: italic } /* Comment.Hashbang */\n",
       ".cython .cm { color: #408080; font-style: italic } /* Comment.Multiline */\n",
       ".cython .cp { color: #BC7A00 } /* Comment.Preproc */\n",
       ".cython .cpf { color: #408080; font-style: italic } /* Comment.PreprocFile */\n",
       ".cython .c1 { color: #408080; font-style: italic } /* Comment.Single */\n",
       ".cython .cs { color: #408080; font-style: italic } /* Comment.Special */\n",
       ".cython .gd { color: #A00000 } /* Generic.Deleted */\n",
       ".cython .ge { font-style: italic } /* Generic.Emph */\n",
       ".cython .gr { color: #FF0000 } /* Generic.Error */\n",
       ".cython .gh { color: #000080; font-weight: bold } /* Generic.Heading */\n",
       ".cython .gi { color: #00A000 } /* Generic.Inserted */\n",
       ".cython .go { color: #888888 } /* Generic.Output */\n",
       ".cython .gp { color: #000080; font-weight: bold } /* Generic.Prompt */\n",
       ".cython .gs { font-weight: bold } /* Generic.Strong */\n",
       ".cython .gu { color: #800080; font-weight: bold } /* Generic.Subheading */\n",
       ".cython .gt { color: #0044DD } /* Generic.Traceback */\n",
       ".cython .kc { color: #008000; font-weight: bold } /* Keyword.Constant */\n",
       ".cython .kd { color: #008000; font-weight: bold } /* Keyword.Declaration */\n",
       ".cython .kn { color: #008000; font-weight: bold } /* Keyword.Namespace */\n",
       ".cython .kp { color: #008000 } /* Keyword.Pseudo */\n",
       ".cython .kr { color: #008000; font-weight: bold } /* Keyword.Reserved */\n",
       ".cython .kt { color: #B00040 } /* Keyword.Type */\n",
       ".cython .m { color: #666666 } /* Literal.Number */\n",
       ".cython .s { color: #BA2121 } /* Literal.String */\n",
       ".cython .na { color: #7D9029 } /* Name.Attribute */\n",
       ".cython .nb { color: #008000 } /* Name.Builtin */\n",
       ".cython .nc { color: #0000FF; font-weight: bold } /* Name.Class */\n",
       ".cython .no { color: #880000 } /* Name.Constant */\n",
       ".cython .nd { color: #AA22FF } /* Name.Decorator */\n",
       ".cython .ni { color: #999999; font-weight: bold } /* Name.Entity */\n",
       ".cython .ne { color: #D2413A; font-weight: bold } /* Name.Exception */\n",
       ".cython .nf { color: #0000FF } /* Name.Function */\n",
       ".cython .nl { color: #A0A000 } /* Name.Label */\n",
       ".cython .nn { color: #0000FF; font-weight: bold } /* Name.Namespace */\n",
       ".cython .nt { color: #008000; font-weight: bold } /* Name.Tag */\n",
       ".cython .nv { color: #19177C } /* Name.Variable */\n",
       ".cython .ow { color: #AA22FF; font-weight: bold } /* Operator.Word */\n",
       ".cython .w { color: #bbbbbb } /* Text.Whitespace */\n",
       ".cython .mb { color: #666666 } /* Literal.Number.Bin */\n",
       ".cython .mf { color: #666666 } /* Literal.Number.Float */\n",
       ".cython .mh { color: #666666 } /* Literal.Number.Hex */\n",
       ".cython .mi { color: #666666 } /* Literal.Number.Integer */\n",
       ".cython .mo { color: #666666 } /* Literal.Number.Oct */\n",
       ".cython .sa { color: #BA2121 } /* Literal.String.Affix */\n",
       ".cython .sb { color: #BA2121 } /* Literal.String.Backtick */\n",
       ".cython .sc { color: #BA2121 } /* Literal.String.Char */\n",
       ".cython .dl { color: #BA2121 } /* Literal.String.Delimiter */\n",
       ".cython .sd { color: #BA2121; font-style: italic } /* Literal.String.Doc */\n",
       ".cython .s2 { color: #BA2121 } /* Literal.String.Double */\n",
       ".cython .se { color: #BB6622; font-weight: bold } /* Literal.String.Escape */\n",
       ".cython .sh { color: #BA2121 } /* Literal.String.Heredoc */\n",
       ".cython .si { color: #BB6688; font-weight: bold } /* Literal.String.Interpol */\n",
       ".cython .sx { color: #008000 } /* Literal.String.Other */\n",
       ".cython .sr { color: #BB6688 } /* Literal.String.Regex */\n",
       ".cython .s1 { color: #BA2121 } /* Literal.String.Single */\n",
       ".cython .ss { color: #19177C } /* Literal.String.Symbol */\n",
       ".cython .bp { color: #008000 } /* Name.Builtin.Pseudo */\n",
       ".cython .fm { color: #0000FF } /* Name.Function.Magic */\n",
       ".cython .vc { color: #19177C } /* Name.Variable.Class */\n",
       ".cython .vg { color: #19177C } /* Name.Variable.Global */\n",
       ".cython .vi { color: #19177C } /* Name.Variable.Instance */\n",
       ".cython .vm { color: #19177C } /* Name.Variable.Magic */\n",
       ".cython .il { color: #666666 } /* Literal.Number.Integer.Long */\n",
       "    </style>\n",
       "</head>\n",
       "<body class=\"cython\">\n",
       "<p><span style=\"border-bottom: solid 1px grey;\">Generated by Cython 0.28.1</span></p>\n",
       "<p>\n",
       "    <span style=\"background-color: #FFFF00\">Yellow lines</span> hint at Python interaction.<br />\n",
       "    Click on a line that starts with a \"<code>+</code>\" to see the C code that Cython generated for it.\n",
       "</p>\n",
       "<div class=\"cython\"><pre class=\"cython line score-0\">&#xA0;<span class=\"\">1</span>: <span class=\"k\">from</span> <span class=\"nn\">libc.math</span> <span class=\"k\">cimport</span> <span class=\"n\">sin</span></pre>\n",
       "<pre class=\"cython line score-73\" onclick=\"(function(s){s.display=s.display==='block'?'none':'block'})(this.nextElementSibling.style)\">+<span class=\"\">2</span>: <span class=\"k\">cpdef</span> <span class=\"nf\">integrate</span><span class=\"p\">(</span><span class=\"n\">double</span> <span class=\"n\">a</span><span class=\"p\">,</span> <span class=\"n\">double</span> <span class=\"n\">b</span><span class=\"p\">,</span> <span class=\"n\">f</span><span class=\"p\">,</span> <span class=\"nb\">int</span> <span class=\"n\">N</span><span class=\"o\">=</span><span class=\"mf\">2000</span><span class=\"p\">):</span></pre>\n",
       "<pre class='cython code score-73 '>static PyObject *__pyx_pw_46_cython_magic_bb7c028c4c67be7052a5db68ab6deb85_1integrate(PyObject *__pyx_self, PyObject *__pyx_args, PyObject *__pyx_kwds); /*proto*/\n",
       "static PyObject *__pyx_f_46_cython_magic_bb7c028c4c67be7052a5db68ab6deb85_integrate(double __pyx_v_a, double __pyx_v_b, PyObject *__pyx_v_f, CYTHON_UNUSED int __pyx_skip_dispatch, struct __pyx_opt_args_46_cython_magic_bb7c028c4c67be7052a5db68ab6deb85_integrate *__pyx_optional_args) {\n",
       "  int __pyx_v_N = ((int)0x7D0);\n",
       "  int __pyx_v_i;\n",
       "  double __pyx_v_dx;\n",
       "  double __pyx_v_s;\n",
       "  PyObject *__pyx_r = NULL;\n",
       "  <span class='refnanny'>__Pyx_RefNannyDeclarations</span>\n",
       "  <span class='refnanny'>__Pyx_RefNannySetupContext</span>(\"integrate\", 0);\n",
       "  if (__pyx_optional_args) {\n",
       "    if (__pyx_optional_args-&gt;__pyx_n &gt; 0) {\n",
       "      __pyx_v_N = __pyx_optional_args-&gt;N;\n",
       "    }\n",
       "  }\n",
       "/* … */\n",
       "  /* function exit code */\n",
       "  __pyx_L1_error:;\n",
       "  <span class='pyx_macro_api'>__Pyx_XDECREF</span>(__pyx_t_5);\n",
       "  <span class='pyx_macro_api'>__Pyx_XDECREF</span>(__pyx_t_6);\n",
       "  <span class='pyx_macro_api'>__Pyx_XDECREF</span>(__pyx_t_7);\n",
       "  <span class='pyx_macro_api'>__Pyx_XDECREF</span>(__pyx_t_8);\n",
       "  <span class='pyx_macro_api'>__Pyx_XDECREF</span>(__pyx_t_9);\n",
       "  <span class='pyx_macro_api'>__Pyx_XDECREF</span>(__pyx_t_10);\n",
       "  <span class='pyx_c_api'>__Pyx_AddTraceback</span>(\"_cython_magic_bb7c028c4c67be7052a5db68ab6deb85.integrate\", __pyx_clineno, __pyx_lineno, __pyx_filename);\n",
       "  __pyx_r = 0;\n",
       "  __pyx_L0:;\n",
       "  <span class='refnanny'>__Pyx_XGIVEREF</span>(__pyx_r);\n",
       "  <span class='refnanny'>__Pyx_RefNannyFinishContext</span>();\n",
       "  return __pyx_r;\n",
       "}\n",
       "\n",
       "/* Python wrapper */\n",
       "static PyObject *__pyx_pw_46_cython_magic_bb7c028c4c67be7052a5db68ab6deb85_1integrate(PyObject *__pyx_self, PyObject *__pyx_args, PyObject *__pyx_kwds); /*proto*/\n",
       "static PyObject *__pyx_pw_46_cython_magic_bb7c028c4c67be7052a5db68ab6deb85_1integrate(PyObject *__pyx_self, PyObject *__pyx_args, PyObject *__pyx_kwds) {\n",
       "  double __pyx_v_a;\n",
       "  double __pyx_v_b;\n",
       "  PyObject *__pyx_v_f = 0;\n",
       "  int __pyx_v_N;\n",
       "  PyObject *__pyx_r = 0;\n",
       "  <span class='refnanny'>__Pyx_RefNannyDeclarations</span>\n",
       "  <span class='refnanny'>__Pyx_RefNannySetupContext</span>(\"integrate (wrapper)\", 0);\n",
       "  {\n",
       "    static PyObject **__pyx_pyargnames[] = {&amp;__pyx_n_s_a,&amp;__pyx_n_s_b,&amp;__pyx_n_s_f,&amp;__pyx_n_s_N,0};\n",
       "    PyObject* values[4] = {0,0,0,0};\n",
       "    if (unlikely(__pyx_kwds)) {\n",
       "      Py_ssize_t kw_args;\n",
       "      const Py_ssize_t pos_args = <span class='py_macro_api'>PyTuple_GET_SIZE</span>(__pyx_args);\n",
       "      switch (pos_args) {\n",
       "        case  4: values[3] = <span class='py_macro_api'>PyTuple_GET_ITEM</span>(__pyx_args, 3);\n",
       "        CYTHON_FALLTHROUGH;\n",
       "        case  3: values[2] = <span class='py_macro_api'>PyTuple_GET_ITEM</span>(__pyx_args, 2);\n",
       "        CYTHON_FALLTHROUGH;\n",
       "        case  2: values[1] = <span class='py_macro_api'>PyTuple_GET_ITEM</span>(__pyx_args, 1);\n",
       "        CYTHON_FALLTHROUGH;\n",
       "        case  1: values[0] = <span class='py_macro_api'>PyTuple_GET_ITEM</span>(__pyx_args, 0);\n",
       "        CYTHON_FALLTHROUGH;\n",
       "        case  0: break;\n",
       "        default: goto __pyx_L5_argtuple_error;\n",
       "      }\n",
       "      kw_args = <span class='py_c_api'>PyDict_Size</span>(__pyx_kwds);\n",
       "      switch (pos_args) {\n",
       "        case  0:\n",
       "        if (likely((values[0] = <span class='pyx_c_api'>__Pyx_PyDict_GetItemStr</span>(__pyx_kwds, __pyx_n_s_a)) != 0)) kw_args--;\n",
       "        else goto __pyx_L5_argtuple_error;\n",
       "        CYTHON_FALLTHROUGH;\n",
       "        case  1:\n",
       "        if (likely((values[1] = <span class='pyx_c_api'>__Pyx_PyDict_GetItemStr</span>(__pyx_kwds, __pyx_n_s_b)) != 0)) kw_args--;\n",
       "        else {\n",
       "          <span class='pyx_c_api'>__Pyx_RaiseArgtupleInvalid</span>(\"integrate\", 0, 3, 4, 1); <span class='error_goto'>__PYX_ERR(0, 2, __pyx_L3_error)</span>\n",
       "        }\n",
       "        CYTHON_FALLTHROUGH;\n",
       "        case  2:\n",
       "        if (likely((values[2] = <span class='pyx_c_api'>__Pyx_PyDict_GetItemStr</span>(__pyx_kwds, __pyx_n_s_f)) != 0)) kw_args--;\n",
       "        else {\n",
       "          <span class='pyx_c_api'>__Pyx_RaiseArgtupleInvalid</span>(\"integrate\", 0, 3, 4, 2); <span class='error_goto'>__PYX_ERR(0, 2, __pyx_L3_error)</span>\n",
       "        }\n",
       "        CYTHON_FALLTHROUGH;\n",
       "        case  3:\n",
       "        if (kw_args &gt; 0) {\n",
       "          PyObject* value = <span class='pyx_c_api'>__Pyx_PyDict_GetItemStr</span>(__pyx_kwds, __pyx_n_s_N);\n",
       "          if (value) { values[3] = value; kw_args--; }\n",
       "        }\n",
       "      }\n",
       "      if (unlikely(kw_args &gt; 0)) {\n",
       "        if (unlikely(<span class='pyx_c_api'>__Pyx_ParseOptionalKeywords</span>(__pyx_kwds, __pyx_pyargnames, 0, values, pos_args, \"integrate\") &lt; 0)) <span class='error_goto'>__PYX_ERR(0, 2, __pyx_L3_error)</span>\n",
       "      }\n",
       "    } else {\n",
       "      switch (<span class='py_macro_api'>PyTuple_GET_SIZE</span>(__pyx_args)) {\n",
       "        case  4: values[3] = <span class='py_macro_api'>PyTuple_GET_ITEM</span>(__pyx_args, 3);\n",
       "        CYTHON_FALLTHROUGH;\n",
       "        case  3: values[2] = <span class='py_macro_api'>PyTuple_GET_ITEM</span>(__pyx_args, 2);\n",
       "        values[1] = <span class='py_macro_api'>PyTuple_GET_ITEM</span>(__pyx_args, 1);\n",
       "        values[0] = <span class='py_macro_api'>PyTuple_GET_ITEM</span>(__pyx_args, 0);\n",
       "        break;\n",
       "        default: goto __pyx_L5_argtuple_error;\n",
       "      }\n",
       "    }\n",
       "    __pyx_v_a = __pyx_<span class='py_c_api'>PyFloat_AsDouble</span>(values[0]); if (unlikely((__pyx_v_a == (double)-1) &amp;&amp; <span class='py_c_api'>PyErr_Occurred</span>())) <span class='error_goto'>__PYX_ERR(0, 2, __pyx_L3_error)</span>\n",
       "    __pyx_v_b = __pyx_<span class='py_c_api'>PyFloat_AsDouble</span>(values[1]); if (unlikely((__pyx_v_b == (double)-1) &amp;&amp; <span class='py_c_api'>PyErr_Occurred</span>())) <span class='error_goto'>__PYX_ERR(0, 2, __pyx_L3_error)</span>\n",
       "    __pyx_v_f = values[2];\n",
       "    if (values[3]) {\n",
       "      __pyx_v_N = <span class='pyx_c_api'>__Pyx_PyInt_As_int</span>(values[3]); if (unlikely((__pyx_v_N == (int)-1) &amp;&amp; <span class='py_c_api'>PyErr_Occurred</span>())) <span class='error_goto'>__PYX_ERR(0, 2, __pyx_L3_error)</span>\n",
       "    } else {\n",
       "      __pyx_v_N = ((int)0x7D0);\n",
       "    }\n",
       "  }\n",
       "  goto __pyx_L4_argument_unpacking_done;\n",
       "  __pyx_L5_argtuple_error:;\n",
       "  <span class='pyx_c_api'>__Pyx_RaiseArgtupleInvalid</span>(\"integrate\", 0, 3, 4, <span class='py_macro_api'>PyTuple_GET_SIZE</span>(__pyx_args)); <span class='error_goto'>__PYX_ERR(0, 2, __pyx_L3_error)</span>\n",
       "  __pyx_L3_error:;\n",
       "  <span class='pyx_c_api'>__Pyx_AddTraceback</span>(\"_cython_magic_bb7c028c4c67be7052a5db68ab6deb85.integrate\", __pyx_clineno, __pyx_lineno, __pyx_filename);\n",
       "  <span class='refnanny'>__Pyx_RefNannyFinishContext</span>();\n",
       "  return NULL;\n",
       "  __pyx_L4_argument_unpacking_done:;\n",
       "  __pyx_r = __pyx_pf_46_cython_magic_bb7c028c4c67be7052a5db68ab6deb85_integrate(__pyx_self, __pyx_v_a, __pyx_v_b, __pyx_v_f, __pyx_v_N);\n",
       "\n",
       "  /* function exit code */\n",
       "  <span class='refnanny'>__Pyx_RefNannyFinishContext</span>();\n",
       "  return __pyx_r;\n",
       "}\n",
       "\n",
       "static PyObject *__pyx_pf_46_cython_magic_bb7c028c4c67be7052a5db68ab6deb85_integrate(CYTHON_UNUSED PyObject *__pyx_self, double __pyx_v_a, double __pyx_v_b, PyObject *__pyx_v_f, int __pyx_v_N) {\n",
       "  PyObject *__pyx_r = NULL;\n",
       "  <span class='refnanny'>__Pyx_RefNannyDeclarations</span>\n",
       "  <span class='refnanny'>__Pyx_RefNannySetupContext</span>(\"integrate\", 0);\n",
       "  <span class='pyx_macro_api'>__Pyx_XDECREF</span>(__pyx_r);\n",
       "  __pyx_t_2.__pyx_n = 1;\n",
       "  __pyx_t_2.N = __pyx_v_N;\n",
       "  __pyx_t_1 = __pyx_f_46_cython_magic_bb7c028c4c67be7052a5db68ab6deb85_integrate(__pyx_v_a, __pyx_v_b, __pyx_v_f, 0, &amp;__pyx_t_2);<span class='error_goto'> if (unlikely(!__pyx_t_1)) __PYX_ERR(0, 2, __pyx_L1_error)</span>\n",
       "  <span class='refnanny'>__Pyx_GOTREF</span>(__pyx_t_1);\n",
       "  __pyx_r = __pyx_t_1;\n",
       "  __pyx_t_1 = 0;\n",
       "  goto __pyx_L0;\n",
       "\n",
       "  /* function exit code */\n",
       "  __pyx_L1_error:;\n",
       "  <span class='pyx_macro_api'>__Pyx_XDECREF</span>(__pyx_t_1);\n",
       "  <span class='pyx_c_api'>__Pyx_AddTraceback</span>(\"_cython_magic_bb7c028c4c67be7052a5db68ab6deb85.integrate\", __pyx_clineno, __pyx_lineno, __pyx_filename);\n",
       "  __pyx_r = NULL;\n",
       "  __pyx_L0:;\n",
       "  <span class='refnanny'>__Pyx_XGIVEREF</span>(__pyx_r);\n",
       "  <span class='refnanny'>__Pyx_RefNannyFinishContext</span>();\n",
       "  return __pyx_r;\n",
       "}\n",
       "</pre><pre class=\"cython line score-0\">&#xA0;<span class=\"\">3</span>:     <span class=\"k\">cdef</span><span class=\"p\">:</span></pre>\n",
       "<pre class=\"cython line score-0\">&#xA0;<span class=\"\">4</span>:         <span class=\"nb\">int</span> <span class=\"n\">i</span></pre>\n",
       "<pre class=\"cython line score-5\" onclick=\"(function(s){s.display=s.display==='block'?'none':'block'})(this.nextElementSibling.style)\">+<span class=\"\">5</span>:         <span class=\"n\">double</span> <span class=\"n\">dx</span> <span class=\"o\">=</span> <span class=\"p\">(</span><span class=\"n\">b</span> <span class=\"o\">-</span> <span class=\"n\">a</span><span class=\"p\">)</span> <span class=\"o\">/</span> <span class=\"n\">N</span></pre>\n",
       "<pre class='cython code score-5 '>  __pyx_t_1 = (__pyx_v_b - __pyx_v_a);\n",
       "  if (unlikely(__pyx_v_N == 0)) {\n",
       "    <span class='py_c_api'>PyErr_SetString</span>(PyExc_ZeroDivisionError, \"float division\");\n",
       "    <span class='error_goto'>__PYX_ERR(0, 5, __pyx_L1_error)</span>\n",
       "  }\n",
       "  __pyx_v_dx = (__pyx_t_1 / ((double)__pyx_v_N));\n",
       "</pre><pre class=\"cython line score-0\" onclick=\"(function(s){s.display=s.display==='block'?'none':'block'})(this.nextElementSibling.style)\">+<span class=\"\">6</span>:         <span class=\"n\">double</span> <span class=\"n\">s</span> <span class=\"o\">=</span> <span class=\"mf\">0.0</span></pre>\n",
       "<pre class='cython code score-0 '>  __pyx_v_s = 0.0;\n",
       "</pre><pre class=\"cython line score-0\" onclick=\"(function(s){s.display=s.display==='block'?'none':'block'})(this.nextElementSibling.style)\">+<span class=\"\">7</span>:     <span class=\"k\">for</span> <span class=\"n\">i</span> <span class=\"ow\">in</span> <span class=\"nb\">range</span><span class=\"p\">(</span><span class=\"n\">N</span><span class=\"p\">):</span></pre>\n",
       "<pre class='cython code score-0 '>  __pyx_t_2 = __pyx_v_N;\n",
       "  __pyx_t_3 = __pyx_t_2;\n",
       "  for (__pyx_t_4 = 0; __pyx_t_4 &lt; __pyx_t_3; __pyx_t_4+=1) {\n",
       "    __pyx_v_i = __pyx_t_4;\n",
       "</pre><pre class=\"cython line score-68\" onclick=\"(function(s){s.display=s.display==='block'?'none':'block'})(this.nextElementSibling.style)\">+<span class=\"\">8</span>:         <span class=\"n\">s</span> <span class=\"o\">+=</span> <span class=\"n\">f</span><span class=\"p\">(</span><span class=\"n\">a</span> <span class=\"o\">+</span> <span class=\"n\">i</span> <span class=\"o\">*</span> <span class=\"n\">dx</span><span class=\"p\">)</span></pre>\n",
       "<pre class='cython code score-68 '>    __pyx_t_5 = <span class='py_c_api'>PyFloat_FromDouble</span>(__pyx_v_s);<span class='error_goto'> if (unlikely(!__pyx_t_5)) __PYX_ERR(0, 8, __pyx_L1_error)</span>\n",
       "    <span class='refnanny'>__Pyx_GOTREF</span>(__pyx_t_5);\n",
       "    __pyx_t_7 = <span class='py_c_api'>PyFloat_FromDouble</span>((__pyx_v_a + (__pyx_v_i * __pyx_v_dx)));<span class='error_goto'> if (unlikely(!__pyx_t_7)) __PYX_ERR(0, 8, __pyx_L1_error)</span>\n",
       "    <span class='refnanny'>__Pyx_GOTREF</span>(__pyx_t_7);\n",
       "    <span class='pyx_macro_api'>__Pyx_INCREF</span>(__pyx_v_f);\n",
       "    __pyx_t_8 = __pyx_v_f; __pyx_t_9 = NULL;\n",
       "    if (CYTHON_UNPACK_METHODS &amp;&amp; unlikely(<span class='py_c_api'>PyMethod_Check</span>(__pyx_t_8))) {\n",
       "      __pyx_t_9 = <span class='py_macro_api'>PyMethod_GET_SELF</span>(__pyx_t_8);\n",
       "      if (likely(__pyx_t_9)) {\n",
       "        PyObject* function = <span class='py_macro_api'>PyMethod_GET_FUNCTION</span>(__pyx_t_8);\n",
       "        <span class='pyx_macro_api'>__Pyx_INCREF</span>(__pyx_t_9);\n",
       "        <span class='pyx_macro_api'>__Pyx_INCREF</span>(function);\n",
       "        <span class='pyx_macro_api'>__Pyx_DECREF_SET</span>(__pyx_t_8, function);\n",
       "      }\n",
       "    }\n",
       "    if (!__pyx_t_9) {\n",
       "      __pyx_t_6 = <span class='pyx_c_api'>__Pyx_PyObject_CallOneArg</span>(__pyx_t_8, __pyx_t_7);<span class='error_goto'> if (unlikely(!__pyx_t_6)) __PYX_ERR(0, 8, __pyx_L1_error)</span>\n",
       "      <span class='pyx_macro_api'>__Pyx_DECREF</span>(__pyx_t_7); __pyx_t_7 = 0;\n",
       "      <span class='refnanny'>__Pyx_GOTREF</span>(__pyx_t_6);\n",
       "    } else {\n",
       "      #if CYTHON_FAST_PYCALL\n",
       "      if (<span class='py_c_api'>PyFunction_Check</span>(__pyx_t_8)) {\n",
       "        PyObject *__pyx_temp[2] = {__pyx_t_9, __pyx_t_7};\n",
       "        __pyx_t_6 = <span class='pyx_c_api'>__Pyx_PyFunction_FastCall</span>(__pyx_t_8, __pyx_temp+1-1, 1+1);<span class='error_goto'> if (unlikely(!__pyx_t_6)) __PYX_ERR(0, 8, __pyx_L1_error)</span>\n",
       "        <span class='pyx_macro_api'>__Pyx_XDECREF</span>(__pyx_t_9); __pyx_t_9 = 0;\n",
       "        <span class='refnanny'>__Pyx_GOTREF</span>(__pyx_t_6);\n",
       "        <span class='pyx_macro_api'>__Pyx_DECREF</span>(__pyx_t_7); __pyx_t_7 = 0;\n",
       "      } else\n",
       "      #endif\n",
       "      #if CYTHON_FAST_PYCCALL\n",
       "      if (<span class='pyx_c_api'>__Pyx_PyFastCFunction_Check</span>(__pyx_t_8)) {\n",
       "        PyObject *__pyx_temp[2] = {__pyx_t_9, __pyx_t_7};\n",
       "        __pyx_t_6 = <span class='pyx_c_api'>__Pyx_PyCFunction_FastCall</span>(__pyx_t_8, __pyx_temp+1-1, 1+1);<span class='error_goto'> if (unlikely(!__pyx_t_6)) __PYX_ERR(0, 8, __pyx_L1_error)</span>\n",
       "        <span class='pyx_macro_api'>__Pyx_XDECREF</span>(__pyx_t_9); __pyx_t_9 = 0;\n",
       "        <span class='refnanny'>__Pyx_GOTREF</span>(__pyx_t_6);\n",
       "        <span class='pyx_macro_api'>__Pyx_DECREF</span>(__pyx_t_7); __pyx_t_7 = 0;\n",
       "      } else\n",
       "      #endif\n",
       "      {\n",
       "        __pyx_t_10 = <span class='py_c_api'>PyTuple_New</span>(1+1);<span class='error_goto'> if (unlikely(!__pyx_t_10)) __PYX_ERR(0, 8, __pyx_L1_error)</span>\n",
       "        <span class='refnanny'>__Pyx_GOTREF</span>(__pyx_t_10);\n",
       "        <span class='refnanny'>__Pyx_GIVEREF</span>(__pyx_t_9); <span class='py_macro_api'>PyTuple_SET_ITEM</span>(__pyx_t_10, 0, __pyx_t_9); __pyx_t_9 = NULL;\n",
       "        <span class='refnanny'>__Pyx_GIVEREF</span>(__pyx_t_7);\n",
       "        <span class='py_macro_api'>PyTuple_SET_ITEM</span>(__pyx_t_10, 0+1, __pyx_t_7);\n",
       "        __pyx_t_7 = 0;\n",
       "        __pyx_t_6 = <span class='pyx_c_api'>__Pyx_PyObject_Call</span>(__pyx_t_8, __pyx_t_10, NULL);<span class='error_goto'> if (unlikely(!__pyx_t_6)) __PYX_ERR(0, 8, __pyx_L1_error)</span>\n",
       "        <span class='refnanny'>__Pyx_GOTREF</span>(__pyx_t_6);\n",
       "        <span class='pyx_macro_api'>__Pyx_DECREF</span>(__pyx_t_10); __pyx_t_10 = 0;\n",
       "      }\n",
       "    }\n",
       "    <span class='pyx_macro_api'>__Pyx_DECREF</span>(__pyx_t_8); __pyx_t_8 = 0;\n",
       "    __pyx_t_8 = <span class='py_c_api'>PyNumber_InPlaceAdd</span>(__pyx_t_5, __pyx_t_6);<span class='error_goto'> if (unlikely(!__pyx_t_8)) __PYX_ERR(0, 8, __pyx_L1_error)</span>\n",
       "    <span class='refnanny'>__Pyx_GOTREF</span>(__pyx_t_8);\n",
       "    <span class='pyx_macro_api'>__Pyx_DECREF</span>(__pyx_t_5); __pyx_t_5 = 0;\n",
       "    <span class='pyx_macro_api'>__Pyx_DECREF</span>(__pyx_t_6); __pyx_t_6 = 0;\n",
       "    __pyx_t_1 = __pyx_<span class='py_c_api'>PyFloat_AsDouble</span>(__pyx_t_8); if (unlikely((__pyx_t_1 == (double)-1) &amp;&amp; <span class='py_c_api'>PyErr_Occurred</span>())) <span class='error_goto'>__PYX_ERR(0, 8, __pyx_L1_error)</span>\n",
       "    <span class='pyx_macro_api'>__Pyx_DECREF</span>(__pyx_t_8); __pyx_t_8 = 0;\n",
       "    __pyx_v_s = __pyx_t_1;\n",
       "  }\n",
       "</pre><pre class=\"cython line score-6\" onclick=\"(function(s){s.display=s.display==='block'?'none':'block'})(this.nextElementSibling.style)\">+<span class=\"\">9</span>:     <span class=\"k\">return</span> <span class=\"n\">s</span> <span class=\"o\">*</span> <span class=\"n\">dx</span></pre>\n",
       "<pre class='cython code score-6 '>  <span class='pyx_macro_api'>__Pyx_XDECREF</span>(__pyx_r);\n",
       "  __pyx_t_8 = <span class='py_c_api'>PyFloat_FromDouble</span>((__pyx_v_s * __pyx_v_dx));<span class='error_goto'> if (unlikely(!__pyx_t_8)) __PYX_ERR(0, 9, __pyx_L1_error)</span>\n",
       "  <span class='refnanny'>__Pyx_GOTREF</span>(__pyx_t_8);\n",
       "  __pyx_r = __pyx_t_8;\n",
       "  __pyx_t_8 = 0;\n",
       "  goto __pyx_L0;\n",
       "</pre></div></body></html>"
      ],
      "text/plain": [
       "<IPython.core.display.HTML object>"
      ]
     },
     "execution_count": 72,
     "metadata": {},
     "output_type": "execute_result"
    }
   ],
   "source": [
    "%%cython --annotate\n",
    "from libc.math cimport sin\n",
    "cpdef integrate(double a, double b, f, int N=2000):\n",
    "    cdef:\n",
    "        int i\n",
    "        double dx = (b - a) / N\n",
    "        double s = 0.0\n",
    "    for i in range(N):\n",
    "        s += f(a + i * dx)\n",
    "    return s * dx"
   ]
  },
  {
   "cell_type": "markdown",
   "metadata": {
    "hidden": true
   },
   "source": [
    "### Static Function Pointer"
   ]
  },
  {
   "cell_type": "code",
   "execution_count": 70,
   "metadata": {
    "ExecuteTime": {
     "end_time": "2018-04-11T15:15:18.700430Z",
     "start_time": "2018-04-11T15:15:16.036375Z"
    },
    "hidden": true
   },
   "outputs": [
    {
     "data": {
      "text/html": [
       "<!DOCTYPE html>\n",
       "<!-- Generated by Cython 0.28.1 -->\n",
       "<html>\n",
       "<head>\n",
       "    <meta http-equiv=\"Content-Type\" content=\"text/html; charset=utf-8\" />\n",
       "    <title>Cython: _cython_magic_b3bdba6686071914318fb5a2d4503576.pyx</title>\n",
       "    <style type=\"text/css\">\n",
       "    \n",
       "body.cython { font-family: courier; font-size: 12; }\n",
       "\n",
       ".cython.tag  {  }\n",
       ".cython.line { margin: 0em }\n",
       ".cython.code { font-size: 9; color: #444444; display: none; margin: 0px 0px 0px 8px; border-left: 8px none; }\n",
       "\n",
       ".cython.line .run { background-color: #B0FFB0; }\n",
       ".cython.line .mis { background-color: #FFB0B0; }\n",
       ".cython.code.run  { border-left: 8px solid #B0FFB0; }\n",
       ".cython.code.mis  { border-left: 8px solid #FFB0B0; }\n",
       "\n",
       ".cython.code .py_c_api  { color: red; }\n",
       ".cython.code .py_macro_api  { color: #FF7000; }\n",
       ".cython.code .pyx_c_api  { color: #FF3000; }\n",
       ".cython.code .pyx_macro_api  { color: #FF7000; }\n",
       ".cython.code .refnanny  { color: #FFA000; }\n",
       ".cython.code .trace  { color: #FFA000; }\n",
       ".cython.code .error_goto  { color: #FFA000; }\n",
       "\n",
       ".cython.code .coerce  { color: #008000; border: 1px dotted #008000 }\n",
       ".cython.code .py_attr { color: #FF0000; font-weight: bold; }\n",
       ".cython.code .c_attr  { color: #0000FF; }\n",
       ".cython.code .py_call { color: #FF0000; font-weight: bold; }\n",
       ".cython.code .c_call  { color: #0000FF; }\n",
       "\n",
       ".cython.score-0 {background-color: #FFFFff;}\n",
       ".cython.score-1 {background-color: #FFFFe7;}\n",
       ".cython.score-2 {background-color: #FFFFd4;}\n",
       ".cython.score-3 {background-color: #FFFFc4;}\n",
       ".cython.score-4 {background-color: #FFFFb6;}\n",
       ".cython.score-5 {background-color: #FFFFaa;}\n",
       ".cython.score-6 {background-color: #FFFF9f;}\n",
       ".cython.score-7 {background-color: #FFFF96;}\n",
       ".cython.score-8 {background-color: #FFFF8d;}\n",
       ".cython.score-9 {background-color: #FFFF86;}\n",
       ".cython.score-10 {background-color: #FFFF7f;}\n",
       ".cython.score-11 {background-color: #FFFF79;}\n",
       ".cython.score-12 {background-color: #FFFF73;}\n",
       ".cython.score-13 {background-color: #FFFF6e;}\n",
       ".cython.score-14 {background-color: #FFFF6a;}\n",
       ".cython.score-15 {background-color: #FFFF66;}\n",
       ".cython.score-16 {background-color: #FFFF62;}\n",
       ".cython.score-17 {background-color: #FFFF5e;}\n",
       ".cython.score-18 {background-color: #FFFF5b;}\n",
       ".cython.score-19 {background-color: #FFFF57;}\n",
       ".cython.score-20 {background-color: #FFFF55;}\n",
       ".cython.score-21 {background-color: #FFFF52;}\n",
       ".cython.score-22 {background-color: #FFFF4f;}\n",
       ".cython.score-23 {background-color: #FFFF4d;}\n",
       ".cython.score-24 {background-color: #FFFF4b;}\n",
       ".cython.score-25 {background-color: #FFFF48;}\n",
       ".cython.score-26 {background-color: #FFFF46;}\n",
       ".cython.score-27 {background-color: #FFFF44;}\n",
       ".cython.score-28 {background-color: #FFFF43;}\n",
       ".cython.score-29 {background-color: #FFFF41;}\n",
       ".cython.score-30 {background-color: #FFFF3f;}\n",
       ".cython.score-31 {background-color: #FFFF3e;}\n",
       ".cython.score-32 {background-color: #FFFF3c;}\n",
       ".cython.score-33 {background-color: #FFFF3b;}\n",
       ".cython.score-34 {background-color: #FFFF39;}\n",
       ".cython.score-35 {background-color: #FFFF38;}\n",
       ".cython.score-36 {background-color: #FFFF37;}\n",
       ".cython.score-37 {background-color: #FFFF36;}\n",
       ".cython.score-38 {background-color: #FFFF35;}\n",
       ".cython.score-39 {background-color: #FFFF34;}\n",
       ".cython.score-40 {background-color: #FFFF33;}\n",
       ".cython.score-41 {background-color: #FFFF32;}\n",
       ".cython.score-42 {background-color: #FFFF31;}\n",
       ".cython.score-43 {background-color: #FFFF30;}\n",
       ".cython.score-44 {background-color: #FFFF2f;}\n",
       ".cython.score-45 {background-color: #FFFF2e;}\n",
       ".cython.score-46 {background-color: #FFFF2d;}\n",
       ".cython.score-47 {background-color: #FFFF2c;}\n",
       ".cython.score-48 {background-color: #FFFF2b;}\n",
       ".cython.score-49 {background-color: #FFFF2b;}\n",
       ".cython.score-50 {background-color: #FFFF2a;}\n",
       ".cython.score-51 {background-color: #FFFF29;}\n",
       ".cython.score-52 {background-color: #FFFF29;}\n",
       ".cython.score-53 {background-color: #FFFF28;}\n",
       ".cython.score-54 {background-color: #FFFF27;}\n",
       ".cython.score-55 {background-color: #FFFF27;}\n",
       ".cython.score-56 {background-color: #FFFF26;}\n",
       ".cython.score-57 {background-color: #FFFF26;}\n",
       ".cython.score-58 {background-color: #FFFF25;}\n",
       ".cython.score-59 {background-color: #FFFF24;}\n",
       ".cython.score-60 {background-color: #FFFF24;}\n",
       ".cython.score-61 {background-color: #FFFF23;}\n",
       ".cython.score-62 {background-color: #FFFF23;}\n",
       ".cython.score-63 {background-color: #FFFF22;}\n",
       ".cython.score-64 {background-color: #FFFF22;}\n",
       ".cython.score-65 {background-color: #FFFF22;}\n",
       ".cython.score-66 {background-color: #FFFF21;}\n",
       ".cython.score-67 {background-color: #FFFF21;}\n",
       ".cython.score-68 {background-color: #FFFF20;}\n",
       ".cython.score-69 {background-color: #FFFF20;}\n",
       ".cython.score-70 {background-color: #FFFF1f;}\n",
       ".cython.score-71 {background-color: #FFFF1f;}\n",
       ".cython.score-72 {background-color: #FFFF1f;}\n",
       ".cython.score-73 {background-color: #FFFF1e;}\n",
       ".cython.score-74 {background-color: #FFFF1e;}\n",
       ".cython.score-75 {background-color: #FFFF1e;}\n",
       ".cython.score-76 {background-color: #FFFF1d;}\n",
       ".cython.score-77 {background-color: #FFFF1d;}\n",
       ".cython.score-78 {background-color: #FFFF1c;}\n",
       ".cython.score-79 {background-color: #FFFF1c;}\n",
       ".cython.score-80 {background-color: #FFFF1c;}\n",
       ".cython.score-81 {background-color: #FFFF1c;}\n",
       ".cython.score-82 {background-color: #FFFF1b;}\n",
       ".cython.score-83 {background-color: #FFFF1b;}\n",
       ".cython.score-84 {background-color: #FFFF1b;}\n",
       ".cython.score-85 {background-color: #FFFF1a;}\n",
       ".cython.score-86 {background-color: #FFFF1a;}\n",
       ".cython.score-87 {background-color: #FFFF1a;}\n",
       ".cython.score-88 {background-color: #FFFF1a;}\n",
       ".cython.score-89 {background-color: #FFFF19;}\n",
       ".cython.score-90 {background-color: #FFFF19;}\n",
       ".cython.score-91 {background-color: #FFFF19;}\n",
       ".cython.score-92 {background-color: #FFFF19;}\n",
       ".cython.score-93 {background-color: #FFFF18;}\n",
       ".cython.score-94 {background-color: #FFFF18;}\n",
       ".cython.score-95 {background-color: #FFFF18;}\n",
       ".cython.score-96 {background-color: #FFFF18;}\n",
       ".cython.score-97 {background-color: #FFFF17;}\n",
       ".cython.score-98 {background-color: #FFFF17;}\n",
       ".cython.score-99 {background-color: #FFFF17;}\n",
       ".cython.score-100 {background-color: #FFFF17;}\n",
       ".cython.score-101 {background-color: #FFFF16;}\n",
       ".cython.score-102 {background-color: #FFFF16;}\n",
       ".cython.score-103 {background-color: #FFFF16;}\n",
       ".cython.score-104 {background-color: #FFFF16;}\n",
       ".cython.score-105 {background-color: #FFFF16;}\n",
       ".cython.score-106 {background-color: #FFFF15;}\n",
       ".cython.score-107 {background-color: #FFFF15;}\n",
       ".cython.score-108 {background-color: #FFFF15;}\n",
       ".cython.score-109 {background-color: #FFFF15;}\n",
       ".cython.score-110 {background-color: #FFFF15;}\n",
       ".cython.score-111 {background-color: #FFFF15;}\n",
       ".cython.score-112 {background-color: #FFFF14;}\n",
       ".cython.score-113 {background-color: #FFFF14;}\n",
       ".cython.score-114 {background-color: #FFFF14;}\n",
       ".cython.score-115 {background-color: #FFFF14;}\n",
       ".cython.score-116 {background-color: #FFFF14;}\n",
       ".cython.score-117 {background-color: #FFFF14;}\n",
       ".cython.score-118 {background-color: #FFFF13;}\n",
       ".cython.score-119 {background-color: #FFFF13;}\n",
       ".cython.score-120 {background-color: #FFFF13;}\n",
       ".cython.score-121 {background-color: #FFFF13;}\n",
       ".cython.score-122 {background-color: #FFFF13;}\n",
       ".cython.score-123 {background-color: #FFFF13;}\n",
       ".cython.score-124 {background-color: #FFFF13;}\n",
       ".cython.score-125 {background-color: #FFFF12;}\n",
       ".cython.score-126 {background-color: #FFFF12;}\n",
       ".cython.score-127 {background-color: #FFFF12;}\n",
       ".cython.score-128 {background-color: #FFFF12;}\n",
       ".cython.score-129 {background-color: #FFFF12;}\n",
       ".cython.score-130 {background-color: #FFFF12;}\n",
       ".cython.score-131 {background-color: #FFFF12;}\n",
       ".cython.score-132 {background-color: #FFFF11;}\n",
       ".cython.score-133 {background-color: #FFFF11;}\n",
       ".cython.score-134 {background-color: #FFFF11;}\n",
       ".cython.score-135 {background-color: #FFFF11;}\n",
       ".cython.score-136 {background-color: #FFFF11;}\n",
       ".cython.score-137 {background-color: #FFFF11;}\n",
       ".cython.score-138 {background-color: #FFFF11;}\n",
       ".cython.score-139 {background-color: #FFFF11;}\n",
       ".cython.score-140 {background-color: #FFFF11;}\n",
       ".cython.score-141 {background-color: #FFFF10;}\n",
       ".cython.score-142 {background-color: #FFFF10;}\n",
       ".cython.score-143 {background-color: #FFFF10;}\n",
       ".cython.score-144 {background-color: #FFFF10;}\n",
       ".cython.score-145 {background-color: #FFFF10;}\n",
       ".cython.score-146 {background-color: #FFFF10;}\n",
       ".cython.score-147 {background-color: #FFFF10;}\n",
       ".cython.score-148 {background-color: #FFFF10;}\n",
       ".cython.score-149 {background-color: #FFFF10;}\n",
       ".cython.score-150 {background-color: #FFFF0f;}\n",
       ".cython.score-151 {background-color: #FFFF0f;}\n",
       ".cython.score-152 {background-color: #FFFF0f;}\n",
       ".cython.score-153 {background-color: #FFFF0f;}\n",
       ".cython.score-154 {background-color: #FFFF0f;}\n",
       ".cython.score-155 {background-color: #FFFF0f;}\n",
       ".cython.score-156 {background-color: #FFFF0f;}\n",
       ".cython.score-157 {background-color: #FFFF0f;}\n",
       ".cython.score-158 {background-color: #FFFF0f;}\n",
       ".cython.score-159 {background-color: #FFFF0f;}\n",
       ".cython.score-160 {background-color: #FFFF0f;}\n",
       ".cython.score-161 {background-color: #FFFF0e;}\n",
       ".cython.score-162 {background-color: #FFFF0e;}\n",
       ".cython.score-163 {background-color: #FFFF0e;}\n",
       ".cython.score-164 {background-color: #FFFF0e;}\n",
       ".cython.score-165 {background-color: #FFFF0e;}\n",
       ".cython.score-166 {background-color: #FFFF0e;}\n",
       ".cython.score-167 {background-color: #FFFF0e;}\n",
       ".cython.score-168 {background-color: #FFFF0e;}\n",
       ".cython.score-169 {background-color: #FFFF0e;}\n",
       ".cython.score-170 {background-color: #FFFF0e;}\n",
       ".cython.score-171 {background-color: #FFFF0e;}\n",
       ".cython.score-172 {background-color: #FFFF0e;}\n",
       ".cython.score-173 {background-color: #FFFF0d;}\n",
       ".cython.score-174 {background-color: #FFFF0d;}\n",
       ".cython.score-175 {background-color: #FFFF0d;}\n",
       ".cython.score-176 {background-color: #FFFF0d;}\n",
       ".cython.score-177 {background-color: #FFFF0d;}\n",
       ".cython.score-178 {background-color: #FFFF0d;}\n",
       ".cython.score-179 {background-color: #FFFF0d;}\n",
       ".cython.score-180 {background-color: #FFFF0d;}\n",
       ".cython.score-181 {background-color: #FFFF0d;}\n",
       ".cython.score-182 {background-color: #FFFF0d;}\n",
       ".cython.score-183 {background-color: #FFFF0d;}\n",
       ".cython.score-184 {background-color: #FFFF0d;}\n",
       ".cython.score-185 {background-color: #FFFF0d;}\n",
       ".cython.score-186 {background-color: #FFFF0d;}\n",
       ".cython.score-187 {background-color: #FFFF0c;}\n",
       ".cython.score-188 {background-color: #FFFF0c;}\n",
       ".cython.score-189 {background-color: #FFFF0c;}\n",
       ".cython.score-190 {background-color: #FFFF0c;}\n",
       ".cython.score-191 {background-color: #FFFF0c;}\n",
       ".cython.score-192 {background-color: #FFFF0c;}\n",
       ".cython.score-193 {background-color: #FFFF0c;}\n",
       ".cython.score-194 {background-color: #FFFF0c;}\n",
       ".cython.score-195 {background-color: #FFFF0c;}\n",
       ".cython.score-196 {background-color: #FFFF0c;}\n",
       ".cython.score-197 {background-color: #FFFF0c;}\n",
       ".cython.score-198 {background-color: #FFFF0c;}\n",
       ".cython.score-199 {background-color: #FFFF0c;}\n",
       ".cython.score-200 {background-color: #FFFF0c;}\n",
       ".cython.score-201 {background-color: #FFFF0c;}\n",
       ".cython.score-202 {background-color: #FFFF0c;}\n",
       ".cython.score-203 {background-color: #FFFF0b;}\n",
       ".cython.score-204 {background-color: #FFFF0b;}\n",
       ".cython.score-205 {background-color: #FFFF0b;}\n",
       ".cython.score-206 {background-color: #FFFF0b;}\n",
       ".cython.score-207 {background-color: #FFFF0b;}\n",
       ".cython.score-208 {background-color: #FFFF0b;}\n",
       ".cython.score-209 {background-color: #FFFF0b;}\n",
       ".cython.score-210 {background-color: #FFFF0b;}\n",
       ".cython.score-211 {background-color: #FFFF0b;}\n",
       ".cython.score-212 {background-color: #FFFF0b;}\n",
       ".cython.score-213 {background-color: #FFFF0b;}\n",
       ".cython.score-214 {background-color: #FFFF0b;}\n",
       ".cython.score-215 {background-color: #FFFF0b;}\n",
       ".cython.score-216 {background-color: #FFFF0b;}\n",
       ".cython.score-217 {background-color: #FFFF0b;}\n",
       ".cython.score-218 {background-color: #FFFF0b;}\n",
       ".cython.score-219 {background-color: #FFFF0b;}\n",
       ".cython.score-220 {background-color: #FFFF0b;}\n",
       ".cython.score-221 {background-color: #FFFF0b;}\n",
       ".cython.score-222 {background-color: #FFFF0a;}\n",
       ".cython.score-223 {background-color: #FFFF0a;}\n",
       ".cython.score-224 {background-color: #FFFF0a;}\n",
       ".cython.score-225 {background-color: #FFFF0a;}\n",
       ".cython.score-226 {background-color: #FFFF0a;}\n",
       ".cython.score-227 {background-color: #FFFF0a;}\n",
       ".cython.score-228 {background-color: #FFFF0a;}\n",
       ".cython.score-229 {background-color: #FFFF0a;}\n",
       ".cython.score-230 {background-color: #FFFF0a;}\n",
       ".cython.score-231 {background-color: #FFFF0a;}\n",
       ".cython.score-232 {background-color: #FFFF0a;}\n",
       ".cython.score-233 {background-color: #FFFF0a;}\n",
       ".cython.score-234 {background-color: #FFFF0a;}\n",
       ".cython.score-235 {background-color: #FFFF0a;}\n",
       ".cython.score-236 {background-color: #FFFF0a;}\n",
       ".cython.score-237 {background-color: #FFFF0a;}\n",
       ".cython.score-238 {background-color: #FFFF0a;}\n",
       ".cython.score-239 {background-color: #FFFF0a;}\n",
       ".cython.score-240 {background-color: #FFFF0a;}\n",
       ".cython.score-241 {background-color: #FFFF0a;}\n",
       ".cython.score-242 {background-color: #FFFF0a;}\n",
       ".cython.score-243 {background-color: #FFFF0a;}\n",
       ".cython.score-244 {background-color: #FFFF0a;}\n",
       ".cython.score-245 {background-color: #FFFF0a;}\n",
       ".cython.score-246 {background-color: #FFFF09;}\n",
       ".cython.score-247 {background-color: #FFFF09;}\n",
       ".cython.score-248 {background-color: #FFFF09;}\n",
       ".cython.score-249 {background-color: #FFFF09;}\n",
       ".cython.score-250 {background-color: #FFFF09;}\n",
       ".cython.score-251 {background-color: #FFFF09;}\n",
       ".cython.score-252 {background-color: #FFFF09;}\n",
       ".cython.score-253 {background-color: #FFFF09;}\n",
       ".cython.score-254 {background-color: #FFFF09;}\n",
       ".cython .hll { background-color: #ffffcc }\n",
       ".cython  { background: #f8f8f8; }\n",
       ".cython .c { color: #408080; font-style: italic } /* Comment */\n",
       ".cython .err { border: 1px solid #FF0000 } /* Error */\n",
       ".cython .k { color: #008000; font-weight: bold } /* Keyword */\n",
       ".cython .o { color: #666666 } /* Operator */\n",
       ".cython .ch { color: #408080; font-style: italic } /* Comment.Hashbang */\n",
       ".cython .cm { color: #408080; font-style: italic } /* Comment.Multiline */\n",
       ".cython .cp { color: #BC7A00 } /* Comment.Preproc */\n",
       ".cython .cpf { color: #408080; font-style: italic } /* Comment.PreprocFile */\n",
       ".cython .c1 { color: #408080; font-style: italic } /* Comment.Single */\n",
       ".cython .cs { color: #408080; font-style: italic } /* Comment.Special */\n",
       ".cython .gd { color: #A00000 } /* Generic.Deleted */\n",
       ".cython .ge { font-style: italic } /* Generic.Emph */\n",
       ".cython .gr { color: #FF0000 } /* Generic.Error */\n",
       ".cython .gh { color: #000080; font-weight: bold } /* Generic.Heading */\n",
       ".cython .gi { color: #00A000 } /* Generic.Inserted */\n",
       ".cython .go { color: #888888 } /* Generic.Output */\n",
       ".cython .gp { color: #000080; font-weight: bold } /* Generic.Prompt */\n",
       ".cython .gs { font-weight: bold } /* Generic.Strong */\n",
       ".cython .gu { color: #800080; font-weight: bold } /* Generic.Subheading */\n",
       ".cython .gt { color: #0044DD } /* Generic.Traceback */\n",
       ".cython .kc { color: #008000; font-weight: bold } /* Keyword.Constant */\n",
       ".cython .kd { color: #008000; font-weight: bold } /* Keyword.Declaration */\n",
       ".cython .kn { color: #008000; font-weight: bold } /* Keyword.Namespace */\n",
       ".cython .kp { color: #008000 } /* Keyword.Pseudo */\n",
       ".cython .kr { color: #008000; font-weight: bold } /* Keyword.Reserved */\n",
       ".cython .kt { color: #B00040 } /* Keyword.Type */\n",
       ".cython .m { color: #666666 } /* Literal.Number */\n",
       ".cython .s { color: #BA2121 } /* Literal.String */\n",
       ".cython .na { color: #7D9029 } /* Name.Attribute */\n",
       ".cython .nb { color: #008000 } /* Name.Builtin */\n",
       ".cython .nc { color: #0000FF; font-weight: bold } /* Name.Class */\n",
       ".cython .no { color: #880000 } /* Name.Constant */\n",
       ".cython .nd { color: #AA22FF } /* Name.Decorator */\n",
       ".cython .ni { color: #999999; font-weight: bold } /* Name.Entity */\n",
       ".cython .ne { color: #D2413A; font-weight: bold } /* Name.Exception */\n",
       ".cython .nf { color: #0000FF } /* Name.Function */\n",
       ".cython .nl { color: #A0A000 } /* Name.Label */\n",
       ".cython .nn { color: #0000FF; font-weight: bold } /* Name.Namespace */\n",
       ".cython .nt { color: #008000; font-weight: bold } /* Name.Tag */\n",
       ".cython .nv { color: #19177C } /* Name.Variable */\n",
       ".cython .ow { color: #AA22FF; font-weight: bold } /* Operator.Word */\n",
       ".cython .w { color: #bbbbbb } /* Text.Whitespace */\n",
       ".cython .mb { color: #666666 } /* Literal.Number.Bin */\n",
       ".cython .mf { color: #666666 } /* Literal.Number.Float */\n",
       ".cython .mh { color: #666666 } /* Literal.Number.Hex */\n",
       ".cython .mi { color: #666666 } /* Literal.Number.Integer */\n",
       ".cython .mo { color: #666666 } /* Literal.Number.Oct */\n",
       ".cython .sa { color: #BA2121 } /* Literal.String.Affix */\n",
       ".cython .sb { color: #BA2121 } /* Literal.String.Backtick */\n",
       ".cython .sc { color: #BA2121 } /* Literal.String.Char */\n",
       ".cython .dl { color: #BA2121 } /* Literal.String.Delimiter */\n",
       ".cython .sd { color: #BA2121; font-style: italic } /* Literal.String.Doc */\n",
       ".cython .s2 { color: #BA2121 } /* Literal.String.Double */\n",
       ".cython .se { color: #BB6622; font-weight: bold } /* Literal.String.Escape */\n",
       ".cython .sh { color: #BA2121 } /* Literal.String.Heredoc */\n",
       ".cython .si { color: #BB6688; font-weight: bold } /* Literal.String.Interpol */\n",
       ".cython .sx { color: #008000 } /* Literal.String.Other */\n",
       ".cython .sr { color: #BB6688 } /* Literal.String.Regex */\n",
       ".cython .s1 { color: #BA2121 } /* Literal.String.Single */\n",
       ".cython .ss { color: #19177C } /* Literal.String.Symbol */\n",
       ".cython .bp { color: #008000 } /* Name.Builtin.Pseudo */\n",
       ".cython .fm { color: #0000FF } /* Name.Function.Magic */\n",
       ".cython .vc { color: #19177C } /* Name.Variable.Class */\n",
       ".cython .vg { color: #19177C } /* Name.Variable.Global */\n",
       ".cython .vi { color: #19177C } /* Name.Variable.Instance */\n",
       ".cython .vm { color: #19177C } /* Name.Variable.Magic */\n",
       ".cython .il { color: #666666 } /* Literal.Number.Integer.Long */\n",
       "    </style>\n",
       "</head>\n",
       "<body class=\"cython\">\n",
       "<p><span style=\"border-bottom: solid 1px grey;\">Generated by Cython 0.28.1</span></p>\n",
       "<p>\n",
       "    <span style=\"background-color: #FFFF00\">Yellow lines</span> hint at Python interaction.<br />\n",
       "    Click on a line that starts with a \"<code>+</code>\" to see the C code that Cython generated for it.\n",
       "</p>\n",
       "<div class=\"cython\"><pre class=\"cython line score-0\">&#xA0;<span class=\"\">01</span>: <span class=\"k\">from</span> <span class=\"nn\">libc.math</span> <span class=\"k\">cimport</span> <span class=\"n\">sin</span></pre>\n",
       "<pre class=\"cython line score-0\" onclick=\"(function(s){s.display=s.display==='block'?'none':'block'})(this.nextElementSibling.style)\">+<span class=\"\">02</span>: <span class=\"k\">ctypedef</span> <span class=\"n\">double</span> <span class=\"p\">(</span><span class=\"o\">*</span><span class=\"n\">doub_f</span><span class=\"p\">)(</span><span class=\"n\">double</span><span class=\"p\">)</span></pre>\n",
       "<pre class='cython code score-0 '>typedef double (*__pyx_t_46_cython_magic_b3bdba6686071914318fb5a2d4503576_doub_f)(double);\n",
       "</pre><pre class=\"cython line score-3\" onclick=\"(function(s){s.display=s.display==='block'?'none':'block'})(this.nextElementSibling.style)\">+<span class=\"\">03</span>: <span class=\"k\">cdef</span> <span class=\"nf\">integrate</span><span class=\"p\">(</span><span class=\"n\">double</span> <span class=\"n\">a</span><span class=\"p\">,</span> <span class=\"n\">double</span> <span class=\"n\">b</span><span class=\"p\">,</span> <span class=\"n\">doub_f</span> <span class=\"n\">f</span><span class=\"p\">,</span> <span class=\"nb\">int</span> <span class=\"n\">N</span><span class=\"o\">=</span><span class=\"mf\">2000</span><span class=\"p\">):</span></pre>\n",
       "<pre class='cython code score-3 '>static PyObject *__pyx_f_46_cython_magic_b3bdba6686071914318fb5a2d4503576_integrate(double __pyx_v_a, double __pyx_v_b, __pyx_t_46_cython_magic_b3bdba6686071914318fb5a2d4503576_doub_f __pyx_v_f, struct __pyx_opt_args_46_cython_magic_b3bdba6686071914318fb5a2d4503576_integrate *__pyx_optional_args) {\n",
       "  int __pyx_v_N = ((int)0x7D0);\n",
       "  int __pyx_v_i;\n",
       "  double __pyx_v_dx;\n",
       "  double __pyx_v_s;\n",
       "  PyObject *__pyx_r = NULL;\n",
       "  <span class='refnanny'>__Pyx_RefNannyDeclarations</span>\n",
       "  <span class='refnanny'>__Pyx_RefNannySetupContext</span>(\"integrate\", 0);\n",
       "  if (__pyx_optional_args) {\n",
       "    if (__pyx_optional_args-&gt;__pyx_n &gt; 0) {\n",
       "      __pyx_v_N = __pyx_optional_args-&gt;N;\n",
       "    }\n",
       "  }\n",
       "/* … */\n",
       "  /* function exit code */\n",
       "  __pyx_L1_error:;\n",
       "  <span class='pyx_macro_api'>__Pyx_XDECREF</span>(__pyx_t_5);\n",
       "  <span class='pyx_c_api'>__Pyx_AddTraceback</span>(\"_cython_magic_b3bdba6686071914318fb5a2d4503576.integrate\", __pyx_clineno, __pyx_lineno, __pyx_filename);\n",
       "  __pyx_r = 0;\n",
       "  __pyx_L0:;\n",
       "  <span class='refnanny'>__Pyx_XGIVEREF</span>(__pyx_r);\n",
       "  <span class='refnanny'>__Pyx_RefNannyFinishContext</span>();\n",
       "  return __pyx_r;\n",
       "}\n",
       "</pre><pre class=\"cython line score-0\">&#xA0;<span class=\"\">04</span>:     <span class=\"k\">cdef</span><span class=\"p\">:</span></pre>\n",
       "<pre class=\"cython line score-0\">&#xA0;<span class=\"\">05</span>:         <span class=\"nb\">int</span> <span class=\"n\">i</span></pre>\n",
       "<pre class=\"cython line score-5\" onclick=\"(function(s){s.display=s.display==='block'?'none':'block'})(this.nextElementSibling.style)\">+<span class=\"\">06</span>:         <span class=\"n\">double</span> <span class=\"n\">dx</span> <span class=\"o\">=</span> <span class=\"p\">(</span><span class=\"n\">b</span> <span class=\"o\">-</span> <span class=\"n\">a</span><span class=\"p\">)</span> <span class=\"o\">/</span> <span class=\"n\">N</span></pre>\n",
       "<pre class='cython code score-5 '>  __pyx_t_1 = (__pyx_v_b - __pyx_v_a);\n",
       "  if (unlikely(__pyx_v_N == 0)) {\n",
       "    <span class='py_c_api'>PyErr_SetString</span>(PyExc_ZeroDivisionError, \"float division\");\n",
       "    <span class='error_goto'>__PYX_ERR(0, 6, __pyx_L1_error)</span>\n",
       "  }\n",
       "  __pyx_v_dx = (__pyx_t_1 / ((double)__pyx_v_N));\n",
       "</pre><pre class=\"cython line score-0\" onclick=\"(function(s){s.display=s.display==='block'?'none':'block'})(this.nextElementSibling.style)\">+<span class=\"\">07</span>:         <span class=\"n\">double</span> <span class=\"n\">s</span> <span class=\"o\">=</span> <span class=\"mf\">0.0</span></pre>\n",
       "<pre class='cython code score-0 '>  __pyx_v_s = 0.0;\n",
       "</pre><pre class=\"cython line score-0\" onclick=\"(function(s){s.display=s.display==='block'?'none':'block'})(this.nextElementSibling.style)\">+<span class=\"\">08</span>:     <span class=\"k\">for</span> <span class=\"n\">i</span> <span class=\"ow\">in</span> <span class=\"nb\">range</span><span class=\"p\">(</span><span class=\"n\">N</span><span class=\"p\">):</span></pre>\n",
       "<pre class='cython code score-0 '>  __pyx_t_2 = __pyx_v_N;\n",
       "  __pyx_t_3 = __pyx_t_2;\n",
       "  for (__pyx_t_4 = 0; __pyx_t_4 &lt; __pyx_t_3; __pyx_t_4+=1) {\n",
       "    __pyx_v_i = __pyx_t_4;\n",
       "</pre><pre class=\"cython line score-0\" onclick=\"(function(s){s.display=s.display==='block'?'none':'block'})(this.nextElementSibling.style)\">+<span class=\"\">09</span>:         <span class=\"n\">s</span> <span class=\"o\">+=</span> <span class=\"n\">f</span><span class=\"p\">(</span><span class=\"n\">a</span> <span class=\"o\">+</span> <span class=\"n\">i</span> <span class=\"o\">*</span> <span class=\"n\">dx</span><span class=\"p\">)</span></pre>\n",
       "<pre class='cython code score-0 '>    __pyx_v_s = (__pyx_v_s + __pyx_v_f((__pyx_v_a + (__pyx_v_i * __pyx_v_dx))));\n",
       "  }\n",
       "</pre><pre class=\"cython line score-6\" onclick=\"(function(s){s.display=s.display==='block'?'none':'block'})(this.nextElementSibling.style)\">+<span class=\"\">10</span>:     <span class=\"k\">return</span> <span class=\"n\">s</span> <span class=\"o\">*</span> <span class=\"n\">dx</span></pre>\n",
       "<pre class='cython code score-6 '>  <span class='pyx_macro_api'>__Pyx_XDECREF</span>(__pyx_r);\n",
       "  __pyx_t_5 = <span class='py_c_api'>PyFloat_FromDouble</span>((__pyx_v_s * __pyx_v_dx));<span class='error_goto'> if (unlikely(!__pyx_t_5)) __PYX_ERR(0, 10, __pyx_L1_error)</span>\n",
       "  <span class='refnanny'>__Pyx_GOTREF</span>(__pyx_t_5);\n",
       "  __pyx_r = __pyx_t_5;\n",
       "  __pyx_t_5 = 0;\n",
       "  goto __pyx_L0;\n",
       "</pre></div></body></html>"
      ],
      "text/plain": [
       "<IPython.core.display.HTML object>"
      ]
     },
     "execution_count": 70,
     "metadata": {},
     "output_type": "execute_result"
    }
   ],
   "source": [
    "%%cython --annotate\n",
    "from libc.math cimport sin\n",
    "ctypedef double (*doub_f)(double)\n",
    "cdef integrate(double a, double b, doub_f f, int N=2000):\n",
    "    cdef:\n",
    "        int i\n",
    "        double dx = (b - a) / N\n",
    "        double s = 0.0\n",
    "    for i in range(N):\n",
    "        s += f(a + i * dx)\n",
    "    return s * dx"
   ]
  },
  {
   "cell_type": "markdown",
   "metadata": {
    "hidden": true
   },
   "source": [
    "### `cdivision` ocompiler directive"
   ]
  },
  {
   "cell_type": "code",
   "execution_count": 71,
   "metadata": {
    "ExecuteTime": {
     "end_time": "2018-04-11T15:15:21.440183Z",
     "start_time": "2018-04-11T15:15:18.731475Z"
    },
    "hidden": true
   },
   "outputs": [
    {
     "data": {
      "text/html": [
       "<!DOCTYPE html>\n",
       "<!-- Generated by Cython 0.28.1 -->\n",
       "<html>\n",
       "<head>\n",
       "    <meta http-equiv=\"Content-Type\" content=\"text/html; charset=utf-8\" />\n",
       "    <title>Cython: _cython_magic_2579ab1ccba692906a2e47db1bd7bf84.pyx</title>\n",
       "    <style type=\"text/css\">\n",
       "    \n",
       "body.cython { font-family: courier; font-size: 12; }\n",
       "\n",
       ".cython.tag  {  }\n",
       ".cython.line { margin: 0em }\n",
       ".cython.code { font-size: 9; color: #444444; display: none; margin: 0px 0px 0px 8px; border-left: 8px none; }\n",
       "\n",
       ".cython.line .run { background-color: #B0FFB0; }\n",
       ".cython.line .mis { background-color: #FFB0B0; }\n",
       ".cython.code.run  { border-left: 8px solid #B0FFB0; }\n",
       ".cython.code.mis  { border-left: 8px solid #FFB0B0; }\n",
       "\n",
       ".cython.code .py_c_api  { color: red; }\n",
       ".cython.code .py_macro_api  { color: #FF7000; }\n",
       ".cython.code .pyx_c_api  { color: #FF3000; }\n",
       ".cython.code .pyx_macro_api  { color: #FF7000; }\n",
       ".cython.code .refnanny  { color: #FFA000; }\n",
       ".cython.code .trace  { color: #FFA000; }\n",
       ".cython.code .error_goto  { color: #FFA000; }\n",
       "\n",
       ".cython.code .coerce  { color: #008000; border: 1px dotted #008000 }\n",
       ".cython.code .py_attr { color: #FF0000; font-weight: bold; }\n",
       ".cython.code .c_attr  { color: #0000FF; }\n",
       ".cython.code .py_call { color: #FF0000; font-weight: bold; }\n",
       ".cython.code .c_call  { color: #0000FF; }\n",
       "\n",
       ".cython.score-0 {background-color: #FFFFff;}\n",
       ".cython.score-1 {background-color: #FFFFe7;}\n",
       ".cython.score-2 {background-color: #FFFFd4;}\n",
       ".cython.score-3 {background-color: #FFFFc4;}\n",
       ".cython.score-4 {background-color: #FFFFb6;}\n",
       ".cython.score-5 {background-color: #FFFFaa;}\n",
       ".cython.score-6 {background-color: #FFFF9f;}\n",
       ".cython.score-7 {background-color: #FFFF96;}\n",
       ".cython.score-8 {background-color: #FFFF8d;}\n",
       ".cython.score-9 {background-color: #FFFF86;}\n",
       ".cython.score-10 {background-color: #FFFF7f;}\n",
       ".cython.score-11 {background-color: #FFFF79;}\n",
       ".cython.score-12 {background-color: #FFFF73;}\n",
       ".cython.score-13 {background-color: #FFFF6e;}\n",
       ".cython.score-14 {background-color: #FFFF6a;}\n",
       ".cython.score-15 {background-color: #FFFF66;}\n",
       ".cython.score-16 {background-color: #FFFF62;}\n",
       ".cython.score-17 {background-color: #FFFF5e;}\n",
       ".cython.score-18 {background-color: #FFFF5b;}\n",
       ".cython.score-19 {background-color: #FFFF57;}\n",
       ".cython.score-20 {background-color: #FFFF55;}\n",
       ".cython.score-21 {background-color: #FFFF52;}\n",
       ".cython.score-22 {background-color: #FFFF4f;}\n",
       ".cython.score-23 {background-color: #FFFF4d;}\n",
       ".cython.score-24 {background-color: #FFFF4b;}\n",
       ".cython.score-25 {background-color: #FFFF48;}\n",
       ".cython.score-26 {background-color: #FFFF46;}\n",
       ".cython.score-27 {background-color: #FFFF44;}\n",
       ".cython.score-28 {background-color: #FFFF43;}\n",
       ".cython.score-29 {background-color: #FFFF41;}\n",
       ".cython.score-30 {background-color: #FFFF3f;}\n",
       ".cython.score-31 {background-color: #FFFF3e;}\n",
       ".cython.score-32 {background-color: #FFFF3c;}\n",
       ".cython.score-33 {background-color: #FFFF3b;}\n",
       ".cython.score-34 {background-color: #FFFF39;}\n",
       ".cython.score-35 {background-color: #FFFF38;}\n",
       ".cython.score-36 {background-color: #FFFF37;}\n",
       ".cython.score-37 {background-color: #FFFF36;}\n",
       ".cython.score-38 {background-color: #FFFF35;}\n",
       ".cython.score-39 {background-color: #FFFF34;}\n",
       ".cython.score-40 {background-color: #FFFF33;}\n",
       ".cython.score-41 {background-color: #FFFF32;}\n",
       ".cython.score-42 {background-color: #FFFF31;}\n",
       ".cython.score-43 {background-color: #FFFF30;}\n",
       ".cython.score-44 {background-color: #FFFF2f;}\n",
       ".cython.score-45 {background-color: #FFFF2e;}\n",
       ".cython.score-46 {background-color: #FFFF2d;}\n",
       ".cython.score-47 {background-color: #FFFF2c;}\n",
       ".cython.score-48 {background-color: #FFFF2b;}\n",
       ".cython.score-49 {background-color: #FFFF2b;}\n",
       ".cython.score-50 {background-color: #FFFF2a;}\n",
       ".cython.score-51 {background-color: #FFFF29;}\n",
       ".cython.score-52 {background-color: #FFFF29;}\n",
       ".cython.score-53 {background-color: #FFFF28;}\n",
       ".cython.score-54 {background-color: #FFFF27;}\n",
       ".cython.score-55 {background-color: #FFFF27;}\n",
       ".cython.score-56 {background-color: #FFFF26;}\n",
       ".cython.score-57 {background-color: #FFFF26;}\n",
       ".cython.score-58 {background-color: #FFFF25;}\n",
       ".cython.score-59 {background-color: #FFFF24;}\n",
       ".cython.score-60 {background-color: #FFFF24;}\n",
       ".cython.score-61 {background-color: #FFFF23;}\n",
       ".cython.score-62 {background-color: #FFFF23;}\n",
       ".cython.score-63 {background-color: #FFFF22;}\n",
       ".cython.score-64 {background-color: #FFFF22;}\n",
       ".cython.score-65 {background-color: #FFFF22;}\n",
       ".cython.score-66 {background-color: #FFFF21;}\n",
       ".cython.score-67 {background-color: #FFFF21;}\n",
       ".cython.score-68 {background-color: #FFFF20;}\n",
       ".cython.score-69 {background-color: #FFFF20;}\n",
       ".cython.score-70 {background-color: #FFFF1f;}\n",
       ".cython.score-71 {background-color: #FFFF1f;}\n",
       ".cython.score-72 {background-color: #FFFF1f;}\n",
       ".cython.score-73 {background-color: #FFFF1e;}\n",
       ".cython.score-74 {background-color: #FFFF1e;}\n",
       ".cython.score-75 {background-color: #FFFF1e;}\n",
       ".cython.score-76 {background-color: #FFFF1d;}\n",
       ".cython.score-77 {background-color: #FFFF1d;}\n",
       ".cython.score-78 {background-color: #FFFF1c;}\n",
       ".cython.score-79 {background-color: #FFFF1c;}\n",
       ".cython.score-80 {background-color: #FFFF1c;}\n",
       ".cython.score-81 {background-color: #FFFF1c;}\n",
       ".cython.score-82 {background-color: #FFFF1b;}\n",
       ".cython.score-83 {background-color: #FFFF1b;}\n",
       ".cython.score-84 {background-color: #FFFF1b;}\n",
       ".cython.score-85 {background-color: #FFFF1a;}\n",
       ".cython.score-86 {background-color: #FFFF1a;}\n",
       ".cython.score-87 {background-color: #FFFF1a;}\n",
       ".cython.score-88 {background-color: #FFFF1a;}\n",
       ".cython.score-89 {background-color: #FFFF19;}\n",
       ".cython.score-90 {background-color: #FFFF19;}\n",
       ".cython.score-91 {background-color: #FFFF19;}\n",
       ".cython.score-92 {background-color: #FFFF19;}\n",
       ".cython.score-93 {background-color: #FFFF18;}\n",
       ".cython.score-94 {background-color: #FFFF18;}\n",
       ".cython.score-95 {background-color: #FFFF18;}\n",
       ".cython.score-96 {background-color: #FFFF18;}\n",
       ".cython.score-97 {background-color: #FFFF17;}\n",
       ".cython.score-98 {background-color: #FFFF17;}\n",
       ".cython.score-99 {background-color: #FFFF17;}\n",
       ".cython.score-100 {background-color: #FFFF17;}\n",
       ".cython.score-101 {background-color: #FFFF16;}\n",
       ".cython.score-102 {background-color: #FFFF16;}\n",
       ".cython.score-103 {background-color: #FFFF16;}\n",
       ".cython.score-104 {background-color: #FFFF16;}\n",
       ".cython.score-105 {background-color: #FFFF16;}\n",
       ".cython.score-106 {background-color: #FFFF15;}\n",
       ".cython.score-107 {background-color: #FFFF15;}\n",
       ".cython.score-108 {background-color: #FFFF15;}\n",
       ".cython.score-109 {background-color: #FFFF15;}\n",
       ".cython.score-110 {background-color: #FFFF15;}\n",
       ".cython.score-111 {background-color: #FFFF15;}\n",
       ".cython.score-112 {background-color: #FFFF14;}\n",
       ".cython.score-113 {background-color: #FFFF14;}\n",
       ".cython.score-114 {background-color: #FFFF14;}\n",
       ".cython.score-115 {background-color: #FFFF14;}\n",
       ".cython.score-116 {background-color: #FFFF14;}\n",
       ".cython.score-117 {background-color: #FFFF14;}\n",
       ".cython.score-118 {background-color: #FFFF13;}\n",
       ".cython.score-119 {background-color: #FFFF13;}\n",
       ".cython.score-120 {background-color: #FFFF13;}\n",
       ".cython.score-121 {background-color: #FFFF13;}\n",
       ".cython.score-122 {background-color: #FFFF13;}\n",
       ".cython.score-123 {background-color: #FFFF13;}\n",
       ".cython.score-124 {background-color: #FFFF13;}\n",
       ".cython.score-125 {background-color: #FFFF12;}\n",
       ".cython.score-126 {background-color: #FFFF12;}\n",
       ".cython.score-127 {background-color: #FFFF12;}\n",
       ".cython.score-128 {background-color: #FFFF12;}\n",
       ".cython.score-129 {background-color: #FFFF12;}\n",
       ".cython.score-130 {background-color: #FFFF12;}\n",
       ".cython.score-131 {background-color: #FFFF12;}\n",
       ".cython.score-132 {background-color: #FFFF11;}\n",
       ".cython.score-133 {background-color: #FFFF11;}\n",
       ".cython.score-134 {background-color: #FFFF11;}\n",
       ".cython.score-135 {background-color: #FFFF11;}\n",
       ".cython.score-136 {background-color: #FFFF11;}\n",
       ".cython.score-137 {background-color: #FFFF11;}\n",
       ".cython.score-138 {background-color: #FFFF11;}\n",
       ".cython.score-139 {background-color: #FFFF11;}\n",
       ".cython.score-140 {background-color: #FFFF11;}\n",
       ".cython.score-141 {background-color: #FFFF10;}\n",
       ".cython.score-142 {background-color: #FFFF10;}\n",
       ".cython.score-143 {background-color: #FFFF10;}\n",
       ".cython.score-144 {background-color: #FFFF10;}\n",
       ".cython.score-145 {background-color: #FFFF10;}\n",
       ".cython.score-146 {background-color: #FFFF10;}\n",
       ".cython.score-147 {background-color: #FFFF10;}\n",
       ".cython.score-148 {background-color: #FFFF10;}\n",
       ".cython.score-149 {background-color: #FFFF10;}\n",
       ".cython.score-150 {background-color: #FFFF0f;}\n",
       ".cython.score-151 {background-color: #FFFF0f;}\n",
       ".cython.score-152 {background-color: #FFFF0f;}\n",
       ".cython.score-153 {background-color: #FFFF0f;}\n",
       ".cython.score-154 {background-color: #FFFF0f;}\n",
       ".cython.score-155 {background-color: #FFFF0f;}\n",
       ".cython.score-156 {background-color: #FFFF0f;}\n",
       ".cython.score-157 {background-color: #FFFF0f;}\n",
       ".cython.score-158 {background-color: #FFFF0f;}\n",
       ".cython.score-159 {background-color: #FFFF0f;}\n",
       ".cython.score-160 {background-color: #FFFF0f;}\n",
       ".cython.score-161 {background-color: #FFFF0e;}\n",
       ".cython.score-162 {background-color: #FFFF0e;}\n",
       ".cython.score-163 {background-color: #FFFF0e;}\n",
       ".cython.score-164 {background-color: #FFFF0e;}\n",
       ".cython.score-165 {background-color: #FFFF0e;}\n",
       ".cython.score-166 {background-color: #FFFF0e;}\n",
       ".cython.score-167 {background-color: #FFFF0e;}\n",
       ".cython.score-168 {background-color: #FFFF0e;}\n",
       ".cython.score-169 {background-color: #FFFF0e;}\n",
       ".cython.score-170 {background-color: #FFFF0e;}\n",
       ".cython.score-171 {background-color: #FFFF0e;}\n",
       ".cython.score-172 {background-color: #FFFF0e;}\n",
       ".cython.score-173 {background-color: #FFFF0d;}\n",
       ".cython.score-174 {background-color: #FFFF0d;}\n",
       ".cython.score-175 {background-color: #FFFF0d;}\n",
       ".cython.score-176 {background-color: #FFFF0d;}\n",
       ".cython.score-177 {background-color: #FFFF0d;}\n",
       ".cython.score-178 {background-color: #FFFF0d;}\n",
       ".cython.score-179 {background-color: #FFFF0d;}\n",
       ".cython.score-180 {background-color: #FFFF0d;}\n",
       ".cython.score-181 {background-color: #FFFF0d;}\n",
       ".cython.score-182 {background-color: #FFFF0d;}\n",
       ".cython.score-183 {background-color: #FFFF0d;}\n",
       ".cython.score-184 {background-color: #FFFF0d;}\n",
       ".cython.score-185 {background-color: #FFFF0d;}\n",
       ".cython.score-186 {background-color: #FFFF0d;}\n",
       ".cython.score-187 {background-color: #FFFF0c;}\n",
       ".cython.score-188 {background-color: #FFFF0c;}\n",
       ".cython.score-189 {background-color: #FFFF0c;}\n",
       ".cython.score-190 {background-color: #FFFF0c;}\n",
       ".cython.score-191 {background-color: #FFFF0c;}\n",
       ".cython.score-192 {background-color: #FFFF0c;}\n",
       ".cython.score-193 {background-color: #FFFF0c;}\n",
       ".cython.score-194 {background-color: #FFFF0c;}\n",
       ".cython.score-195 {background-color: #FFFF0c;}\n",
       ".cython.score-196 {background-color: #FFFF0c;}\n",
       ".cython.score-197 {background-color: #FFFF0c;}\n",
       ".cython.score-198 {background-color: #FFFF0c;}\n",
       ".cython.score-199 {background-color: #FFFF0c;}\n",
       ".cython.score-200 {background-color: #FFFF0c;}\n",
       ".cython.score-201 {background-color: #FFFF0c;}\n",
       ".cython.score-202 {background-color: #FFFF0c;}\n",
       ".cython.score-203 {background-color: #FFFF0b;}\n",
       ".cython.score-204 {background-color: #FFFF0b;}\n",
       ".cython.score-205 {background-color: #FFFF0b;}\n",
       ".cython.score-206 {background-color: #FFFF0b;}\n",
       ".cython.score-207 {background-color: #FFFF0b;}\n",
       ".cython.score-208 {background-color: #FFFF0b;}\n",
       ".cython.score-209 {background-color: #FFFF0b;}\n",
       ".cython.score-210 {background-color: #FFFF0b;}\n",
       ".cython.score-211 {background-color: #FFFF0b;}\n",
       ".cython.score-212 {background-color: #FFFF0b;}\n",
       ".cython.score-213 {background-color: #FFFF0b;}\n",
       ".cython.score-214 {background-color: #FFFF0b;}\n",
       ".cython.score-215 {background-color: #FFFF0b;}\n",
       ".cython.score-216 {background-color: #FFFF0b;}\n",
       ".cython.score-217 {background-color: #FFFF0b;}\n",
       ".cython.score-218 {background-color: #FFFF0b;}\n",
       ".cython.score-219 {background-color: #FFFF0b;}\n",
       ".cython.score-220 {background-color: #FFFF0b;}\n",
       ".cython.score-221 {background-color: #FFFF0b;}\n",
       ".cython.score-222 {background-color: #FFFF0a;}\n",
       ".cython.score-223 {background-color: #FFFF0a;}\n",
       ".cython.score-224 {background-color: #FFFF0a;}\n",
       ".cython.score-225 {background-color: #FFFF0a;}\n",
       ".cython.score-226 {background-color: #FFFF0a;}\n",
       ".cython.score-227 {background-color: #FFFF0a;}\n",
       ".cython.score-228 {background-color: #FFFF0a;}\n",
       ".cython.score-229 {background-color: #FFFF0a;}\n",
       ".cython.score-230 {background-color: #FFFF0a;}\n",
       ".cython.score-231 {background-color: #FFFF0a;}\n",
       ".cython.score-232 {background-color: #FFFF0a;}\n",
       ".cython.score-233 {background-color: #FFFF0a;}\n",
       ".cython.score-234 {background-color: #FFFF0a;}\n",
       ".cython.score-235 {background-color: #FFFF0a;}\n",
       ".cython.score-236 {background-color: #FFFF0a;}\n",
       ".cython.score-237 {background-color: #FFFF0a;}\n",
       ".cython.score-238 {background-color: #FFFF0a;}\n",
       ".cython.score-239 {background-color: #FFFF0a;}\n",
       ".cython.score-240 {background-color: #FFFF0a;}\n",
       ".cython.score-241 {background-color: #FFFF0a;}\n",
       ".cython.score-242 {background-color: #FFFF0a;}\n",
       ".cython.score-243 {background-color: #FFFF0a;}\n",
       ".cython.score-244 {background-color: #FFFF0a;}\n",
       ".cython.score-245 {background-color: #FFFF0a;}\n",
       ".cython.score-246 {background-color: #FFFF09;}\n",
       ".cython.score-247 {background-color: #FFFF09;}\n",
       ".cython.score-248 {background-color: #FFFF09;}\n",
       ".cython.score-249 {background-color: #FFFF09;}\n",
       ".cython.score-250 {background-color: #FFFF09;}\n",
       ".cython.score-251 {background-color: #FFFF09;}\n",
       ".cython.score-252 {background-color: #FFFF09;}\n",
       ".cython.score-253 {background-color: #FFFF09;}\n",
       ".cython.score-254 {background-color: #FFFF09;}\n",
       ".cython .hll { background-color: #ffffcc }\n",
       ".cython  { background: #f8f8f8; }\n",
       ".cython .c { color: #408080; font-style: italic } /* Comment */\n",
       ".cython .err { border: 1px solid #FF0000 } /* Error */\n",
       ".cython .k { color: #008000; font-weight: bold } /* Keyword */\n",
       ".cython .o { color: #666666 } /* Operator */\n",
       ".cython .ch { color: #408080; font-style: italic } /* Comment.Hashbang */\n",
       ".cython .cm { color: #408080; font-style: italic } /* Comment.Multiline */\n",
       ".cython .cp { color: #BC7A00 } /* Comment.Preproc */\n",
       ".cython .cpf { color: #408080; font-style: italic } /* Comment.PreprocFile */\n",
       ".cython .c1 { color: #408080; font-style: italic } /* Comment.Single */\n",
       ".cython .cs { color: #408080; font-style: italic } /* Comment.Special */\n",
       ".cython .gd { color: #A00000 } /* Generic.Deleted */\n",
       ".cython .ge { font-style: italic } /* Generic.Emph */\n",
       ".cython .gr { color: #FF0000 } /* Generic.Error */\n",
       ".cython .gh { color: #000080; font-weight: bold } /* Generic.Heading */\n",
       ".cython .gi { color: #00A000 } /* Generic.Inserted */\n",
       ".cython .go { color: #888888 } /* Generic.Output */\n",
       ".cython .gp { color: #000080; font-weight: bold } /* Generic.Prompt */\n",
       ".cython .gs { font-weight: bold } /* Generic.Strong */\n",
       ".cython .gu { color: #800080; font-weight: bold } /* Generic.Subheading */\n",
       ".cython .gt { color: #0044DD } /* Generic.Traceback */\n",
       ".cython .kc { color: #008000; font-weight: bold } /* Keyword.Constant */\n",
       ".cython .kd { color: #008000; font-weight: bold } /* Keyword.Declaration */\n",
       ".cython .kn { color: #008000; font-weight: bold } /* Keyword.Namespace */\n",
       ".cython .kp { color: #008000 } /* Keyword.Pseudo */\n",
       ".cython .kr { color: #008000; font-weight: bold } /* Keyword.Reserved */\n",
       ".cython .kt { color: #B00040 } /* Keyword.Type */\n",
       ".cython .m { color: #666666 } /* Literal.Number */\n",
       ".cython .s { color: #BA2121 } /* Literal.String */\n",
       ".cython .na { color: #7D9029 } /* Name.Attribute */\n",
       ".cython .nb { color: #008000 } /* Name.Builtin */\n",
       ".cython .nc { color: #0000FF; font-weight: bold } /* Name.Class */\n",
       ".cython .no { color: #880000 } /* Name.Constant */\n",
       ".cython .nd { color: #AA22FF } /* Name.Decorator */\n",
       ".cython .ni { color: #999999; font-weight: bold } /* Name.Entity */\n",
       ".cython .ne { color: #D2413A; font-weight: bold } /* Name.Exception */\n",
       ".cython .nf { color: #0000FF } /* Name.Function */\n",
       ".cython .nl { color: #A0A000 } /* Name.Label */\n",
       ".cython .nn { color: #0000FF; font-weight: bold } /* Name.Namespace */\n",
       ".cython .nt { color: #008000; font-weight: bold } /* Name.Tag */\n",
       ".cython .nv { color: #19177C } /* Name.Variable */\n",
       ".cython .ow { color: #AA22FF; font-weight: bold } /* Operator.Word */\n",
       ".cython .w { color: #bbbbbb } /* Text.Whitespace */\n",
       ".cython .mb { color: #666666 } /* Literal.Number.Bin */\n",
       ".cython .mf { color: #666666 } /* Literal.Number.Float */\n",
       ".cython .mh { color: #666666 } /* Literal.Number.Hex */\n",
       ".cython .mi { color: #666666 } /* Literal.Number.Integer */\n",
       ".cython .mo { color: #666666 } /* Literal.Number.Oct */\n",
       ".cython .sa { color: #BA2121 } /* Literal.String.Affix */\n",
       ".cython .sb { color: #BA2121 } /* Literal.String.Backtick */\n",
       ".cython .sc { color: #BA2121 } /* Literal.String.Char */\n",
       ".cython .dl { color: #BA2121 } /* Literal.String.Delimiter */\n",
       ".cython .sd { color: #BA2121; font-style: italic } /* Literal.String.Doc */\n",
       ".cython .s2 { color: #BA2121 } /* Literal.String.Double */\n",
       ".cython .se { color: #BB6622; font-weight: bold } /* Literal.String.Escape */\n",
       ".cython .sh { color: #BA2121 } /* Literal.String.Heredoc */\n",
       ".cython .si { color: #BB6688; font-weight: bold } /* Literal.String.Interpol */\n",
       ".cython .sx { color: #008000 } /* Literal.String.Other */\n",
       ".cython .sr { color: #BB6688 } /* Literal.String.Regex */\n",
       ".cython .s1 { color: #BA2121 } /* Literal.String.Single */\n",
       ".cython .ss { color: #19177C } /* Literal.String.Symbol */\n",
       ".cython .bp { color: #008000 } /* Name.Builtin.Pseudo */\n",
       ".cython .fm { color: #0000FF } /* Name.Function.Magic */\n",
       ".cython .vc { color: #19177C } /* Name.Variable.Class */\n",
       ".cython .vg { color: #19177C } /* Name.Variable.Global */\n",
       ".cython .vi { color: #19177C } /* Name.Variable.Instance */\n",
       ".cython .vm { color: #19177C } /* Name.Variable.Magic */\n",
       ".cython .il { color: #666666 } /* Literal.Number.Integer.Long */\n",
       "    </style>\n",
       "</head>\n",
       "<body class=\"cython\">\n",
       "<p><span style=\"border-bottom: solid 1px grey;\">Generated by Cython 0.28.1</span></p>\n",
       "<p>\n",
       "    <span style=\"background-color: #FFFF00\">Yellow lines</span> hint at Python interaction.<br />\n",
       "    Click on a line that starts with a \"<code>+</code>\" to see the C code that Cython generated for it.\n",
       "</p>\n",
       "<div class=\"cython\"><pre class=\"cython line score-0\">&#xA0;<span class=\"\">01</span>: <span class=\"k\">cimport</span> <span class=\"nn\">cython</span></pre>\n",
       "<pre class=\"cython line score-0\">&#xA0;<span class=\"\">02</span>: <span class=\"k\">from</span> <span class=\"nn\">libc.math</span> <span class=\"k\">cimport</span> <span class=\"n\">sin</span></pre>\n",
       "<pre class=\"cython line score-0\" onclick=\"(function(s){s.display=s.display==='block'?'none':'block'})(this.nextElementSibling.style)\">+<span class=\"\">03</span>: <span class=\"k\">ctypedef</span> <span class=\"n\">double</span> <span class=\"p\">(</span><span class=\"o\">*</span><span class=\"n\">doub_f</span><span class=\"p\">)(</span><span class=\"n\">double</span><span class=\"p\">)</span></pre>\n",
       "<pre class='cython code score-0 '>typedef double (*__pyx_t_46_cython_magic_2579ab1ccba692906a2e47db1bd7bf84_doub_f)(double);\n",
       "</pre><pre class=\"cython line score-0\">&#xA0;<span class=\"\">04</span>: </pre>\n",
       "<pre class=\"cython line score-0\">&#xA0;<span class=\"\">05</span>: <span class=\"nd\">@cython</span><span class=\"o\">.</span><span class=\"n\">cdivision</span><span class=\"p\">(</span><span class=\"bp\">True</span><span class=\"p\">)</span></pre>\n",
       "<pre class=\"cython line score-3\" onclick=\"(function(s){s.display=s.display==='block'?'none':'block'})(this.nextElementSibling.style)\">+<span class=\"\">06</span>: <span class=\"k\">cdef</span> <span class=\"nf\">integrate</span><span class=\"p\">(</span><span class=\"n\">double</span> <span class=\"n\">a</span><span class=\"p\">,</span> <span class=\"n\">double</span> <span class=\"n\">b</span><span class=\"p\">,</span> <span class=\"n\">doub_f</span> <span class=\"n\">f</span><span class=\"p\">,</span> <span class=\"nb\">int</span> <span class=\"n\">N</span><span class=\"o\">=</span><span class=\"mf\">2000</span><span class=\"p\">):</span></pre>\n",
       "<pre class='cython code score-3 '>static PyObject *__pyx_f_46_cython_magic_2579ab1ccba692906a2e47db1bd7bf84_integrate(double __pyx_v_a, double __pyx_v_b, __pyx_t_46_cython_magic_2579ab1ccba692906a2e47db1bd7bf84_doub_f __pyx_v_f, struct __pyx_opt_args_46_cython_magic_2579ab1ccba692906a2e47db1bd7bf84_integrate *__pyx_optional_args) {\n",
       "  int __pyx_v_N = ((int)0x7D0);\n",
       "  int __pyx_v_i;\n",
       "  double __pyx_v_dx;\n",
       "  double __pyx_v_s;\n",
       "  PyObject *__pyx_r = NULL;\n",
       "  <span class='refnanny'>__Pyx_RefNannyDeclarations</span>\n",
       "  <span class='refnanny'>__Pyx_RefNannySetupContext</span>(\"integrate\", 0);\n",
       "  if (__pyx_optional_args) {\n",
       "    if (__pyx_optional_args-&gt;__pyx_n &gt; 0) {\n",
       "      __pyx_v_N = __pyx_optional_args-&gt;N;\n",
       "    }\n",
       "  }\n",
       "/* … */\n",
       "  /* function exit code */\n",
       "  __pyx_L1_error:;\n",
       "  <span class='pyx_macro_api'>__Pyx_XDECREF</span>(__pyx_t_4);\n",
       "  <span class='pyx_c_api'>__Pyx_AddTraceback</span>(\"_cython_magic_2579ab1ccba692906a2e47db1bd7bf84.integrate\", __pyx_clineno, __pyx_lineno, __pyx_filename);\n",
       "  __pyx_r = 0;\n",
       "  __pyx_L0:;\n",
       "  <span class='refnanny'>__Pyx_XGIVEREF</span>(__pyx_r);\n",
       "  <span class='refnanny'>__Pyx_RefNannyFinishContext</span>();\n",
       "  return __pyx_r;\n",
       "}\n",
       "</pre><pre class=\"cython line score-0\">&#xA0;<span class=\"\">07</span>:     <span class=\"k\">cdef</span><span class=\"p\">:</span></pre>\n",
       "<pre class=\"cython line score-0\">&#xA0;<span class=\"\">08</span>:         <span class=\"nb\">int</span> <span class=\"n\">i</span></pre>\n",
       "<pre class=\"cython line score-0\" onclick=\"(function(s){s.display=s.display==='block'?'none':'block'})(this.nextElementSibling.style)\">+<span class=\"\">09</span>:         <span class=\"n\">double</span> <span class=\"n\">dx</span> <span class=\"o\">=</span> <span class=\"p\">(</span><span class=\"n\">b</span> <span class=\"o\">-</span> <span class=\"n\">a</span><span class=\"p\">)</span> <span class=\"o\">/</span> <span class=\"n\">N</span></pre>\n",
       "<pre class='cython code score-0 '>  __pyx_v_dx = ((__pyx_v_b - __pyx_v_a) / ((double)__pyx_v_N));\n",
       "</pre><pre class=\"cython line score-0\" onclick=\"(function(s){s.display=s.display==='block'?'none':'block'})(this.nextElementSibling.style)\">+<span class=\"\">10</span>:         <span class=\"n\">double</span> <span class=\"n\">s</span> <span class=\"o\">=</span> <span class=\"mf\">0.0</span></pre>\n",
       "<pre class='cython code score-0 '>  __pyx_v_s = 0.0;\n",
       "</pre><pre class=\"cython line score-0\" onclick=\"(function(s){s.display=s.display==='block'?'none':'block'})(this.nextElementSibling.style)\">+<span class=\"\">11</span>:     <span class=\"k\">for</span> <span class=\"n\">i</span> <span class=\"ow\">in</span> <span class=\"nb\">range</span><span class=\"p\">(</span><span class=\"n\">N</span><span class=\"p\">):</span></pre>\n",
       "<pre class='cython code score-0 '>  __pyx_t_1 = __pyx_v_N;\n",
       "  __pyx_t_2 = __pyx_t_1;\n",
       "  for (__pyx_t_3 = 0; __pyx_t_3 &lt; __pyx_t_2; __pyx_t_3+=1) {\n",
       "    __pyx_v_i = __pyx_t_3;\n",
       "</pre><pre class=\"cython line score-0\" onclick=\"(function(s){s.display=s.display==='block'?'none':'block'})(this.nextElementSibling.style)\">+<span class=\"\">12</span>:         <span class=\"n\">s</span> <span class=\"o\">+=</span> <span class=\"n\">f</span><span class=\"p\">(</span><span class=\"n\">a</span> <span class=\"o\">+</span> <span class=\"n\">i</span> <span class=\"o\">*</span> <span class=\"n\">dx</span><span class=\"p\">)</span></pre>\n",
       "<pre class='cython code score-0 '>    __pyx_v_s = (__pyx_v_s + __pyx_v_f((__pyx_v_a + (__pyx_v_i * __pyx_v_dx))));\n",
       "  }\n",
       "</pre><pre class=\"cython line score-6\" onclick=\"(function(s){s.display=s.display==='block'?'none':'block'})(this.nextElementSibling.style)\">+<span class=\"\">13</span>:     <span class=\"k\">return</span> <span class=\"n\">s</span> <span class=\"o\">*</span> <span class=\"n\">dx</span></pre>\n",
       "<pre class='cython code score-6 '>  <span class='pyx_macro_api'>__Pyx_XDECREF</span>(__pyx_r);\n",
       "  __pyx_t_4 = <span class='py_c_api'>PyFloat_FromDouble</span>((__pyx_v_s * __pyx_v_dx));<span class='error_goto'> if (unlikely(!__pyx_t_4)) __PYX_ERR(0, 13, __pyx_L1_error)</span>\n",
       "  <span class='refnanny'>__Pyx_GOTREF</span>(__pyx_t_4);\n",
       "  __pyx_r = __pyx_t_4;\n",
       "  __pyx_t_4 = 0;\n",
       "  goto __pyx_L0;\n",
       "</pre></div></body></html>"
      ],
      "text/plain": [
       "<IPython.core.display.HTML object>"
      ]
     },
     "execution_count": 71,
     "metadata": {},
     "output_type": "execute_result"
    }
   ],
   "source": [
    "%%cython --annotate\n",
    "cimport cython\n",
    "from libc.math cimport sin\n",
    "ctypedef double (*doub_f)(double)\n",
    "\n",
    "@cython.cdivision(True)\n",
    "cdef integrate(double a, double b, doub_f f, int N=2000):\n",
    "    cdef:\n",
    "        int i\n",
    "        double dx = (b - a) / N\n",
    "        double s = 0.0\n",
    "    for i in range(N):\n",
    "        s += f(a + i * dx)\n",
    "    return s * dx"
   ]
  },
  {
   "cell_type": "markdown",
   "metadata": {},
   "source": [
    "# Numpy and Typed Memoryviews"
   ]
  },
  {
   "cell_type": "markdown",
   "metadata": {},
   "source": [
    "Buffers (such as NumPy arrays) can be converted to `memoryview`. This way it exposes some properties:"
   ]
  },
  {
   "cell_type": "code",
   "execution_count": 5,
   "metadata": {
    "ExecuteTime": {
     "end_time": "2018-04-12T07:57:02.609383Z",
     "start_time": "2018-04-12T07:57:02.605871Z"
    }
   },
   "outputs": [],
   "source": [
    "from IPython.core.interactiveshell import InteractiveShell\n",
    "InteractiveShell.ast_node_interactivity = \"all\"\n",
    "import numpy as np\n",
    "mv = memoryview(np.ones((10,20,30)))"
   ]
  },
  {
   "cell_type": "code",
   "execution_count": 11,
   "metadata": {
    "ExecuteTime": {
     "end_time": "2018-04-12T08:02:25.061906Z",
     "start_time": "2018-04-12T08:02:25.047368Z"
    }
   },
   "outputs": [
    {
     "data": {
      "text/plain": [
       "3"
      ]
     },
     "execution_count": 11,
     "metadata": {},
     "output_type": "execute_result"
    },
    {
     "data": {
      "text/plain": [
       "(10, 20, 30)"
      ]
     },
     "execution_count": 11,
     "metadata": {},
     "output_type": "execute_result"
    },
    {
     "data": {
      "text/plain": [
       "(4800, 240, 8)"
      ]
     },
     "execution_count": 11,
     "metadata": {},
     "output_type": "execute_result"
    },
    {
     "data": {
      "text/plain": [
       "8"
      ]
     },
     "execution_count": 11,
     "metadata": {},
     "output_type": "execute_result"
    },
    {
     "data": {
      "text/plain": [
       "'d'"
      ]
     },
     "execution_count": 11,
     "metadata": {},
     "output_type": "execute_result"
    }
   ],
   "source": [
    "mv.ndim      # Dimensions\n",
    "mv.shape     # Size in each dimension\n",
    "mv.strides   # Jumps between data in each dimension\n",
    "mv.itemsize  # Bytes of each item\n",
    "mv.format    # Type of data, string (d f ...)"
   ]
  },
  {
   "cell_type": "code",
   "execution_count": 12,
   "metadata": {
    "ExecuteTime": {
     "end_time": "2018-04-12T08:04:02.979097Z",
     "start_time": "2018-04-12T08:04:02.975586Z"
    }
   },
   "outputs": [],
   "source": [
    "dt = np.dtype([('a', np.int8), ('b', np.complex128)])"
   ]
  },
  {
   "cell_type": "code",
   "execution_count": 14,
   "metadata": {
    "ExecuteTime": {
     "end_time": "2018-04-12T08:04:41.995891Z",
     "start_time": "2018-04-12T08:04:41.992882Z"
    }
   },
   "outputs": [],
   "source": [
    "structured_mv = memoryview(np.empty((10,), dtype=dt))"
   ]
  },
  {
   "cell_type": "code",
   "execution_count": 15,
   "metadata": {
    "ExecuteTime": {
     "end_time": "2018-04-12T08:04:49.796978Z",
     "start_time": "2018-04-12T08:04:49.792504Z"
    }
   },
   "outputs": [
    {
     "data": {
      "text/plain": [
       "'T{b:a:=Zd:b:}'"
      ]
     },
     "execution_count": 15,
     "metadata": {},
     "output_type": "execute_result"
    }
   ],
   "source": [
    "structured_mv.format"
   ]
  },
  {
   "cell_type": "markdown",
   "metadata": {},
   "source": [
    "## Typed memoryview"
   ]
  },
  {
   "cell_type": "markdown",
   "metadata": {},
   "source": [
    "Typed memoryviews are C efficient, with minimal Python overhead. double[:] syntax declares it to be a memoryview of type double and a single colon meaning one-dimensional arrays. Inside it you can loop over its elements using the underlying C-level data buffer. They can be applied to:\n",
    "- NumPy `ndarray` objects\n",
    "- `array.array` objects\n",
    "- `bytes` objects\n",
    "- `bytearray` objects\n",
    "\n",
    "If a Cython function has a typed memoryview argument, it can be called with\n",
    "either Python objects or C arrays as arguments."
   ]
  },
  {
   "cell_type": "code",
   "execution_count": 16,
   "metadata": {
    "ExecuteTime": {
     "end_time": "2018-04-12T08:27:25.087790Z",
     "start_time": "2018-04-12T08:27:20.775539Z"
    }
   },
   "outputs": [
    {
     "data": {
      "text/html": [
       "<!DOCTYPE html>\n",
       "<!-- Generated by Cython 0.28.1 -->\n",
       "<html>\n",
       "<head>\n",
       "    <meta http-equiv=\"Content-Type\" content=\"text/html; charset=utf-8\" />\n",
       "    <title>Cython: _cython_magic_ae2b304183d8df51fccef58804418a10.pyx</title>\n",
       "    <style type=\"text/css\">\n",
       "    \n",
       "body.cython { font-family: courier; font-size: 12; }\n",
       "\n",
       ".cython.tag  {  }\n",
       ".cython.line { margin: 0em }\n",
       ".cython.code { font-size: 9; color: #444444; display: none; margin: 0px 0px 0px 8px; border-left: 8px none; }\n",
       "\n",
       ".cython.line .run { background-color: #B0FFB0; }\n",
       ".cython.line .mis { background-color: #FFB0B0; }\n",
       ".cython.code.run  { border-left: 8px solid #B0FFB0; }\n",
       ".cython.code.mis  { border-left: 8px solid #FFB0B0; }\n",
       "\n",
       ".cython.code .py_c_api  { color: red; }\n",
       ".cython.code .py_macro_api  { color: #FF7000; }\n",
       ".cython.code .pyx_c_api  { color: #FF3000; }\n",
       ".cython.code .pyx_macro_api  { color: #FF7000; }\n",
       ".cython.code .refnanny  { color: #FFA000; }\n",
       ".cython.code .trace  { color: #FFA000; }\n",
       ".cython.code .error_goto  { color: #FFA000; }\n",
       "\n",
       ".cython.code .coerce  { color: #008000; border: 1px dotted #008000 }\n",
       ".cython.code .py_attr { color: #FF0000; font-weight: bold; }\n",
       ".cython.code .c_attr  { color: #0000FF; }\n",
       ".cython.code .py_call { color: #FF0000; font-weight: bold; }\n",
       ".cython.code .c_call  { color: #0000FF; }\n",
       "\n",
       ".cython.score-0 {background-color: #FFFFff;}\n",
       ".cython.score-1 {background-color: #FFFFe7;}\n",
       ".cython.score-2 {background-color: #FFFFd4;}\n",
       ".cython.score-3 {background-color: #FFFFc4;}\n",
       ".cython.score-4 {background-color: #FFFFb6;}\n",
       ".cython.score-5 {background-color: #FFFFaa;}\n",
       ".cython.score-6 {background-color: #FFFF9f;}\n",
       ".cython.score-7 {background-color: #FFFF96;}\n",
       ".cython.score-8 {background-color: #FFFF8d;}\n",
       ".cython.score-9 {background-color: #FFFF86;}\n",
       ".cython.score-10 {background-color: #FFFF7f;}\n",
       ".cython.score-11 {background-color: #FFFF79;}\n",
       ".cython.score-12 {background-color: #FFFF73;}\n",
       ".cython.score-13 {background-color: #FFFF6e;}\n",
       ".cython.score-14 {background-color: #FFFF6a;}\n",
       ".cython.score-15 {background-color: #FFFF66;}\n",
       ".cython.score-16 {background-color: #FFFF62;}\n",
       ".cython.score-17 {background-color: #FFFF5e;}\n",
       ".cython.score-18 {background-color: #FFFF5b;}\n",
       ".cython.score-19 {background-color: #FFFF57;}\n",
       ".cython.score-20 {background-color: #FFFF55;}\n",
       ".cython.score-21 {background-color: #FFFF52;}\n",
       ".cython.score-22 {background-color: #FFFF4f;}\n",
       ".cython.score-23 {background-color: #FFFF4d;}\n",
       ".cython.score-24 {background-color: #FFFF4b;}\n",
       ".cython.score-25 {background-color: #FFFF48;}\n",
       ".cython.score-26 {background-color: #FFFF46;}\n",
       ".cython.score-27 {background-color: #FFFF44;}\n",
       ".cython.score-28 {background-color: #FFFF43;}\n",
       ".cython.score-29 {background-color: #FFFF41;}\n",
       ".cython.score-30 {background-color: #FFFF3f;}\n",
       ".cython.score-31 {background-color: #FFFF3e;}\n",
       ".cython.score-32 {background-color: #FFFF3c;}\n",
       ".cython.score-33 {background-color: #FFFF3b;}\n",
       ".cython.score-34 {background-color: #FFFF39;}\n",
       ".cython.score-35 {background-color: #FFFF38;}\n",
       ".cython.score-36 {background-color: #FFFF37;}\n",
       ".cython.score-37 {background-color: #FFFF36;}\n",
       ".cython.score-38 {background-color: #FFFF35;}\n",
       ".cython.score-39 {background-color: #FFFF34;}\n",
       ".cython.score-40 {background-color: #FFFF33;}\n",
       ".cython.score-41 {background-color: #FFFF32;}\n",
       ".cython.score-42 {background-color: #FFFF31;}\n",
       ".cython.score-43 {background-color: #FFFF30;}\n",
       ".cython.score-44 {background-color: #FFFF2f;}\n",
       ".cython.score-45 {background-color: #FFFF2e;}\n",
       ".cython.score-46 {background-color: #FFFF2d;}\n",
       ".cython.score-47 {background-color: #FFFF2c;}\n",
       ".cython.score-48 {background-color: #FFFF2b;}\n",
       ".cython.score-49 {background-color: #FFFF2b;}\n",
       ".cython.score-50 {background-color: #FFFF2a;}\n",
       ".cython.score-51 {background-color: #FFFF29;}\n",
       ".cython.score-52 {background-color: #FFFF29;}\n",
       ".cython.score-53 {background-color: #FFFF28;}\n",
       ".cython.score-54 {background-color: #FFFF27;}\n",
       ".cython.score-55 {background-color: #FFFF27;}\n",
       ".cython.score-56 {background-color: #FFFF26;}\n",
       ".cython.score-57 {background-color: #FFFF26;}\n",
       ".cython.score-58 {background-color: #FFFF25;}\n",
       ".cython.score-59 {background-color: #FFFF24;}\n",
       ".cython.score-60 {background-color: #FFFF24;}\n",
       ".cython.score-61 {background-color: #FFFF23;}\n",
       ".cython.score-62 {background-color: #FFFF23;}\n",
       ".cython.score-63 {background-color: #FFFF22;}\n",
       ".cython.score-64 {background-color: #FFFF22;}\n",
       ".cython.score-65 {background-color: #FFFF22;}\n",
       ".cython.score-66 {background-color: #FFFF21;}\n",
       ".cython.score-67 {background-color: #FFFF21;}\n",
       ".cython.score-68 {background-color: #FFFF20;}\n",
       ".cython.score-69 {background-color: #FFFF20;}\n",
       ".cython.score-70 {background-color: #FFFF1f;}\n",
       ".cython.score-71 {background-color: #FFFF1f;}\n",
       ".cython.score-72 {background-color: #FFFF1f;}\n",
       ".cython.score-73 {background-color: #FFFF1e;}\n",
       ".cython.score-74 {background-color: #FFFF1e;}\n",
       ".cython.score-75 {background-color: #FFFF1e;}\n",
       ".cython.score-76 {background-color: #FFFF1d;}\n",
       ".cython.score-77 {background-color: #FFFF1d;}\n",
       ".cython.score-78 {background-color: #FFFF1c;}\n",
       ".cython.score-79 {background-color: #FFFF1c;}\n",
       ".cython.score-80 {background-color: #FFFF1c;}\n",
       ".cython.score-81 {background-color: #FFFF1c;}\n",
       ".cython.score-82 {background-color: #FFFF1b;}\n",
       ".cython.score-83 {background-color: #FFFF1b;}\n",
       ".cython.score-84 {background-color: #FFFF1b;}\n",
       ".cython.score-85 {background-color: #FFFF1a;}\n",
       ".cython.score-86 {background-color: #FFFF1a;}\n",
       ".cython.score-87 {background-color: #FFFF1a;}\n",
       ".cython.score-88 {background-color: #FFFF1a;}\n",
       ".cython.score-89 {background-color: #FFFF19;}\n",
       ".cython.score-90 {background-color: #FFFF19;}\n",
       ".cython.score-91 {background-color: #FFFF19;}\n",
       ".cython.score-92 {background-color: #FFFF19;}\n",
       ".cython.score-93 {background-color: #FFFF18;}\n",
       ".cython.score-94 {background-color: #FFFF18;}\n",
       ".cython.score-95 {background-color: #FFFF18;}\n",
       ".cython.score-96 {background-color: #FFFF18;}\n",
       ".cython.score-97 {background-color: #FFFF17;}\n",
       ".cython.score-98 {background-color: #FFFF17;}\n",
       ".cython.score-99 {background-color: #FFFF17;}\n",
       ".cython.score-100 {background-color: #FFFF17;}\n",
       ".cython.score-101 {background-color: #FFFF16;}\n",
       ".cython.score-102 {background-color: #FFFF16;}\n",
       ".cython.score-103 {background-color: #FFFF16;}\n",
       ".cython.score-104 {background-color: #FFFF16;}\n",
       ".cython.score-105 {background-color: #FFFF16;}\n",
       ".cython.score-106 {background-color: #FFFF15;}\n",
       ".cython.score-107 {background-color: #FFFF15;}\n",
       ".cython.score-108 {background-color: #FFFF15;}\n",
       ".cython.score-109 {background-color: #FFFF15;}\n",
       ".cython.score-110 {background-color: #FFFF15;}\n",
       ".cython.score-111 {background-color: #FFFF15;}\n",
       ".cython.score-112 {background-color: #FFFF14;}\n",
       ".cython.score-113 {background-color: #FFFF14;}\n",
       ".cython.score-114 {background-color: #FFFF14;}\n",
       ".cython.score-115 {background-color: #FFFF14;}\n",
       ".cython.score-116 {background-color: #FFFF14;}\n",
       ".cython.score-117 {background-color: #FFFF14;}\n",
       ".cython.score-118 {background-color: #FFFF13;}\n",
       ".cython.score-119 {background-color: #FFFF13;}\n",
       ".cython.score-120 {background-color: #FFFF13;}\n",
       ".cython.score-121 {background-color: #FFFF13;}\n",
       ".cython.score-122 {background-color: #FFFF13;}\n",
       ".cython.score-123 {background-color: #FFFF13;}\n",
       ".cython.score-124 {background-color: #FFFF13;}\n",
       ".cython.score-125 {background-color: #FFFF12;}\n",
       ".cython.score-126 {background-color: #FFFF12;}\n",
       ".cython.score-127 {background-color: #FFFF12;}\n",
       ".cython.score-128 {background-color: #FFFF12;}\n",
       ".cython.score-129 {background-color: #FFFF12;}\n",
       ".cython.score-130 {background-color: #FFFF12;}\n",
       ".cython.score-131 {background-color: #FFFF12;}\n",
       ".cython.score-132 {background-color: #FFFF11;}\n",
       ".cython.score-133 {background-color: #FFFF11;}\n",
       ".cython.score-134 {background-color: #FFFF11;}\n",
       ".cython.score-135 {background-color: #FFFF11;}\n",
       ".cython.score-136 {background-color: #FFFF11;}\n",
       ".cython.score-137 {background-color: #FFFF11;}\n",
       ".cython.score-138 {background-color: #FFFF11;}\n",
       ".cython.score-139 {background-color: #FFFF11;}\n",
       ".cython.score-140 {background-color: #FFFF11;}\n",
       ".cython.score-141 {background-color: #FFFF10;}\n",
       ".cython.score-142 {background-color: #FFFF10;}\n",
       ".cython.score-143 {background-color: #FFFF10;}\n",
       ".cython.score-144 {background-color: #FFFF10;}\n",
       ".cython.score-145 {background-color: #FFFF10;}\n",
       ".cython.score-146 {background-color: #FFFF10;}\n",
       ".cython.score-147 {background-color: #FFFF10;}\n",
       ".cython.score-148 {background-color: #FFFF10;}\n",
       ".cython.score-149 {background-color: #FFFF10;}\n",
       ".cython.score-150 {background-color: #FFFF0f;}\n",
       ".cython.score-151 {background-color: #FFFF0f;}\n",
       ".cython.score-152 {background-color: #FFFF0f;}\n",
       ".cython.score-153 {background-color: #FFFF0f;}\n",
       ".cython.score-154 {background-color: #FFFF0f;}\n",
       ".cython.score-155 {background-color: #FFFF0f;}\n",
       ".cython.score-156 {background-color: #FFFF0f;}\n",
       ".cython.score-157 {background-color: #FFFF0f;}\n",
       ".cython.score-158 {background-color: #FFFF0f;}\n",
       ".cython.score-159 {background-color: #FFFF0f;}\n",
       ".cython.score-160 {background-color: #FFFF0f;}\n",
       ".cython.score-161 {background-color: #FFFF0e;}\n",
       ".cython.score-162 {background-color: #FFFF0e;}\n",
       ".cython.score-163 {background-color: #FFFF0e;}\n",
       ".cython.score-164 {background-color: #FFFF0e;}\n",
       ".cython.score-165 {background-color: #FFFF0e;}\n",
       ".cython.score-166 {background-color: #FFFF0e;}\n",
       ".cython.score-167 {background-color: #FFFF0e;}\n",
       ".cython.score-168 {background-color: #FFFF0e;}\n",
       ".cython.score-169 {background-color: #FFFF0e;}\n",
       ".cython.score-170 {background-color: #FFFF0e;}\n",
       ".cython.score-171 {background-color: #FFFF0e;}\n",
       ".cython.score-172 {background-color: #FFFF0e;}\n",
       ".cython.score-173 {background-color: #FFFF0d;}\n",
       ".cython.score-174 {background-color: #FFFF0d;}\n",
       ".cython.score-175 {background-color: #FFFF0d;}\n",
       ".cython.score-176 {background-color: #FFFF0d;}\n",
       ".cython.score-177 {background-color: #FFFF0d;}\n",
       ".cython.score-178 {background-color: #FFFF0d;}\n",
       ".cython.score-179 {background-color: #FFFF0d;}\n",
       ".cython.score-180 {background-color: #FFFF0d;}\n",
       ".cython.score-181 {background-color: #FFFF0d;}\n",
       ".cython.score-182 {background-color: #FFFF0d;}\n",
       ".cython.score-183 {background-color: #FFFF0d;}\n",
       ".cython.score-184 {background-color: #FFFF0d;}\n",
       ".cython.score-185 {background-color: #FFFF0d;}\n",
       ".cython.score-186 {background-color: #FFFF0d;}\n",
       ".cython.score-187 {background-color: #FFFF0c;}\n",
       ".cython.score-188 {background-color: #FFFF0c;}\n",
       ".cython.score-189 {background-color: #FFFF0c;}\n",
       ".cython.score-190 {background-color: #FFFF0c;}\n",
       ".cython.score-191 {background-color: #FFFF0c;}\n",
       ".cython.score-192 {background-color: #FFFF0c;}\n",
       ".cython.score-193 {background-color: #FFFF0c;}\n",
       ".cython.score-194 {background-color: #FFFF0c;}\n",
       ".cython.score-195 {background-color: #FFFF0c;}\n",
       ".cython.score-196 {background-color: #FFFF0c;}\n",
       ".cython.score-197 {background-color: #FFFF0c;}\n",
       ".cython.score-198 {background-color: #FFFF0c;}\n",
       ".cython.score-199 {background-color: #FFFF0c;}\n",
       ".cython.score-200 {background-color: #FFFF0c;}\n",
       ".cython.score-201 {background-color: #FFFF0c;}\n",
       ".cython.score-202 {background-color: #FFFF0c;}\n",
       ".cython.score-203 {background-color: #FFFF0b;}\n",
       ".cython.score-204 {background-color: #FFFF0b;}\n",
       ".cython.score-205 {background-color: #FFFF0b;}\n",
       ".cython.score-206 {background-color: #FFFF0b;}\n",
       ".cython.score-207 {background-color: #FFFF0b;}\n",
       ".cython.score-208 {background-color: #FFFF0b;}\n",
       ".cython.score-209 {background-color: #FFFF0b;}\n",
       ".cython.score-210 {background-color: #FFFF0b;}\n",
       ".cython.score-211 {background-color: #FFFF0b;}\n",
       ".cython.score-212 {background-color: #FFFF0b;}\n",
       ".cython.score-213 {background-color: #FFFF0b;}\n",
       ".cython.score-214 {background-color: #FFFF0b;}\n",
       ".cython.score-215 {background-color: #FFFF0b;}\n",
       ".cython.score-216 {background-color: #FFFF0b;}\n",
       ".cython.score-217 {background-color: #FFFF0b;}\n",
       ".cython.score-218 {background-color: #FFFF0b;}\n",
       ".cython.score-219 {background-color: #FFFF0b;}\n",
       ".cython.score-220 {background-color: #FFFF0b;}\n",
       ".cython.score-221 {background-color: #FFFF0b;}\n",
       ".cython.score-222 {background-color: #FFFF0a;}\n",
       ".cython.score-223 {background-color: #FFFF0a;}\n",
       ".cython.score-224 {background-color: #FFFF0a;}\n",
       ".cython.score-225 {background-color: #FFFF0a;}\n",
       ".cython.score-226 {background-color: #FFFF0a;}\n",
       ".cython.score-227 {background-color: #FFFF0a;}\n",
       ".cython.score-228 {background-color: #FFFF0a;}\n",
       ".cython.score-229 {background-color: #FFFF0a;}\n",
       ".cython.score-230 {background-color: #FFFF0a;}\n",
       ".cython.score-231 {background-color: #FFFF0a;}\n",
       ".cython.score-232 {background-color: #FFFF0a;}\n",
       ".cython.score-233 {background-color: #FFFF0a;}\n",
       ".cython.score-234 {background-color: #FFFF0a;}\n",
       ".cython.score-235 {background-color: #FFFF0a;}\n",
       ".cython.score-236 {background-color: #FFFF0a;}\n",
       ".cython.score-237 {background-color: #FFFF0a;}\n",
       ".cython.score-238 {background-color: #FFFF0a;}\n",
       ".cython.score-239 {background-color: #FFFF0a;}\n",
       ".cython.score-240 {background-color: #FFFF0a;}\n",
       ".cython.score-241 {background-color: #FFFF0a;}\n",
       ".cython.score-242 {background-color: #FFFF0a;}\n",
       ".cython.score-243 {background-color: #FFFF0a;}\n",
       ".cython.score-244 {background-color: #FFFF0a;}\n",
       ".cython.score-245 {background-color: #FFFF0a;}\n",
       ".cython.score-246 {background-color: #FFFF09;}\n",
       ".cython.score-247 {background-color: #FFFF09;}\n",
       ".cython.score-248 {background-color: #FFFF09;}\n",
       ".cython.score-249 {background-color: #FFFF09;}\n",
       ".cython.score-250 {background-color: #FFFF09;}\n",
       ".cython.score-251 {background-color: #FFFF09;}\n",
       ".cython.score-252 {background-color: #FFFF09;}\n",
       ".cython.score-253 {background-color: #FFFF09;}\n",
       ".cython.score-254 {background-color: #FFFF09;}\n",
       ".cython .hll { background-color: #ffffcc }\n",
       ".cython  { background: #f8f8f8; }\n",
       ".cython .c { color: #408080; font-style: italic } /* Comment */\n",
       ".cython .err { border: 1px solid #FF0000 } /* Error */\n",
       ".cython .k { color: #008000; font-weight: bold } /* Keyword */\n",
       ".cython .o { color: #666666 } /* Operator */\n",
       ".cython .ch { color: #408080; font-style: italic } /* Comment.Hashbang */\n",
       ".cython .cm { color: #408080; font-style: italic } /* Comment.Multiline */\n",
       ".cython .cp { color: #BC7A00 } /* Comment.Preproc */\n",
       ".cython .cpf { color: #408080; font-style: italic } /* Comment.PreprocFile */\n",
       ".cython .c1 { color: #408080; font-style: italic } /* Comment.Single */\n",
       ".cython .cs { color: #408080; font-style: italic } /* Comment.Special */\n",
       ".cython .gd { color: #A00000 } /* Generic.Deleted */\n",
       ".cython .ge { font-style: italic } /* Generic.Emph */\n",
       ".cython .gr { color: #FF0000 } /* Generic.Error */\n",
       ".cython .gh { color: #000080; font-weight: bold } /* Generic.Heading */\n",
       ".cython .gi { color: #00A000 } /* Generic.Inserted */\n",
       ".cython .go { color: #888888 } /* Generic.Output */\n",
       ".cython .gp { color: #000080; font-weight: bold } /* Generic.Prompt */\n",
       ".cython .gs { font-weight: bold } /* Generic.Strong */\n",
       ".cython .gu { color: #800080; font-weight: bold } /* Generic.Subheading */\n",
       ".cython .gt { color: #0044DD } /* Generic.Traceback */\n",
       ".cython .kc { color: #008000; font-weight: bold } /* Keyword.Constant */\n",
       ".cython .kd { color: #008000; font-weight: bold } /* Keyword.Declaration */\n",
       ".cython .kn { color: #008000; font-weight: bold } /* Keyword.Namespace */\n",
       ".cython .kp { color: #008000 } /* Keyword.Pseudo */\n",
       ".cython .kr { color: #008000; font-weight: bold } /* Keyword.Reserved */\n",
       ".cython .kt { color: #B00040 } /* Keyword.Type */\n",
       ".cython .m { color: #666666 } /* Literal.Number */\n",
       ".cython .s { color: #BA2121 } /* Literal.String */\n",
       ".cython .na { color: #7D9029 } /* Name.Attribute */\n",
       ".cython .nb { color: #008000 } /* Name.Builtin */\n",
       ".cython .nc { color: #0000FF; font-weight: bold } /* Name.Class */\n",
       ".cython .no { color: #880000 } /* Name.Constant */\n",
       ".cython .nd { color: #AA22FF } /* Name.Decorator */\n",
       ".cython .ni { color: #999999; font-weight: bold } /* Name.Entity */\n",
       ".cython .ne { color: #D2413A; font-weight: bold } /* Name.Exception */\n",
       ".cython .nf { color: #0000FF } /* Name.Function */\n",
       ".cython .nl { color: #A0A000 } /* Name.Label */\n",
       ".cython .nn { color: #0000FF; font-weight: bold } /* Name.Namespace */\n",
       ".cython .nt { color: #008000; font-weight: bold } /* Name.Tag */\n",
       ".cython .nv { color: #19177C } /* Name.Variable */\n",
       ".cython .ow { color: #AA22FF; font-weight: bold } /* Operator.Word */\n",
       ".cython .w { color: #bbbbbb } /* Text.Whitespace */\n",
       ".cython .mb { color: #666666 } /* Literal.Number.Bin */\n",
       ".cython .mf { color: #666666 } /* Literal.Number.Float */\n",
       ".cython .mh { color: #666666 } /* Literal.Number.Hex */\n",
       ".cython .mi { color: #666666 } /* Literal.Number.Integer */\n",
       ".cython .mo { color: #666666 } /* Literal.Number.Oct */\n",
       ".cython .sa { color: #BA2121 } /* Literal.String.Affix */\n",
       ".cython .sb { color: #BA2121 } /* Literal.String.Backtick */\n",
       ".cython .sc { color: #BA2121 } /* Literal.String.Char */\n",
       ".cython .dl { color: #BA2121 } /* Literal.String.Delimiter */\n",
       ".cython .sd { color: #BA2121; font-style: italic } /* Literal.String.Doc */\n",
       ".cython .s2 { color: #BA2121 } /* Literal.String.Double */\n",
       ".cython .se { color: #BB6622; font-weight: bold } /* Literal.String.Escape */\n",
       ".cython .sh { color: #BA2121 } /* Literal.String.Heredoc */\n",
       ".cython .si { color: #BB6688; font-weight: bold } /* Literal.String.Interpol */\n",
       ".cython .sx { color: #008000 } /* Literal.String.Other */\n",
       ".cython .sr { color: #BB6688 } /* Literal.String.Regex */\n",
       ".cython .s1 { color: #BA2121 } /* Literal.String.Single */\n",
       ".cython .ss { color: #19177C } /* Literal.String.Symbol */\n",
       ".cython .bp { color: #008000 } /* Name.Builtin.Pseudo */\n",
       ".cython .fm { color: #0000FF } /* Name.Function.Magic */\n",
       ".cython .vc { color: #19177C } /* Name.Variable.Class */\n",
       ".cython .vg { color: #19177C } /* Name.Variable.Global */\n",
       ".cython .vi { color: #19177C } /* Name.Variable.Instance */\n",
       ".cython .vm { color: #19177C } /* Name.Variable.Magic */\n",
       ".cython .il { color: #666666 } /* Literal.Number.Integer.Long */\n",
       "    </style>\n",
       "</head>\n",
       "<body class=\"cython\">\n",
       "<p><span style=\"border-bottom: solid 1px grey;\">Generated by Cython 0.28.1</span></p>\n",
       "<p>\n",
       "    <span style=\"background-color: #FFFF00\">Yellow lines</span> hint at Python interaction.<br />\n",
       "    Click on a line that starts with a \"<code>+</code>\" to see the C code that Cython generated for it.\n",
       "</p>\n",
       "<div class=\"cython\"><pre class=\"cython line score-29\" onclick=\"(function(s){s.display=s.display==='block'?'none':'block'})(this.nextElementSibling.style)\">+<span class=\"\">1</span>: <span class=\"k\">def</span> <span class=\"nf\">summer</span><span class=\"p\">(</span><span class=\"n\">double</span><span class=\"p\">[:]</span> <span class=\"n\">mv</span><span class=\"p\">):</span></pre>\n",
       "<pre class='cython code score-29 '>/* Python wrapper */\n",
       "static PyObject *__pyx_pw_46_cython_magic_ae2b304183d8df51fccef58804418a10_1summer(PyObject *__pyx_self, PyObject *__pyx_arg_mv); /*proto*/\n",
       "static char __pyx_doc_46_cython_magic_ae2b304183d8df51fccef58804418a10_summer[] = \"Sums its argument's contents.\";\n",
       "static PyMethodDef __pyx_mdef_46_cython_magic_ae2b304183d8df51fccef58804418a10_1summer = {\"summer\", (PyCFunction)__pyx_pw_46_cython_magic_ae2b304183d8df51fccef58804418a10_1summer, METH_O, __pyx_doc_46_cython_magic_ae2b304183d8df51fccef58804418a10_summer};\n",
       "static PyObject *__pyx_pw_46_cython_magic_ae2b304183d8df51fccef58804418a10_1summer(PyObject *__pyx_self, PyObject *__pyx_arg_mv) {\n",
       "  __Pyx_memviewslice __pyx_v_mv = { 0, 0, { 0 }, { 0 }, { 0 } };\n",
       "  PyObject *__pyx_r = 0;\n",
       "  <span class='refnanny'>__Pyx_RefNannyDeclarations</span>\n",
       "  <span class='refnanny'>__Pyx_RefNannySetupContext</span>(\"summer (wrapper)\", 0);\n",
       "  assert(__pyx_arg_mv); {\n",
       "    __pyx_v_mv = <span class='pyx_c_api'>__Pyx_PyObject_to_MemoryviewSlice_ds_double</span>(__pyx_arg_mv, PyBUF_WRITABLE);<span class='error_goto'> if (unlikely(!__pyx_v_mv.memview)) __PYX_ERR(0, 1, __pyx_L3_error)</span>\n",
       "  }\n",
       "  goto __pyx_L4_argument_unpacking_done;\n",
       "  __pyx_L3_error:;\n",
       "  <span class='pyx_c_api'>__Pyx_AddTraceback</span>(\"_cython_magic_ae2b304183d8df51fccef58804418a10.summer\", __pyx_clineno, __pyx_lineno, __pyx_filename);\n",
       "  <span class='refnanny'>__Pyx_RefNannyFinishContext</span>();\n",
       "  return NULL;\n",
       "  __pyx_L4_argument_unpacking_done:;\n",
       "  __pyx_r = __pyx_pf_46_cython_magic_ae2b304183d8df51fccef58804418a10_summer(__pyx_self, __pyx_v_mv);\n",
       "\n",
       "  /* function exit code */\n",
       "  <span class='refnanny'>__Pyx_RefNannyFinishContext</span>();\n",
       "  return __pyx_r;\n",
       "}\n",
       "\n",
       "static PyObject *__pyx_pf_46_cython_magic_ae2b304183d8df51fccef58804418a10_summer(CYTHON_UNUSED PyObject *__pyx_self, __Pyx_memviewslice __pyx_v_mv) {\n",
       "  double __pyx_v_d;\n",
       "  double __pyx_v_ss;\n",
       "  PyObject *__pyx_r = NULL;\n",
       "  <span class='refnanny'>__Pyx_RefNannyDeclarations</span>\n",
       "  <span class='refnanny'>__Pyx_RefNannySetupContext</span>(\"summer\", 0);\n",
       "/* … */\n",
       "  /* function exit code */\n",
       "  __pyx_L1_error:;\n",
       "  <span class='pyx_macro_api'>__Pyx_XDECREF</span>(__pyx_t_1);\n",
       "  <span class='pyx_macro_api'>__Pyx_XDECREF</span>(__pyx_t_2);\n",
       "  <span class='pyx_c_api'>__Pyx_AddTraceback</span>(\"_cython_magic_ae2b304183d8df51fccef58804418a10.summer\", __pyx_clineno, __pyx_lineno, __pyx_filename);\n",
       "  __pyx_r = NULL;\n",
       "  __pyx_L0:;\n",
       "  __PYX_XDEC_MEMVIEW(&amp;__pyx_v_mv, 1);\n",
       "  <span class='refnanny'>__Pyx_XGIVEREF</span>(__pyx_r);\n",
       "  <span class='refnanny'>__Pyx_RefNannyFinishContext</span>();\n",
       "  return __pyx_r;\n",
       "}\n",
       "/* … */\n",
       "  __pyx_tuple__22 = <span class='py_c_api'>PyTuple_Pack</span>(4, __pyx_n_s_mv, __pyx_n_s_mv, __pyx_n_s_d, __pyx_n_s_ss);<span class='error_goto'> if (unlikely(!__pyx_tuple__22)) __PYX_ERR(0, 1, __pyx_L1_error)</span>\n",
       "  <span class='refnanny'>__Pyx_GOTREF</span>(__pyx_tuple__22);\n",
       "  <span class='refnanny'>__Pyx_GIVEREF</span>(__pyx_tuple__22);\n",
       "/* … */\n",
       "  __pyx_t_1 = PyCFunction_NewEx(&amp;__pyx_mdef_46_cython_magic_ae2b304183d8df51fccef58804418a10_1summer, NULL, __pyx_n_s_cython_magic_ae2b304183d8df51fc);<span class='error_goto'> if (unlikely(!__pyx_t_1)) __PYX_ERR(0, 1, __pyx_L1_error)</span>\n",
       "  <span class='refnanny'>__Pyx_GOTREF</span>(__pyx_t_1);\n",
       "  if (<span class='py_c_api'>PyDict_SetItem</span>(__pyx_d, __pyx_n_s_summer, __pyx_t_1) &lt; 0) <span class='error_goto'>__PYX_ERR(0, 1, __pyx_L1_error)</span>\n",
       "  <span class='pyx_macro_api'>__Pyx_DECREF</span>(__pyx_t_1); __pyx_t_1 = 0;\n",
       "  __pyx_t_1 = <span class='pyx_c_api'>__Pyx_PyDict_NewPresized</span>(0);<span class='error_goto'> if (unlikely(!__pyx_t_1)) __PYX_ERR(0, 1, __pyx_L1_error)</span>\n",
       "  <span class='refnanny'>__Pyx_GOTREF</span>(__pyx_t_1);\n",
       "  if (<span class='py_c_api'>PyDict_SetItem</span>(__pyx_d, __pyx_n_s_test, __pyx_t_1) &lt; 0) <span class='error_goto'>__PYX_ERR(0, 1, __pyx_L1_error)</span>\n",
       "  <span class='pyx_macro_api'>__Pyx_DECREF</span>(__pyx_t_1); __pyx_t_1 = 0;\n",
       "  __pyx_codeobj__23 = (PyObject*)<span class='pyx_c_api'>__Pyx_PyCode_New</span>(1, 0, 4, 0, CO_OPTIMIZED|CO_NEWLOCALS, __pyx_empty_bytes, __pyx_empty_tuple, __pyx_empty_tuple, __pyx_tuple__22, __pyx_empty_tuple, __pyx_empty_tuple, __pyx_kp_s_C_Users_I349877_ipython_cython, __pyx_n_s_summer, 1, __pyx_empty_bytes);<span class='error_goto'> if (unlikely(!__pyx_codeobj__23)) __PYX_ERR(0, 1, __pyx_L1_error)</span>\n",
       "</pre><pre class=\"cython line score-0\">&#xA0;<span class=\"\">2</span>:     <span class=\"sd\">&quot;&quot;&quot;Sums its argument&#39;s contents.&quot;&quot;&quot;</span></pre>\n",
       "<pre class=\"cython line score-0\" onclick=\"(function(s){s.display=s.display==='block'?'none':'block'})(this.nextElementSibling.style)\">+<span class=\"\">3</span>:     <span class=\"k\">cdef</span> <span class=\"kt\">double</span> <span class=\"nf\">d</span><span class=\"p\">,</span> <span class=\"nf\">ss</span> <span class=\"o\">=</span> <span class=\"mf\">0.0</span></pre>\n",
       "<pre class='cython code score-0 '>  __pyx_v_ss = 0.0;\n",
       "</pre><pre class=\"cython line score-54\" onclick=\"(function(s){s.display=s.display==='block'?'none':'block'})(this.nextElementSibling.style)\">+<span class=\"\">4</span>:     <span class=\"k\">for</span> <span class=\"n\">d</span> <span class=\"ow\">in</span> <span class=\"n\">mv</span><span class=\"p\">:</span></pre>\n",
       "<pre class='cython code score-54 '>  __pyx_t_1 = __pyx_memoryview_fromslice(__pyx_v_mv, 1, (PyObject *(*)(char *)) __pyx_memview_get_double, (int (*)(char *, PyObject *)) __pyx_memview_set_double, 0);;<span class='error_goto'> if (unlikely(!__pyx_t_1)) __PYX_ERR(0, 4, __pyx_L1_error)</span>\n",
       "  <span class='refnanny'>__Pyx_GOTREF</span>(__pyx_t_1);\n",
       "  if (likely(<span class='py_c_api'>PyList_CheckExact</span>(__pyx_t_1)) || <span class='py_c_api'>PyTuple_CheckExact</span>(__pyx_t_1)) {\n",
       "    __pyx_t_2 = __pyx_t_1; <span class='pyx_macro_api'>__Pyx_INCREF</span>(__pyx_t_2); __pyx_t_3 = 0;\n",
       "    __pyx_t_4 = NULL;\n",
       "  } else {\n",
       "    __pyx_t_3 = -1; __pyx_t_2 = <span class='py_c_api'>PyObject_GetIter</span>(__pyx_t_1);<span class='error_goto'> if (unlikely(!__pyx_t_2)) __PYX_ERR(0, 4, __pyx_L1_error)</span>\n",
       "    <span class='refnanny'>__Pyx_GOTREF</span>(__pyx_t_2);\n",
       "    __pyx_t_4 = Py_TYPE(__pyx_t_2)-&gt;tp_iternext;<span class='error_goto'> if (unlikely(!__pyx_t_4)) __PYX_ERR(0, 4, __pyx_L1_error)</span>\n",
       "  }\n",
       "  <span class='pyx_macro_api'>__Pyx_DECREF</span>(__pyx_t_1); __pyx_t_1 = 0;\n",
       "  for (;;) {\n",
       "    if (likely(!__pyx_t_4)) {\n",
       "      if (likely(<span class='py_c_api'>PyList_CheckExact</span>(__pyx_t_2))) {\n",
       "        if (__pyx_t_3 &gt;= <span class='py_macro_api'>PyList_GET_SIZE</span>(__pyx_t_2)) break;\n",
       "        #if CYTHON_ASSUME_SAFE_MACROS &amp;&amp; !CYTHON_AVOID_BORROWED_REFS\n",
       "        __pyx_t_1 = <span class='py_macro_api'>PyList_GET_ITEM</span>(__pyx_t_2, __pyx_t_3); <span class='pyx_macro_api'>__Pyx_INCREF</span>(__pyx_t_1); __pyx_t_3++; if (unlikely(0 &lt; 0)) <span class='error_goto'>__PYX_ERR(0, 4, __pyx_L1_error)</span>\n",
       "        #else\n",
       "        __pyx_t_1 = <span class='py_macro_api'>PySequence_ITEM</span>(__pyx_t_2, __pyx_t_3); __pyx_t_3++;<span class='error_goto'> if (unlikely(!__pyx_t_1)) __PYX_ERR(0, 4, __pyx_L1_error)</span>\n",
       "        <span class='refnanny'>__Pyx_GOTREF</span>(__pyx_t_1);\n",
       "        #endif\n",
       "      } else {\n",
       "        if (__pyx_t_3 &gt;= <span class='py_macro_api'>PyTuple_GET_SIZE</span>(__pyx_t_2)) break;\n",
       "        #if CYTHON_ASSUME_SAFE_MACROS &amp;&amp; !CYTHON_AVOID_BORROWED_REFS\n",
       "        __pyx_t_1 = <span class='py_macro_api'>PyTuple_GET_ITEM</span>(__pyx_t_2, __pyx_t_3); <span class='pyx_macro_api'>__Pyx_INCREF</span>(__pyx_t_1); __pyx_t_3++; if (unlikely(0 &lt; 0)) <span class='error_goto'>__PYX_ERR(0, 4, __pyx_L1_error)</span>\n",
       "        #else\n",
       "        __pyx_t_1 = <span class='py_macro_api'>PySequence_ITEM</span>(__pyx_t_2, __pyx_t_3); __pyx_t_3++;<span class='error_goto'> if (unlikely(!__pyx_t_1)) __PYX_ERR(0, 4, __pyx_L1_error)</span>\n",
       "        <span class='refnanny'>__Pyx_GOTREF</span>(__pyx_t_1);\n",
       "        #endif\n",
       "      }\n",
       "    } else {\n",
       "      __pyx_t_1 = __pyx_t_4(__pyx_t_2);\n",
       "      if (unlikely(!__pyx_t_1)) {\n",
       "        PyObject* exc_type = <span class='py_c_api'>PyErr_Occurred</span>();\n",
       "        if (exc_type) {\n",
       "          if (likely(<span class='pyx_c_api'>__Pyx_PyErr_GivenExceptionMatches</span>(exc_type, PyExc_StopIteration))) <span class='py_c_api'>PyErr_Clear</span>();\n",
       "          else <span class='error_goto'>__PYX_ERR(0, 4, __pyx_L1_error)</span>\n",
       "        }\n",
       "        break;\n",
       "      }\n",
       "      <span class='refnanny'>__Pyx_GOTREF</span>(__pyx_t_1);\n",
       "    }\n",
       "    __pyx_t_5 = __pyx_<span class='py_c_api'>PyFloat_AsDouble</span>(__pyx_t_1); if (unlikely((__pyx_t_5 == (double)-1) &amp;&amp; <span class='py_c_api'>PyErr_Occurred</span>())) <span class='error_goto'>__PYX_ERR(0, 4, __pyx_L1_error)</span>\n",
       "    <span class='pyx_macro_api'>__Pyx_DECREF</span>(__pyx_t_1); __pyx_t_1 = 0;\n",
       "    __pyx_v_d = __pyx_t_5;\n",
       "/* … */\n",
       "  }\n",
       "  <span class='pyx_macro_api'>__Pyx_DECREF</span>(__pyx_t_2); __pyx_t_2 = 0;\n",
       "</pre><pre class=\"cython line score-0\" onclick=\"(function(s){s.display=s.display==='block'?'none':'block'})(this.nextElementSibling.style)\">+<span class=\"\">5</span>:         <span class=\"n\">ss</span> <span class=\"o\">+=</span> <span class=\"n\">d</span></pre>\n",
       "<pre class='cython code score-0 '>    __pyx_v_ss = (__pyx_v_ss + __pyx_v_d);\n",
       "</pre><pre class=\"cython line score-6\" onclick=\"(function(s){s.display=s.display==='block'?'none':'block'})(this.nextElementSibling.style)\">+<span class=\"\">6</span>:     <span class=\"k\">return</span> <span class=\"n\">ss</span></pre>\n",
       "<pre class='cython code score-6 '>  <span class='pyx_macro_api'>__Pyx_XDECREF</span>(__pyx_r);\n",
       "  __pyx_t_2 = <span class='py_c_api'>PyFloat_FromDouble</span>(__pyx_v_ss);<span class='error_goto'> if (unlikely(!__pyx_t_2)) __PYX_ERR(0, 6, __pyx_L1_error)</span>\n",
       "  <span class='refnanny'>__Pyx_GOTREF</span>(__pyx_t_2);\n",
       "  __pyx_r = __pyx_t_2;\n",
       "  __pyx_t_2 = 0;\n",
       "  goto __pyx_L0;\n",
       "</pre></div></body></html>"
      ],
      "text/plain": [
       "<IPython.core.display.HTML object>"
      ]
     },
     "execution_count": 16,
     "metadata": {},
     "output_type": "execute_result"
    }
   ],
   "source": [
    "%%cython --annotate\n",
    "def summer(double[:] mv):\n",
    "    \"\"\"Sums its argument's contents.\"\"\"\n",
    "    cdef double d, ss = 0.0\n",
    "    for d in mv:\n",
    "        ss += d\n",
    "    return ss"
   ]
  },
  {
   "cell_type": "markdown",
   "metadata": {},
   "source": [
    "This version is very slow because it is continously calling the Python API. To make it faster (bypass Python/C API) we have to access it by indexing:"
   ]
  },
  {
   "cell_type": "code",
   "execution_count": 17,
   "metadata": {
    "ExecuteTime": {
     "end_time": "2018-04-12T08:27:33.945011Z",
     "start_time": "2018-04-12T08:27:30.039270Z"
    }
   },
   "outputs": [
    {
     "data": {
      "text/html": [
       "<!DOCTYPE html>\n",
       "<!-- Generated by Cython 0.28.1 -->\n",
       "<html>\n",
       "<head>\n",
       "    <meta http-equiv=\"Content-Type\" content=\"text/html; charset=utf-8\" />\n",
       "    <title>Cython: _cython_magic_7d506c6bf21c548e17a83e0467c0ad8c.pyx</title>\n",
       "    <style type=\"text/css\">\n",
       "    \n",
       "body.cython { font-family: courier; font-size: 12; }\n",
       "\n",
       ".cython.tag  {  }\n",
       ".cython.line { margin: 0em }\n",
       ".cython.code { font-size: 9; color: #444444; display: none; margin: 0px 0px 0px 8px; border-left: 8px none; }\n",
       "\n",
       ".cython.line .run { background-color: #B0FFB0; }\n",
       ".cython.line .mis { background-color: #FFB0B0; }\n",
       ".cython.code.run  { border-left: 8px solid #B0FFB0; }\n",
       ".cython.code.mis  { border-left: 8px solid #FFB0B0; }\n",
       "\n",
       ".cython.code .py_c_api  { color: red; }\n",
       ".cython.code .py_macro_api  { color: #FF7000; }\n",
       ".cython.code .pyx_c_api  { color: #FF3000; }\n",
       ".cython.code .pyx_macro_api  { color: #FF7000; }\n",
       ".cython.code .refnanny  { color: #FFA000; }\n",
       ".cython.code .trace  { color: #FFA000; }\n",
       ".cython.code .error_goto  { color: #FFA000; }\n",
       "\n",
       ".cython.code .coerce  { color: #008000; border: 1px dotted #008000 }\n",
       ".cython.code .py_attr { color: #FF0000; font-weight: bold; }\n",
       ".cython.code .c_attr  { color: #0000FF; }\n",
       ".cython.code .py_call { color: #FF0000; font-weight: bold; }\n",
       ".cython.code .c_call  { color: #0000FF; }\n",
       "\n",
       ".cython.score-0 {background-color: #FFFFff;}\n",
       ".cython.score-1 {background-color: #FFFFe7;}\n",
       ".cython.score-2 {background-color: #FFFFd4;}\n",
       ".cython.score-3 {background-color: #FFFFc4;}\n",
       ".cython.score-4 {background-color: #FFFFb6;}\n",
       ".cython.score-5 {background-color: #FFFFaa;}\n",
       ".cython.score-6 {background-color: #FFFF9f;}\n",
       ".cython.score-7 {background-color: #FFFF96;}\n",
       ".cython.score-8 {background-color: #FFFF8d;}\n",
       ".cython.score-9 {background-color: #FFFF86;}\n",
       ".cython.score-10 {background-color: #FFFF7f;}\n",
       ".cython.score-11 {background-color: #FFFF79;}\n",
       ".cython.score-12 {background-color: #FFFF73;}\n",
       ".cython.score-13 {background-color: #FFFF6e;}\n",
       ".cython.score-14 {background-color: #FFFF6a;}\n",
       ".cython.score-15 {background-color: #FFFF66;}\n",
       ".cython.score-16 {background-color: #FFFF62;}\n",
       ".cython.score-17 {background-color: #FFFF5e;}\n",
       ".cython.score-18 {background-color: #FFFF5b;}\n",
       ".cython.score-19 {background-color: #FFFF57;}\n",
       ".cython.score-20 {background-color: #FFFF55;}\n",
       ".cython.score-21 {background-color: #FFFF52;}\n",
       ".cython.score-22 {background-color: #FFFF4f;}\n",
       ".cython.score-23 {background-color: #FFFF4d;}\n",
       ".cython.score-24 {background-color: #FFFF4b;}\n",
       ".cython.score-25 {background-color: #FFFF48;}\n",
       ".cython.score-26 {background-color: #FFFF46;}\n",
       ".cython.score-27 {background-color: #FFFF44;}\n",
       ".cython.score-28 {background-color: #FFFF43;}\n",
       ".cython.score-29 {background-color: #FFFF41;}\n",
       ".cython.score-30 {background-color: #FFFF3f;}\n",
       ".cython.score-31 {background-color: #FFFF3e;}\n",
       ".cython.score-32 {background-color: #FFFF3c;}\n",
       ".cython.score-33 {background-color: #FFFF3b;}\n",
       ".cython.score-34 {background-color: #FFFF39;}\n",
       ".cython.score-35 {background-color: #FFFF38;}\n",
       ".cython.score-36 {background-color: #FFFF37;}\n",
       ".cython.score-37 {background-color: #FFFF36;}\n",
       ".cython.score-38 {background-color: #FFFF35;}\n",
       ".cython.score-39 {background-color: #FFFF34;}\n",
       ".cython.score-40 {background-color: #FFFF33;}\n",
       ".cython.score-41 {background-color: #FFFF32;}\n",
       ".cython.score-42 {background-color: #FFFF31;}\n",
       ".cython.score-43 {background-color: #FFFF30;}\n",
       ".cython.score-44 {background-color: #FFFF2f;}\n",
       ".cython.score-45 {background-color: #FFFF2e;}\n",
       ".cython.score-46 {background-color: #FFFF2d;}\n",
       ".cython.score-47 {background-color: #FFFF2c;}\n",
       ".cython.score-48 {background-color: #FFFF2b;}\n",
       ".cython.score-49 {background-color: #FFFF2b;}\n",
       ".cython.score-50 {background-color: #FFFF2a;}\n",
       ".cython.score-51 {background-color: #FFFF29;}\n",
       ".cython.score-52 {background-color: #FFFF29;}\n",
       ".cython.score-53 {background-color: #FFFF28;}\n",
       ".cython.score-54 {background-color: #FFFF27;}\n",
       ".cython.score-55 {background-color: #FFFF27;}\n",
       ".cython.score-56 {background-color: #FFFF26;}\n",
       ".cython.score-57 {background-color: #FFFF26;}\n",
       ".cython.score-58 {background-color: #FFFF25;}\n",
       ".cython.score-59 {background-color: #FFFF24;}\n",
       ".cython.score-60 {background-color: #FFFF24;}\n",
       ".cython.score-61 {background-color: #FFFF23;}\n",
       ".cython.score-62 {background-color: #FFFF23;}\n",
       ".cython.score-63 {background-color: #FFFF22;}\n",
       ".cython.score-64 {background-color: #FFFF22;}\n",
       ".cython.score-65 {background-color: #FFFF22;}\n",
       ".cython.score-66 {background-color: #FFFF21;}\n",
       ".cython.score-67 {background-color: #FFFF21;}\n",
       ".cython.score-68 {background-color: #FFFF20;}\n",
       ".cython.score-69 {background-color: #FFFF20;}\n",
       ".cython.score-70 {background-color: #FFFF1f;}\n",
       ".cython.score-71 {background-color: #FFFF1f;}\n",
       ".cython.score-72 {background-color: #FFFF1f;}\n",
       ".cython.score-73 {background-color: #FFFF1e;}\n",
       ".cython.score-74 {background-color: #FFFF1e;}\n",
       ".cython.score-75 {background-color: #FFFF1e;}\n",
       ".cython.score-76 {background-color: #FFFF1d;}\n",
       ".cython.score-77 {background-color: #FFFF1d;}\n",
       ".cython.score-78 {background-color: #FFFF1c;}\n",
       ".cython.score-79 {background-color: #FFFF1c;}\n",
       ".cython.score-80 {background-color: #FFFF1c;}\n",
       ".cython.score-81 {background-color: #FFFF1c;}\n",
       ".cython.score-82 {background-color: #FFFF1b;}\n",
       ".cython.score-83 {background-color: #FFFF1b;}\n",
       ".cython.score-84 {background-color: #FFFF1b;}\n",
       ".cython.score-85 {background-color: #FFFF1a;}\n",
       ".cython.score-86 {background-color: #FFFF1a;}\n",
       ".cython.score-87 {background-color: #FFFF1a;}\n",
       ".cython.score-88 {background-color: #FFFF1a;}\n",
       ".cython.score-89 {background-color: #FFFF19;}\n",
       ".cython.score-90 {background-color: #FFFF19;}\n",
       ".cython.score-91 {background-color: #FFFF19;}\n",
       ".cython.score-92 {background-color: #FFFF19;}\n",
       ".cython.score-93 {background-color: #FFFF18;}\n",
       ".cython.score-94 {background-color: #FFFF18;}\n",
       ".cython.score-95 {background-color: #FFFF18;}\n",
       ".cython.score-96 {background-color: #FFFF18;}\n",
       ".cython.score-97 {background-color: #FFFF17;}\n",
       ".cython.score-98 {background-color: #FFFF17;}\n",
       ".cython.score-99 {background-color: #FFFF17;}\n",
       ".cython.score-100 {background-color: #FFFF17;}\n",
       ".cython.score-101 {background-color: #FFFF16;}\n",
       ".cython.score-102 {background-color: #FFFF16;}\n",
       ".cython.score-103 {background-color: #FFFF16;}\n",
       ".cython.score-104 {background-color: #FFFF16;}\n",
       ".cython.score-105 {background-color: #FFFF16;}\n",
       ".cython.score-106 {background-color: #FFFF15;}\n",
       ".cython.score-107 {background-color: #FFFF15;}\n",
       ".cython.score-108 {background-color: #FFFF15;}\n",
       ".cython.score-109 {background-color: #FFFF15;}\n",
       ".cython.score-110 {background-color: #FFFF15;}\n",
       ".cython.score-111 {background-color: #FFFF15;}\n",
       ".cython.score-112 {background-color: #FFFF14;}\n",
       ".cython.score-113 {background-color: #FFFF14;}\n",
       ".cython.score-114 {background-color: #FFFF14;}\n",
       ".cython.score-115 {background-color: #FFFF14;}\n",
       ".cython.score-116 {background-color: #FFFF14;}\n",
       ".cython.score-117 {background-color: #FFFF14;}\n",
       ".cython.score-118 {background-color: #FFFF13;}\n",
       ".cython.score-119 {background-color: #FFFF13;}\n",
       ".cython.score-120 {background-color: #FFFF13;}\n",
       ".cython.score-121 {background-color: #FFFF13;}\n",
       ".cython.score-122 {background-color: #FFFF13;}\n",
       ".cython.score-123 {background-color: #FFFF13;}\n",
       ".cython.score-124 {background-color: #FFFF13;}\n",
       ".cython.score-125 {background-color: #FFFF12;}\n",
       ".cython.score-126 {background-color: #FFFF12;}\n",
       ".cython.score-127 {background-color: #FFFF12;}\n",
       ".cython.score-128 {background-color: #FFFF12;}\n",
       ".cython.score-129 {background-color: #FFFF12;}\n",
       ".cython.score-130 {background-color: #FFFF12;}\n",
       ".cython.score-131 {background-color: #FFFF12;}\n",
       ".cython.score-132 {background-color: #FFFF11;}\n",
       ".cython.score-133 {background-color: #FFFF11;}\n",
       ".cython.score-134 {background-color: #FFFF11;}\n",
       ".cython.score-135 {background-color: #FFFF11;}\n",
       ".cython.score-136 {background-color: #FFFF11;}\n",
       ".cython.score-137 {background-color: #FFFF11;}\n",
       ".cython.score-138 {background-color: #FFFF11;}\n",
       ".cython.score-139 {background-color: #FFFF11;}\n",
       ".cython.score-140 {background-color: #FFFF11;}\n",
       ".cython.score-141 {background-color: #FFFF10;}\n",
       ".cython.score-142 {background-color: #FFFF10;}\n",
       ".cython.score-143 {background-color: #FFFF10;}\n",
       ".cython.score-144 {background-color: #FFFF10;}\n",
       ".cython.score-145 {background-color: #FFFF10;}\n",
       ".cython.score-146 {background-color: #FFFF10;}\n",
       ".cython.score-147 {background-color: #FFFF10;}\n",
       ".cython.score-148 {background-color: #FFFF10;}\n",
       ".cython.score-149 {background-color: #FFFF10;}\n",
       ".cython.score-150 {background-color: #FFFF0f;}\n",
       ".cython.score-151 {background-color: #FFFF0f;}\n",
       ".cython.score-152 {background-color: #FFFF0f;}\n",
       ".cython.score-153 {background-color: #FFFF0f;}\n",
       ".cython.score-154 {background-color: #FFFF0f;}\n",
       ".cython.score-155 {background-color: #FFFF0f;}\n",
       ".cython.score-156 {background-color: #FFFF0f;}\n",
       ".cython.score-157 {background-color: #FFFF0f;}\n",
       ".cython.score-158 {background-color: #FFFF0f;}\n",
       ".cython.score-159 {background-color: #FFFF0f;}\n",
       ".cython.score-160 {background-color: #FFFF0f;}\n",
       ".cython.score-161 {background-color: #FFFF0e;}\n",
       ".cython.score-162 {background-color: #FFFF0e;}\n",
       ".cython.score-163 {background-color: #FFFF0e;}\n",
       ".cython.score-164 {background-color: #FFFF0e;}\n",
       ".cython.score-165 {background-color: #FFFF0e;}\n",
       ".cython.score-166 {background-color: #FFFF0e;}\n",
       ".cython.score-167 {background-color: #FFFF0e;}\n",
       ".cython.score-168 {background-color: #FFFF0e;}\n",
       ".cython.score-169 {background-color: #FFFF0e;}\n",
       ".cython.score-170 {background-color: #FFFF0e;}\n",
       ".cython.score-171 {background-color: #FFFF0e;}\n",
       ".cython.score-172 {background-color: #FFFF0e;}\n",
       ".cython.score-173 {background-color: #FFFF0d;}\n",
       ".cython.score-174 {background-color: #FFFF0d;}\n",
       ".cython.score-175 {background-color: #FFFF0d;}\n",
       ".cython.score-176 {background-color: #FFFF0d;}\n",
       ".cython.score-177 {background-color: #FFFF0d;}\n",
       ".cython.score-178 {background-color: #FFFF0d;}\n",
       ".cython.score-179 {background-color: #FFFF0d;}\n",
       ".cython.score-180 {background-color: #FFFF0d;}\n",
       ".cython.score-181 {background-color: #FFFF0d;}\n",
       ".cython.score-182 {background-color: #FFFF0d;}\n",
       ".cython.score-183 {background-color: #FFFF0d;}\n",
       ".cython.score-184 {background-color: #FFFF0d;}\n",
       ".cython.score-185 {background-color: #FFFF0d;}\n",
       ".cython.score-186 {background-color: #FFFF0d;}\n",
       ".cython.score-187 {background-color: #FFFF0c;}\n",
       ".cython.score-188 {background-color: #FFFF0c;}\n",
       ".cython.score-189 {background-color: #FFFF0c;}\n",
       ".cython.score-190 {background-color: #FFFF0c;}\n",
       ".cython.score-191 {background-color: #FFFF0c;}\n",
       ".cython.score-192 {background-color: #FFFF0c;}\n",
       ".cython.score-193 {background-color: #FFFF0c;}\n",
       ".cython.score-194 {background-color: #FFFF0c;}\n",
       ".cython.score-195 {background-color: #FFFF0c;}\n",
       ".cython.score-196 {background-color: #FFFF0c;}\n",
       ".cython.score-197 {background-color: #FFFF0c;}\n",
       ".cython.score-198 {background-color: #FFFF0c;}\n",
       ".cython.score-199 {background-color: #FFFF0c;}\n",
       ".cython.score-200 {background-color: #FFFF0c;}\n",
       ".cython.score-201 {background-color: #FFFF0c;}\n",
       ".cython.score-202 {background-color: #FFFF0c;}\n",
       ".cython.score-203 {background-color: #FFFF0b;}\n",
       ".cython.score-204 {background-color: #FFFF0b;}\n",
       ".cython.score-205 {background-color: #FFFF0b;}\n",
       ".cython.score-206 {background-color: #FFFF0b;}\n",
       ".cython.score-207 {background-color: #FFFF0b;}\n",
       ".cython.score-208 {background-color: #FFFF0b;}\n",
       ".cython.score-209 {background-color: #FFFF0b;}\n",
       ".cython.score-210 {background-color: #FFFF0b;}\n",
       ".cython.score-211 {background-color: #FFFF0b;}\n",
       ".cython.score-212 {background-color: #FFFF0b;}\n",
       ".cython.score-213 {background-color: #FFFF0b;}\n",
       ".cython.score-214 {background-color: #FFFF0b;}\n",
       ".cython.score-215 {background-color: #FFFF0b;}\n",
       ".cython.score-216 {background-color: #FFFF0b;}\n",
       ".cython.score-217 {background-color: #FFFF0b;}\n",
       ".cython.score-218 {background-color: #FFFF0b;}\n",
       ".cython.score-219 {background-color: #FFFF0b;}\n",
       ".cython.score-220 {background-color: #FFFF0b;}\n",
       ".cython.score-221 {background-color: #FFFF0b;}\n",
       ".cython.score-222 {background-color: #FFFF0a;}\n",
       ".cython.score-223 {background-color: #FFFF0a;}\n",
       ".cython.score-224 {background-color: #FFFF0a;}\n",
       ".cython.score-225 {background-color: #FFFF0a;}\n",
       ".cython.score-226 {background-color: #FFFF0a;}\n",
       ".cython.score-227 {background-color: #FFFF0a;}\n",
       ".cython.score-228 {background-color: #FFFF0a;}\n",
       ".cython.score-229 {background-color: #FFFF0a;}\n",
       ".cython.score-230 {background-color: #FFFF0a;}\n",
       ".cython.score-231 {background-color: #FFFF0a;}\n",
       ".cython.score-232 {background-color: #FFFF0a;}\n",
       ".cython.score-233 {background-color: #FFFF0a;}\n",
       ".cython.score-234 {background-color: #FFFF0a;}\n",
       ".cython.score-235 {background-color: #FFFF0a;}\n",
       ".cython.score-236 {background-color: #FFFF0a;}\n",
       ".cython.score-237 {background-color: #FFFF0a;}\n",
       ".cython.score-238 {background-color: #FFFF0a;}\n",
       ".cython.score-239 {background-color: #FFFF0a;}\n",
       ".cython.score-240 {background-color: #FFFF0a;}\n",
       ".cython.score-241 {background-color: #FFFF0a;}\n",
       ".cython.score-242 {background-color: #FFFF0a;}\n",
       ".cython.score-243 {background-color: #FFFF0a;}\n",
       ".cython.score-244 {background-color: #FFFF0a;}\n",
       ".cython.score-245 {background-color: #FFFF0a;}\n",
       ".cython.score-246 {background-color: #FFFF09;}\n",
       ".cython.score-247 {background-color: #FFFF09;}\n",
       ".cython.score-248 {background-color: #FFFF09;}\n",
       ".cython.score-249 {background-color: #FFFF09;}\n",
       ".cython.score-250 {background-color: #FFFF09;}\n",
       ".cython.score-251 {background-color: #FFFF09;}\n",
       ".cython.score-252 {background-color: #FFFF09;}\n",
       ".cython.score-253 {background-color: #FFFF09;}\n",
       ".cython.score-254 {background-color: #FFFF09;}\n",
       ".cython .hll { background-color: #ffffcc }\n",
       ".cython  { background: #f8f8f8; }\n",
       ".cython .c { color: #408080; font-style: italic } /* Comment */\n",
       ".cython .err { border: 1px solid #FF0000 } /* Error */\n",
       ".cython .k { color: #008000; font-weight: bold } /* Keyword */\n",
       ".cython .o { color: #666666 } /* Operator */\n",
       ".cython .ch { color: #408080; font-style: italic } /* Comment.Hashbang */\n",
       ".cython .cm { color: #408080; font-style: italic } /* Comment.Multiline */\n",
       ".cython .cp { color: #BC7A00 } /* Comment.Preproc */\n",
       ".cython .cpf { color: #408080; font-style: italic } /* Comment.PreprocFile */\n",
       ".cython .c1 { color: #408080; font-style: italic } /* Comment.Single */\n",
       ".cython .cs { color: #408080; font-style: italic } /* Comment.Special */\n",
       ".cython .gd { color: #A00000 } /* Generic.Deleted */\n",
       ".cython .ge { font-style: italic } /* Generic.Emph */\n",
       ".cython .gr { color: #FF0000 } /* Generic.Error */\n",
       ".cython .gh { color: #000080; font-weight: bold } /* Generic.Heading */\n",
       ".cython .gi { color: #00A000 } /* Generic.Inserted */\n",
       ".cython .go { color: #888888 } /* Generic.Output */\n",
       ".cython .gp { color: #000080; font-weight: bold } /* Generic.Prompt */\n",
       ".cython .gs { font-weight: bold } /* Generic.Strong */\n",
       ".cython .gu { color: #800080; font-weight: bold } /* Generic.Subheading */\n",
       ".cython .gt { color: #0044DD } /* Generic.Traceback */\n",
       ".cython .kc { color: #008000; font-weight: bold } /* Keyword.Constant */\n",
       ".cython .kd { color: #008000; font-weight: bold } /* Keyword.Declaration */\n",
       ".cython .kn { color: #008000; font-weight: bold } /* Keyword.Namespace */\n",
       ".cython .kp { color: #008000 } /* Keyword.Pseudo */\n",
       ".cython .kr { color: #008000; font-weight: bold } /* Keyword.Reserved */\n",
       ".cython .kt { color: #B00040 } /* Keyword.Type */\n",
       ".cython .m { color: #666666 } /* Literal.Number */\n",
       ".cython .s { color: #BA2121 } /* Literal.String */\n",
       ".cython .na { color: #7D9029 } /* Name.Attribute */\n",
       ".cython .nb { color: #008000 } /* Name.Builtin */\n",
       ".cython .nc { color: #0000FF; font-weight: bold } /* Name.Class */\n",
       ".cython .no { color: #880000 } /* Name.Constant */\n",
       ".cython .nd { color: #AA22FF } /* Name.Decorator */\n",
       ".cython .ni { color: #999999; font-weight: bold } /* Name.Entity */\n",
       ".cython .ne { color: #D2413A; font-weight: bold } /* Name.Exception */\n",
       ".cython .nf { color: #0000FF } /* Name.Function */\n",
       ".cython .nl { color: #A0A000 } /* Name.Label */\n",
       ".cython .nn { color: #0000FF; font-weight: bold } /* Name.Namespace */\n",
       ".cython .nt { color: #008000; font-weight: bold } /* Name.Tag */\n",
       ".cython .nv { color: #19177C } /* Name.Variable */\n",
       ".cython .ow { color: #AA22FF; font-weight: bold } /* Operator.Word */\n",
       ".cython .w { color: #bbbbbb } /* Text.Whitespace */\n",
       ".cython .mb { color: #666666 } /* Literal.Number.Bin */\n",
       ".cython .mf { color: #666666 } /* Literal.Number.Float */\n",
       ".cython .mh { color: #666666 } /* Literal.Number.Hex */\n",
       ".cython .mi { color: #666666 } /* Literal.Number.Integer */\n",
       ".cython .mo { color: #666666 } /* Literal.Number.Oct */\n",
       ".cython .sa { color: #BA2121 } /* Literal.String.Affix */\n",
       ".cython .sb { color: #BA2121 } /* Literal.String.Backtick */\n",
       ".cython .sc { color: #BA2121 } /* Literal.String.Char */\n",
       ".cython .dl { color: #BA2121 } /* Literal.String.Delimiter */\n",
       ".cython .sd { color: #BA2121; font-style: italic } /* Literal.String.Doc */\n",
       ".cython .s2 { color: #BA2121 } /* Literal.String.Double */\n",
       ".cython .se { color: #BB6622; font-weight: bold } /* Literal.String.Escape */\n",
       ".cython .sh { color: #BA2121 } /* Literal.String.Heredoc */\n",
       ".cython .si { color: #BB6688; font-weight: bold } /* Literal.String.Interpol */\n",
       ".cython .sx { color: #008000 } /* Literal.String.Other */\n",
       ".cython .sr { color: #BB6688 } /* Literal.String.Regex */\n",
       ".cython .s1 { color: #BA2121 } /* Literal.String.Single */\n",
       ".cython .ss { color: #19177C } /* Literal.String.Symbol */\n",
       ".cython .bp { color: #008000 } /* Name.Builtin.Pseudo */\n",
       ".cython .fm { color: #0000FF } /* Name.Function.Magic */\n",
       ".cython .vc { color: #19177C } /* Name.Variable.Class */\n",
       ".cython .vg { color: #19177C } /* Name.Variable.Global */\n",
       ".cython .vi { color: #19177C } /* Name.Variable.Instance */\n",
       ".cython .vm { color: #19177C } /* Name.Variable.Magic */\n",
       ".cython .il { color: #666666 } /* Literal.Number.Integer.Long */\n",
       "    </style>\n",
       "</head>\n",
       "<body class=\"cython\">\n",
       "<p><span style=\"border-bottom: solid 1px grey;\">Generated by Cython 0.28.1</span></p>\n",
       "<p>\n",
       "    <span style=\"background-color: #FFFF00\">Yellow lines</span> hint at Python interaction.<br />\n",
       "    Click on a line that starts with a \"<code>+</code>\" to see the C code that Cython generated for it.\n",
       "</p>\n",
       "<div class=\"cython\"><pre class=\"cython line score-28\" onclick=\"(function(s){s.display=s.display==='block'?'none':'block'})(this.nextElementSibling.style)\">+<span class=\"\">1</span>: <span class=\"k\">def</span> <span class=\"nf\">summer</span><span class=\"p\">(</span><span class=\"n\">double</span><span class=\"p\">[:]</span> <span class=\"n\">mv</span><span class=\"p\">):</span></pre>\n",
       "<pre class='cython code score-28 '>/* Python wrapper */\n",
       "static PyObject *__pyx_pw_46_cython_magic_7d506c6bf21c548e17a83e0467c0ad8c_1summer(PyObject *__pyx_self, PyObject *__pyx_arg_mv); /*proto*/\n",
       "static char __pyx_doc_46_cython_magic_7d506c6bf21c548e17a83e0467c0ad8c_summer[] = \"Sums its argument's contents.\";\n",
       "static PyMethodDef __pyx_mdef_46_cython_magic_7d506c6bf21c548e17a83e0467c0ad8c_1summer = {\"summer\", (PyCFunction)__pyx_pw_46_cython_magic_7d506c6bf21c548e17a83e0467c0ad8c_1summer, METH_O, __pyx_doc_46_cython_magic_7d506c6bf21c548e17a83e0467c0ad8c_summer};\n",
       "static PyObject *__pyx_pw_46_cython_magic_7d506c6bf21c548e17a83e0467c0ad8c_1summer(PyObject *__pyx_self, PyObject *__pyx_arg_mv) {\n",
       "  __Pyx_memviewslice __pyx_v_mv = { 0, 0, { 0 }, { 0 }, { 0 } };\n",
       "  PyObject *__pyx_r = 0;\n",
       "  <span class='refnanny'>__Pyx_RefNannyDeclarations</span>\n",
       "  <span class='refnanny'>__Pyx_RefNannySetupContext</span>(\"summer (wrapper)\", 0);\n",
       "  assert(__pyx_arg_mv); {\n",
       "    __pyx_v_mv = <span class='pyx_c_api'>__Pyx_PyObject_to_MemoryviewSlice_ds_double</span>(__pyx_arg_mv, PyBUF_WRITABLE);<span class='error_goto'> if (unlikely(!__pyx_v_mv.memview)) __PYX_ERR(0, 1, __pyx_L3_error)</span>\n",
       "  }\n",
       "  goto __pyx_L4_argument_unpacking_done;\n",
       "  __pyx_L3_error:;\n",
       "  <span class='pyx_c_api'>__Pyx_AddTraceback</span>(\"_cython_magic_7d506c6bf21c548e17a83e0467c0ad8c.summer\", __pyx_clineno, __pyx_lineno, __pyx_filename);\n",
       "  <span class='refnanny'>__Pyx_RefNannyFinishContext</span>();\n",
       "  return NULL;\n",
       "  __pyx_L4_argument_unpacking_done:;\n",
       "  __pyx_r = __pyx_pf_46_cython_magic_7d506c6bf21c548e17a83e0467c0ad8c_summer(__pyx_self, __pyx_v_mv);\n",
       "\n",
       "  /* function exit code */\n",
       "  <span class='refnanny'>__Pyx_RefNannyFinishContext</span>();\n",
       "  return __pyx_r;\n",
       "}\n",
       "\n",
       "static PyObject *__pyx_pf_46_cython_magic_7d506c6bf21c548e17a83e0467c0ad8c_summer(CYTHON_UNUSED PyObject *__pyx_self, __Pyx_memviewslice __pyx_v_mv) {\n",
       "  double __pyx_v_ss;\n",
       "  int __pyx_v_i;\n",
       "  int __pyx_v_N;\n",
       "  PyObject *__pyx_r = NULL;\n",
       "  <span class='refnanny'>__Pyx_RefNannyDeclarations</span>\n",
       "  <span class='refnanny'>__Pyx_RefNannySetupContext</span>(\"summer\", 0);\n",
       "/* … */\n",
       "  /* function exit code */\n",
       "  __pyx_L1_error:;\n",
       "  <span class='pyx_macro_api'>__Pyx_XDECREF</span>(__pyx_t_6);\n",
       "  <span class='pyx_c_api'>__Pyx_AddTraceback</span>(\"_cython_magic_7d506c6bf21c548e17a83e0467c0ad8c.summer\", __pyx_clineno, __pyx_lineno, __pyx_filename);\n",
       "  __pyx_r = NULL;\n",
       "  __pyx_L0:;\n",
       "  __PYX_XDEC_MEMVIEW(&amp;__pyx_v_mv, 1);\n",
       "  <span class='refnanny'>__Pyx_XGIVEREF</span>(__pyx_r);\n",
       "  <span class='refnanny'>__Pyx_RefNannyFinishContext</span>();\n",
       "  return __pyx_r;\n",
       "}\n",
       "/* … */\n",
       "  __pyx_tuple__22 = <span class='py_c_api'>PyTuple_Pack</span>(5, __pyx_n_s_mv, __pyx_n_s_mv, __pyx_n_s_ss, __pyx_n_s_i, __pyx_n_s_N);<span class='error_goto'> if (unlikely(!__pyx_tuple__22)) __PYX_ERR(0, 1, __pyx_L1_error)</span>\n",
       "  <span class='refnanny'>__Pyx_GOTREF</span>(__pyx_tuple__22);\n",
       "  <span class='refnanny'>__Pyx_GIVEREF</span>(__pyx_tuple__22);\n",
       "/* … */\n",
       "  __pyx_t_1 = PyCFunction_NewEx(&amp;__pyx_mdef_46_cython_magic_7d506c6bf21c548e17a83e0467c0ad8c_1summer, NULL, __pyx_n_s_cython_magic_7d506c6bf21c548e17);<span class='error_goto'> if (unlikely(!__pyx_t_1)) __PYX_ERR(0, 1, __pyx_L1_error)</span>\n",
       "  <span class='refnanny'>__Pyx_GOTREF</span>(__pyx_t_1);\n",
       "  if (<span class='py_c_api'>PyDict_SetItem</span>(__pyx_d, __pyx_n_s_summer, __pyx_t_1) &lt; 0) <span class='error_goto'>__PYX_ERR(0, 1, __pyx_L1_error)</span>\n",
       "  <span class='pyx_macro_api'>__Pyx_DECREF</span>(__pyx_t_1); __pyx_t_1 = 0;\n",
       "  __pyx_t_1 = <span class='pyx_c_api'>__Pyx_PyDict_NewPresized</span>(0);<span class='error_goto'> if (unlikely(!__pyx_t_1)) __PYX_ERR(0, 1, __pyx_L1_error)</span>\n",
       "  <span class='refnanny'>__Pyx_GOTREF</span>(__pyx_t_1);\n",
       "  if (<span class='py_c_api'>PyDict_SetItem</span>(__pyx_d, __pyx_n_s_test, __pyx_t_1) &lt; 0) <span class='error_goto'>__PYX_ERR(0, 1, __pyx_L1_error)</span>\n",
       "  <span class='pyx_macro_api'>__Pyx_DECREF</span>(__pyx_t_1); __pyx_t_1 = 0;\n",
       "  __pyx_codeobj__23 = (PyObject*)<span class='pyx_c_api'>__Pyx_PyCode_New</span>(1, 0, 5, 0, CO_OPTIMIZED|CO_NEWLOCALS, __pyx_empty_bytes, __pyx_empty_tuple, __pyx_empty_tuple, __pyx_tuple__22, __pyx_empty_tuple, __pyx_empty_tuple, __pyx_kp_s_C_Users_I349877_ipython_cython, __pyx_n_s_summer, 1, __pyx_empty_bytes);<span class='error_goto'> if (unlikely(!__pyx_codeobj__23)) __PYX_ERR(0, 1, __pyx_L1_error)</span>\n",
       "</pre><pre class=\"cython line score-0\">&#xA0;<span class=\"\">2</span>:     <span class=\"sd\">&quot;&quot;&quot;Sums its argument&#39;s contents.&quot;&quot;&quot;</span></pre>\n",
       "<pre class=\"cython line score-0\">&#xA0;<span class=\"\">3</span>:     <span class=\"k\">cdef</span><span class=\"p\">:</span></pre>\n",
       "<pre class=\"cython line score-0\" onclick=\"(function(s){s.display=s.display==='block'?'none':'block'})(this.nextElementSibling.style)\">+<span class=\"\">4</span>:         <span class=\"n\">double</span> <span class=\"n\">ss</span> <span class=\"o\">=</span> <span class=\"mf\">0.0</span></pre>\n",
       "<pre class='cython code score-0 '>  __pyx_v_ss = 0.0;\n",
       "</pre><pre class=\"cython line score-0\">&#xA0;<span class=\"\">5</span>:         <span class=\"nb\">int</span> <span class=\"n\">i</span><span class=\"p\">,</span> <span class=\"n\">N</span></pre>\n",
       "<pre class=\"cython line score-0\" onclick=\"(function(s){s.display=s.display==='block'?'none':'block'})(this.nextElementSibling.style)\">+<span class=\"\">6</span>:     <span class=\"n\">N</span> <span class=\"o\">=</span> <span class=\"n\">mv</span><span class=\"o\">.</span><span class=\"n\">shape</span><span class=\"p\">[</span><span class=\"mf\">0</span><span class=\"p\">]</span></pre>\n",
       "<pre class='cython code score-0 '>  __pyx_v_N = (__pyx_v_mv.shape[0]);\n",
       "</pre><pre class=\"cython line score-0\" onclick=\"(function(s){s.display=s.display==='block'?'none':'block'})(this.nextElementSibling.style)\">+<span class=\"\">7</span>:     <span class=\"k\">for</span> <span class=\"n\">i</span> <span class=\"ow\">in</span> <span class=\"nb\">range</span><span class=\"p\">(</span><span class=\"n\">N</span><span class=\"p\">):</span></pre>\n",
       "<pre class='cython code score-0 '>  __pyx_t_1 = __pyx_v_N;\n",
       "  __pyx_t_2 = __pyx_t_1;\n",
       "  for (__pyx_t_3 = 0; __pyx_t_3 &lt; __pyx_t_2; __pyx_t_3+=1) {\n",
       "    __pyx_v_i = __pyx_t_3;\n",
       "</pre><pre class=\"cython line score-2\" onclick=\"(function(s){s.display=s.display==='block'?'none':'block'})(this.nextElementSibling.style)\">+<span class=\"\">8</span>:         <span class=\"n\">ss</span> <span class=\"o\">+=</span> <span class=\"n\">mv</span><span class=\"p\">[</span><span class=\"n\">i</span><span class=\"p\">]</span></pre>\n",
       "<pre class='cython code score-2 '>    __pyx_t_4 = __pyx_v_i;\n",
       "    __pyx_t_5 = -1;\n",
       "    if (__pyx_t_4 &lt; 0) {\n",
       "      __pyx_t_4 += __pyx_v_mv.shape[0];\n",
       "      if (unlikely(__pyx_t_4 &lt; 0)) __pyx_t_5 = 0;\n",
       "    } else if (unlikely(__pyx_t_4 &gt;= __pyx_v_mv.shape[0])) __pyx_t_5 = 0;\n",
       "    if (unlikely(__pyx_t_5 != -1)) {\n",
       "      <span class='pyx_c_api'>__Pyx_RaiseBufferIndexError</span>(__pyx_t_5);\n",
       "      <span class='error_goto'>__PYX_ERR(0, 8, __pyx_L1_error)</span>\n",
       "    }\n",
       "    __pyx_v_ss = (__pyx_v_ss + (*((double *) ( /* dim=0 */ (__pyx_v_mv.data + __pyx_t_4 * __pyx_v_mv.strides[0]) ))));\n",
       "  }\n",
       "</pre><pre class=\"cython line score-6\" onclick=\"(function(s){s.display=s.display==='block'?'none':'block'})(this.nextElementSibling.style)\">+<span class=\"\">9</span>:     <span class=\"k\">return</span> <span class=\"n\">ss</span></pre>\n",
       "<pre class='cython code score-6 '>  <span class='pyx_macro_api'>__Pyx_XDECREF</span>(__pyx_r);\n",
       "  __pyx_t_6 = <span class='py_c_api'>PyFloat_FromDouble</span>(__pyx_v_ss);<span class='error_goto'> if (unlikely(!__pyx_t_6)) __PYX_ERR(0, 9, __pyx_L1_error)</span>\n",
       "  <span class='refnanny'>__Pyx_GOTREF</span>(__pyx_t_6);\n",
       "  __pyx_r = __pyx_t_6;\n",
       "  __pyx_t_6 = 0;\n",
       "  goto __pyx_L0;\n",
       "</pre></div></body></html>"
      ],
      "text/plain": [
       "<IPython.core.display.HTML object>"
      ]
     },
     "execution_count": 17,
     "metadata": {},
     "output_type": "execute_result"
    }
   ],
   "source": [
    "%%cython --annotate\n",
    "def summer(double[:] mv):\n",
    "    \"\"\"Sums its argument's contents.\"\"\"\n",
    "    cdef:\n",
    "        double ss = 0.0\n",
    "        int i, N\n",
    "    N = mv.shape[0]\n",
    "    for i in range(N):\n",
    "        ss += mv[i]\n",
    "    return ss"
   ]
  },
  {
   "cell_type": "markdown",
   "metadata": {},
   "source": [
    "There are still some Python checks for index error. If we're sure of what we're doing (or we'll get Segmentation Fault), we can disable them using Compiler Directives (either at file level `#cython`, at function level `@` or in a context manager in a `with` block):"
   ]
  },
  {
   "cell_type": "code",
   "execution_count": 19,
   "metadata": {
    "ExecuteTime": {
     "end_time": "2018-04-12T08:29:33.829134Z",
     "start_time": "2018-04-12T08:29:29.800005Z"
    }
   },
   "outputs": [
    {
     "data": {
      "text/html": [
       "<!DOCTYPE html>\n",
       "<!-- Generated by Cython 0.28.1 -->\n",
       "<html>\n",
       "<head>\n",
       "    <meta http-equiv=\"Content-Type\" content=\"text/html; charset=utf-8\" />\n",
       "    <title>Cython: _cython_magic_86441a7407e57e9ac5736f2756758ff6.pyx</title>\n",
       "    <style type=\"text/css\">\n",
       "    \n",
       "body.cython { font-family: courier; font-size: 12; }\n",
       "\n",
       ".cython.tag  {  }\n",
       ".cython.line { margin: 0em }\n",
       ".cython.code { font-size: 9; color: #444444; display: none; margin: 0px 0px 0px 8px; border-left: 8px none; }\n",
       "\n",
       ".cython.line .run { background-color: #B0FFB0; }\n",
       ".cython.line .mis { background-color: #FFB0B0; }\n",
       ".cython.code.run  { border-left: 8px solid #B0FFB0; }\n",
       ".cython.code.mis  { border-left: 8px solid #FFB0B0; }\n",
       "\n",
       ".cython.code .py_c_api  { color: red; }\n",
       ".cython.code .py_macro_api  { color: #FF7000; }\n",
       ".cython.code .pyx_c_api  { color: #FF3000; }\n",
       ".cython.code .pyx_macro_api  { color: #FF7000; }\n",
       ".cython.code .refnanny  { color: #FFA000; }\n",
       ".cython.code .trace  { color: #FFA000; }\n",
       ".cython.code .error_goto  { color: #FFA000; }\n",
       "\n",
       ".cython.code .coerce  { color: #008000; border: 1px dotted #008000 }\n",
       ".cython.code .py_attr { color: #FF0000; font-weight: bold; }\n",
       ".cython.code .c_attr  { color: #0000FF; }\n",
       ".cython.code .py_call { color: #FF0000; font-weight: bold; }\n",
       ".cython.code .c_call  { color: #0000FF; }\n",
       "\n",
       ".cython.score-0 {background-color: #FFFFff;}\n",
       ".cython.score-1 {background-color: #FFFFe7;}\n",
       ".cython.score-2 {background-color: #FFFFd4;}\n",
       ".cython.score-3 {background-color: #FFFFc4;}\n",
       ".cython.score-4 {background-color: #FFFFb6;}\n",
       ".cython.score-5 {background-color: #FFFFaa;}\n",
       ".cython.score-6 {background-color: #FFFF9f;}\n",
       ".cython.score-7 {background-color: #FFFF96;}\n",
       ".cython.score-8 {background-color: #FFFF8d;}\n",
       ".cython.score-9 {background-color: #FFFF86;}\n",
       ".cython.score-10 {background-color: #FFFF7f;}\n",
       ".cython.score-11 {background-color: #FFFF79;}\n",
       ".cython.score-12 {background-color: #FFFF73;}\n",
       ".cython.score-13 {background-color: #FFFF6e;}\n",
       ".cython.score-14 {background-color: #FFFF6a;}\n",
       ".cython.score-15 {background-color: #FFFF66;}\n",
       ".cython.score-16 {background-color: #FFFF62;}\n",
       ".cython.score-17 {background-color: #FFFF5e;}\n",
       ".cython.score-18 {background-color: #FFFF5b;}\n",
       ".cython.score-19 {background-color: #FFFF57;}\n",
       ".cython.score-20 {background-color: #FFFF55;}\n",
       ".cython.score-21 {background-color: #FFFF52;}\n",
       ".cython.score-22 {background-color: #FFFF4f;}\n",
       ".cython.score-23 {background-color: #FFFF4d;}\n",
       ".cython.score-24 {background-color: #FFFF4b;}\n",
       ".cython.score-25 {background-color: #FFFF48;}\n",
       ".cython.score-26 {background-color: #FFFF46;}\n",
       ".cython.score-27 {background-color: #FFFF44;}\n",
       ".cython.score-28 {background-color: #FFFF43;}\n",
       ".cython.score-29 {background-color: #FFFF41;}\n",
       ".cython.score-30 {background-color: #FFFF3f;}\n",
       ".cython.score-31 {background-color: #FFFF3e;}\n",
       ".cython.score-32 {background-color: #FFFF3c;}\n",
       ".cython.score-33 {background-color: #FFFF3b;}\n",
       ".cython.score-34 {background-color: #FFFF39;}\n",
       ".cython.score-35 {background-color: #FFFF38;}\n",
       ".cython.score-36 {background-color: #FFFF37;}\n",
       ".cython.score-37 {background-color: #FFFF36;}\n",
       ".cython.score-38 {background-color: #FFFF35;}\n",
       ".cython.score-39 {background-color: #FFFF34;}\n",
       ".cython.score-40 {background-color: #FFFF33;}\n",
       ".cython.score-41 {background-color: #FFFF32;}\n",
       ".cython.score-42 {background-color: #FFFF31;}\n",
       ".cython.score-43 {background-color: #FFFF30;}\n",
       ".cython.score-44 {background-color: #FFFF2f;}\n",
       ".cython.score-45 {background-color: #FFFF2e;}\n",
       ".cython.score-46 {background-color: #FFFF2d;}\n",
       ".cython.score-47 {background-color: #FFFF2c;}\n",
       ".cython.score-48 {background-color: #FFFF2b;}\n",
       ".cython.score-49 {background-color: #FFFF2b;}\n",
       ".cython.score-50 {background-color: #FFFF2a;}\n",
       ".cython.score-51 {background-color: #FFFF29;}\n",
       ".cython.score-52 {background-color: #FFFF29;}\n",
       ".cython.score-53 {background-color: #FFFF28;}\n",
       ".cython.score-54 {background-color: #FFFF27;}\n",
       ".cython.score-55 {background-color: #FFFF27;}\n",
       ".cython.score-56 {background-color: #FFFF26;}\n",
       ".cython.score-57 {background-color: #FFFF26;}\n",
       ".cython.score-58 {background-color: #FFFF25;}\n",
       ".cython.score-59 {background-color: #FFFF24;}\n",
       ".cython.score-60 {background-color: #FFFF24;}\n",
       ".cython.score-61 {background-color: #FFFF23;}\n",
       ".cython.score-62 {background-color: #FFFF23;}\n",
       ".cython.score-63 {background-color: #FFFF22;}\n",
       ".cython.score-64 {background-color: #FFFF22;}\n",
       ".cython.score-65 {background-color: #FFFF22;}\n",
       ".cython.score-66 {background-color: #FFFF21;}\n",
       ".cython.score-67 {background-color: #FFFF21;}\n",
       ".cython.score-68 {background-color: #FFFF20;}\n",
       ".cython.score-69 {background-color: #FFFF20;}\n",
       ".cython.score-70 {background-color: #FFFF1f;}\n",
       ".cython.score-71 {background-color: #FFFF1f;}\n",
       ".cython.score-72 {background-color: #FFFF1f;}\n",
       ".cython.score-73 {background-color: #FFFF1e;}\n",
       ".cython.score-74 {background-color: #FFFF1e;}\n",
       ".cython.score-75 {background-color: #FFFF1e;}\n",
       ".cython.score-76 {background-color: #FFFF1d;}\n",
       ".cython.score-77 {background-color: #FFFF1d;}\n",
       ".cython.score-78 {background-color: #FFFF1c;}\n",
       ".cython.score-79 {background-color: #FFFF1c;}\n",
       ".cython.score-80 {background-color: #FFFF1c;}\n",
       ".cython.score-81 {background-color: #FFFF1c;}\n",
       ".cython.score-82 {background-color: #FFFF1b;}\n",
       ".cython.score-83 {background-color: #FFFF1b;}\n",
       ".cython.score-84 {background-color: #FFFF1b;}\n",
       ".cython.score-85 {background-color: #FFFF1a;}\n",
       ".cython.score-86 {background-color: #FFFF1a;}\n",
       ".cython.score-87 {background-color: #FFFF1a;}\n",
       ".cython.score-88 {background-color: #FFFF1a;}\n",
       ".cython.score-89 {background-color: #FFFF19;}\n",
       ".cython.score-90 {background-color: #FFFF19;}\n",
       ".cython.score-91 {background-color: #FFFF19;}\n",
       ".cython.score-92 {background-color: #FFFF19;}\n",
       ".cython.score-93 {background-color: #FFFF18;}\n",
       ".cython.score-94 {background-color: #FFFF18;}\n",
       ".cython.score-95 {background-color: #FFFF18;}\n",
       ".cython.score-96 {background-color: #FFFF18;}\n",
       ".cython.score-97 {background-color: #FFFF17;}\n",
       ".cython.score-98 {background-color: #FFFF17;}\n",
       ".cython.score-99 {background-color: #FFFF17;}\n",
       ".cython.score-100 {background-color: #FFFF17;}\n",
       ".cython.score-101 {background-color: #FFFF16;}\n",
       ".cython.score-102 {background-color: #FFFF16;}\n",
       ".cython.score-103 {background-color: #FFFF16;}\n",
       ".cython.score-104 {background-color: #FFFF16;}\n",
       ".cython.score-105 {background-color: #FFFF16;}\n",
       ".cython.score-106 {background-color: #FFFF15;}\n",
       ".cython.score-107 {background-color: #FFFF15;}\n",
       ".cython.score-108 {background-color: #FFFF15;}\n",
       ".cython.score-109 {background-color: #FFFF15;}\n",
       ".cython.score-110 {background-color: #FFFF15;}\n",
       ".cython.score-111 {background-color: #FFFF15;}\n",
       ".cython.score-112 {background-color: #FFFF14;}\n",
       ".cython.score-113 {background-color: #FFFF14;}\n",
       ".cython.score-114 {background-color: #FFFF14;}\n",
       ".cython.score-115 {background-color: #FFFF14;}\n",
       ".cython.score-116 {background-color: #FFFF14;}\n",
       ".cython.score-117 {background-color: #FFFF14;}\n",
       ".cython.score-118 {background-color: #FFFF13;}\n",
       ".cython.score-119 {background-color: #FFFF13;}\n",
       ".cython.score-120 {background-color: #FFFF13;}\n",
       ".cython.score-121 {background-color: #FFFF13;}\n",
       ".cython.score-122 {background-color: #FFFF13;}\n",
       ".cython.score-123 {background-color: #FFFF13;}\n",
       ".cython.score-124 {background-color: #FFFF13;}\n",
       ".cython.score-125 {background-color: #FFFF12;}\n",
       ".cython.score-126 {background-color: #FFFF12;}\n",
       ".cython.score-127 {background-color: #FFFF12;}\n",
       ".cython.score-128 {background-color: #FFFF12;}\n",
       ".cython.score-129 {background-color: #FFFF12;}\n",
       ".cython.score-130 {background-color: #FFFF12;}\n",
       ".cython.score-131 {background-color: #FFFF12;}\n",
       ".cython.score-132 {background-color: #FFFF11;}\n",
       ".cython.score-133 {background-color: #FFFF11;}\n",
       ".cython.score-134 {background-color: #FFFF11;}\n",
       ".cython.score-135 {background-color: #FFFF11;}\n",
       ".cython.score-136 {background-color: #FFFF11;}\n",
       ".cython.score-137 {background-color: #FFFF11;}\n",
       ".cython.score-138 {background-color: #FFFF11;}\n",
       ".cython.score-139 {background-color: #FFFF11;}\n",
       ".cython.score-140 {background-color: #FFFF11;}\n",
       ".cython.score-141 {background-color: #FFFF10;}\n",
       ".cython.score-142 {background-color: #FFFF10;}\n",
       ".cython.score-143 {background-color: #FFFF10;}\n",
       ".cython.score-144 {background-color: #FFFF10;}\n",
       ".cython.score-145 {background-color: #FFFF10;}\n",
       ".cython.score-146 {background-color: #FFFF10;}\n",
       ".cython.score-147 {background-color: #FFFF10;}\n",
       ".cython.score-148 {background-color: #FFFF10;}\n",
       ".cython.score-149 {background-color: #FFFF10;}\n",
       ".cython.score-150 {background-color: #FFFF0f;}\n",
       ".cython.score-151 {background-color: #FFFF0f;}\n",
       ".cython.score-152 {background-color: #FFFF0f;}\n",
       ".cython.score-153 {background-color: #FFFF0f;}\n",
       ".cython.score-154 {background-color: #FFFF0f;}\n",
       ".cython.score-155 {background-color: #FFFF0f;}\n",
       ".cython.score-156 {background-color: #FFFF0f;}\n",
       ".cython.score-157 {background-color: #FFFF0f;}\n",
       ".cython.score-158 {background-color: #FFFF0f;}\n",
       ".cython.score-159 {background-color: #FFFF0f;}\n",
       ".cython.score-160 {background-color: #FFFF0f;}\n",
       ".cython.score-161 {background-color: #FFFF0e;}\n",
       ".cython.score-162 {background-color: #FFFF0e;}\n",
       ".cython.score-163 {background-color: #FFFF0e;}\n",
       ".cython.score-164 {background-color: #FFFF0e;}\n",
       ".cython.score-165 {background-color: #FFFF0e;}\n",
       ".cython.score-166 {background-color: #FFFF0e;}\n",
       ".cython.score-167 {background-color: #FFFF0e;}\n",
       ".cython.score-168 {background-color: #FFFF0e;}\n",
       ".cython.score-169 {background-color: #FFFF0e;}\n",
       ".cython.score-170 {background-color: #FFFF0e;}\n",
       ".cython.score-171 {background-color: #FFFF0e;}\n",
       ".cython.score-172 {background-color: #FFFF0e;}\n",
       ".cython.score-173 {background-color: #FFFF0d;}\n",
       ".cython.score-174 {background-color: #FFFF0d;}\n",
       ".cython.score-175 {background-color: #FFFF0d;}\n",
       ".cython.score-176 {background-color: #FFFF0d;}\n",
       ".cython.score-177 {background-color: #FFFF0d;}\n",
       ".cython.score-178 {background-color: #FFFF0d;}\n",
       ".cython.score-179 {background-color: #FFFF0d;}\n",
       ".cython.score-180 {background-color: #FFFF0d;}\n",
       ".cython.score-181 {background-color: #FFFF0d;}\n",
       ".cython.score-182 {background-color: #FFFF0d;}\n",
       ".cython.score-183 {background-color: #FFFF0d;}\n",
       ".cython.score-184 {background-color: #FFFF0d;}\n",
       ".cython.score-185 {background-color: #FFFF0d;}\n",
       ".cython.score-186 {background-color: #FFFF0d;}\n",
       ".cython.score-187 {background-color: #FFFF0c;}\n",
       ".cython.score-188 {background-color: #FFFF0c;}\n",
       ".cython.score-189 {background-color: #FFFF0c;}\n",
       ".cython.score-190 {background-color: #FFFF0c;}\n",
       ".cython.score-191 {background-color: #FFFF0c;}\n",
       ".cython.score-192 {background-color: #FFFF0c;}\n",
       ".cython.score-193 {background-color: #FFFF0c;}\n",
       ".cython.score-194 {background-color: #FFFF0c;}\n",
       ".cython.score-195 {background-color: #FFFF0c;}\n",
       ".cython.score-196 {background-color: #FFFF0c;}\n",
       ".cython.score-197 {background-color: #FFFF0c;}\n",
       ".cython.score-198 {background-color: #FFFF0c;}\n",
       ".cython.score-199 {background-color: #FFFF0c;}\n",
       ".cython.score-200 {background-color: #FFFF0c;}\n",
       ".cython.score-201 {background-color: #FFFF0c;}\n",
       ".cython.score-202 {background-color: #FFFF0c;}\n",
       ".cython.score-203 {background-color: #FFFF0b;}\n",
       ".cython.score-204 {background-color: #FFFF0b;}\n",
       ".cython.score-205 {background-color: #FFFF0b;}\n",
       ".cython.score-206 {background-color: #FFFF0b;}\n",
       ".cython.score-207 {background-color: #FFFF0b;}\n",
       ".cython.score-208 {background-color: #FFFF0b;}\n",
       ".cython.score-209 {background-color: #FFFF0b;}\n",
       ".cython.score-210 {background-color: #FFFF0b;}\n",
       ".cython.score-211 {background-color: #FFFF0b;}\n",
       ".cython.score-212 {background-color: #FFFF0b;}\n",
       ".cython.score-213 {background-color: #FFFF0b;}\n",
       ".cython.score-214 {background-color: #FFFF0b;}\n",
       ".cython.score-215 {background-color: #FFFF0b;}\n",
       ".cython.score-216 {background-color: #FFFF0b;}\n",
       ".cython.score-217 {background-color: #FFFF0b;}\n",
       ".cython.score-218 {background-color: #FFFF0b;}\n",
       ".cython.score-219 {background-color: #FFFF0b;}\n",
       ".cython.score-220 {background-color: #FFFF0b;}\n",
       ".cython.score-221 {background-color: #FFFF0b;}\n",
       ".cython.score-222 {background-color: #FFFF0a;}\n",
       ".cython.score-223 {background-color: #FFFF0a;}\n",
       ".cython.score-224 {background-color: #FFFF0a;}\n",
       ".cython.score-225 {background-color: #FFFF0a;}\n",
       ".cython.score-226 {background-color: #FFFF0a;}\n",
       ".cython.score-227 {background-color: #FFFF0a;}\n",
       ".cython.score-228 {background-color: #FFFF0a;}\n",
       ".cython.score-229 {background-color: #FFFF0a;}\n",
       ".cython.score-230 {background-color: #FFFF0a;}\n",
       ".cython.score-231 {background-color: #FFFF0a;}\n",
       ".cython.score-232 {background-color: #FFFF0a;}\n",
       ".cython.score-233 {background-color: #FFFF0a;}\n",
       ".cython.score-234 {background-color: #FFFF0a;}\n",
       ".cython.score-235 {background-color: #FFFF0a;}\n",
       ".cython.score-236 {background-color: #FFFF0a;}\n",
       ".cython.score-237 {background-color: #FFFF0a;}\n",
       ".cython.score-238 {background-color: #FFFF0a;}\n",
       ".cython.score-239 {background-color: #FFFF0a;}\n",
       ".cython.score-240 {background-color: #FFFF0a;}\n",
       ".cython.score-241 {background-color: #FFFF0a;}\n",
       ".cython.score-242 {background-color: #FFFF0a;}\n",
       ".cython.score-243 {background-color: #FFFF0a;}\n",
       ".cython.score-244 {background-color: #FFFF0a;}\n",
       ".cython.score-245 {background-color: #FFFF0a;}\n",
       ".cython.score-246 {background-color: #FFFF09;}\n",
       ".cython.score-247 {background-color: #FFFF09;}\n",
       ".cython.score-248 {background-color: #FFFF09;}\n",
       ".cython.score-249 {background-color: #FFFF09;}\n",
       ".cython.score-250 {background-color: #FFFF09;}\n",
       ".cython.score-251 {background-color: #FFFF09;}\n",
       ".cython.score-252 {background-color: #FFFF09;}\n",
       ".cython.score-253 {background-color: #FFFF09;}\n",
       ".cython.score-254 {background-color: #FFFF09;}\n",
       ".cython .hll { background-color: #ffffcc }\n",
       ".cython  { background: #f8f8f8; }\n",
       ".cython .c { color: #408080; font-style: italic } /* Comment */\n",
       ".cython .err { border: 1px solid #FF0000 } /* Error */\n",
       ".cython .k { color: #008000; font-weight: bold } /* Keyword */\n",
       ".cython .o { color: #666666 } /* Operator */\n",
       ".cython .ch { color: #408080; font-style: italic } /* Comment.Hashbang */\n",
       ".cython .cm { color: #408080; font-style: italic } /* Comment.Multiline */\n",
       ".cython .cp { color: #BC7A00 } /* Comment.Preproc */\n",
       ".cython .cpf { color: #408080; font-style: italic } /* Comment.PreprocFile */\n",
       ".cython .c1 { color: #408080; font-style: italic } /* Comment.Single */\n",
       ".cython .cs { color: #408080; font-style: italic } /* Comment.Special */\n",
       ".cython .gd { color: #A00000 } /* Generic.Deleted */\n",
       ".cython .ge { font-style: italic } /* Generic.Emph */\n",
       ".cython .gr { color: #FF0000 } /* Generic.Error */\n",
       ".cython .gh { color: #000080; font-weight: bold } /* Generic.Heading */\n",
       ".cython .gi { color: #00A000 } /* Generic.Inserted */\n",
       ".cython .go { color: #888888 } /* Generic.Output */\n",
       ".cython .gp { color: #000080; font-weight: bold } /* Generic.Prompt */\n",
       ".cython .gs { font-weight: bold } /* Generic.Strong */\n",
       ".cython .gu { color: #800080; font-weight: bold } /* Generic.Subheading */\n",
       ".cython .gt { color: #0044DD } /* Generic.Traceback */\n",
       ".cython .kc { color: #008000; font-weight: bold } /* Keyword.Constant */\n",
       ".cython .kd { color: #008000; font-weight: bold } /* Keyword.Declaration */\n",
       ".cython .kn { color: #008000; font-weight: bold } /* Keyword.Namespace */\n",
       ".cython .kp { color: #008000 } /* Keyword.Pseudo */\n",
       ".cython .kr { color: #008000; font-weight: bold } /* Keyword.Reserved */\n",
       ".cython .kt { color: #B00040 } /* Keyword.Type */\n",
       ".cython .m { color: #666666 } /* Literal.Number */\n",
       ".cython .s { color: #BA2121 } /* Literal.String */\n",
       ".cython .na { color: #7D9029 } /* Name.Attribute */\n",
       ".cython .nb { color: #008000 } /* Name.Builtin */\n",
       ".cython .nc { color: #0000FF; font-weight: bold } /* Name.Class */\n",
       ".cython .no { color: #880000 } /* Name.Constant */\n",
       ".cython .nd { color: #AA22FF } /* Name.Decorator */\n",
       ".cython .ni { color: #999999; font-weight: bold } /* Name.Entity */\n",
       ".cython .ne { color: #D2413A; font-weight: bold } /* Name.Exception */\n",
       ".cython .nf { color: #0000FF } /* Name.Function */\n",
       ".cython .nl { color: #A0A000 } /* Name.Label */\n",
       ".cython .nn { color: #0000FF; font-weight: bold } /* Name.Namespace */\n",
       ".cython .nt { color: #008000; font-weight: bold } /* Name.Tag */\n",
       ".cython .nv { color: #19177C } /* Name.Variable */\n",
       ".cython .ow { color: #AA22FF; font-weight: bold } /* Operator.Word */\n",
       ".cython .w { color: #bbbbbb } /* Text.Whitespace */\n",
       ".cython .mb { color: #666666 } /* Literal.Number.Bin */\n",
       ".cython .mf { color: #666666 } /* Literal.Number.Float */\n",
       ".cython .mh { color: #666666 } /* Literal.Number.Hex */\n",
       ".cython .mi { color: #666666 } /* Literal.Number.Integer */\n",
       ".cython .mo { color: #666666 } /* Literal.Number.Oct */\n",
       ".cython .sa { color: #BA2121 } /* Literal.String.Affix */\n",
       ".cython .sb { color: #BA2121 } /* Literal.String.Backtick */\n",
       ".cython .sc { color: #BA2121 } /* Literal.String.Char */\n",
       ".cython .dl { color: #BA2121 } /* Literal.String.Delimiter */\n",
       ".cython .sd { color: #BA2121; font-style: italic } /* Literal.String.Doc */\n",
       ".cython .s2 { color: #BA2121 } /* Literal.String.Double */\n",
       ".cython .se { color: #BB6622; font-weight: bold } /* Literal.String.Escape */\n",
       ".cython .sh { color: #BA2121 } /* Literal.String.Heredoc */\n",
       ".cython .si { color: #BB6688; font-weight: bold } /* Literal.String.Interpol */\n",
       ".cython .sx { color: #008000 } /* Literal.String.Other */\n",
       ".cython .sr { color: #BB6688 } /* Literal.String.Regex */\n",
       ".cython .s1 { color: #BA2121 } /* Literal.String.Single */\n",
       ".cython .ss { color: #19177C } /* Literal.String.Symbol */\n",
       ".cython .bp { color: #008000 } /* Name.Builtin.Pseudo */\n",
       ".cython .fm { color: #0000FF } /* Name.Function.Magic */\n",
       ".cython .vc { color: #19177C } /* Name.Variable.Class */\n",
       ".cython .vg { color: #19177C } /* Name.Variable.Global */\n",
       ".cython .vi { color: #19177C } /* Name.Variable.Instance */\n",
       ".cython .vm { color: #19177C } /* Name.Variable.Magic */\n",
       ".cython .il { color: #666666 } /* Literal.Number.Integer.Long */\n",
       "    </style>\n",
       "</head>\n",
       "<body class=\"cython\">\n",
       "<p><span style=\"border-bottom: solid 1px grey;\">Generated by Cython 0.28.1</span></p>\n",
       "<p>\n",
       "    <span style=\"background-color: #FFFF00\">Yellow lines</span> hint at Python interaction.<br />\n",
       "    Click on a line that starts with a \"<code>+</code>\" to see the C code that Cython generated for it.\n",
       "</p>\n",
       "<div class=\"cython\"><pre class=\"cython line score-8\" onclick=\"(function(s){s.display=s.display==='block'?'none':'block'})(this.nextElementSibling.style)\">+<span class=\"\">01</span>: <span class=\"k\">from</span> <span class=\"nn\">cython</span> <span class=\"k\">cimport</span> <span class=\"n\">boundscheck</span><span class=\"p\">,</span> <span class=\"n\">wraparound</span></pre>\n",
       "<pre class='cython code score-8 '>  __pyx_t_1 = <span class='pyx_c_api'>__Pyx_PyDict_NewPresized</span>(0);<span class='error_goto'> if (unlikely(!__pyx_t_1)) __PYX_ERR(0, 1, __pyx_L1_error)</span>\n",
       "  <span class='refnanny'>__Pyx_GOTREF</span>(__pyx_t_1);\n",
       "  if (<span class='py_c_api'>PyDict_SetItem</span>(__pyx_d, __pyx_n_s_test, __pyx_t_1) &lt; 0) <span class='error_goto'>__PYX_ERR(0, 1, __pyx_L1_error)</span>\n",
       "  <span class='pyx_macro_api'>__Pyx_DECREF</span>(__pyx_t_1); __pyx_t_1 = 0;\n",
       "</pre><pre class=\"cython line score-20\" onclick=\"(function(s){s.display=s.display==='block'?'none':'block'})(this.nextElementSibling.style)\">+<span class=\"\">02</span>: <span class=\"k\">def</span> <span class=\"nf\">summer</span><span class=\"p\">(</span><span class=\"n\">double</span><span class=\"p\">[:]</span> <span class=\"n\">mv</span><span class=\"p\">):</span></pre>\n",
       "<pre class='cython code score-20 '>/* Python wrapper */\n",
       "static PyObject *__pyx_pw_46_cython_magic_86441a7407e57e9ac5736f2756758ff6_1summer(PyObject *__pyx_self, PyObject *__pyx_arg_mv); /*proto*/\n",
       "static char __pyx_doc_46_cython_magic_86441a7407e57e9ac5736f2756758ff6_summer[] = \"Sums its argument's contents.\";\n",
       "static PyMethodDef __pyx_mdef_46_cython_magic_86441a7407e57e9ac5736f2756758ff6_1summer = {\"summer\", (PyCFunction)__pyx_pw_46_cython_magic_86441a7407e57e9ac5736f2756758ff6_1summer, METH_O, __pyx_doc_46_cython_magic_86441a7407e57e9ac5736f2756758ff6_summer};\n",
       "static PyObject *__pyx_pw_46_cython_magic_86441a7407e57e9ac5736f2756758ff6_1summer(PyObject *__pyx_self, PyObject *__pyx_arg_mv) {\n",
       "  __Pyx_memviewslice __pyx_v_mv = { 0, 0, { 0 }, { 0 }, { 0 } };\n",
       "  PyObject *__pyx_r = 0;\n",
       "  <span class='refnanny'>__Pyx_RefNannyDeclarations</span>\n",
       "  <span class='refnanny'>__Pyx_RefNannySetupContext</span>(\"summer (wrapper)\", 0);\n",
       "  assert(__pyx_arg_mv); {\n",
       "    __pyx_v_mv = <span class='pyx_c_api'>__Pyx_PyObject_to_MemoryviewSlice_ds_double</span>(__pyx_arg_mv, PyBUF_WRITABLE);<span class='error_goto'> if (unlikely(!__pyx_v_mv.memview)) __PYX_ERR(0, 2, __pyx_L3_error)</span>\n",
       "  }\n",
       "  goto __pyx_L4_argument_unpacking_done;\n",
       "  __pyx_L3_error:;\n",
       "  <span class='pyx_c_api'>__Pyx_AddTraceback</span>(\"_cython_magic_86441a7407e57e9ac5736f2756758ff6.summer\", __pyx_clineno, __pyx_lineno, __pyx_filename);\n",
       "  <span class='refnanny'>__Pyx_RefNannyFinishContext</span>();\n",
       "  return NULL;\n",
       "  __pyx_L4_argument_unpacking_done:;\n",
       "  __pyx_r = __pyx_pf_46_cython_magic_86441a7407e57e9ac5736f2756758ff6_summer(__pyx_self, __pyx_v_mv);\n",
       "\n",
       "  /* function exit code */\n",
       "  <span class='refnanny'>__Pyx_RefNannyFinishContext</span>();\n",
       "  return __pyx_r;\n",
       "}\n",
       "\n",
       "static PyObject *__pyx_pf_46_cython_magic_86441a7407e57e9ac5736f2756758ff6_summer(CYTHON_UNUSED PyObject *__pyx_self, __Pyx_memviewslice __pyx_v_mv) {\n",
       "  double __pyx_v_ss;\n",
       "  int __pyx_v_i;\n",
       "  int __pyx_v_N;\n",
       "  PyObject *__pyx_r = NULL;\n",
       "  <span class='refnanny'>__Pyx_RefNannyDeclarations</span>\n",
       "  <span class='refnanny'>__Pyx_RefNannySetupContext</span>(\"summer\", 0);\n",
       "/* … */\n",
       "  /* function exit code */\n",
       "  __pyx_L1_error:;\n",
       "  <span class='pyx_macro_api'>__Pyx_XDECREF</span>(__pyx_t_5);\n",
       "  <span class='pyx_c_api'>__Pyx_AddTraceback</span>(\"_cython_magic_86441a7407e57e9ac5736f2756758ff6.summer\", __pyx_clineno, __pyx_lineno, __pyx_filename);\n",
       "  __pyx_r = NULL;\n",
       "  __pyx_L0:;\n",
       "  __PYX_XDEC_MEMVIEW(&amp;__pyx_v_mv, 1);\n",
       "  <span class='refnanny'>__Pyx_XGIVEREF</span>(__pyx_r);\n",
       "  <span class='refnanny'>__Pyx_RefNannyFinishContext</span>();\n",
       "  return __pyx_r;\n",
       "}\n",
       "/* … */\n",
       "  __pyx_tuple__22 = <span class='py_c_api'>PyTuple_Pack</span>(5, __pyx_n_s_mv, __pyx_n_s_mv, __pyx_n_s_ss, __pyx_n_s_i, __pyx_n_s_N);<span class='error_goto'> if (unlikely(!__pyx_tuple__22)) __PYX_ERR(0, 2, __pyx_L1_error)</span>\n",
       "  <span class='refnanny'>__Pyx_GOTREF</span>(__pyx_tuple__22);\n",
       "  <span class='refnanny'>__Pyx_GIVEREF</span>(__pyx_tuple__22);\n",
       "/* … */\n",
       "  __pyx_t_1 = PyCFunction_NewEx(&amp;__pyx_mdef_46_cython_magic_86441a7407e57e9ac5736f2756758ff6_1summer, NULL, __pyx_n_s_cython_magic_86441a7407e57e9ac5);<span class='error_goto'> if (unlikely(!__pyx_t_1)) __PYX_ERR(0, 2, __pyx_L1_error)</span>\n",
       "  <span class='refnanny'>__Pyx_GOTREF</span>(__pyx_t_1);\n",
       "  if (<span class='py_c_api'>PyDict_SetItem</span>(__pyx_d, __pyx_n_s_summer, __pyx_t_1) &lt; 0) <span class='error_goto'>__PYX_ERR(0, 2, __pyx_L1_error)</span>\n",
       "  <span class='pyx_macro_api'>__Pyx_DECREF</span>(__pyx_t_1); __pyx_t_1 = 0;\n",
       "  __pyx_codeobj__23 = (PyObject*)<span class='pyx_c_api'>__Pyx_PyCode_New</span>(1, 0, 5, 0, CO_OPTIMIZED|CO_NEWLOCALS, __pyx_empty_bytes, __pyx_empty_tuple, __pyx_empty_tuple, __pyx_tuple__22, __pyx_empty_tuple, __pyx_empty_tuple, __pyx_kp_s_C_Users_I349877_ipython_cython, __pyx_n_s_summer, 2, __pyx_empty_bytes);<span class='error_goto'> if (unlikely(!__pyx_codeobj__23)) __PYX_ERR(0, 2, __pyx_L1_error)</span>\n",
       "</pre><pre class=\"cython line score-0\">&#xA0;<span class=\"\">03</span>:     <span class=\"sd\">&quot;&quot;&quot;Sums its argument&#39;s contents.&quot;&quot;&quot;</span></pre>\n",
       "<pre class=\"cython line score-0\">&#xA0;<span class=\"\">04</span>:     <span class=\"k\">cdef</span><span class=\"p\">:</span></pre>\n",
       "<pre class=\"cython line score-0\" onclick=\"(function(s){s.display=s.display==='block'?'none':'block'})(this.nextElementSibling.style)\">+<span class=\"\">05</span>:         <span class=\"n\">double</span> <span class=\"n\">ss</span> <span class=\"o\">=</span> <span class=\"mf\">0.0</span></pre>\n",
       "<pre class='cython code score-0 '>  __pyx_v_ss = 0.0;\n",
       "</pre><pre class=\"cython line score-0\">&#xA0;<span class=\"\">06</span>:         <span class=\"nb\">int</span> <span class=\"n\">i</span><span class=\"p\">,</span> <span class=\"n\">N</span></pre>\n",
       "<pre class=\"cython line score-0\" onclick=\"(function(s){s.display=s.display==='block'?'none':'block'})(this.nextElementSibling.style)\">+<span class=\"\">07</span>:     <span class=\"n\">N</span> <span class=\"o\">=</span> <span class=\"n\">mv</span><span class=\"o\">.</span><span class=\"n\">shape</span><span class=\"p\">[</span><span class=\"mf\">0</span><span class=\"p\">]</span></pre>\n",
       "<pre class='cython code score-0 '>  __pyx_v_N = (__pyx_v_mv.shape[0]);\n",
       "</pre><pre class=\"cython line score-0\">&#xA0;<span class=\"\">08</span>:     <span class=\"k\">with</span> <span class=\"n\">boundscheck</span><span class=\"p\">(</span><span class=\"bp\">False</span><span class=\"p\">),</span> <span class=\"n\">wraparound</span><span class=\"p\">(</span><span class=\"bp\">False</span><span class=\"p\">):</span></pre>\n",
       "<pre class=\"cython line score-0\" onclick=\"(function(s){s.display=s.display==='block'?'none':'block'})(this.nextElementSibling.style)\">+<span class=\"\">09</span>:         <span class=\"k\">for</span> <span class=\"n\">i</span> <span class=\"ow\">in</span> <span class=\"nb\">range</span><span class=\"p\">(</span><span class=\"n\">N</span><span class=\"p\">):</span></pre>\n",
       "<pre class='cython code score-0 '>  __pyx_t_1 = __pyx_v_N;\n",
       "  __pyx_t_2 = __pyx_t_1;\n",
       "  for (__pyx_t_3 = 0; __pyx_t_3 &lt; __pyx_t_2; __pyx_t_3+=1) {\n",
       "    __pyx_v_i = __pyx_t_3;\n",
       "</pre><pre class=\"cython line score-0\" onclick=\"(function(s){s.display=s.display==='block'?'none':'block'})(this.nextElementSibling.style)\">+<span class=\"\">10</span>:             <span class=\"n\">ss</span> <span class=\"o\">+=</span> <span class=\"n\">mv</span><span class=\"p\">[</span><span class=\"n\">i</span><span class=\"p\">]</span></pre>\n",
       "<pre class='cython code score-0 '>    __pyx_t_4 = __pyx_v_i;\n",
       "    __pyx_v_ss = (__pyx_v_ss + (*((double *) ( /* dim=0 */ (__pyx_v_mv.data + __pyx_t_4 * __pyx_v_mv.strides[0]) ))));\n",
       "  }\n",
       "</pre><pre class=\"cython line score-6\" onclick=\"(function(s){s.display=s.display==='block'?'none':'block'})(this.nextElementSibling.style)\">+<span class=\"\">11</span>:         <span class=\"k\">return</span> <span class=\"n\">ss</span></pre>\n",
       "<pre class='cython code score-6 '>  <span class='pyx_macro_api'>__Pyx_XDECREF</span>(__pyx_r);\n",
       "  __pyx_t_5 = <span class='py_c_api'>PyFloat_FromDouble</span>(__pyx_v_ss);<span class='error_goto'> if (unlikely(!__pyx_t_5)) __PYX_ERR(0, 11, __pyx_L1_error)</span>\n",
       "  <span class='refnanny'>__Pyx_GOTREF</span>(__pyx_t_5);\n",
       "  __pyx_r = __pyx_t_5;\n",
       "  __pyx_t_5 = 0;\n",
       "  goto __pyx_L0;\n",
       "</pre></div></body></html>"
      ],
      "text/plain": [
       "<IPython.core.display.HTML object>"
      ]
     },
     "execution_count": 19,
     "metadata": {},
     "output_type": "execute_result"
    }
   ],
   "source": [
    "%%cython --annotate\n",
    "# cython: boundscheck=False\n",
    "# cython: wraparound=False\n",
    "\n",
    "from cython cimport boundscheck, wraparound\n",
    "\n",
    "@boundscheck(False)\n",
    "@wraparound(False)\n",
    "def summer(double[:] mv):\n",
    "    \"\"\"Sums its argument's contents.\"\"\"\n",
    "    cdef:\n",
    "        double ss = 0.0\n",
    "        int i, N\n",
    "    N = mv.shape[0]\n",
    "    with boundscheck(False), wraparound(False):\n",
    "        for i in range(N):\n",
    "            ss += mv[i]\n",
    "        return ss"
   ]
  },
  {
   "cell_type": "markdown",
   "metadata": {},
   "source": [
    "### Declaring Typed Memoryviews"
   ]
  },
  {
   "cell_type": "markdown",
   "metadata": {},
   "source": [
    "- *Element type*: scalar (`int`, `float`, `double complex`...), ctypedef alias, or cdef struct. Fused types are in development.\n",
    "- *Dimensionality*: up to seven dimensions. E.g.: 3D double is double[:,:,:].\n",
    "- *Contiguous or strided data packing*. No strides allows faster data manipulation.\n",
    "- *C (column, last dim) or Fortran (row, first dim) contiguity*. \n",
    "- *Direct or indirect access*: direct is default, since NumPy doesn't have pointers to pieces of the array.\n",
    "\n",
    "Typed memoryviews with N dimensions can acquire buffers from objects of same dimensionality regardless of data packing."
   ]
  },
  {
   "cell_type": "code",
   "execution_count": 24,
   "metadata": {
    "ExecuteTime": {
     "end_time": "2018-04-12T09:49:05.341569Z",
     "start_time": "2018-04-12T09:49:00.879666Z"
    }
   },
   "outputs": [
    {
     "name": "stdout",
     "output_type": "stream",
     "text": [
      "[3, 6, 3, 0, 0, 0, 0, 0]\n"
     ]
    }
   ],
   "source": [
    "%%cython\n",
    "import numpy as np\n",
    "\n",
    "# Declare 3D strided MemoryView: most flexible and general.\n",
    "cdef int[:, :, :] mv\n",
    "\n",
    "# Acquire NumPy buffer\n",
    "mv = np.empty((10, 20, 30), dtype=np.int32)\n",
    "\n",
    "# Acquire Numpy buffer Fortran contiguous.\n",
    "mv = np.ones((10, 20, 30), dtype=np.int32, order='F')\n",
    "\n",
    "# Acquire buffer from fully strided array\n",
    "arr = np.ones((13, 17, 19), dtype=np.int32)\n",
    "mv = arr[4:10:2, ::3, 5::-2]\n",
    "\n",
    "# 2D C-contiguous typed memoryview\n",
    "cdef float[:, ::1] c_contig_mv\n",
    "\n",
    "# Assign C-contiguous NumPy array (default for NumPy)\n",
    "c_contig_mv = np.ones((3, 4), dtype=np.float32)\n",
    "\n",
    "# Cannot assign Fortran or strided arrays\n",
    "c_contig_mv = np.ones((3, 4), dtype=np.float32, order='F')\n",
    "#=> ValueError: ndarray is not C-contiguous\n",
    "arr = np.ones((3, 4), dtype=np.float32)\n",
    "c_contig_mv = arr[:, ::2]\n",
    "#=> ValueError: ndarray is not C-contiguous\n",
    "\n",
    "# 2D Fortran-contiguous declaration\n",
    "cdef double[::1, :] f_contig_mv = np.ones((3, 4), dtype=np.float64, order='F')"
   ]
  },
  {
   "cell_type": "markdown",
   "metadata": {},
   "source": [
    "**The recommended declaration is C-CONTIGUOUS**\n",
    "\n",
    "NumPy provides the `ascontiguousarray` and `asfortranarray` conversion functions,\n",
    "which take an array-like object as an argument and return a guaranteed C- or Fortrancontiguous\n",
    "NumPy array, respectively.\n",
    "\n",
    "Fully strided is advisable for ambiguous array layouts."
   ]
  },
  {
   "cell_type": "markdown",
   "metadata": {},
   "source": [
    "### Operations in memoryviews"
   ]
  },
  {
   "cell_type": "markdown",
   "metadata": {},
   "source": [
    "Access and modify individual elements via indexing"
   ]
  },
  {
   "cell_type": "code",
   "execution_count": null,
   "metadata": {},
   "outputs": [],
   "source": [
    "%%cython\n",
    "cdef int[:, :] mv = obj\n",
    "print(mv[10, -20]) # access\n",
    "mv[0, -1] = 3 # modify"
   ]
  },
  {
   "cell_type": "markdown",
   "metadata": {},
   "source": [
    "Efficient indexing"
   ]
  },
  {
   "cell_type": "code",
   "execution_count": null,
   "metadata": {},
   "outputs": [],
   "source": [
    "%%cython\n",
    "from cython cimport boundscheck, wraparound\n",
    "def mv_sum(int[:, ::1] mv):\n",
    "    cdef int N, M, i, j\n",
    "    cdef long s=0\n",
    "    N = mv.shape[0]; M = mv.shape[1]\n",
    "    with boundscheck(False), wraparound(False):\n",
    "        for i in range(N):\n",
    "            for j in range(M):\n",
    "                s += mv[i,j]\n",
    "    return s"
   ]
  },
  {
   "cell_type": "markdown",
   "metadata": {},
   "source": [
    "Data copying using slice assignments (we can also use the `copy` or `copy_fortran` to generate a contiguous copy of the memoryview's buffer."
   ]
  },
  {
   "cell_type": "code",
   "execution_count": 36,
   "metadata": {
    "ExecuteTime": {
     "end_time": "2018-04-12T11:04:10.065573Z",
     "start_time": "2018-04-12T11:04:06.040361Z"
    }
   },
   "outputs": [
    {
     "name": "stdout",
     "output_type": "stream",
     "text": [
      "[[2. 0. 2. 0. 2. 0. 2. 0. 2. 0. 2. 0. 2. 0. 2. 0. 2. 0. 2. 0.]\n",
      " [0. 0. 0. 0. 0. 0. 0. 0. 0. 0. 0. 0. 0. 0. 0. 0. 0. 0. 0. 0.]\n",
      " [2. 0. 2. 0. 2. 0. 2. 0. 2. 0. 2. 0. 2. 0. 2. 0. 2. 0. 2. 0.]\n",
      " [0. 0. 0. 0. 0. 0. 0. 0. 0. 0. 0. 0. 0. 0. 0. 0. 0. 0. 0. 0.]\n",
      " [2. 0. 2. 0. 2. 0. 2. 0. 2. 0. 2. 0. 2. 0. 2. 0. 2. 0. 2. 0.]\n",
      " [0. 0. 0. 0. 0. 0. 0. 0. 0. 0. 0. 0. 0. 0. 0. 0. 0. 0. 0. 0.]\n",
      " [2. 0. 2. 0. 2. 0. 2. 0. 2. 0. 2. 0. 2. 0. 2. 0. 2. 0. 2. 0.]\n",
      " [0. 0. 0. 0. 0. 0. 0. 0. 0. 0. 0. 0. 0. 0. 0. 0. 0. 0. 0. 0.]\n",
      " [2. 0. 2. 0. 2. 0. 2. 0. 2. 0. 2. 0. 2. 0. 2. 0. 2. 0. 2. 0.]\n",
      " [0. 0. 0. 0. 0. 0. 0. 0. 0. 0. 0. 0. 0. 0. 0. 0. 0. 0. 0. 0.]]\n"
     ]
    }
   ],
   "source": [
    "%%cython \n",
    "import math\n",
    "import numpy as np\n",
    "cdef double[:, :] mv = np.empty((10, 20))\n",
    "mv[...] = math.pi\n",
    "\n",
    "# Slice assignment with same size\n",
    "cdef double[:, :] mv1 = np.zeros((10, 20))\n",
    "cdef double[:, ::1] mv2 = 2*np.ones((20, 40))\n",
    "mv1[::2, ::2] = mv2[1:11:2, 10:40:3]\n",
    "print(np.array(mv1[::,::]))"
   ]
  },
  {
   "cell_type": "markdown",
   "metadata": {},
   "source": [
    "Slicing a buffer with a memoryview can be saved in a different memoryview (**reduce dimensions**)"
   ]
  },
  {
   "cell_type": "code",
   "execution_count": null,
   "metadata": {},
   "outputs": [],
   "source": [
    "cdef float[:, :, ::1] mv = obj\n",
    "cdef float[:, :] two_dee_mv = mv[:, 0, :]\n",
    "\n",
    "# Ussual start-stop-step arguments\n",
    "two_dee_mv[...] = mv[4:10:2, ::3, -1]\n",
    "\n",
    "# Partial indexing just like NumPy arrays\n",
    "cdef int[:, :, :] mv = obj\n",
    "assert mv[10].shape == mv[10, ...].shape == mv[10, :, :].shape"
   ]
  },
  {
   "cell_type": "markdown",
   "metadata": {},
   "source": [
    "We can **insert new dimensions**."
   ]
  },
  {
   "cell_type": "code",
   "execution_count": null,
   "metadata": {},
   "outputs": [],
   "source": [
    "cdef double[:] mv = np.ones((50,))\n",
    "assert mv[None, :].shape == (1, 50)\n",
    "assert mv[:, None].shape == (50, 1)"
   ]
  },
  {
   "cell_type": "markdown",
   "metadata": {},
   "source": [
    "Broadcasting operations: by efficiently making NumPy arrays (thanks to buffer protocol):"
   ]
  },
  {
   "cell_type": "code",
   "execution_count": 39,
   "metadata": {
    "ExecuteTime": {
     "end_time": "2018-04-12T11:43:43.928536Z",
     "start_time": "2018-04-12T11:43:39.921356Z"
    }
   },
   "outputs": [
    {
     "name": "stdout",
     "output_type": "stream",
     "text": [
      "[[  0.   1.   2. ...  97.  98.  99.]\n",
      " [  1.   2.   3. ...  98.  99. 100.]\n",
      " [  2.   3.   4. ...  99. 100. 101.]\n",
      " ...\n",
      " [ 97.  98.  99. ... 194. 195. 196.]\n",
      " [ 98.  99. 100. ... 195. 196. 197.]\n",
      " [ 99. 100. 101. ... 196. 197. 198.]]\n"
     ]
    }
   ],
   "source": [
    "%%cython\n",
    "import numpy as np\n",
    "cdef float[:] rows = np.arange(100, dtype=np.float32)\n",
    "cdef float[:] cols = rows\n",
    "\n",
    "# broadcasting sum\n",
    "plane = np.asarray(rows[:,None]) + np.asarray(cols[None,:])\n",
    "print(np.array(plane))"
   ]
  },
  {
   "cell_type": "markdown",
   "metadata": {},
   "source": [
    "Transpose using .T just like in NumPy. C-contiguous <-> Fortran-contiguous."
   ]
  },
  {
   "cell_type": "code",
   "execution_count": null,
   "metadata": {},
   "outputs": [],
   "source": [
    "%%cython\n",
    "cdef int[:, ::1] c_contig = obj\n",
    "cdef int[::1, :] f_contig = c_contig.T"
   ]
  },
  {
   "cell_type": "markdown",
   "metadata": {},
   "source": [
    "### Beyond Buffers: C arrays"
   ]
  },
  {
   "cell_type": "markdown",
   "metadata": {},
   "source": [
    "We can convert a C array into a memoryview (always C-contiguous)"
   ]
  },
  {
   "cell_type": "code",
   "execution_count": null,
   "metadata": {},
   "outputs": [],
   "source": [
    "%%cython\n",
    "cdef int a[3][5][7]\n",
    "cdef int[:, :, ::1] mv = a\n",
    "mv[...] = 0"
   ]
  },
  {
   "cell_type": "markdown",
   "metadata": {},
   "source": [
    "Even if our array was dynamically allocated, we could convert it, this time by casting it:"
   ]
  },
  {
   "cell_type": "code",
   "execution_count": null,
   "metadata": {},
   "outputs": [],
   "source": [
    "%%cython\n",
    "from libc.stdlib cimport malloc\n",
    "def dynamic(size_t N, size_t M):\n",
    "    cdef long *arr = <long*>malloc(N * M * sizeof(long))\n",
    "    cdef long[:, ::1] mv = <long[:N, :M]>arr"
   ]
  },
  {
   "cell_type": "markdown",
   "metadata": {},
   "source": [
    "## Wrapping C and C++ arrays"
   ]
  },
  {
   "cell_type": "markdown",
   "metadata": {},
   "source": [
    "C++ arrays are OK (dynamic memory management). To be able to handel deallocation of these memoryview objects when passing C arrays by reference, NumPy has a function pointer that you must fill:"
   ]
  },
  {
   "cell_type": "code",
   "execution_count": null,
   "metadata": {
    "ExecuteTime": {
     "end_time": "2018-04-12T13:40:30.842584Z",
     "start_time": "2018-04-12T13:40:27.353646Z"
    }
   },
   "outputs": [],
   "source": [
    "%%cython\n",
    "import numpy as np\n",
    "cimport numpy as cnp\n",
    "from libc.stdlib cimport free\n",
    "\n",
    "cdef extern from \"matrix.h\":\n",
    "    float *make_matrix_c(int nrows, int ncols)\n",
    "\n",
    "cdef class _finalizer:\n",
    "    cdef void *_data\n",
    "    def __dealloc__(self):\n",
    "        if self._data != NULL:\n",
    "            free(self._data)\n",
    "            \n",
    "cdef void set_base(cnp.ndarray arr, void *carr):\n",
    "    cdef _finalizer f = _finalizer()\n",
    "    f._data = <void*>carr\n",
    "    cnp.set_array_base(arr, f)\n",
    "            \n",
    "def make_matrix(int nrows, int ncols):\n",
    "    cdef float *mat = make_matrix_c(nrows, ncols)            \n",
    "    cdef float[:, ::1] mv = <float[:nrows, :ncols]>mat\n",
    "    cdef cnp.ndarray arr = np.asarray(mv)\n",
    "    set_base(arr, mat) # Defining the dealloc for the object\n",
    "    return arr"
   ]
  },
  {
   "cell_type": "markdown",
   "metadata": {
    "heading_collapsed": true
   },
   "source": [
    "# Parallelizing Programs"
   ]
  },
  {
   "cell_type": "markdown",
   "metadata": {
    "hidden": true
   },
   "source": [
    "## Tampering GIL"
   ]
  },
  {
   "cell_type": "markdown",
   "metadata": {
    "hidden": true
   },
   "source": [
    "Since we're working with CPython, the Global Interpreter Lock (or GIL) is in place to ensure thread-safe execution. We need to allow functions and use context managers to disable it. To **allow no gil** we include it like this:\n"
   ]
  },
  {
   "cell_type": "code",
   "execution_count": null,
   "metadata": {
    "hidden": true
   },
   "outputs": [],
   "source": [
    "%%cython\n",
    "cdef int kernel(double z, double z_max) nogil:\n",
    "    # .."
   ]
  },
  {
   "cell_type": "markdown",
   "metadata": {
    "hidden": true
   },
   "source": [
    "Inside the function we must not create or interact with Python objects. We can also declare extern C/C++ functions to be nogil as well:"
   ]
  },
  {
   "cell_type": "code",
   "execution_count": null,
   "metadata": {
    "hidden": true
   },
   "outputs": [],
   "source": [
    "%%cython\n",
    "cdef extern from \"math.h\":\n",
    "    double sin(double x) nogil\n",
    "    double cos(double x) nogil\n",
    "    double tan(double x) nogil\n",
    "    # ...\n",
    "    \n",
    "# It is easier if no interaction with Python objects\n",
    "cdef extern from \"math.h\" nogil:\n",
    "    double sin(double x)\n",
    "    double cos(double x)\n",
    "    double tan(double x)\n",
    "    # ..."
   ]
  },
  {
   "cell_type": "markdown",
   "metadata": {
    "hidden": true
   },
   "source": [
    "Then, we need to **release and recover** the GIL, while leaving no Python objects inside it:"
   ]
  },
  {
   "cell_type": "code",
   "execution_count": null,
   "metadata": {
    "hidden": true
   },
   "outputs": [],
   "source": [
    "%%cython\n",
    "# ...declare and initialize C arguments...\n",
    "\n",
    "with nogil: # run without the GIL in place\n",
    "    result = kernel(z, z_max, n_max)\n",
    "    \n",
    "# GIL reacquired\n",
    "print result"
   ]
  },
  {
   "cell_type": "markdown",
   "metadata": {
    "hidden": true
   },
   "source": [
    "If we needed to **reacquire the GIL** inside the nogil context manager, we would use another context manager:"
   ]
  },
  {
   "cell_type": "code",
   "execution_count": null,
   "metadata": {
    "hidden": true
   },
   "outputs": [],
   "source": [
    "%%cython\n",
    "# ...declare and initialize C arguments...\n",
    "\n",
    "with nogil: # run without the GIL in place\n",
    "    result = kernel(z, z_max, n_max)\n",
    "    with gil: # GIL reacquired\n",
    "        print(\"here its safe!\")\n",
    "            # run without the GIL in place\n",
    "            \n",
    "            \n",
    "# GIL reacquired\n",
    "print(result)"
   ]
  },
  {
   "cell_type": "markdown",
   "metadata": {
    "ExecuteTime": {
     "end_time": "2018-04-12T14:21:16.640254Z",
     "start_time": "2018-04-12T14:21:16.635240Z"
    },
    "hidden": true
   },
   "source": [
    "Thread-based parallelism in external libraries can be encapsulated like this"
   ]
  },
  {
   "cell_type": "markdown",
   "metadata": {
    "hidden": true
   },
   "source": [
    "## `prange`"
   ]
  },
  {
   "cell_type": "markdown",
   "metadata": {
    "hidden": true
   },
   "source": [
    "This is implemented using OpenMP, and this requires -fopenmp flag when compiling and linking our library. "
   ]
  },
  {
   "cell_type": "code",
   "execution_count": null,
   "metadata": {
    "hidden": true
   },
   "outputs": [],
   "source": [
    "%%cython\n",
    "# distutils: extra_compile_args = -fopenmp\n",
    "# distutils: extra_link_args = -fopenmp\n",
    "\n",
    "from cython cimport boundscheck, wraparound\n",
    "from cython.parallel cimport prange\n",
    "\n",
    "@boundscheck(False)\n",
    "@wraparound(False)\n",
    "def parallelFunc:\n",
    "    for i in prange(N + 1, nogil=True):\n",
    "        # Thread-safe loop, using nogil functions"
   ]
  },
  {
   "cell_type": "markdown",
   "metadata": {
    "hidden": true
   },
   "source": [
    "To play with partitions, we can tweak some parameters:"
   ]
  },
  {
   "cell_type": "code",
   "execution_count": null,
   "metadata": {
    "hidden": true
   },
   "outputs": [],
   "source": [
    "def parallelFunc(...):\n",
    "    # ...\n",
    "    for i in prange(resolution + 1, nogil=True,\n",
    "                schedule='static', chunksize=1):\n",
    "        # ..."
   ]
  },
  {
   "cell_type": "markdown",
   "metadata": {
    "hidden": true
   },
   "source": [
    "Schedule can be:\n",
    "- **static**: Iterations are assigned to threads in a fixed way at compile time. If chunksize is not given, the iterations are distributed in num_threads contiguous blocks, one block per thread. If chunksize is given, each chunk is assigned to threads in a roundrobin fashion. This is best when the work is evenly distributed and generally known ahead of time.\n",
    "- **dynamic**: Threads ask the scheduler for the next chunk dynamically at runtime. The chunksize defaults to 1. A dynamic schedule is best when the workload is unevenly distributed and unknown ahead of time. \n",
    "- **guided**: Chunks are distributed dynamically, like with dynamic. Unlike with dynamic, the chunksize is not fixed but rather is proportional to the remaining iterations divided by the number of threads.\n",
    "- **runtime**: The schedule and chunksize are determined by either the openmp.openmp_set_schedule function or the OMP_SCHEDULE environment variable at runtime. This allows exploration of different schedules and chunksizes without recompiling, but may have poorer performance overall as no compile-time optimizations are possible.\n",
    "\n",
    "Typically static with a tuned chunksize is a good first approach;\n",
    "dynamic and guided incur runtime overhead and are appropriate in\n",
    "dynamically changing execution contexts. The runtime schedule provides\n",
    "maximum flexibility among all other schedule types.\n",
    "\n",
    "Prange has `start`, `stop` and `step` parameters."
   ]
  },
  {
   "cell_type": "markdown",
   "metadata": {
    "hidden": true
   },
   "source": [
    "Since we have alreadu OpenMP, we can use its functions:"
   ]
  },
  {
   "cell_type": "code",
   "execution_count": null,
   "metadata": {
    "hidden": true
   },
   "outputs": [],
   "source": [
    "%%cython\n",
    "cimport openmp"
   ]
  }
 ],
 "metadata": {
  "celltoolbar": "Raw Cell Format",
  "kernelspec": {
   "display_name": "Python 3",
   "language": "python",
   "name": "python3"
  },
  "language_info": {
   "codemirror_mode": {
    "name": "ipython",
    "version": 3
   },
   "file_extension": ".py",
   "mimetype": "text/x-python",
   "name": "python",
   "nbconvert_exporter": "python",
   "pygments_lexer": "ipython3",
   "version": "3.6.4"
  },
  "toc": {
   "base_numbering": 1,
   "nav_menu": {
    "height": "550px",
    "width": "354px"
   },
   "number_sections": true,
   "sideBar": true,
   "skip_h1_title": false,
   "title_cell": "Table of Contents",
   "title_sidebar": "Table of Contents",
   "toc_cell": false,
   "toc_position": {
    "height": "calc(100% - 180px)",
    "left": "10px",
    "top": "150px",
    "width": "165px"
   },
   "toc_section_display": true,
   "toc_window_display": true
  },
  "varInspector": {
   "cols": {
    "lenName": 16,
    "lenType": 16,
    "lenVar": 40
   },
   "kernels_config": {
    "python": {
     "delete_cmd_postfix": "",
     "delete_cmd_prefix": "del ",
     "library": "var_list.py",
     "varRefreshCmd": "print(var_dic_list())"
    },
    "r": {
     "delete_cmd_postfix": ") ",
     "delete_cmd_prefix": "rm(",
     "library": "var_list.r",
     "varRefreshCmd": "cat(var_dic_list()) "
    }
   },
   "oldHeight": 122.4,
   "position": {
    "height": "40px",
    "left": "1047px",
    "right": "16.6px",
    "top": "66px",
    "width": "350px"
   },
   "types_to_exclude": [
    "module",
    "function",
    "builtin_function_or_method",
    "instance",
    "_Feature"
   ],
   "varInspector_section_display": "none",
   "window_display": false
  }
 },
 "nbformat": 4,
 "nbformat_minor": 2
}
